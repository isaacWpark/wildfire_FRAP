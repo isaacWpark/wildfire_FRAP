{
 "cells": [
  {
   "cell_type": "markdown",
   "metadata": {},
   "source": [
    "[wildfire count](https://www.ocregister.com/2017/10/14/here-are-the-areas-with-the-highest-fire-hazard-potential-in-southern-california/)\n",
    "\n",
    "\n",
    "\n",
    "[time series feature image](https://github.com/blue-yonder/tsfresh)\n",
    "\n",
    "[feature extraction example](https://github.com/mmann1123/wildfire_FRAP/blob/master/Workflow/3-FeatureExtraction.ipynb)\n",
    "\n",
    "\n",
    "[CNN FedEx](https://github.com/mmann1123/PiCameraClassifier)\n",
    "\n",
    "[CNN Lodging Classifier](https://github.com/mmann1123/Lodging_Classifier)\n",
    "\n"
   ]
  }
 ],
 "metadata": {
  "kernelspec": {
   "display_name": "Python [conda env:ts-rasterv2]",
   "language": "python",
   "name": "conda-env-ts-rasterv2-py"
  },
  "language_info": {
   "codemirror_mode": {
    "name": "ipython",
    "version": 3
   },
   "file_extension": ".py",
   "mimetype": "text/x-python",
   "name": "python",
   "nbconvert_exporter": "python",
   "pygments_lexer": "ipython3",
   "version": "3.6.7"
  }
 },
 "nbformat": 4,
 "nbformat_minor": 2
}
