{
 "cells": [
  {
   "cell_type": "markdown",
   "metadata": {},
   "source": [
    "### Prep:\n",
    "\n",
    "* Resample all inputs see 1-Resample Input Data.ipynb\n",
    "* Rasterize fires and organize by time period see 2-RasterizeFirePolygons_OrganizeData.ipynb\n",
    "\n",
    "### Data Structure:\n",
    "Data should be structured as follows:\n",
    "\n",
    "* Independent Vars 2012-2016\n",
    "    * aet\n",
    "        * aet-201201.tif\n",
    "        * ...\n",
    "        * aet-201612.tif\n",
    "    * cwd\n",
    "        * cwd-201201.tif\n",
    "        * ...\n",
    "        * cwd-201612.tif\n",
    "    * ppt\n",
    "        * ppt-201201.tif\n",
    "        * ...\n",
    "        * ppt-201612.tif\n",
    "    * ...\n",
    "* Independent Vars 2017-2021\n",
    "    * ...\n",
    "* Dependent Var 2012-2016\n",
    "    * Fire-2012-2016\n",
    "* Dependent Var 2017-2021\n",
    "    * Fire-2017-2021"
   ]
  },
  {
   "cell_type": "code",
   "execution_count": 1,
   "metadata": {},
   "outputs": [],
   "source": [
    "import tsraster.prep  as tr\n",
    "import tsraster.calculate  as ca\n",
    "\n",
    "import tsraster.model  as md\n",
    "import pandas as pd\n",
    "import os\n",
    "import matplotlib.pyplot as plt\n",
    "%matplotlib inline\n",
    "from math import ceil\n",
    "from tsraster.prep import set_df_mindex"
   ]
  },
  {
   "cell_type": "markdown",
   "metadata": {},
   "source": [
    "### Extract time series features\n",
    "\n",
    "The following extracts time series properties for multiple variables in a given time period. Here we extract mean and maximum values for aet, cwd, pck, and tmx for a three month period from 201201 to 201203."
   ]
  },
  {
   "cell_type": "code",
   "execution_count": 2,
   "metadata": {},
   "outputs": [],
   "source": [
    "path = \"C:/Users/Python3/Documents/wildfire_FRAP/Data/Examples/12Month_Test/\""
   ]
  },
  {
   "cell_type": "code",
   "execution_count": 3,
   "metadata": {},
   "outputs": [
    {
     "name": "stdout",
     "output_type": "stream",
     "text": [
      "['C:/Users/Python3/Documents/wildfire_FRAP/Data/BCM HIST Final 1000m\\\\aet\\\\aet-201301.tif', 'C:/Users/Python3/Documents/wildfire_FRAP/Data/BCM HIST Final 1000m\\\\aet\\\\aet-201302.tif', 'C:/Users/Python3/Documents/wildfire_FRAP/Data/BCM HIST Final 1000m\\\\aet\\\\aet-201303.tif', 'C:/Users/Python3/Documents/wildfire_FRAP/Data/BCM HIST Final 1000m\\\\aet\\\\aet-201304.tif', 'C:/Users/Python3/Documents/wildfire_FRAP/Data/BCM HIST Final 1000m\\\\aet\\\\aet-201305.tif', 'C:/Users/Python3/Documents/wildfire_FRAP/Data/BCM HIST Final 1000m\\\\aet\\\\aet-201306.tif', 'C:/Users/Python3/Documents/wildfire_FRAP/Data/BCM HIST Final 1000m\\\\aet\\\\aet-201307.tif', 'C:/Users/Python3/Documents/wildfire_FRAP/Data/BCM HIST Final 1000m\\\\aet\\\\aet-201308.tif', 'C:/Users/Python3/Documents/wildfire_FRAP/Data/BCM HIST Final 1000m\\\\aet\\\\aet-201309.tif', 'C:/Users/Python3/Documents/wildfire_FRAP/Data/BCM HIST Final 1000m\\\\aet\\\\aet-201310.tif', 'C:/Users/Python3/Documents/wildfire_FRAP/Data/BCM HIST Final 1000m\\\\aet\\\\aet-201311.tif', 'C:/Users/Python3/Documents/wildfire_FRAP/Data/BCM HIST Final 1000m\\\\aet\\\\aet-201312.tif', 'C:/Users/Python3/Documents/wildfire_FRAP/Data/BCM HIST Final 1000m\\\\cwd\\\\cwd-201301.tif', 'C:/Users/Python3/Documents/wildfire_FRAP/Data/BCM HIST Final 1000m\\\\cwd\\\\cwd-201302.tif', 'C:/Users/Python3/Documents/wildfire_FRAP/Data/BCM HIST Final 1000m\\\\cwd\\\\cwd-201303.tif', 'C:/Users/Python3/Documents/wildfire_FRAP/Data/BCM HIST Final 1000m\\\\cwd\\\\cwd-201304.tif', 'C:/Users/Python3/Documents/wildfire_FRAP/Data/BCM HIST Final 1000m\\\\cwd\\\\cwd-201305.tif', 'C:/Users/Python3/Documents/wildfire_FRAP/Data/BCM HIST Final 1000m\\\\cwd\\\\cwd-201306.tif', 'C:/Users/Python3/Documents/wildfire_FRAP/Data/BCM HIST Final 1000m\\\\cwd\\\\cwd-201307.tif', 'C:/Users/Python3/Documents/wildfire_FRAP/Data/BCM HIST Final 1000m\\\\cwd\\\\cwd-201308.tif', 'C:/Users/Python3/Documents/wildfire_FRAP/Data/BCM HIST Final 1000m\\\\cwd\\\\cwd-201309.tif', 'C:/Users/Python3/Documents/wildfire_FRAP/Data/BCM HIST Final 1000m\\\\cwd\\\\cwd-201310.tif', 'C:/Users/Python3/Documents/wildfire_FRAP/Data/BCM HIST Final 1000m\\\\cwd\\\\cwd-201311.tif', 'C:/Users/Python3/Documents/wildfire_FRAP/Data/BCM HIST Final 1000m\\\\cwd\\\\cwd-201312.tif', 'C:/Users/Python3/Documents/wildfire_FRAP/Data/BCM HIST Final 1000m\\\\pck\\\\pck-201301.tif', 'C:/Users/Python3/Documents/wildfire_FRAP/Data/BCM HIST Final 1000m\\\\pck\\\\pck-201302.tif', 'C:/Users/Python3/Documents/wildfire_FRAP/Data/BCM HIST Final 1000m\\\\pck\\\\pck-201303.tif', 'C:/Users/Python3/Documents/wildfire_FRAP/Data/BCM HIST Final 1000m\\\\pck\\\\pck-201304.tif', 'C:/Users/Python3/Documents/wildfire_FRAP/Data/BCM HIST Final 1000m\\\\pck\\\\pck-201305.tif', 'C:/Users/Python3/Documents/wildfire_FRAP/Data/BCM HIST Final 1000m\\\\pck\\\\pck-201306.tif', 'C:/Users/Python3/Documents/wildfire_FRAP/Data/BCM HIST Final 1000m\\\\pck\\\\pck-201307.tif', 'C:/Users/Python3/Documents/wildfire_FRAP/Data/BCM HIST Final 1000m\\\\pck\\\\pck-201308.tif', 'C:/Users/Python3/Documents/wildfire_FRAP/Data/BCM HIST Final 1000m\\\\pck\\\\pck-201309.tif', 'C:/Users/Python3/Documents/wildfire_FRAP/Data/BCM HIST Final 1000m\\\\pck\\\\pck-201310.tif', 'C:/Users/Python3/Documents/wildfire_FRAP/Data/BCM HIST Final 1000m\\\\pck\\\\pck-201311.tif', 'C:/Users/Python3/Documents/wildfire_FRAP/Data/BCM HIST Final 1000m\\\\pck\\\\pck-201312.tif', 'C:/Users/Python3/Documents/wildfire_FRAP/Data/BCM HIST Final 1000m\\\\pet\\\\pet-201301.tif', 'C:/Users/Python3/Documents/wildfire_FRAP/Data/BCM HIST Final 1000m\\\\pet\\\\pet-201302.tif', 'C:/Users/Python3/Documents/wildfire_FRAP/Data/BCM HIST Final 1000m\\\\pet\\\\pet-201303.tif', 'C:/Users/Python3/Documents/wildfire_FRAP/Data/BCM HIST Final 1000m\\\\pet\\\\pet-201304.tif', 'C:/Users/Python3/Documents/wildfire_FRAP/Data/BCM HIST Final 1000m\\\\pet\\\\pet-201305.tif', 'C:/Users/Python3/Documents/wildfire_FRAP/Data/BCM HIST Final 1000m\\\\pet\\\\pet-201306.tif', 'C:/Users/Python3/Documents/wildfire_FRAP/Data/BCM HIST Final 1000m\\\\pet\\\\pet-201307.tif', 'C:/Users/Python3/Documents/wildfire_FRAP/Data/BCM HIST Final 1000m\\\\pet\\\\pet-201308.tif', 'C:/Users/Python3/Documents/wildfire_FRAP/Data/BCM HIST Final 1000m\\\\pet\\\\pet-201309.tif', 'C:/Users/Python3/Documents/wildfire_FRAP/Data/BCM HIST Final 1000m\\\\pet\\\\pet-201310.tif', 'C:/Users/Python3/Documents/wildfire_FRAP/Data/BCM HIST Final 1000m\\\\pet\\\\pet-201311.tif', 'C:/Users/Python3/Documents/wildfire_FRAP/Data/BCM HIST Final 1000m\\\\pet\\\\pet-201312.tif', 'C:/Users/Python3/Documents/wildfire_FRAP/Data/BCM HIST Final 1000m\\\\ppt\\\\ppt-201301.tif', 'C:/Users/Python3/Documents/wildfire_FRAP/Data/BCM HIST Final 1000m\\\\ppt\\\\ppt-201302.tif', 'C:/Users/Python3/Documents/wildfire_FRAP/Data/BCM HIST Final 1000m\\\\ppt\\\\ppt-201303.tif', 'C:/Users/Python3/Documents/wildfire_FRAP/Data/BCM HIST Final 1000m\\\\ppt\\\\ppt-201304.tif', 'C:/Users/Python3/Documents/wildfire_FRAP/Data/BCM HIST Final 1000m\\\\ppt\\\\ppt-201305.tif', 'C:/Users/Python3/Documents/wildfire_FRAP/Data/BCM HIST Final 1000m\\\\ppt\\\\ppt-201306.tif', 'C:/Users/Python3/Documents/wildfire_FRAP/Data/BCM HIST Final 1000m\\\\ppt\\\\ppt-201307.tif', 'C:/Users/Python3/Documents/wildfire_FRAP/Data/BCM HIST Final 1000m\\\\ppt\\\\ppt-201308.tif', 'C:/Users/Python3/Documents/wildfire_FRAP/Data/BCM HIST Final 1000m\\\\ppt\\\\ppt-201309.tif', 'C:/Users/Python3/Documents/wildfire_FRAP/Data/BCM HIST Final 1000m\\\\ppt\\\\ppt-201310.tif', 'C:/Users/Python3/Documents/wildfire_FRAP/Data/BCM HIST Final 1000m\\\\ppt\\\\ppt-201311.tif', 'C:/Users/Python3/Documents/wildfire_FRAP/Data/BCM HIST Final 1000m\\\\ppt\\\\ppt-201312.tif', 'C:/Users/Python3/Documents/wildfire_FRAP/Data/BCM HIST Final 1000m\\\\tmx\\\\tmx-201301.tif', 'C:/Users/Python3/Documents/wildfire_FRAP/Data/BCM HIST Final 1000m\\\\tmx\\\\tmx-201302.tif', 'C:/Users/Python3/Documents/wildfire_FRAP/Data/BCM HIST Final 1000m\\\\tmx\\\\tmx-201303.tif', 'C:/Users/Python3/Documents/wildfire_FRAP/Data/BCM HIST Final 1000m\\\\tmx\\\\tmx-201304.tif', 'C:/Users/Python3/Documents/wildfire_FRAP/Data/BCM HIST Final 1000m\\\\tmx\\\\tmx-201305.tif', 'C:/Users/Python3/Documents/wildfire_FRAP/Data/BCM HIST Final 1000m\\\\tmx\\\\tmx-201306.tif', 'C:/Users/Python3/Documents/wildfire_FRAP/Data/BCM HIST Final 1000m\\\\tmx\\\\tmx-201307.tif', 'C:/Users/Python3/Documents/wildfire_FRAP/Data/BCM HIST Final 1000m\\\\tmx\\\\tmx-201308.tif', 'C:/Users/Python3/Documents/wildfire_FRAP/Data/BCM HIST Final 1000m\\\\tmx\\\\tmx-201309.tif', 'C:/Users/Python3/Documents/wildfire_FRAP/Data/BCM HIST Final 1000m\\\\tmx\\\\tmx-201310.tif', 'C:/Users/Python3/Documents/wildfire_FRAP/Data/BCM HIST Final 1000m\\\\tmx\\\\tmx-201311.tif', 'C:/Users/Python3/Documents/wildfire_FRAP/Data/BCM HIST Final 1000m\\\\tmx\\\\tmx-201312.tif', 'C:/Users/Python3/Documents/wildfire_FRAP/Data/BCM HIST Final 1000m\\\\aet\\\\aet-201201.tif', 'C:/Users/Python3/Documents/wildfire_FRAP/Data/BCM HIST Final 1000m\\\\aet\\\\aet-201202.tif', 'C:/Users/Python3/Documents/wildfire_FRAP/Data/BCM HIST Final 1000m\\\\aet\\\\aet-201203.tif', 'C:/Users/Python3/Documents/wildfire_FRAP/Data/BCM HIST Final 1000m\\\\aet\\\\aet-201204.tif', 'C:/Users/Python3/Documents/wildfire_FRAP/Data/BCM HIST Final 1000m\\\\aet\\\\aet-201205.tif', 'C:/Users/Python3/Documents/wildfire_FRAP/Data/BCM HIST Final 1000m\\\\aet\\\\aet-201206.tif', 'C:/Users/Python3/Documents/wildfire_FRAP/Data/BCM HIST Final 1000m\\\\aet\\\\aet-201207.tif', 'C:/Users/Python3/Documents/wildfire_FRAP/Data/BCM HIST Final 1000m\\\\aet\\\\aet-201208.tif', 'C:/Users/Python3/Documents/wildfire_FRAP/Data/BCM HIST Final 1000m\\\\aet\\\\aet-201209.tif', 'C:/Users/Python3/Documents/wildfire_FRAP/Data/BCM HIST Final 1000m\\\\aet\\\\aet-201210.tif', 'C:/Users/Python3/Documents/wildfire_FRAP/Data/BCM HIST Final 1000m\\\\aet\\\\aet-201211.tif', 'C:/Users/Python3/Documents/wildfire_FRAP/Data/BCM HIST Final 1000m\\\\aet\\\\aet-201212.tif', 'C:/Users/Python3/Documents/wildfire_FRAP/Data/BCM HIST Final 1000m\\\\cwd\\\\cwd-201201.tif', 'C:/Users/Python3/Documents/wildfire_FRAP/Data/BCM HIST Final 1000m\\\\cwd\\\\cwd-201202.tif', 'C:/Users/Python3/Documents/wildfire_FRAP/Data/BCM HIST Final 1000m\\\\cwd\\\\cwd-201203.tif', 'C:/Users/Python3/Documents/wildfire_FRAP/Data/BCM HIST Final 1000m\\\\cwd\\\\cwd-201204.tif', 'C:/Users/Python3/Documents/wildfire_FRAP/Data/BCM HIST Final 1000m\\\\cwd\\\\cwd-201205.tif', 'C:/Users/Python3/Documents/wildfire_FRAP/Data/BCM HIST Final 1000m\\\\cwd\\\\cwd-201206.tif', 'C:/Users/Python3/Documents/wildfire_FRAP/Data/BCM HIST Final 1000m\\\\cwd\\\\cwd-201207.tif', 'C:/Users/Python3/Documents/wildfire_FRAP/Data/BCM HIST Final 1000m\\\\cwd\\\\cwd-201208.tif', 'C:/Users/Python3/Documents/wildfire_FRAP/Data/BCM HIST Final 1000m\\\\cwd\\\\cwd-201209.tif', 'C:/Users/Python3/Documents/wildfire_FRAP/Data/BCM HIST Final 1000m\\\\cwd\\\\cwd-201210.tif', 'C:/Users/Python3/Documents/wildfire_FRAP/Data/BCM HIST Final 1000m\\\\cwd\\\\cwd-201211.tif', 'C:/Users/Python3/Documents/wildfire_FRAP/Data/BCM HIST Final 1000m\\\\cwd\\\\cwd-201212.tif', 'C:/Users/Python3/Documents/wildfire_FRAP/Data/BCM HIST Final 1000m\\\\pck\\\\pck-201201.tif', 'C:/Users/Python3/Documents/wildfire_FRAP/Data/BCM HIST Final 1000m\\\\pck\\\\pck-201202.tif', 'C:/Users/Python3/Documents/wildfire_FRAP/Data/BCM HIST Final 1000m\\\\pck\\\\pck-201203.tif', 'C:/Users/Python3/Documents/wildfire_FRAP/Data/BCM HIST Final 1000m\\\\pck\\\\pck-201204.tif', 'C:/Users/Python3/Documents/wildfire_FRAP/Data/BCM HIST Final 1000m\\\\pck\\\\pck-201205.tif', 'C:/Users/Python3/Documents/wildfire_FRAP/Data/BCM HIST Final 1000m\\\\pck\\\\pck-201206.tif', 'C:/Users/Python3/Documents/wildfire_FRAP/Data/BCM HIST Final 1000m\\\\pck\\\\pck-201207.tif', 'C:/Users/Python3/Documents/wildfire_FRAP/Data/BCM HIST Final 1000m\\\\pck\\\\pck-201208.tif', 'C:/Users/Python3/Documents/wildfire_FRAP/Data/BCM HIST Final 1000m\\\\pck\\\\pck-201209.tif', 'C:/Users/Python3/Documents/wildfire_FRAP/Data/BCM HIST Final 1000m\\\\pck\\\\pck-201210.tif', 'C:/Users/Python3/Documents/wildfire_FRAP/Data/BCM HIST Final 1000m\\\\pck\\\\pck-201211.tif', 'C:/Users/Python3/Documents/wildfire_FRAP/Data/BCM HIST Final 1000m\\\\pck\\\\pck-201212.tif', 'C:/Users/Python3/Documents/wildfire_FRAP/Data/BCM HIST Final 1000m\\\\pet\\\\pet-201201.tif', 'C:/Users/Python3/Documents/wildfire_FRAP/Data/BCM HIST Final 1000m\\\\pet\\\\pet-201202.tif', 'C:/Users/Python3/Documents/wildfire_FRAP/Data/BCM HIST Final 1000m\\\\pet\\\\pet-201203.tif', 'C:/Users/Python3/Documents/wildfire_FRAP/Data/BCM HIST Final 1000m\\\\pet\\\\pet-201204.tif', 'C:/Users/Python3/Documents/wildfire_FRAP/Data/BCM HIST Final 1000m\\\\pet\\\\pet-201205.tif', 'C:/Users/Python3/Documents/wildfire_FRAP/Data/BCM HIST Final 1000m\\\\pet\\\\pet-201206.tif', 'C:/Users/Python3/Documents/wildfire_FRAP/Data/BCM HIST Final 1000m\\\\pet\\\\pet-201207.tif', 'C:/Users/Python3/Documents/wildfire_FRAP/Data/BCM HIST Final 1000m\\\\pet\\\\pet-201208.tif', 'C:/Users/Python3/Documents/wildfire_FRAP/Data/BCM HIST Final 1000m\\\\pet\\\\pet-201209.tif', 'C:/Users/Python3/Documents/wildfire_FRAP/Data/BCM HIST Final 1000m\\\\pet\\\\pet-201210.tif', 'C:/Users/Python3/Documents/wildfire_FRAP/Data/BCM HIST Final 1000m\\\\pet\\\\pet-201211.tif', 'C:/Users/Python3/Documents/wildfire_FRAP/Data/BCM HIST Final 1000m\\\\pet\\\\pet-201212.tif', 'C:/Users/Python3/Documents/wildfire_FRAP/Data/BCM HIST Final 1000m\\\\ppt\\\\ppt-201201.tif', 'C:/Users/Python3/Documents/wildfire_FRAP/Data/BCM HIST Final 1000m\\\\ppt\\\\ppt-201202.tif', 'C:/Users/Python3/Documents/wildfire_FRAP/Data/BCM HIST Final 1000m\\\\ppt\\\\ppt-201203.tif', 'C:/Users/Python3/Documents/wildfire_FRAP/Data/BCM HIST Final 1000m\\\\ppt\\\\ppt-201204.tif', 'C:/Users/Python3/Documents/wildfire_FRAP/Data/BCM HIST Final 1000m\\\\ppt\\\\ppt-201205.tif', 'C:/Users/Python3/Documents/wildfire_FRAP/Data/BCM HIST Final 1000m\\\\ppt\\\\ppt-201206.tif', 'C:/Users/Python3/Documents/wildfire_FRAP/Data/BCM HIST Final 1000m\\\\ppt\\\\ppt-201207.tif', 'C:/Users/Python3/Documents/wildfire_FRAP/Data/BCM HIST Final 1000m\\\\ppt\\\\ppt-201208.tif', 'C:/Users/Python3/Documents/wildfire_FRAP/Data/BCM HIST Final 1000m\\\\ppt\\\\ppt-201209.tif', 'C:/Users/Python3/Documents/wildfire_FRAP/Data/BCM HIST Final 1000m\\\\ppt\\\\ppt-201210.tif', 'C:/Users/Python3/Documents/wildfire_FRAP/Data/BCM HIST Final 1000m\\\\ppt\\\\ppt-201211.tif', 'C:/Users/Python3/Documents/wildfire_FRAP/Data/BCM HIST Final 1000m\\\\ppt\\\\ppt-201212.tif', 'C:/Users/Python3/Documents/wildfire_FRAP/Data/BCM HIST Final 1000m\\\\tmx\\\\tmx-201201.tif', 'C:/Users/Python3/Documents/wildfire_FRAP/Data/BCM HIST Final 1000m\\\\tmx\\\\tmx-201202.tif', 'C:/Users/Python3/Documents/wildfire_FRAP/Data/BCM HIST Final 1000m\\\\tmx\\\\tmx-201203.tif', 'C:/Users/Python3/Documents/wildfire_FRAP/Data/BCM HIST Final 1000m\\\\tmx\\\\tmx-201204.tif', 'C:/Users/Python3/Documents/wildfire_FRAP/Data/BCM HIST Final 1000m\\\\tmx\\\\tmx-201205.tif', 'C:/Users/Python3/Documents/wildfire_FRAP/Data/BCM HIST Final 1000m\\\\tmx\\\\tmx-201206.tif', 'C:/Users/Python3/Documents/wildfire_FRAP/Data/BCM HIST Final 1000m\\\\tmx\\\\tmx-201207.tif', 'C:/Users/Python3/Documents/wildfire_FRAP/Data/BCM HIST Final 1000m\\\\tmx\\\\tmx-201208.tif', 'C:/Users/Python3/Documents/wildfire_FRAP/Data/BCM HIST Final 1000m\\\\tmx\\\\tmx-201209.tif', 'C:/Users/Python3/Documents/wildfire_FRAP/Data/BCM HIST Final 1000m\\\\tmx\\\\tmx-201210.tif', 'C:/Users/Python3/Documents/wildfire_FRAP/Data/BCM HIST Final 1000m\\\\tmx\\\\tmx-201211.tif', 'C:/Users/Python3/Documents/wildfire_FRAP/Data/BCM HIST Final 1000m\\\\tmx\\\\tmx-201212.tif', 'C:/Users/Python3/Documents/wildfire_FRAP/Data/BCM HIST Final 1000m\\\\aet\\\\aet-201101.tif', 'C:/Users/Python3/Documents/wildfire_FRAP/Data/BCM HIST Final 1000m\\\\aet\\\\aet-201102.tif', 'C:/Users/Python3/Documents/wildfire_FRAP/Data/BCM HIST Final 1000m\\\\aet\\\\aet-201103.tif', 'C:/Users/Python3/Documents/wildfire_FRAP/Data/BCM HIST Final 1000m\\\\aet\\\\aet-201104.tif', 'C:/Users/Python3/Documents/wildfire_FRAP/Data/BCM HIST Final 1000m\\\\aet\\\\aet-201105.tif', 'C:/Users/Python3/Documents/wildfire_FRAP/Data/BCM HIST Final 1000m\\\\aet\\\\aet-201106.tif', 'C:/Users/Python3/Documents/wildfire_FRAP/Data/BCM HIST Final 1000m\\\\aet\\\\aet-201107.tif', 'C:/Users/Python3/Documents/wildfire_FRAP/Data/BCM HIST Final 1000m\\\\aet\\\\aet-201108.tif', 'C:/Users/Python3/Documents/wildfire_FRAP/Data/BCM HIST Final 1000m\\\\aet\\\\aet-201109.tif', 'C:/Users/Python3/Documents/wildfire_FRAP/Data/BCM HIST Final 1000m\\\\aet\\\\aet-201110.tif', 'C:/Users/Python3/Documents/wildfire_FRAP/Data/BCM HIST Final 1000m\\\\aet\\\\aet-201111.tif', 'C:/Users/Python3/Documents/wildfire_FRAP/Data/BCM HIST Final 1000m\\\\aet\\\\aet-201112.tif', 'C:/Users/Python3/Documents/wildfire_FRAP/Data/BCM HIST Final 1000m\\\\cwd\\\\cwd-201101.tif', 'C:/Users/Python3/Documents/wildfire_FRAP/Data/BCM HIST Final 1000m\\\\cwd\\\\cwd-201102.tif', 'C:/Users/Python3/Documents/wildfire_FRAP/Data/BCM HIST Final 1000m\\\\cwd\\\\cwd-201103.tif', 'C:/Users/Python3/Documents/wildfire_FRAP/Data/BCM HIST Final 1000m\\\\cwd\\\\cwd-201104.tif', 'C:/Users/Python3/Documents/wildfire_FRAP/Data/BCM HIST Final 1000m\\\\cwd\\\\cwd-201105.tif', 'C:/Users/Python3/Documents/wildfire_FRAP/Data/BCM HIST Final 1000m\\\\cwd\\\\cwd-201106.tif', 'C:/Users/Python3/Documents/wildfire_FRAP/Data/BCM HIST Final 1000m\\\\cwd\\\\cwd-201107.tif', 'C:/Users/Python3/Documents/wildfire_FRAP/Data/BCM HIST Final 1000m\\\\cwd\\\\cwd-201108.tif', 'C:/Users/Python3/Documents/wildfire_FRAP/Data/BCM HIST Final 1000m\\\\cwd\\\\cwd-201109.tif', 'C:/Users/Python3/Documents/wildfire_FRAP/Data/BCM HIST Final 1000m\\\\cwd\\\\cwd-201110.tif', 'C:/Users/Python3/Documents/wildfire_FRAP/Data/BCM HIST Final 1000m\\\\cwd\\\\cwd-201111.tif', 'C:/Users/Python3/Documents/wildfire_FRAP/Data/BCM HIST Final 1000m\\\\cwd\\\\cwd-201112.tif', 'C:/Users/Python3/Documents/wildfire_FRAP/Data/BCM HIST Final 1000m\\\\pck\\\\pck-201101.tif', 'C:/Users/Python3/Documents/wildfire_FRAP/Data/BCM HIST Final 1000m\\\\pck\\\\pck-201102.tif', 'C:/Users/Python3/Documents/wildfire_FRAP/Data/BCM HIST Final 1000m\\\\pck\\\\pck-201103.tif', 'C:/Users/Python3/Documents/wildfire_FRAP/Data/BCM HIST Final 1000m\\\\pck\\\\pck-201104.tif', 'C:/Users/Python3/Documents/wildfire_FRAP/Data/BCM HIST Final 1000m\\\\pck\\\\pck-201105.tif', 'C:/Users/Python3/Documents/wildfire_FRAP/Data/BCM HIST Final 1000m\\\\pck\\\\pck-201106.tif', 'C:/Users/Python3/Documents/wildfire_FRAP/Data/BCM HIST Final 1000m\\\\pck\\\\pck-201107.tif', 'C:/Users/Python3/Documents/wildfire_FRAP/Data/BCM HIST Final 1000m\\\\pck\\\\pck-201108.tif', 'C:/Users/Python3/Documents/wildfire_FRAP/Data/BCM HIST Final 1000m\\\\pck\\\\pck-201109.tif', 'C:/Users/Python3/Documents/wildfire_FRAP/Data/BCM HIST Final 1000m\\\\pck\\\\pck-201110.tif', 'C:/Users/Python3/Documents/wildfire_FRAP/Data/BCM HIST Final 1000m\\\\pck\\\\pck-201111.tif', 'C:/Users/Python3/Documents/wildfire_FRAP/Data/BCM HIST Final 1000m\\\\pck\\\\pck-201112.tif', 'C:/Users/Python3/Documents/wildfire_FRAP/Data/BCM HIST Final 1000m\\\\pet\\\\pet-201101.tif', 'C:/Users/Python3/Documents/wildfire_FRAP/Data/BCM HIST Final 1000m\\\\pet\\\\pet-201102.tif', 'C:/Users/Python3/Documents/wildfire_FRAP/Data/BCM HIST Final 1000m\\\\pet\\\\pet-201103.tif', 'C:/Users/Python3/Documents/wildfire_FRAP/Data/BCM HIST Final 1000m\\\\pet\\\\pet-201104.tif', 'C:/Users/Python3/Documents/wildfire_FRAP/Data/BCM HIST Final 1000m\\\\pet\\\\pet-201105.tif', 'C:/Users/Python3/Documents/wildfire_FRAP/Data/BCM HIST Final 1000m\\\\pet\\\\pet-201106.tif', 'C:/Users/Python3/Documents/wildfire_FRAP/Data/BCM HIST Final 1000m\\\\pet\\\\pet-201107.tif', 'C:/Users/Python3/Documents/wildfire_FRAP/Data/BCM HIST Final 1000m\\\\pet\\\\pet-201108.tif', 'C:/Users/Python3/Documents/wildfire_FRAP/Data/BCM HIST Final 1000m\\\\pet\\\\pet-201109.tif', 'C:/Users/Python3/Documents/wildfire_FRAP/Data/BCM HIST Final 1000m\\\\pet\\\\pet-201110.tif', 'C:/Users/Python3/Documents/wildfire_FRAP/Data/BCM HIST Final 1000m\\\\pet\\\\pet-201111.tif', 'C:/Users/Python3/Documents/wildfire_FRAP/Data/BCM HIST Final 1000m\\\\pet\\\\pet-201112.tif', 'C:/Users/Python3/Documents/wildfire_FRAP/Data/BCM HIST Final 1000m\\\\ppt\\\\ppt-201101.tif', 'C:/Users/Python3/Documents/wildfire_FRAP/Data/BCM HIST Final 1000m\\\\ppt\\\\ppt-201102.tif', 'C:/Users/Python3/Documents/wildfire_FRAP/Data/BCM HIST Final 1000m\\\\ppt\\\\ppt-201103.tif', 'C:/Users/Python3/Documents/wildfire_FRAP/Data/BCM HIST Final 1000m\\\\ppt\\\\ppt-201104.tif', 'C:/Users/Python3/Documents/wildfire_FRAP/Data/BCM HIST Final 1000m\\\\ppt\\\\ppt-201105.tif', 'C:/Users/Python3/Documents/wildfire_FRAP/Data/BCM HIST Final 1000m\\\\ppt\\\\ppt-201106.tif', 'C:/Users/Python3/Documents/wildfire_FRAP/Data/BCM HIST Final 1000m\\\\ppt\\\\ppt-201107.tif', 'C:/Users/Python3/Documents/wildfire_FRAP/Data/BCM HIST Final 1000m\\\\ppt\\\\ppt-201108.tif', 'C:/Users/Python3/Documents/wildfire_FRAP/Data/BCM HIST Final 1000m\\\\ppt\\\\ppt-201109.tif', 'C:/Users/Python3/Documents/wildfire_FRAP/Data/BCM HIST Final 1000m\\\\ppt\\\\ppt-201110.tif', 'C:/Users/Python3/Documents/wildfire_FRAP/Data/BCM HIST Final 1000m\\\\ppt\\\\ppt-201111.tif', 'C:/Users/Python3/Documents/wildfire_FRAP/Data/BCM HIST Final 1000m\\\\ppt\\\\ppt-201112.tif', 'C:/Users/Python3/Documents/wildfire_FRAP/Data/BCM HIST Final 1000m\\\\tmx\\\\tmx-201101.tif', 'C:/Users/Python3/Documents/wildfire_FRAP/Data/BCM HIST Final 1000m\\\\tmx\\\\tmx-201102.tif', 'C:/Users/Python3/Documents/wildfire_FRAP/Data/BCM HIST Final 1000m\\\\tmx\\\\tmx-201103.tif', 'C:/Users/Python3/Documents/wildfire_FRAP/Data/BCM HIST Final 1000m\\\\tmx\\\\tmx-201104.tif', 'C:/Users/Python3/Documents/wildfire_FRAP/Data/BCM HIST Final 1000m\\\\tmx\\\\tmx-201105.tif', 'C:/Users/Python3/Documents/wildfire_FRAP/Data/BCM HIST Final 1000m\\\\tmx\\\\tmx-201106.tif', 'C:/Users/Python3/Documents/wildfire_FRAP/Data/BCM HIST Final 1000m\\\\tmx\\\\tmx-201107.tif', 'C:/Users/Python3/Documents/wildfire_FRAP/Data/BCM HIST Final 1000m\\\\tmx\\\\tmx-201108.tif', 'C:/Users/Python3/Documents/wildfire_FRAP/Data/BCM HIST Final 1000m\\\\tmx\\\\tmx-201109.tif', 'C:/Users/Python3/Documents/wildfire_FRAP/Data/BCM HIST Final 1000m\\\\tmx\\\\tmx-201110.tif', 'C:/Users/Python3/Documents/wildfire_FRAP/Data/BCM HIST Final 1000m\\\\tmx\\\\tmx-201111.tif', 'C:/Users/Python3/Documents/wildfire_FRAP/Data/BCM HIST Final 1000m\\\\tmx\\\\tmx-201112.tif']"
     ]
    },
    {
     "name": "stdout",
     "output_type": "stream",
     "text": [
      "\n"
     ]
    }
   ],
   "source": [
    "import glob\n",
    "baseYear = 2012\n",
    "offset = 1\n",
    "length = 3\n",
    "images = []\n",
    "for x in range(length):\n",
    "    images = images +  glob.glob((path+ '/*/*-' + str(baseYear - x + offset) + '??.tif'), recursive=True)\n",
    "print(images)\n",
    "\n"
   ]
  },
  {
   "cell_type": "code",
   "execution_count": 4,
   "metadata": {},
   "outputs": [],
   "source": [
    "###########################"
   ]
  },
  {
   "cell_type": "code",
   "execution_count": 5,
   "metadata": {},
   "outputs": [
    {
     "name": "stdout",
     "output_type": "stream",
     "text": [
      "df: C:/Users/Python3/Documents/wildfire_FRAP/Data/Examples/3month_ts/my_df.csv\n"
     ]
    },
    {
     "name": "stderr",
     "output_type": "stream",
     "text": [
      "Feature Extraction: 100%|████████████████████████| 5/5 [02:14<00:00, 27.68s/it]\n"
     ]
    },
    {
     "name": "stdout",
     "output_type": "stream",
     "text": [
      "features:C:\\Users\\Python3\\Documents\\wildfire_FRAP\\Data\\Examples\\3month_ts_features\\extracted_features.csv\n",
      "tif:C:\\Users\\Python3\\Documents\\wildfire_FRAP\\Data\\Examples\\3month_ts_features\\extracted_features2013_2_prev_offset0.tiff\n"
     ]
    }
   ],
   "source": [
    "parameters = {\n",
    "    \"mean\": None,\n",
    "    \"maximum\": None}\n",
    "\n",
    "extracted_features = ca.calculateFeatures_window(path = \"C:/Users/Python3/Documents/wildfire_FRAP/Data/Examples/12Month_Test/\", \n",
    "                                          parameters = {\"mean\": None,\n",
    "                                                        \"maximum\": None}, \n",
    "                                          baseYear = 2010,\n",
    "                                          length = 2,\n",
    "                                          offset = 0,\n",
    "                                          reset_df=True,\n",
    "                                          raster_mask =  \"C:/Users/Python3/Documents/wildfire_FRAP/Data/Examples/buffer/StatePoly_buf.tif\" ,\n",
    "                                          tiff_output=True,\n",
    "                                          workers = 1)\n"
   ]
  },
  {
   "cell_type": "code",
   "execution_count": null,
   "metadata": {},
   "outputs": [],
   "source": [
    "\n"
   ]
  },
  {
   "cell_type": "code",
   "execution_count": 6,
   "metadata": {},
   "outputs": [
    {
     "data": {
      "text/html": [
       "<div>\n",
       "<style scoped>\n",
       "    .dataframe tbody tr th:only-of-type {\n",
       "        vertical-align: middle;\n",
       "    }\n",
       "\n",
       "    .dataframe tbody tr th {\n",
       "        vertical-align: top;\n",
       "    }\n",
       "\n",
       "    .dataframe thead th {\n",
       "        text-align: right;\n",
       "    }\n",
       "</style>\n",
       "<table border=\"1\" class=\"dataframe\">\n",
       "  <thead>\n",
       "    <tr style=\"text-align: right;\">\n",
       "      <th></th>\n",
       "      <th></th>\n",
       "      <th>aet__maximum</th>\n",
       "      <th>aet__mean</th>\n",
       "      <th>cwd__maximum</th>\n",
       "      <th>cwd__mean</th>\n",
       "      <th>pck__maximum</th>\n",
       "      <th>pck__mean</th>\n",
       "      <th>tmx__maximum</th>\n",
       "      <th>tmx__mean</th>\n",
       "    </tr>\n",
       "    <tr>\n",
       "      <th>pixel_id</th>\n",
       "      <th>time</th>\n",
       "      <th></th>\n",
       "      <th></th>\n",
       "      <th></th>\n",
       "      <th></th>\n",
       "      <th></th>\n",
       "      <th></th>\n",
       "      <th></th>\n",
       "      <th></th>\n",
       "    </tr>\n",
       "  </thead>\n",
       "  <tbody>\n",
       "    <tr>\n",
       "      <th>0</th>\n",
       "      <th>201201_201203</th>\n",
       "      <td>-9999.0</td>\n",
       "      <td>-9999.0</td>\n",
       "      <td>-9999.0</td>\n",
       "      <td>-9999.0</td>\n",
       "      <td>-9999.0</td>\n",
       "      <td>-9999.0</td>\n",
       "      <td>-9999.0</td>\n",
       "      <td>-9999.0</td>\n",
       "    </tr>\n",
       "    <tr>\n",
       "      <th>1</th>\n",
       "      <th>201201_201203</th>\n",
       "      <td>-9999.0</td>\n",
       "      <td>-9999.0</td>\n",
       "      <td>-9999.0</td>\n",
       "      <td>-9999.0</td>\n",
       "      <td>-9999.0</td>\n",
       "      <td>-9999.0</td>\n",
       "      <td>-9999.0</td>\n",
       "      <td>-9999.0</td>\n",
       "    </tr>\n",
       "    <tr>\n",
       "      <th>2</th>\n",
       "      <th>201201_201203</th>\n",
       "      <td>-9999.0</td>\n",
       "      <td>-9999.0</td>\n",
       "      <td>-9999.0</td>\n",
       "      <td>-9999.0</td>\n",
       "      <td>-9999.0</td>\n",
       "      <td>-9999.0</td>\n",
       "      <td>-9999.0</td>\n",
       "      <td>-9999.0</td>\n",
       "    </tr>\n",
       "  </tbody>\n",
       "</table>\n",
       "</div>"
      ],
      "text/plain": [
       "                        aet__maximum  aet__mean  cwd__maximum  cwd__mean  \\\n",
       "pixel_id time                                                              \n",
       "0        201201_201203       -9999.0    -9999.0       -9999.0    -9999.0   \n",
       "1        201201_201203       -9999.0    -9999.0       -9999.0    -9999.0   \n",
       "2        201201_201203       -9999.0    -9999.0       -9999.0    -9999.0   \n",
       "\n",
       "                        pck__maximum  pck__mean  tmx__maximum  tmx__mean  \n",
       "pixel_id time                                                             \n",
       "0        201201_201203       -9999.0    -9999.0       -9999.0    -9999.0  \n",
       "1        201201_201203       -9999.0    -9999.0       -9999.0    -9999.0  \n",
       "2        201201_201203       -9999.0    -9999.0       -9999.0    -9999.0  "
      ]
     },
     "execution_count": 6,
     "metadata": {},
     "output_type": "execute_result"
    }
   ],
   "source": [
    "extracted_features.head(3)"
   ]
  },
  {
   "cell_type": "code",
   "execution_count": 7,
   "metadata": {},
   "outputs": [
    {
     "data": {
      "text/html": [
       "<div>\n",
       "<style scoped>\n",
       "    .dataframe tbody tr th:only-of-type {\n",
       "        vertical-align: middle;\n",
       "    }\n",
       "\n",
       "    .dataframe tbody tr th {\n",
       "        vertical-align: top;\n",
       "    }\n",
       "\n",
       "    .dataframe thead th {\n",
       "        text-align: right;\n",
       "    }\n",
       "</style>\n",
       "<table border=\"1\" class=\"dataframe\">\n",
       "  <thead>\n",
       "    <tr style=\"text-align: right;\">\n",
       "      <th></th>\n",
       "      <th>aet__maximum</th>\n",
       "      <th>aet__mean</th>\n",
       "      <th>cwd__maximum</th>\n",
       "      <th>cwd__mean</th>\n",
       "      <th>pck__maximum</th>\n",
       "      <th>pck__mean</th>\n",
       "      <th>tmx__maximum</th>\n",
       "      <th>tmx__mean</th>\n",
       "    </tr>\n",
       "  </thead>\n",
       "  <tbody>\n",
       "    <tr>\n",
       "      <th>count</th>\n",
       "      <td>1.137669e+06</td>\n",
       "      <td>1.137669e+06</td>\n",
       "      <td>1.137669e+06</td>\n",
       "      <td>1.137669e+06</td>\n",
       "      <td>1.137669e+06</td>\n",
       "      <td>1.137669e+06</td>\n",
       "      <td>1.137669e+06</td>\n",
       "      <td>1.137669e+06</td>\n",
       "    </tr>\n",
       "    <tr>\n",
       "      <th>mean</th>\n",
       "      <td>-6.382700e+03</td>\n",
       "      <td>-6.386605e+03</td>\n",
       "      <td>-6.369465e+03</td>\n",
       "      <td>-6.374652e+03</td>\n",
       "      <td>-6.379492e+03</td>\n",
       "      <td>-6.384438e+03</td>\n",
       "      <td>-6.384961e+03</td>\n",
       "      <td>-6.385424e+03</td>\n",
       "    </tr>\n",
       "    <tr>\n",
       "      <th>std</th>\n",
       "      <td>4.812777e+03</td>\n",
       "      <td>4.807575e+03</td>\n",
       "      <td>4.830416e+03</td>\n",
       "      <td>4.823498e+03</td>\n",
       "      <td>4.817396e+03</td>\n",
       "      <td>4.810582e+03</td>\n",
       "      <td>4.809762e+03</td>\n",
       "      <td>4.809146e+03</td>\n",
       "    </tr>\n",
       "    <tr>\n",
       "      <th>min</th>\n",
       "      <td>-9.999000e+03</td>\n",
       "      <td>-9.999000e+03</td>\n",
       "      <td>-9.999000e+03</td>\n",
       "      <td>-9.999000e+03</td>\n",
       "      <td>-9.999000e+03</td>\n",
       "      <td>-9.999000e+03</td>\n",
       "      <td>-9.999000e+03</td>\n",
       "      <td>-9.999000e+03</td>\n",
       "    </tr>\n",
       "    <tr>\n",
       "      <th>25%</th>\n",
       "      <td>-9.999000e+03</td>\n",
       "      <td>-9.999000e+03</td>\n",
       "      <td>-9.999000e+03</td>\n",
       "      <td>-9.999000e+03</td>\n",
       "      <td>-9.999000e+03</td>\n",
       "      <td>-9.999000e+03</td>\n",
       "      <td>-9.999000e+03</td>\n",
       "      <td>-9.999000e+03</td>\n",
       "    </tr>\n",
       "    <tr>\n",
       "      <th>50%</th>\n",
       "      <td>-9.999000e+03</td>\n",
       "      <td>-9.999000e+03</td>\n",
       "      <td>-9.999000e+03</td>\n",
       "      <td>-9.999000e+03</td>\n",
       "      <td>-9.999000e+03</td>\n",
       "      <td>-9.999000e+03</td>\n",
       "      <td>-9.999000e+03</td>\n",
       "      <td>-9.999000e+03</td>\n",
       "    </tr>\n",
       "    <tr>\n",
       "      <th>75%</th>\n",
       "      <td>1.145550e+01</td>\n",
       "      <td>6.776667e+00</td>\n",
       "      <td>3.689320e+01</td>\n",
       "      <td>2.881560e+01</td>\n",
       "      <td>0.000000e+00</td>\n",
       "      <td>0.000000e+00</td>\n",
       "      <td>1.352320e+01</td>\n",
       "      <td>1.259320e+01</td>\n",
       "    </tr>\n",
       "    <tr>\n",
       "      <th>max</th>\n",
       "      <td>8.453000e+01</td>\n",
       "      <td>4.696333e+01</td>\n",
       "      <td>1.165520e+02</td>\n",
       "      <td>8.743884e+01</td>\n",
       "      <td>3.777226e+03</td>\n",
       "      <td>3.452004e+03</td>\n",
       "      <td>2.756720e+01</td>\n",
       "      <td>2.514717e+01</td>\n",
       "    </tr>\n",
       "  </tbody>\n",
       "</table>\n",
       "</div>"
      ],
      "text/plain": [
       "       aet__maximum     aet__mean  cwd__maximum     cwd__mean  pck__maximum  \\\n",
       "count  1.137669e+06  1.137669e+06  1.137669e+06  1.137669e+06  1.137669e+06   \n",
       "mean  -6.382700e+03 -6.386605e+03 -6.369465e+03 -6.374652e+03 -6.379492e+03   \n",
       "std    4.812777e+03  4.807575e+03  4.830416e+03  4.823498e+03  4.817396e+03   \n",
       "min   -9.999000e+03 -9.999000e+03 -9.999000e+03 -9.999000e+03 -9.999000e+03   \n",
       "25%   -9.999000e+03 -9.999000e+03 -9.999000e+03 -9.999000e+03 -9.999000e+03   \n",
       "50%   -9.999000e+03 -9.999000e+03 -9.999000e+03 -9.999000e+03 -9.999000e+03   \n",
       "75%    1.145550e+01  6.776667e+00  3.689320e+01  2.881560e+01  0.000000e+00   \n",
       "max    8.453000e+01  4.696333e+01  1.165520e+02  8.743884e+01  3.777226e+03   \n",
       "\n",
       "          pck__mean  tmx__maximum     tmx__mean  \n",
       "count  1.137669e+06  1.137669e+06  1.137669e+06  \n",
       "mean  -6.384438e+03 -6.384961e+03 -6.385424e+03  \n",
       "std    4.810582e+03  4.809762e+03  4.809146e+03  \n",
       "min   -9.999000e+03 -9.999000e+03 -9.999000e+03  \n",
       "25%   -9.999000e+03 -9.999000e+03 -9.999000e+03  \n",
       "50%   -9.999000e+03 -9.999000e+03 -9.999000e+03  \n",
       "75%    0.000000e+00  1.352320e+01  1.259320e+01  \n",
       "max    3.452004e+03  2.756720e+01  2.514717e+01  "
      ]
     },
     "execution_count": 7,
     "metadata": {},
     "output_type": "execute_result"
    }
   ],
   "source": [
    "extracted_features.describe()"
   ]
  },
  {
   "cell_type": "code",
   "execution_count": 8,
   "metadata": {},
   "outputs": [
    {
     "name": "stdout",
     "output_type": "stream",
     "text": [
      "(1209, 941, 8)\n"
     ]
    },
    {
     "data": {
      "image/png": "[encoded data removed]",
      "text/plain": [
       "<Figure size 720x720 with 8 Axes>"
      ]
     },
     "metadata": {
      "needs_background": "light"
     },
     "output_type": "display_data"
    }
   ],
   "source": [
    "# first, get the original dimension/shape of image \n",
    "og_rasters = tr.image_to_array(r\"../Data/Examples/12Month_Test/\")\n",
    "rows, cols, nums = og_rasters.shape\n",
    "\n",
    "\n",
    "# convert df to matrix array\n",
    "matrix_features = extracted_features.values\n",
    "num_of_layers = matrix_features.shape[1]\n",
    "\n",
    "\n",
    "f2Array = matrix_features.reshape(rows, cols, num_of_layers)\n",
    "print(f2Array.shape)\n",
    "\n",
    "plt.subplots(1, 1,figsize=(10,10))\n",
    "cols = 3\n",
    "\n",
    "for i in range(0,f2Array.shape[2]):\n",
    "    img = f2Array[:,:,i]\n",
    "    i = i+1\n",
    "    plt.subplot(ceil(f2Array.shape[2]/cols),cols,i)\n",
    "    plt.imshow(img, cmap=\"Greys\")\n",
    "    plt.title(extracted_features.columns[i-1])"
   ]
  },
  {
   "cell_type": "raw",
   "metadata": {},
   "source": [
    "# Alternatively if there are memory issues, you can loop through subfolders\n",
    "# features are then written for each specific variable folder\n",
    "\n",
    "from pathlib import Path \n",
    "p = Path('F:/5year')\n",
    "folders = [str(x) for x in p.iterdir() if x.is_dir() and '_features' not in str(x) and 'Fire' not in str(x) ]\n",
    "\n",
    "for folder in folders:\n",
    "    if not os.listdir(folder):\n",
    "        print(\"Directory is empty\")\n",
    "    else:    \n",
    "        print(\"Directory is not empty\")\n",
    "        print(folder)\n",
    "        ts_features = calculateFeatures(path = folder, \n",
    "                                          parameters = {\"mean\": None,\n",
    "                                                        \"maximum\": None}, \n",
    "                                          reset_df=True,\n",
    "                                          raster_mask =  r\"../Data/Examples/buffer/StatePoly_buf.tif\" ,\n",
    "                                          tiff_output=True,\n",
    "                                          workers = 2)\n",
    "        print(ts_features.describe())\n",
    "        \n",
    "\n",
    "# append all features to one dataframe \n",
    "path = r'F:/5year/'\n",
    "\n",
    "all_files = [os.path.join(root, name)\n",
    "             for root, dirs, files in os.walk(path)\n",
    "             for name in files\n",
    "             if name.endswith(( \"features.csv\"))]\n",
    "\n",
    "df_from_each_file = (pd.read_csv(f) for f in all_files)\n",
    "concatenated_df   = pd.concat(df_from_each_file,axis=1, ignore_index=False)\n",
    "concatenated_df.columns"
   ]
  },
  {
   "cell_type": "markdown",
   "metadata": {},
   "source": [
    "## Feature Selection\n",
    "Because the number of features can be very large, we need to limit it to those most relevant.\n"
   ]
  },
  {
   "cell_type": "code",
   "execution_count": 9,
   "metadata": {},
   "outputs": [
    {
     "data": {
      "text/plain": [
       "pixel_id\n",
       "0    0\n",
       "1    0\n",
       "2    0\n",
       "3    0\n",
       "4    0\n",
       "Name: value, dtype: int8"
      ]
     },
     "execution_count": 9,
     "metadata": {},
     "output_type": "execute_result"
    }
   ],
   "source": [
    "#%% read target data\n",
    "target_variable = r\"../Data/Examples/3month_fire/fire_2010.tif\"\n",
    "\n",
    "target_data = tr.image_to_series_simple(target_variable)\n",
    "target_data.head()"
   ]
  },
  {
   "cell_type": "markdown",
   "metadata": {},
   "source": [
    " Remove pixels outside of the state or with missing values. "
   ]
  },
  {
   "cell_type": "code",
   "execution_count": 10,
   "metadata": {},
   "outputs": [
    {
     "name": "stdout",
     "output_type": "stream",
     "text": [
      "time index missing in one element, merging list elements using only pixel_id index\n"
     ]
    }
   ],
   "source": [
    "raster_mask = r\"../Data\\Examples\\buffer\\StatePoly_buf.tif\"\n",
    "\n",
    "# combine in list to make sure they return same number of rows\n",
    "mask_list = [target_data, extracted_features]\n",
    "\n",
    "target_data_mask, extracted_features_mask  = tr.mask_df(raster_mask,\n",
    "                                   original_df=mask_list,\n",
    "                                   reset_index = False)\n",
    " "
   ]
  },
  {
   "cell_type": "code",
   "execution_count": 11,
   "metadata": {},
   "outputs": [
    {
     "data": {
      "text/html": [
       "<div>\n",
       "<style scoped>\n",
       "    .dataframe tbody tr th:only-of-type {\n",
       "        vertical-align: middle;\n",
       "    }\n",
       "\n",
       "    .dataframe tbody tr th {\n",
       "        vertical-align: top;\n",
       "    }\n",
       "\n",
       "    .dataframe thead th {\n",
       "        text-align: right;\n",
       "    }\n",
       "</style>\n",
       "<table border=\"1\" class=\"dataframe\">\n",
       "  <thead>\n",
       "    <tr style=\"text-align: right;\">\n",
       "      <th></th>\n",
       "      <th></th>\n",
       "      <th>value</th>\n",
       "    </tr>\n",
       "    <tr>\n",
       "      <th>pixel_id</th>\n",
       "      <th>time</th>\n",
       "      <th></th>\n",
       "    </tr>\n",
       "  </thead>\n",
       "  <tbody>\n",
       "    <tr>\n",
       "      <th>134588</th>\n",
       "      <th>201201_201203</th>\n",
       "      <td>0</td>\n",
       "    </tr>\n",
       "    <tr>\n",
       "      <th>134589</th>\n",
       "      <th>201201_201203</th>\n",
       "      <td>0</td>\n",
       "    </tr>\n",
       "    <tr>\n",
       "      <th>134590</th>\n",
       "      <th>201201_201203</th>\n",
       "      <td>0</td>\n",
       "    </tr>\n",
       "    <tr>\n",
       "      <th>134591</th>\n",
       "      <th>201201_201203</th>\n",
       "      <td>0</td>\n",
       "    </tr>\n",
       "    <tr>\n",
       "      <th>134592</th>\n",
       "      <th>201201_201203</th>\n",
       "      <td>0</td>\n",
       "    </tr>\n",
       "  </tbody>\n",
       "</table>\n",
       "</div>"
      ],
      "text/plain": [
       "                        value\n",
       "pixel_id time                \n",
       "134588   201201_201203      0\n",
       "134589   201201_201203      0\n",
       "134590   201201_201203      0\n",
       "134591   201201_201203      0\n",
       "134592   201201_201203      0"
      ]
     },
     "execution_count": 11,
     "metadata": {},
     "output_type": "execute_result"
    }
   ],
   "source": [
    "target_data_mask.head()\n"
   ]
  },
  {
   "cell_type": "code",
   "execution_count": 12,
   "metadata": {},
   "outputs": [
    {
     "data": {
      "text/html": [
       "<div>\n",
       "<style scoped>\n",
       "    .dataframe tbody tr th:only-of-type {\n",
       "        vertical-align: middle;\n",
       "    }\n",
       "\n",
       "    .dataframe tbody tr th {\n",
       "        vertical-align: top;\n",
       "    }\n",
       "\n",
       "    .dataframe thead th {\n",
       "        text-align: right;\n",
       "    }\n",
       "</style>\n",
       "<table border=\"1\" class=\"dataframe\">\n",
       "  <thead>\n",
       "    <tr style=\"text-align: right;\">\n",
       "      <th></th>\n",
       "      <th></th>\n",
       "      <th>aet__maximum</th>\n",
       "      <th>aet__mean</th>\n",
       "      <th>cwd__maximum</th>\n",
       "      <th>cwd__mean</th>\n",
       "      <th>pck__maximum</th>\n",
       "      <th>pck__mean</th>\n",
       "      <th>tmx__maximum</th>\n",
       "      <th>tmx__mean</th>\n",
       "    </tr>\n",
       "    <tr>\n",
       "      <th>pixel_id</th>\n",
       "      <th>time</th>\n",
       "      <th></th>\n",
       "      <th></th>\n",
       "      <th></th>\n",
       "      <th></th>\n",
       "      <th></th>\n",
       "      <th></th>\n",
       "      <th></th>\n",
       "      <th></th>\n",
       "    </tr>\n",
       "  </thead>\n",
       "  <tbody>\n",
       "    <tr>\n",
       "      <th>134588</th>\n",
       "      <th>201201_201203</th>\n",
       "      <td>30.005455</td>\n",
       "      <td>15.473637</td>\n",
       "      <td>24.794546</td>\n",
       "      <td>18.123335</td>\n",
       "      <td>0.0</td>\n",
       "      <td>0.0</td>\n",
       "      <td>12.360000</td>\n",
       "      <td>11.565715</td>\n",
       "    </tr>\n",
       "    <tr>\n",
       "      <th>134589</th>\n",
       "      <th>201201_201203</th>\n",
       "      <td>25.833000</td>\n",
       "      <td>13.179166</td>\n",
       "      <td>27.972000</td>\n",
       "      <td>19.629168</td>\n",
       "      <td>0.0</td>\n",
       "      <td>0.0</td>\n",
       "      <td>12.223500</td>\n",
       "      <td>11.485499</td>\n",
       "    </tr>\n",
       "    <tr>\n",
       "      <th>134590</th>\n",
       "      <th>201201_201203</th>\n",
       "      <td>29.665501</td>\n",
       "      <td>15.439834</td>\n",
       "      <td>23.674500</td>\n",
       "      <td>16.840166</td>\n",
       "      <td>0.0</td>\n",
       "      <td>0.0</td>\n",
       "      <td>12.247000</td>\n",
       "      <td>11.600833</td>\n",
       "    </tr>\n",
       "    <tr>\n",
       "      <th>134591</th>\n",
       "      <th>201201_201203</th>\n",
       "      <td>33.670799</td>\n",
       "      <td>17.440399</td>\n",
       "      <td>20.777201</td>\n",
       "      <td>15.756932</td>\n",
       "      <td>0.0</td>\n",
       "      <td>0.0</td>\n",
       "      <td>12.165600</td>\n",
       "      <td>11.582133</td>\n",
       "    </tr>\n",
       "    <tr>\n",
       "      <th>134592</th>\n",
       "      <th>201201_201203</th>\n",
       "      <td>39.907600</td>\n",
       "      <td>20.202133</td>\n",
       "      <td>17.719200</td>\n",
       "      <td>14.060533</td>\n",
       "      <td>0.0</td>\n",
       "      <td>0.0</td>\n",
       "      <td>11.927999</td>\n",
       "      <td>11.432799</td>\n",
       "    </tr>\n",
       "  </tbody>\n",
       "</table>\n",
       "</div>"
      ],
      "text/plain": [
       "                        aet__maximum  aet__mean  cwd__maximum  cwd__mean  \\\n",
       "pixel_id time                                                              \n",
       "134588   201201_201203     30.005455  15.473637     24.794546  18.123335   \n",
       "134589   201201_201203     25.833000  13.179166     27.972000  19.629168   \n",
       "134590   201201_201203     29.665501  15.439834     23.674500  16.840166   \n",
       "134591   201201_201203     33.670799  17.440399     20.777201  15.756932   \n",
       "134592   201201_201203     39.907600  20.202133     17.719200  14.060533   \n",
       "\n",
       "                        pck__maximum  pck__mean  tmx__maximum  tmx__mean  \n",
       "pixel_id time                                                             \n",
       "134588   201201_201203           0.0        0.0     12.360000  11.565715  \n",
       "134589   201201_201203           0.0        0.0     12.223500  11.485499  \n",
       "134590   201201_201203           0.0        0.0     12.247000  11.600833  \n",
       "134591   201201_201203           0.0        0.0     12.165600  11.582133  \n",
       "134592   201201_201203           0.0        0.0     11.927999  11.432799  "
      ]
     },
     "execution_count": 12,
     "metadata": {},
     "output_type": "execute_result"
    }
   ],
   "source": [
    "extracted_features_mask.head()"
   ]
  },
  {
   "cell_type": "code",
   "execution_count": 13,
   "metadata": {},
   "outputs": [
    {
     "name": "stdout",
     "output_type": "stream",
     "text": [
      "input should be csv or pandas dataframe with yX, or [y,X]\n",
      "reading in list concat on common index, inner join\n"
     ]
    }
   ],
   "source": [
    "obj = [target_data_mask,extracted_features_mask]\n",
    "\n",
    "X_train, X_test, y_train, y_test = md.get_data(obj,\n",
    "                                            stratify=True,\n",
    "                                            test_size=0.9,\n",
    "                                            scale=False  )"
   ]
  },
  {
   "cell_type": "markdown",
   "metadata": {},
   "source": [
    "fdr_level is the level statistics significance "
   ]
  },
  {
   "cell_type": "code",
   "execution_count": null,
   "metadata": {},
   "outputs": [],
   "source": []
  },
  {
   "cell_type": "code",
   "execution_count": 14,
   "metadata": {},
   "outputs": [
    {
     "name": "stderr",
     "output_type": "stream",
     "text": [
      "WARNING:tsfresh.feature_selection.relevance:Infered classification as machine learning task\n"
     ]
    },
    {
     "name": "stdout",
     "output_type": "stream",
     "text": [
      "                   feature  type   p_value  relevant\n",
      "feature                                             \n",
      "pck__mean        pck__mean  real  0.000617      True\n",
      "pck__maximum  pck__maximum  real  0.000638      True\n",
      "aet__mean        aet__mean  real  0.041441     False\n",
      "cwd__mean        cwd__mean  real  0.047057     False\n",
      "cwd__maximum  cwd__maximum  real  0.085511     False\n",
      "aet__maximum  aet__maximum  real  0.258564     False\n",
      "tmx__mean        tmx__mean  real  0.613272     False\n",
      "tmx__maximum  tmx__maximum  real  0.785129     False\n"
     ]
    },
    {
     "data": {
      "text/html": [
       "<div>\n",
       "<style scoped>\n",
       "    .dataframe tbody tr th:only-of-type {\n",
       "        vertical-align: middle;\n",
       "    }\n",
       "\n",
       "    .dataframe tbody tr th {\n",
       "        vertical-align: top;\n",
       "    }\n",
       "\n",
       "    .dataframe thead th {\n",
       "        text-align: right;\n",
       "    }\n",
       "</style>\n",
       "<table border=\"1\" class=\"dataframe\">\n",
       "  <thead>\n",
       "    <tr style=\"text-align: right;\">\n",
       "      <th></th>\n",
       "      <th></th>\n",
       "      <th>pck__mean</th>\n",
       "      <th>pck__maximum</th>\n",
       "    </tr>\n",
       "    <tr>\n",
       "      <th>pixel_id</th>\n",
       "      <th>time</th>\n",
       "      <th></th>\n",
       "      <th></th>\n",
       "    </tr>\n",
       "  </thead>\n",
       "  <tbody>\n",
       "    <tr>\n",
       "      <th>713809</th>\n",
       "      <th>201201_201203</th>\n",
       "      <td>152.679062</td>\n",
       "      <td>185.123199</td>\n",
       "    </tr>\n",
       "    <tr>\n",
       "      <th>318371</th>\n",
       "      <th>201201_201203</th>\n",
       "      <td>39.726166</td>\n",
       "      <td>81.434998</td>\n",
       "    </tr>\n",
       "    <tr>\n",
       "      <th>716626</th>\n",
       "      <th>201201_201203</th>\n",
       "      <td>97.715858</td>\n",
       "      <td>119.011200</td>\n",
       "    </tr>\n",
       "    <tr>\n",
       "      <th>837798</th>\n",
       "      <th>201201_201203</th>\n",
       "      <td>0.000000</td>\n",
       "      <td>0.000000</td>\n",
       "    </tr>\n",
       "    <tr>\n",
       "      <th>975562</th>\n",
       "      <th>201201_201203</th>\n",
       "      <td>0.000000</td>\n",
       "      <td>0.000000</td>\n",
       "    </tr>\n",
       "  </tbody>\n",
       "</table>\n",
       "</div>"
      ],
      "text/plain": [
       "                         pck__mean  pck__maximum\n",
       "pixel_id time                                   \n",
       "713809   201201_201203  152.679062    185.123199\n",
       "318371   201201_201203   39.726166     81.434998\n",
       "716626   201201_201203   97.715858    119.011200\n",
       "837798   201201_201203    0.000000      0.000000\n",
       "975562   201201_201203    0.000000      0.000000"
      ]
     },
     "execution_count": 14,
     "metadata": {},
     "output_type": "execute_result"
    }
   ],
   "source": [
    "relevance_test, relevant_features  = ca.checkRelevance2(x=X_train, \n",
    "                                                        y=y_train,\n",
    "                                                        fdr_level=0.01)\n",
    "print(relevance_test)\n",
    "relevant_features.head()"
   ]
  },
  {
   "cell_type": "markdown",
   "metadata": {},
   "source": [
    "### Train model and make prediction"
   ]
  },
  {
   "cell_type": "code",
   "execution_count": 15,
   "metadata": {},
   "outputs": [],
   "source": [
    "from sklearn.ensemble import GradientBoostingClassifier\n",
    "clf = GradientBoostingClassifier(n_estimators=200, learning_rate=0.1,\n",
    "                                 max_depth=2, random_state=0).fit(X_train[relevant_features.columns], y_train)"
   ]
  },
  {
   "cell_type": "code",
   "execution_count": 16,
   "metadata": {},
   "outputs": [
    {
     "name": "stdout",
     "output_type": "stream",
     "text": [
      "Testing accuracy: 0.997899773738511\n",
      "Testing Kappa:  -0.0004956424638768997\n",
      "Testing Conf: \n",
      "[[368708    106]\n",
      " [   670      0]]\n"
     ]
    }
   ],
   "source": [
    "from sklearn.metrics import accuracy_score,confusion_matrix, cohen_kappa_score\n",
    "predict_test = clf.predict(X=X_test[relevant_features.columns])\n",
    "\n",
    "test_acc = accuracy_score(y_test, predict_test)\n",
    "kappa = cohen_kappa_score(y_test, predict_test)\n",
    "confusion = confusion_matrix(y_test, predict_test)\n",
    "\n",
    "print('Testing accuracy:',test_acc)\n",
    "print('Testing Kappa: ',kappa)\n",
    "print('Testing Conf: ')\n",
    "print(confusion)"
   ]
  },
  {
   "cell_type": "code",
   "execution_count": 17,
   "metadata": {},
   "outputs": [
    {
     "data": {
      "text/html": [
       "<div>\n",
       "<style scoped>\n",
       "    .dataframe tbody tr th:only-of-type {\n",
       "        vertical-align: middle;\n",
       "    }\n",
       "\n",
       "    .dataframe tbody tr th {\n",
       "        vertical-align: top;\n",
       "    }\n",
       "\n",
       "    .dataframe thead th {\n",
       "        text-align: right;\n",
       "    }\n",
       "</style>\n",
       "<table border=\"1\" class=\"dataframe\">\n",
       "  <thead>\n",
       "    <tr style=\"text-align: right;\">\n",
       "      <th></th>\n",
       "      <th>importance</th>\n",
       "    </tr>\n",
       "  </thead>\n",
       "  <tbody>\n",
       "    <tr>\n",
       "      <th>pck__mean</th>\n",
       "      <td>0.717692</td>\n",
       "    </tr>\n",
       "    <tr>\n",
       "      <th>pck__maximum</th>\n",
       "      <td>0.282308</td>\n",
       "    </tr>\n",
       "  </tbody>\n",
       "</table>\n",
       "</div>"
      ],
      "text/plain": [
       "              importance\n",
       "pck__mean       0.717692\n",
       "pck__maximum    0.282308"
      ]
     },
     "execution_count": 17,
     "metadata": {},
     "output_type": "execute_result"
    }
   ],
   "source": [
    "feature_importances = pd.DataFrame(clf.feature_importances_,\n",
    "                                   index = relevant_features.columns,\n",
    "                                    columns=['importance']).sort_values('importance', ascending=False)\n",
    " \n",
    "feature_importances"
   ]
  },
  {
   "cell_type": "markdown",
   "metadata": {},
   "source": [
    "### Predict to all cells and map\n",
    "predict to all observations in panel\n",
    "get predicted class and probability of class"
   ]
  },
  {
   "cell_type": "code",
   "execution_count": 18,
   "metadata": {},
   "outputs": [],
   "source": [
    "all_predict = md.model_predict(model = clf,\n",
    "                                        new_X = extracted_features[relevant_features.columns])\n",
    "\n",
    "# returns probability of each class\n",
    "all_prob =  md.model_predict_prob(model = clf,\n",
    "                                        new_X = extracted_features[relevant_features.columns])"
   ]
  },
  {
   "cell_type": "code",
   "execution_count": 19,
   "metadata": {},
   "outputs": [
    {
     "name": "stdout",
     "output_type": "stream",
     "text": [
      "pixel_id\n",
      "0    0\n",
      "1    0\n",
      "2    0\n",
      "3    0\n",
      "4    0\n",
      "dtype: int8\n"
     ]
    },
    {
     "data": {
      "text/html": [
       "<div>\n",
       "<style scoped>\n",
       "    .dataframe tbody tr th:only-of-type {\n",
       "        vertical-align: middle;\n",
       "    }\n",
       "\n",
       "    .dataframe tbody tr th {\n",
       "        vertical-align: top;\n",
       "    }\n",
       "\n",
       "    .dataframe thead th {\n",
       "        text-align: right;\n",
       "    }\n",
       "</style>\n",
       "<table border=\"1\" class=\"dataframe\">\n",
       "  <thead>\n",
       "    <tr style=\"text-align: right;\">\n",
       "      <th></th>\n",
       "      <th>0</th>\n",
       "      <th>1</th>\n",
       "    </tr>\n",
       "    <tr>\n",
       "      <th>pixel_id</th>\n",
       "      <th></th>\n",
       "      <th></th>\n",
       "    </tr>\n",
       "  </thead>\n",
       "  <tbody>\n",
       "    <tr>\n",
       "      <th>0</th>\n",
       "      <td>0.997798</td>\n",
       "      <td>0.002202</td>\n",
       "    </tr>\n",
       "    <tr>\n",
       "      <th>1</th>\n",
       "      <td>0.997798</td>\n",
       "      <td>0.002202</td>\n",
       "    </tr>\n",
       "    <tr>\n",
       "      <th>2</th>\n",
       "      <td>0.997798</td>\n",
       "      <td>0.002202</td>\n",
       "    </tr>\n",
       "    <tr>\n",
       "      <th>3</th>\n",
       "      <td>0.997798</td>\n",
       "      <td>0.002202</td>\n",
       "    </tr>\n",
       "    <tr>\n",
       "      <th>4</th>\n",
       "      <td>0.997798</td>\n",
       "      <td>0.002202</td>\n",
       "    </tr>\n",
       "  </tbody>\n",
       "</table>\n",
       "</div>"
      ],
      "text/plain": [
       "                 0         1\n",
       "pixel_id                    \n",
       "0         0.997798  0.002202\n",
       "1         0.997798  0.002202\n",
       "2         0.997798  0.002202\n",
       "3         0.997798  0.002202\n",
       "4         0.997798  0.002202"
      ]
     },
     "execution_count": 19,
     "metadata": {},
     "output_type": "execute_result"
    }
   ],
   "source": [
    "print(all_predict.head())\n",
    "all_prob.head()"
   ]
  },
  {
   "cell_type": "markdown",
   "metadata": {},
   "source": [
    "Rasterize and plot prediction"
   ]
  },
  {
   "cell_type": "code",
   "execution_count": 20,
   "metadata": {},
   "outputs": [
    {
     "name": "stderr",
     "output_type": "stream",
     "text": [
      "C:\\Users\\Python3\\Anaconda3\\envs\\ts-raster\\lib\\site-packages\\ipykernel_launcher.py:6: FutureWarning: Method .as_matrix will be removed in a future version. Use .values instead.\n",
      "  \n"
     ]
    },
    {
     "data": {
      "image/png": "[encoded data removed]",
      "text/plain": [
       "<Figure size 432x288 with 2 Axes>"
      ]
     },
     "metadata": {
      "needs_background": "light"
     },
     "output_type": "display_data"
    }
   ],
   "source": [
    "import rasterio\n",
    "from numpy import reshape\n",
    "raster_ex = \"../Data/Examples/3month/aet-198401.tif\"\n",
    "ex_row, ex_cols =  rasterio.open(raster_ex).shape\n",
    "\n",
    "f2Array = reshape(all_prob[1].as_matrix(), (ex_row, ex_cols))\n",
    " # Plot the grid\n",
    "\n",
    "plt.imshow(f2Array)\n",
    "plt.set_cmap(\"Reds\")\n",
    "plt.colorbar( )\n",
    "plt.show()"
   ]
  },
  {
   "cell_type": "code",
   "execution_count": 21,
   "metadata": {},
   "outputs": [
    {
     "name": "stdout",
     "output_type": "stream",
     "text": [
      "(ElasticNet(alpha=0.5, copy_X=True, fit_intercept=True, l1_ratio=0.7,\n",
      "      max_iter=1000, normalize=False, positive=False, precompute=False,\n",
      "      random_state=None, selection='cyclic', tol=0.0001, warm_start=False), 'MSE = -6.43418462953349e-08', 'R-Squared = -2.4059712607792952e+33')\n"
     ]
    }
   ],
   "source": [
    "q = md.ElasticNetModel(X_train, y_train, X_test, y_test)\n",
    "print(q)"
   ]
  },
  {
   "cell_type": "code",
   "execution_count": 22,
   "metadata": {},
   "outputs": [
    {
     "name": "stdout",
     "output_type": "stream",
     "text": [
      "(ElasticNetCV(alphas=None, copy_X=True, cv=5, eps=0.001, fit_intercept=True,\n",
      "       l1_ratio=[0.01, 0.025, 0.05, 0.1, 0.15, 0.2, 0.25, 0.3, 0.35, 0.4, 0.45, 0.5, 0.55, 0.6, 0.65, 0.7, 0.75, 0.8, 0.85, 0.9, 0.95, 0.975, 0.99],\n",
      "       max_iter=1000, n_alphas=50, n_jobs=None, normalize=False,\n",
      "       positive=False, precompute='auto', random_state=None,\n",
      "       selection='cyclic', tol=0.0001, verbose=0), 'MSE = 0.000905986504143419', 'R-Squared = -1025.8642490457548', None, [0.01, 0.025, 0.05, 0.1, 0.15, 0.2, 0.25, 0.3, 0.35, 0.4, 0.45, 0.5, 0.55, 0.6, 0.65, 0.7, 0.75, 0.8, 0.85, 0.9, 0.95, 0.975, 0.99])\n"
     ]
    }
   ],
   "source": [
    "q = md.ElasticNetCVModel(X_train, y_train, X_test, y_test)\n",
    "print(q)"
   ]
  },
  {
   "cell_type": "code",
   "execution_count": null,
   "metadata": {},
   "outputs": [],
   "source": []
  }
 ],
 "metadata": {
  "kernelspec": {
   "display_name": "Python 3",
   "language": "python",
   "name": "python3"
  },
  "language_info": {
   "codemirror_mode": {
    "name": "ipython",
    "version": 3
   },
   "file_extension": ".py",
   "mimetype": "text/x-python",
   "name": "python",
   "nbconvert_exporter": "python",
   "pygments_lexer": "ipython3",
   "version": "3.6.8"
  }
 },
 "nbformat": 4,
 "nbformat_minor": 2
}
