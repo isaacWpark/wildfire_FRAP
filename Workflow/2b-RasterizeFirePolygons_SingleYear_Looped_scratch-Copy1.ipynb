{
 "cells": [
  {
   "cell_type": "markdown",
   "metadata": {},
   "source": [
    "## Create Example - Rasterize Single Year of Fire Data"
   ]
  },
  {
   "cell_type": "markdown",
   "metadata": {},
   "source": [
    "## Create Annually or Group_Year Fire Rasters\n"
   ]
  },
  {
   "cell_type": "code",
   "execution_count": 1,
   "metadata": {},
   "outputs": [],
   "source": [
    "import geopandas as gpd\n",
    "import rasterio\n",
    "from rasterio import features\n",
    "import numpy as np\n",
    "from joblib import Parallel, delayed\n",
    "import multiprocessing\n",
    "from tsraster.prep import poly_rasterizer_year_group\n"
   ]
  },
  {
   "cell_type": "code",
   "execution_count": 2,
   "metadata": {},
   "outputs": [
    {
     "name": "stderr",
     "output_type": "stream",
     "text": [
      "c:\\users\\python3\\documents\\ts-raster\\tsraster\\prep.py:388: SettingWithCopyWarning: \n",
      "A value is trying to be set on a copy of a slice from a DataFrame.\n",
      "Try using .loc[row_indexer,col_indexer] = value instead\n",
      "\n",
      "See the caveats in the documentation: http://pandas.pydata.org/pandas-docs/stable/indexing.html#indexing-view-versus-copy\n",
      "  polys['ONES'] = 1\n"
     ]
    },
    {
     "ename": "RasterioIOError",
     "evalue": "../Data/Examples/aet-198403.tif: No such file or directory",
     "output_type": "error",
     "traceback": [
      "\u001b[1;31m---------------------------------------------------------------------------\u001b[0m",
      "\u001b[1;31mCPLE_OpenFailedError\u001b[0m                      Traceback (most recent call last)",
      "\u001b[1;32mrasterio\\_base.pyx\u001b[0m in \u001b[0;36mrasterio._base.DatasetBase.__init__\u001b[1;34m()\u001b[0m\n",
      "\u001b[1;32mrasterio\\_shim.pyx\u001b[0m in \u001b[0;36mrasterio._shim.open_dataset\u001b[1;34m()\u001b[0m\n",
      "\u001b[1;32mrasterio\\_err.pyx\u001b[0m in \u001b[0;36mrasterio._err.exc_wrap_pointer\u001b[1;34m()\u001b[0m\n",
      "\u001b[1;31mCPLE_OpenFailedError\u001b[0m: ../Data/Examples/aet-198403.tif: No such file or directory",
      "\nDuring handling of the above exception, another exception occurred:\n",
      "\u001b[1;31mRasterioIOError\u001b[0m                           Traceback (most recent call last)",
      "\u001b[1;32m<ipython-input-2-e9a42423df0f>\u001b[0m in \u001b[0;36m<module>\u001b[1;34m\u001b[0m\n\u001b[0;32m      4\u001b[0m poly_rasterizer_year_group(poly = shp_fn, raster_exmpl = r'../Data/Examples/aet-198403.tif',\n\u001b[0;32m      5\u001b[0m                 \u001b[0mraster_path_prefix\u001b[0m \u001b[1;33m=\u001b[0m \u001b[1;34mr'../Data/Examples/fire_'\u001b[0m \u001b[1;33m,\u001b[0m\u001b[0myear_col_name\u001b[0m\u001b[1;33m=\u001b[0m\u001b[1;34m'YEAR_'\u001b[0m\u001b[1;33m,\u001b[0m\u001b[1;33m\u001b[0m\u001b[1;33m\u001b[0m\u001b[0m\n\u001b[1;32m----> 6\u001b[1;33m                 year_sub_list=range(2008,2014))\n\u001b[0m\u001b[0;32m      7\u001b[0m \u001b[1;33m\u001b[0m\u001b[0m\n",
      "\u001b[1;32mc:\\users\\python3\\documents\\ts-raster\\tsraster\\prep.py\u001b[0m in \u001b[0;36mpoly_rasterizer_year_group\u001b[1;34m(poly, raster_exmpl, raster_path_prefix, year_col_name, year_sub_list)\u001b[0m\n\u001b[0;32m    389\u001b[0m \u001b[1;33m\u001b[0m\u001b[0m\n\u001b[0;32m    390\u001b[0m     \u001b[1;31m# get example metadata\u001b[0m\u001b[1;33m\u001b[0m\u001b[1;33m\u001b[0m\u001b[1;33m\u001b[0m\u001b[0m\n\u001b[1;32m--> 391\u001b[1;33m     \u001b[1;32mwith\u001b[0m \u001b[0mrasterio\u001b[0m\u001b[1;33m.\u001b[0m\u001b[0mopen\u001b[0m\u001b[1;33m(\u001b[0m\u001b[0mraster_exmpl\u001b[0m\u001b[1;33m)\u001b[0m \u001b[1;32mas\u001b[0m \u001b[0msrc\u001b[0m\u001b[1;33m:\u001b[0m\u001b[1;33m\u001b[0m\u001b[1;33m\u001b[0m\u001b[0m\n\u001b[0m\u001b[0;32m    392\u001b[0m         \u001b[0marray\u001b[0m \u001b[1;33m=\u001b[0m \u001b[0msrc\u001b[0m\u001b[1;33m.\u001b[0m\u001b[0mread\u001b[0m\u001b[1;33m(\u001b[0m\u001b[1;33m)\u001b[0m\u001b[1;33m\u001b[0m\u001b[1;33m\u001b[0m\u001b[0m\n\u001b[0;32m    393\u001b[0m         \u001b[0mprofile\u001b[0m \u001b[1;33m=\u001b[0m \u001b[0msrc\u001b[0m\u001b[1;33m.\u001b[0m\u001b[0mprofile\u001b[0m\u001b[1;33m\u001b[0m\u001b[1;33m\u001b[0m\u001b[0m\n",
      "\u001b[1;32m~\\Anaconda3\\envs\\ts-raster\\lib\\site-packages\\rasterio\\env.py\u001b[0m in \u001b[0;36mwrapper\u001b[1;34m(*args, **kwds)\u001b[0m\n\u001b[0;32m    419\u001b[0m \u001b[1;33m\u001b[0m\u001b[0m\n\u001b[0;32m    420\u001b[0m         \u001b[1;32mwith\u001b[0m \u001b[0menv_ctor\u001b[0m\u001b[1;33m(\u001b[0m\u001b[0msession\u001b[0m\u001b[1;33m=\u001b[0m\u001b[0msession\u001b[0m\u001b[1;33m)\u001b[0m\u001b[1;33m:\u001b[0m\u001b[1;33m\u001b[0m\u001b[1;33m\u001b[0m\u001b[0m\n\u001b[1;32m--> 421\u001b[1;33m             \u001b[1;32mreturn\u001b[0m \u001b[0mf\u001b[0m\u001b[1;33m(\u001b[0m\u001b[1;33m*\u001b[0m\u001b[0margs\u001b[0m\u001b[1;33m,\u001b[0m \u001b[1;33m**\u001b[0m\u001b[0mkwds\u001b[0m\u001b[1;33m)\u001b[0m\u001b[1;33m\u001b[0m\u001b[1;33m\u001b[0m\u001b[0m\n\u001b[0m\u001b[0;32m    422\u001b[0m \u001b[1;33m\u001b[0m\u001b[0m\n\u001b[0;32m    423\u001b[0m     \u001b[1;32mreturn\u001b[0m \u001b[0mwrapper\u001b[0m\u001b[1;33m\u001b[0m\u001b[1;33m\u001b[0m\u001b[0m\n",
      "\u001b[1;32m~\\Anaconda3\\envs\\ts-raster\\lib\\site-packages\\rasterio\\__init__.py\u001b[0m in \u001b[0;36mopen\u001b[1;34m(fp, mode, driver, width, height, count, crs, transform, dtype, nodata, sharing, **kwargs)\u001b[0m\n\u001b[0;32m    224\u001b[0m         \u001b[1;31m# None.\u001b[0m\u001b[1;33m\u001b[0m\u001b[1;33m\u001b[0m\u001b[1;33m\u001b[0m\u001b[0m\n\u001b[0;32m    225\u001b[0m         \u001b[1;32mif\u001b[0m \u001b[0mmode\u001b[0m \u001b[1;33m==\u001b[0m \u001b[1;34m'r'\u001b[0m\u001b[1;33m:\u001b[0m\u001b[1;33m\u001b[0m\u001b[1;33m\u001b[0m\u001b[0m\n\u001b[1;32m--> 226\u001b[1;33m             \u001b[0ms\u001b[0m \u001b[1;33m=\u001b[0m \u001b[0mDatasetReader\u001b[0m\u001b[1;33m(\u001b[0m\u001b[0mpath\u001b[0m\u001b[1;33m,\u001b[0m \u001b[0mdriver\u001b[0m\u001b[1;33m=\u001b[0m\u001b[0mdriver\u001b[0m\u001b[1;33m,\u001b[0m \u001b[1;33m**\u001b[0m\u001b[0mkwargs\u001b[0m\u001b[1;33m)\u001b[0m\u001b[1;33m\u001b[0m\u001b[1;33m\u001b[0m\u001b[0m\n\u001b[0m\u001b[0;32m    227\u001b[0m         \u001b[1;32melif\u001b[0m \u001b[0mmode\u001b[0m \u001b[1;33m==\u001b[0m \u001b[1;34m'r+'\u001b[0m\u001b[1;33m:\u001b[0m\u001b[1;33m\u001b[0m\u001b[1;33m\u001b[0m\u001b[0m\n\u001b[0;32m    228\u001b[0m             \u001b[0ms\u001b[0m \u001b[1;33m=\u001b[0m \u001b[0mget_writer_for_path\u001b[0m\u001b[1;33m(\u001b[0m\u001b[0mpath\u001b[0m\u001b[1;33m)\u001b[0m\u001b[1;33m(\u001b[0m\u001b[0mpath\u001b[0m\u001b[1;33m,\u001b[0m \u001b[0mmode\u001b[0m\u001b[1;33m,\u001b[0m \u001b[0mdriver\u001b[0m\u001b[1;33m=\u001b[0m\u001b[0mdriver\u001b[0m\u001b[1;33m,\u001b[0m \u001b[1;33m**\u001b[0m\u001b[0mkwargs\u001b[0m\u001b[1;33m)\u001b[0m\u001b[1;33m\u001b[0m\u001b[1;33m\u001b[0m\u001b[0m\n",
      "\u001b[1;32mrasterio\\_base.pyx\u001b[0m in \u001b[0;36mrasterio._base.DatasetBase.__init__\u001b[1;34m()\u001b[0m\n",
      "\u001b[1;31mRasterioIOError\u001b[0m: ../Data/Examples/aet-198403.tif: No such file or directory"
     ]
    }
   ],
   "source": [
    "# run individual date range\n",
    "shp_fn = r'../Data/Actual/Fires/Inputs/fire17_1.shp'\n",
    "\n",
    "poly_rasterizer_year_group(poly = shp_fn, raster_exmpl = r'../Data/Examples/aet-198403.tif',\n",
    "                raster_path_prefix = r'../Data/Examples/fire_' ,year_col_name='YEAR_',\n",
    "                year_sub_list=range(2008,2014))\n",
    "\n"
   ]
  },
  {
   "cell_type": "code",
   "execution_count": null,
   "metadata": {},
   "outputs": [],
   "source": [
    "# run all individual years 2000 to 2018\n",
    "shp_fn = r'../Data/Actual/Fires/Inputs/fire17_1.shp'\n",
    "\n",
    "for year in range(1950,2019):\n",
    "    poly_rasterizer_year_group(poly = shp_fn, \n",
    "                    raster_exmpl = r'../Data/Examples/3month/aet-198403.tif',\n",
    "                    raster_path_prefix = r'../Data/Actual\\Fires/Rasters/fire_' ,\n",
    "                    year_col_name='YEAR_',\n",
    "                    year_sub_list=year)\n",
    "\n"
   ]
  },
  {
   "cell_type": "code",
   "execution_count": null,
   "metadata": {},
   "outputs": [],
   "source": [
    "# Gather multiple date ranges\n",
    "year_groups = []\n",
    "for f, b in zip(range(1951,2015,5), range(1955,2020,5)):\n",
    "    year_groups.append([f, b])\n",
    "    \n",
    "print(year_groups)\n"
   ]
  },
  {
   "cell_type": "code",
   "execution_count": null,
   "metadata": {},
   "outputs": [],
   "source": []
  },
  {
   "cell_type": "code",
   "execution_count": null,
   "metadata": {},
   "outputs": [],
   "source": [
    "# run all 5 year date ranges from 1950 to 2018\n",
    "shp_fn = r'../Data/Actual/Fires/Inputs/fire17_1.shp'\n",
    "\n",
    "for year in year_groups:\n",
    "    poly_rasterizer_year_group(poly = shp_fn, \n",
    "                    raster_exmpl = r'../Data/Examples/aet-198403.tif',\n",
    "                    raster_path_prefix = r'../Data/Actual/Fires/Outputs/fire_' ,\n",
    "                    year_col_name='YEAR_',\n",
    "                    year_sub_list=year)"
   ]
  },
  {
   "cell_type": "markdown",
   "metadata": {},
   "source": [
    "Move climate data into correct year_group folders"
   ]
  },
  {
   "cell_type": "code",
   "execution_count": null,
   "metadata": {},
   "outputs": [],
   "source": [
    "import shutil\n",
    "from pathlib import Path\n",
    "\n",
    "\n",
    "def chk_mak_dir(directory):\n",
    "    if not os.path.exists(directory):\n",
    "        os.makedirs(directory)\n",
    "        \n",
    "def int_globber(ints):\n",
    "    # create regular expression for specific year \n",
    "    return ''.join([\"[\"+i+\"]\" for i in str(ints)])\n",
    "\n",
    "def path_globber(a_dir,year_group,metric):\n",
    "     # gets all in_path files in a date range \n",
    "     l = [glob(os.path.join(a_dir,metric+\"-\"+int_globber(i)+\"*\")) \n",
    "              for i in range(year_group[0],year_group[1])]\n",
    "     return  [item for sublist in l for item in sublist]\n",
    "\n",
    "    \n",
    "in_dir = 'E:/HIST 1000m/'\n",
    "out_dir = '../Data/Actual/Climate'\n",
    "\n",
    "for metric in ['ppt','tmx','aet','cwd','pet','pck']:   \n",
    "    for year_group in year_groups:\n",
    "        # check for and make output dir\n",
    "        year_group_dir = str(year_group[0])+\"_\"+ str(year_group[1])\n",
    "        out_dir_metric = os.path.join(out_dir,year_group_dir,metric)\n",
    "        chk_mak_dir(out_dir_metric)\n",
    "        \n",
    "        # make lists of files to move and destinations\n",
    "        files_to_move = path_globber(in_dir, year_group,metric)\n",
    "        files_out_move =[os.path.join(out_dir_metric, \n",
    "                                      os.path.basename(i)) for i in files_to_move]\n",
    "        #print(pd.DataFrame([files_to_move,files_out_move])) # print examples\n",
    "        \n",
    "        # move files \n",
    "        for index, item in enumerate(files_to_move ):\n",
    "            if Path(files_out_move[index]).is_file():\n",
    "                next\n",
    "            else:\n",
    "                shutil.move(files_to_move[index], files_out_move[index])\n"
   ]
  },
  {
   "cell_type": "code",
   "execution_count": null,
   "metadata": {},
   "outputs": [],
   "source": [
    "import pandas as pd\n",
    "pd.DataFrame([files_to_move,files_out_move])\n",
    "\n"
   ]
  },
  {
   "cell_type": "code",
   "execution_count": null,
   "metadata": {},
   "outputs": [],
   "source": [
    "\n"
   ]
  },
  {
   "cell_type": "markdown",
   "metadata": {},
   "source": [
    "# Rasterize State Polygon\n",
    "\n",
    "function to rasterize polygons (assigns 1s to features) and can provide buffer at multiples of example raster resolution."
   ]
  },
  {
   "cell_type": "code",
   "execution_count": null,
   "metadata": {},
   "outputs": [],
   "source": [
    "from tsraster import prep\n",
    "import rasterio\n",
    "from matplotlib import pyplot"
   ]
  },
  {
   "cell_type": "code",
   "execution_count": null,
   "metadata": {},
   "outputs": [],
   "source": [
    "# rasterize state polygon using same parameters as raster_ex, add 10 cell buffer\n",
    "prep.poly_rasterizer(poly = 'F:/Boundary/StatePoly.shp', raster_ex = r'F:/3month/aet-198401.tif',\n",
    "                raster_path_prefix = r'../Data\\Examples\\buffer/StatePoly_buf',buffer_poly_cells=0)"
   ]
  },
  {
   "cell_type": "code",
   "execution_count": null,
   "metadata": {},
   "outputs": [],
   "source": [
    "dataset = rasterio.open(r'../Data/Examples/TestOutputs/StatePoly_buf.tif')\n",
    "\n",
    "\n",
    "pyplot.imshow(dataset.read(1), cmap='pink')\n",
    "pyplot.show()"
   ]
  }
 ],
 "metadata": {
  "kernelspec": {
   "display_name": "Python 3",
   "language": "python",
   "name": "python3"
  },
  "language_info": {
   "codemirror_mode": {
    "name": "ipython",
    "version": 3
   },
   "file_extension": ".py",
   "mimetype": "text/x-python",
   "name": "python",
   "nbconvert_exporter": "python",
   "pygments_lexer": "ipython3",
   "version": "3.6.8"
  }
 },
 "nbformat": 4,
 "nbformat_minor": 2
}
