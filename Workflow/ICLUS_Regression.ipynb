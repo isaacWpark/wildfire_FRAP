{
 "cells": [
  {
   "cell_type": "code",
   "execution_count": 1,
   "metadata": {},
   "outputs": [],
   "source": [
    "import tsraster.prep  as tr\n",
    "import numpy as np\n",
    "from scipy.stats import linregress\n",
    "import rasterio\n",
    "import copy"
   ]
  },
  {
   "cell_type": "code",
   "execution_count": 2,
   "metadata": {},
   "outputs": [
    {
     "name": "stdout",
     "output_type": "stream",
     "text": [
      "(1209, 941, 20)\n"
     ]
    }
   ],
   "source": [
    "stackedRaster = tr.image_to_array(\"C:/Users/Python3/Documents/wildfire_FRAP/Data/Actual/ICLUS/iclus_V2.0/iclus_RAW/Clipped/\")\n",
    "print(stackedRaster.shape)\n",
    "stackedRaster[stackedRaster == 2147483647] = 0\n",
    "#print(stackedRaster)"
   ]
  },
  {
   "cell_type": "code",
   "execution_count": 3,
   "metadata": {},
   "outputs": [
    {
     "name": "stdout",
     "output_type": "stream",
     "text": [
      "(1209, 941)\n"
     ]
    }
   ],
   "source": [
    "slopeRaster = np.zeros((1209, 941))\n",
    "print(slopeRaster.shape)"
   ]
  },
  {
   "cell_type": "code",
   "execution_count": 4,
   "metadata": {},
   "outputs": [
    {
     "name": "stderr",
     "output_type": "stream",
     "text": [
      "C:\\Users\\Python3\\Anaconda3\\envs\\ts-raster\\lib\\site-packages\\scipy\\stats\\_stats_mstats_common.py:107: RuntimeWarning: invalid value encountered in double_scalars\n",
      "  slope = r_num / ssxm\n",
      "C:\\Users\\Python3\\Anaconda3\\envs\\ts-raster\\lib\\site-packages\\scipy\\stats\\_stats_mstats_common.py:119: RuntimeWarning: divide by zero encountered in double_scalars\n",
      "  sterrest = np.sqrt((1 - r**2) * ssym / ssxm / df)\n"
     ]
    }
   ],
   "source": [
    "\n",
    "import statsmodels.formula.api as smf\n",
    "\n",
    "Years = np.arange(2005.0, 2105.0, 5.0)\n",
    "\n",
    "for x in range(0, 1209):\n",
    "    iterRow = stackedRaster[x, :, :]\n",
    "    for y in range(0, 941):\n",
    "        timeSeries = iterRow[y, :]\n",
    "       \n",
    "        #results = smf.OLS(timeSeries, Years).fit()\n",
    "        results = linregress(timeSeries, Years)\n",
    "        \n",
    "        slopeRaster[x][y] = results.slope\n",
    "        \n",
    "slopeRaster = np.nan_to_num(slopeRaster)"
   ]
  },
  {
   "cell_type": "code",
   "execution_count": 5,
   "metadata": {},
   "outputs": [
    {
     "data": {
      "text/plain": [
       "array([0, 0, 0, 0, 0, 0, 0, 0, 0, 0, 0, 0, 0, 0, 0, 0, 0, 0, 0, 0])"
      ]
     },
     "execution_count": 5,
     "metadata": {},
     "output_type": "execute_result"
    }
   ],
   "source": [
    "timeSeries"
   ]
  },
  {
   "cell_type": "code",
   "execution_count": 6,
   "metadata": {},
   "outputs": [],
   "source": [
    "\n",
    "with rasterio.open(\"../Data/Examples/3month_ts/aet/aet-201201.tif\") as exampleRast:\n",
    "        array = exampleRast.read()\n",
    "        profile = exampleRast.profile\n",
    "        profile.update(dtype=rasterio.float32, count=1, compress='lzw',nodata=0)\n",
    "\n",
    "slopeRaster = np.float32(slopeRaster)      \n",
    "        \n",
    "with rasterio.open(\"../Data/Actual/ICLUS\\iclus_V2.0\\iclus_RAW\\Slope\\Slope_Initial.tif\", 'w', **profile) as exampleRast:\n",
    "    exampleRast.write(slopeRaster, 1)"
   ]
  },
  {
   "cell_type": "code",
   "execution_count": 7,
   "metadata": {},
   "outputs": [
    {
     "data": {
      "text/plain": [
       "(1209, 941)"
      ]
     },
     "execution_count": 7,
     "metadata": {},
     "output_type": "execute_result"
    }
   ],
   "source": [
    "#read in 2005 Raster as baseline for historical regressions\n",
    "\n",
    "raster_2005 = tr.read_images(\"C:/Users/Python3/Documents/wildfire_FRAP/Data/Actual/ICLUS/iclus_V2.0/iclus_RAW/Clipped/bhd_2005_Clip.tif\")\n",
    "raster_2005 = raster_2005[0].ReadAsArray()\n",
    "raster_2005[raster_2005 == 2147483647] = 0\n",
    "raster_2005.shape"
   ]
  },
  {
   "cell_type": "raw",
   "metadata": {},
   "source": []
  },
  {
   "cell_type": "code",
   "execution_count": 8,
   "metadata": {},
   "outputs": [],
   "source": [
    "###Linear Regressions to back-calculate housing density from slope\n",
    "\n",
    "newYearList = list(range(1970, 2004))\n",
    "\n",
    "\n",
    "\n",
    "for x in range(1970, 2005):\n",
    "    yearDiff = x - 2005\n",
    "    iterRaster = raster_2005 + (slopeRaster * yearDiff)\n",
    "    iterRaster[iterRaster < 0] = 0\n",
    "    iterRaster = np.float32(iterRaster) \n",
    "    \n",
    "    with rasterio.open(\"../Data/Actual/ICLUS/iclus_V2.0/iclus_RAW/SimpleRegs/bhd_\" + str(x) + \"linreg.tif\", 'w', **profile) as exampleRast:\n",
    "        exampleRast.write(iterRaster, 1)"
   ]
  },
  {
   "cell_type": "code",
   "execution_count": 22,
   "metadata": {},
   "outputs": [],
   "source": [
    "###Interpolated linear regression\n",
    "Years = np.arange(2005, 2100, 5)\n",
    "\n",
    "for x in range(len(Years)):\n",
    "    earlyYear = Years[x]\n",
    "    lateYear = Years[x]+ 5\n",
    "    for y in range(0, 5):\n",
    "        iterYear = earlyYear + y\n",
    "        \n",
    "        earlyRaster = tr.read_images(\"C:/Users/Python3/Documents/wildfire_FRAP/Data/Actual/ICLUS/iclus_V2.0/iclus_RAW/Clipped/bhd_\" + str(earlyYear) + \"_Clip.tif\")\n",
    "        earlyRaster = earlyRaster[0].ReadAsArray()\n",
    "        earlyRaster[earlyRaster == 2147483647] = 0\n",
    "        \n",
    "        lateRaster = tr.read_images(\"C:/Users/Python3/Documents/wildfire_FRAP/Data/Actual/ICLUS/iclus_V2.0/iclus_RAW/Clipped/bhd_\" + str(lateYear) + \"_Clip.tif\")\n",
    "        lateRaster = lateRaster[0].ReadAsArray()\n",
    "        lateRaster[lateRaster == 2147483647] = 0\n",
    "        \n",
    "        #calculate anual raster by weighting between prior and successive raster\n",
    "        iterRaster = ((earlyRaster * (5-y)) + (lateRaster * (0+y)))/5\n",
    "        iterRaster = np.float32(iterRaster)\n",
    "        \n",
    "        with rasterio.open(\"../Data/Actual/ICLUS/iclus_V2.0/iclus_RAW/SimpleRegs/bhd_\" + str(iterYear) + \"linreg.tif\", 'w', **profile) as exampleRast:\n",
    "            exampleRast.write(iterRaster, 1)\n",
    "        \n",
    "        \n"
   ]
  },
  {
   "cell_type": "code",
   "execution_count": 19,
   "metadata": {},
   "outputs": [
    {
     "data": {
      "text/plain": [
       "18"
      ]
     },
     "execution_count": 19,
     "metadata": {},
     "output_type": "execute_result"
    }
   ],
   "source": [
    "x"
   ]
  },
  {
   "cell_type": "code",
   "execution_count": 20,
   "metadata": {},
   "outputs": [
    {
     "data": {
      "text/plain": [
       "2095"
      ]
     },
     "execution_count": 20,
     "metadata": {},
     "output_type": "execute_result"
    }
   ],
   "source": [
    "Years[x]"
   ]
  },
  {
   "cell_type": "code",
   "execution_count": 21,
   "metadata": {},
   "outputs": [
    {
     "data": {
      "text/plain": [
       "2100"
      ]
     },
     "execution_count": 21,
     "metadata": {},
     "output_type": "execute_result"
    }
   ],
   "source": [
    "lateYear\n"
   ]
  },
  {
   "cell_type": "code",
   "execution_count": null,
   "metadata": {},
   "outputs": [],
   "source": []
  }
 ],
 "metadata": {
  "kernelspec": {
   "display_name": "Python 3",
   "language": "python",
   "name": "python3"
  },
  "language_info": {
   "codemirror_mode": {
    "name": "ipython",
    "version": 3
   },
   "file_extension": ".py",
   "mimetype": "text/x-python",
   "name": "python",
   "nbconvert_exporter": "python",
   "pygments_lexer": "ipython3",
   "version": "3.6.8"
  }
 },
 "nbformat": 4,
 "nbformat_minor": 2
}
