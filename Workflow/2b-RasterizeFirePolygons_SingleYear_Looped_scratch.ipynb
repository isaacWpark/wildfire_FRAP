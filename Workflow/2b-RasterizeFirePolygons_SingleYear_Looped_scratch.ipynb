{
 "cells": [
  {
   "cell_type": "markdown",
   "metadata": {},
   "source": [
    "## Create Example - Rasterize Single Year of Fire Data"
   ]
  },
  {
   "cell_type": "code",
   "execution_count": 1,
   "metadata": {},
   "outputs": [],
   "source": [
    "#https://gis.stackexchange.com/questions/151339/rasterize-a-shapefile-with-geopandas-or-fiona-python\n",
    "# use env:gdal_env_2.7v.2\n",
    "import geopandas as gpd\n",
    "import rasterio\n",
    "from rasterio import features\n",
    "import numpy as np\n",
    "import os\n",
    "from glob import glob\n"
   ]
  },
  {
   "cell_type": "markdown",
   "metadata": {},
   "source": [
    "Set up your filenames"
   ]
  },
  {
   "cell_type": "code",
   "execution_count": 2,
   "metadata": {},
   "outputs": [],
   "source": [
    "shp_fn = r'../Data/Actual/Fires/Inputs/fire17_1.shp'"
   ]
  },
  {
   "cell_type": "markdown",
   "metadata": {},
   "source": [
    "Open the file with GeoPANDAS read_file"
   ]
  },
  {
   "cell_type": "code",
   "execution_count": 3,
   "metadata": {},
   "outputs": [],
   "source": [
    "fires = gpd.read_file(shp_fn)   \n"
   ]
  },
  {
   "cell_type": "markdown",
   "metadata": {},
   "source": [
    "CHeck and fix datatype issues"
   ]
  },
  {
   "cell_type": "code",
   "execution_count": 4,
   "metadata": {},
   "outputs": [
    {
     "name": "stdout",
     "output_type": "stream",
     "text": [
      "Index(['OBJECTID', 'YEAR_', 'STATE', 'AGENCY', 'UNIT_ID', 'FIRE_NAME',\n",
      "       'INC_NUM', 'ALARM_DATE', 'CONT_DATE', 'CAUSE', 'COMMENTS', 'REPORT_AC',\n",
      "       'GIS_ACRES', 'C_METHOD', 'OBJECTIVE', 'FIRE_NUM', 'Shape_Leng',\n",
      "       'Shape_Area', 'geometry'],\n",
      "      dtype='object')\n",
      "0    2007\n",
      "1    2007\n",
      "2    2007\n",
      "3    2007\n",
      "4    2007\n",
      "Name: YEAR_, dtype: object\n",
      "['2007' '2005' '2004' '1944' '1915' '1917' '1960' '1921' '1923' '1970'\n",
      " '1920' '1979' '1990' '1998' '1966' '1942' '1941' '1982' '1973' '1977'\n",
      " '1953' '1946' '1955' '1931' '1949' '1964' '1948' '1958' '1972' '1916'\n",
      " '1974' '1950' '1930' '1971' '1924' '1926' '1927' '1945' '1952' '1911'\n",
      " '1929' None '1997' '2006' '1984' '1910' '1951' '1956' '1981' '1909'\n",
      " '1935' '1936' '1961' '1919' '1925' '1928' '1918' '1940' '1933' '1968'\n",
      " '1999' '1943' '1914' '1922' '1975' '1932' '1912' '1978' '1983' '1913'\n",
      " '1947' '1934' '1937' '1938' '1967' '1976' '2000' '1994' '1954' '1878'\n",
      " '1895' '1896' '1898' '1907' '1908' '1986' '1980' '1962' '1959' '1900'\n",
      " '1957' '2003' '1969' '1988' '1996' '1991' '1992' '1995' '1987' '1939'\n",
      " '2001' '1903' '1905' '1906' '1985' '1989' '2002' '1965' '1993' '1963'\n",
      " '2008' '2010' '2016' '2012' '2014' '1902' '2009' '2011' '2013' '2015'\n",
      " '2017' '2018']\n"
     ]
    }
   ],
   "source": [
    "print(fires.columns)\n",
    "print(fires['YEAR_'].head())\n",
    "print(fires.YEAR_.unique())"
   ]
  },
  {
   "cell_type": "code",
   "execution_count": 5,
   "metadata": {},
   "outputs": [
    {
     "name": "stdout",
     "output_type": "stream",
     "text": [
      "OBJECTID     int64\n",
      "YEAR_       object\n",
      "STATE       object\n",
      "AGENCY      object\n",
      "UNIT_ID     object\n",
      "dtype: object\n"
     ]
    }
   ],
   "source": [
    "print(fires.dtypes.head())"
   ]
  },
  {
   "cell_type": "code",
   "execution_count": 6,
   "metadata": {},
   "outputs": [
    {
     "name": "stdout",
     "output_type": "stream",
     "text": [
      "PreLen:  20096\n",
      "PostLen: : 220\n",
      "OBJECTID     int64\n",
      "YEAR_        int32\n",
      "STATE       object\n",
      "AGENCY      object\n",
      "UNIT_ID     object\n",
      "dtype: object\n",
      "      OBJECTID  YEAR_ STATE AGENCY UNIT_ID   FIRE_NAME   INC_NUM  ALARM_DATE  \\\n",
      "766        767   1984    CA    CCO     ORC  LOMA RIDGE  00000000        None   \n",
      "2894      2895   1984    CA    USF     BDF        None  00000000  1984-05-30   \n",
      "2895      2896   1984    CA    USF     BDF        None  00000000        None   \n",
      "2896      2897   1984    CA    USF     BDF       LYTLE  00000000  1984-05-28   \n",
      "2897      2898   1984    CA    CDF     BDU  LOS FLORES  00005268  1984-05-30   \n",
      "\n",
      "       CONT_DATE  CAUSE COMMENTS  REPORT_AC  GIS_ACRES  C_METHOD  OBJECTIVE  \\\n",
      "766         None     14     None        0.0   1434.940         0          1   \n",
      "2894  1984-06-01      1     None      195.0    123.630         8          1   \n",
      "2895        None     14     None        0.0   1977.280         0          1   \n",
      "2896  1984-06-01      9     None     2100.0   2430.860         7          1   \n",
      "2897        None     14     None        0.0    288.384         0          1   \n",
      "\n",
      "      FIRE_NUM    Shape_Leng    Shape_Area  \\\n",
      "766   00000000  26175.783237  5.807001e+06   \n",
      "2894  00000087   2938.617004  5.003137e+05   \n",
      "2895  00000000  19217.899930  8.001787e+06   \n",
      "2896  00000069  20860.262970  9.837333e+06   \n",
      "2897  00000444   4990.535251  1.167050e+06   \n",
      "\n",
      "                                               geometry  ONES  \n",
      "766   POLYGON ((208424.5544999987 -469024.1904999996...   1.0  \n",
      "2894  POLYGON ((263088.7413000017 -407335.7620000001...   1.0  \n",
      "2895  POLYGON ((224632.8088999987 -409258.4162999997...   1.0  \n",
      "2896  POLYGON ((226447.6370999999 -408899.0691, 2266...   1.0  \n",
      "2897  POLYGON ((246041.1341000013 -407467.0070000002...   1.0  \n"
     ]
    }
   ],
   "source": [
    "# subset to year and convert to integer\n",
    "print(\"PreLen: \", len(fires))\n",
    "fires = fires[fires['YEAR_'].isin(['1984'])]\n",
    "print(\"PostLen: :\", len(fires))\n",
    "fires['YEAR_'] = fires['YEAR_'].astype(str).astype(int)\n",
    "print(fires.dtypes.head())\n",
    "\n",
    "# create column of ones to rasterize for presence (1) of fire\n",
    "fires['ONES'] = 1.0\n",
    "print(fires.head())"
   ]
  },
  {
   "cell_type": "markdown",
   "metadata": {},
   "source": [
    "Open the raster file you want to use as a template for feature burning using rasterio\n"
   ]
  },
  {
   "cell_type": "code",
   "execution_count": 7,
   "metadata": {},
   "outputs": [
    {
     "data": {
      "text/plain": [
       "BoundingBox(left=-374495.84, bottom=-616363.33, right=566504.1599999999, top=592636.67)"
      ]
     },
     "execution_count": 7,
     "metadata": {},
     "output_type": "execute_result"
    }
   ],
   "source": [
    "example = r'../Data/Actual/Climate/BCM HIST Final 1000m_1950_2016/aet/aet-194910.tif'\n",
    "\n",
    "rst = rasterio.open(example)\n",
    "rst.bounds"
   ]
  },
  {
   "cell_type": "markdown",
   "metadata": {},
   "source": [
    "copy and update the metadata from the input raster for the output\n"
   ]
  },
  {
   "cell_type": "code",
   "execution_count": 8,
   "metadata": {},
   "outputs": [
    {
     "name": "stdout",
     "output_type": "stream",
     "text": [
      "{'driver': 'GTiff', 'dtype': 'float32', 'nodata': 0, 'width': 941, 'height': 1209, 'count': 1, 'crs': CRS({'proj': 'aea', 'lat_1': 34, 'lat_2': 40.5, 'lat_0': 0, 'lon_0': -120, 'x_0': 0, 'y_0': -4000000, 'ellps': 'GRS80', 'towgs84': '0,0,0,0,0,0,0', 'units': 'm', 'no_defs': True}), 'transform': Affine(1000.0, 0.0, -374495.84,\n",
      "       0.0, -1000.0, 592636.67), 'tiled': False, 'interleave': 'band', 'compress': 'lzw'}\n"
     ]
    }
   ],
   "source": [
    "with rasterio.open(example) as src:\n",
    "    array = src.read()\n",
    "    profile = src.profile\n",
    "    profile.update(dtype=rasterio.float32, count=1, compress='lzw',nodata=0)\n",
    "    out_arr = src.read(1) # get data from first band, this gets updated in write\n",
    "    print(profile)"
   ]
  },
  {
   "cell_type": "markdown",
   "metadata": {},
   "source": [
    "Now burn the features into the raster and write it out\n"
   ]
  },
  {
   "cell_type": "code",
   "execution_count": 14,
   "metadata": {},
   "outputs": [],
   "source": [
    "#output = r'../Data/Examples/3month_fire/fire_1984.tif' # any new file\n",
    "\n",
    "output = r'../Data/Examples/3month_fire/ArrayTest1.tif' # any new file\n",
    "    \n",
    "# Write to tif, using the same profile as the source\n",
    "with rasterio.open(output, 'w', **profile) as dst:\n",
    "    # Write the product as a raster band to a new  file. For\n",
    "    # the new file's profile, we start with the meta attributes of\n",
    "    # the source file, but then change the band count to 1, set the\n",
    "    # dtype to float, and specify LZW compression, missing = 0.\n",
    "\n",
    "    # this is where we create a generator of geom, value pairs to use in rasterizing\n",
    "    shapes = ((geom,value) for geom, value in zip(fires.geometry, fires.ONES))\n",
    "\n",
    "    #rasterize shapes to raster values based on centroid \n",
    "    burned_value = features.rasterize(shapes=shapes, fill=0, out=np.zeros(out_arr.shape, dtype = \"float32\"), transform=dst.transform)\n",
    "    # write out values \n",
    "    dst.write(burned_value,1)"
   ]
  },
  {
   "cell_type": "code",
   "execution_count": 11,
   "metadata": {},
   "outputs": [
    {
     "ename": "SyntaxError",
     "evalue": "invalid syntax (<ipython-input-11-14d4b8b0180a>, line 1)",
     "output_type": "error",
     "traceback": [
      "\u001b[1;36m  File \u001b[1;32m\"<ipython-input-11-14d4b8b0180a>\"\u001b[1;36m, line \u001b[1;32m1\u001b[0m\n\u001b[1;33m    **profile\u001b[0m\n\u001b[1;37m     ^\u001b[0m\n\u001b[1;31mSyntaxError\u001b[0m\u001b[1;31m:\u001b[0m invalid syntax\n"
     ]
    }
   ],
   "source": [
    "profile"
   ]
  },
  {
   "cell_type": "markdown",
   "metadata": {},
   "source": [
    "The overall idea is to create an iterable containing tuples of (geometry, value), where the geometry is a shapely geometry and the value is what you want to burn into the raster at that geometry's location. Both Fiona and GeoPANDAS use shapely geometries so you are in luck there. In this example a generator is used to iterate through the (geometry,value) pairs which were extracted from the GeoDataFrame and joined together using zip()."
   ]
  },
  {
   "cell_type": "markdown",
   "metadata": {},
   "source": [
    "## Create Annually or Group_Year Fire Rasters\n"
   ]
  },
  {
   "cell_type": "code",
   "execution_count": 5,
   "metadata": {},
   "outputs": [],
   "source": [
    "import geopandas as gpd\n",
    "import rasterio\n",
    "from rasterio import features\n",
    "import numpy as np\n",
    "from joblib import Parallel, delayed\n",
    "import multiprocessing\n",
    "from tsraster.prep import poly_rasterizer_year_group\n"
   ]
  },
  {
   "cell_type": "code",
   "execution_count": 6,
   "metadata": {},
   "outputs": [
    {
     "name": "stderr",
     "output_type": "stream",
     "text": [
      "c:\\users\\python3\\documents\\ts-raster\\tsraster\\prep.py:388: SettingWithCopyWarning: \n",
      "A value is trying to be set on a copy of a slice from a DataFrame.\n",
      "Try using .loc[row_indexer,col_indexer] = value instead\n",
      "\n",
      "See the caveats in the documentation: http://pandas.pydata.org/pandas-docs/stable/indexing.html#indexing-view-versus-copy\n",
      "  polys['ONES'] = 1\n"
     ]
    },
    {
     "ename": "RasterioIOError",
     "evalue": "../Data/Examples/aet-198403.tif: No such file or directory",
     "output_type": "error",
     "traceback": [
      "\u001b[1;31m---------------------------------------------------------------------------\u001b[0m",
      "\u001b[1;31mCPLE_OpenFailedError\u001b[0m                      Traceback (most recent call last)",
      "\u001b[1;32mrasterio\\_base.pyx\u001b[0m in \u001b[0;36mrasterio._base.DatasetBase.__init__\u001b[1;34m()\u001b[0m\n",
      "\u001b[1;32mrasterio\\_shim.pyx\u001b[0m in \u001b[0;36mrasterio._shim.open_dataset\u001b[1;34m()\u001b[0m\n",
      "\u001b[1;32mrasterio\\_err.pyx\u001b[0m in \u001b[0;36mrasterio._err.exc_wrap_pointer\u001b[1;34m()\u001b[0m\n",
      "\u001b[1;31mCPLE_OpenFailedError\u001b[0m: ../Data/Examples/aet-198403.tif: No such file or directory",
      "\nDuring handling of the above exception, another exception occurred:\n",
      "\u001b[1;31mRasterioIOError\u001b[0m                           Traceback (most recent call last)",
      "\u001b[1;32m<ipython-input-6-e9a42423df0f>\u001b[0m in \u001b[0;36m<module>\u001b[1;34m\u001b[0m\n\u001b[0;32m      4\u001b[0m poly_rasterizer_year_group(poly = shp_fn, raster_exmpl = r'../Data/Examples/aet-198403.tif',\n\u001b[0;32m      5\u001b[0m                 \u001b[0mraster_path_prefix\u001b[0m \u001b[1;33m=\u001b[0m \u001b[1;34mr'../Data/Examples/fire_'\u001b[0m \u001b[1;33m,\u001b[0m\u001b[0myear_col_name\u001b[0m\u001b[1;33m=\u001b[0m\u001b[1;34m'YEAR_'\u001b[0m\u001b[1;33m,\u001b[0m\u001b[1;33m\u001b[0m\u001b[1;33m\u001b[0m\u001b[0m\n\u001b[1;32m----> 6\u001b[1;33m                 year_sub_list=range(2008,2014))\n\u001b[0m\u001b[0;32m      7\u001b[0m \u001b[1;33m\u001b[0m\u001b[0m\n",
      "\u001b[1;32mc:\\users\\python3\\documents\\ts-raster\\tsraster\\prep.py\u001b[0m in \u001b[0;36mpoly_rasterizer_year_group\u001b[1;34m(poly, raster_exmpl, raster_path_prefix, year_col_name, year_sub_list)\u001b[0m\n\u001b[0;32m    389\u001b[0m \u001b[1;33m\u001b[0m\u001b[0m\n\u001b[0;32m    390\u001b[0m     \u001b[1;31m# get example metadata\u001b[0m\u001b[1;33m\u001b[0m\u001b[1;33m\u001b[0m\u001b[1;33m\u001b[0m\u001b[0m\n\u001b[1;32m--> 391\u001b[1;33m     \u001b[1;32mwith\u001b[0m \u001b[0mrasterio\u001b[0m\u001b[1;33m.\u001b[0m\u001b[0mopen\u001b[0m\u001b[1;33m(\u001b[0m\u001b[0mraster_exmpl\u001b[0m\u001b[1;33m)\u001b[0m \u001b[1;32mas\u001b[0m \u001b[0msrc\u001b[0m\u001b[1;33m:\u001b[0m\u001b[1;33m\u001b[0m\u001b[1;33m\u001b[0m\u001b[0m\n\u001b[0m\u001b[0;32m    392\u001b[0m         \u001b[0marray\u001b[0m \u001b[1;33m=\u001b[0m \u001b[0msrc\u001b[0m\u001b[1;33m.\u001b[0m\u001b[0mread\u001b[0m\u001b[1;33m(\u001b[0m\u001b[1;33m)\u001b[0m\u001b[1;33m\u001b[0m\u001b[1;33m\u001b[0m\u001b[0m\n\u001b[0;32m    393\u001b[0m         \u001b[0mprofile\u001b[0m \u001b[1;33m=\u001b[0m \u001b[0msrc\u001b[0m\u001b[1;33m.\u001b[0m\u001b[0mprofile\u001b[0m\u001b[1;33m\u001b[0m\u001b[1;33m\u001b[0m\u001b[0m\n",
      "\u001b[1;32m~\\Anaconda3\\envs\\ts-raster\\lib\\site-packages\\rasterio\\env.py\u001b[0m in \u001b[0;36mwrapper\u001b[1;34m(*args, **kwds)\u001b[0m\n\u001b[0;32m    419\u001b[0m \u001b[1;33m\u001b[0m\u001b[0m\n\u001b[0;32m    420\u001b[0m         \u001b[1;32mwith\u001b[0m \u001b[0menv_ctor\u001b[0m\u001b[1;33m(\u001b[0m\u001b[0msession\u001b[0m\u001b[1;33m=\u001b[0m\u001b[0msession\u001b[0m\u001b[1;33m)\u001b[0m\u001b[1;33m:\u001b[0m\u001b[1;33m\u001b[0m\u001b[1;33m\u001b[0m\u001b[0m\n\u001b[1;32m--> 421\u001b[1;33m             \u001b[1;32mreturn\u001b[0m \u001b[0mf\u001b[0m\u001b[1;33m(\u001b[0m\u001b[1;33m*\u001b[0m\u001b[0margs\u001b[0m\u001b[1;33m,\u001b[0m \u001b[1;33m**\u001b[0m\u001b[0mkwds\u001b[0m\u001b[1;33m)\u001b[0m\u001b[1;33m\u001b[0m\u001b[1;33m\u001b[0m\u001b[0m\n\u001b[0m\u001b[0;32m    422\u001b[0m \u001b[1;33m\u001b[0m\u001b[0m\n\u001b[0;32m    423\u001b[0m     \u001b[1;32mreturn\u001b[0m \u001b[0mwrapper\u001b[0m\u001b[1;33m\u001b[0m\u001b[1;33m\u001b[0m\u001b[0m\n",
      "\u001b[1;32m~\\Anaconda3\\envs\\ts-raster\\lib\\site-packages\\rasterio\\__init__.py\u001b[0m in \u001b[0;36mopen\u001b[1;34m(fp, mode, driver, width, height, count, crs, transform, dtype, nodata, sharing, **kwargs)\u001b[0m\n\u001b[0;32m    224\u001b[0m         \u001b[1;31m# None.\u001b[0m\u001b[1;33m\u001b[0m\u001b[1;33m\u001b[0m\u001b[1;33m\u001b[0m\u001b[0m\n\u001b[0;32m    225\u001b[0m         \u001b[1;32mif\u001b[0m \u001b[0mmode\u001b[0m \u001b[1;33m==\u001b[0m \u001b[1;34m'r'\u001b[0m\u001b[1;33m:\u001b[0m\u001b[1;33m\u001b[0m\u001b[1;33m\u001b[0m\u001b[0m\n\u001b[1;32m--> 226\u001b[1;33m             \u001b[0ms\u001b[0m \u001b[1;33m=\u001b[0m \u001b[0mDatasetReader\u001b[0m\u001b[1;33m(\u001b[0m\u001b[0mpath\u001b[0m\u001b[1;33m,\u001b[0m \u001b[0mdriver\u001b[0m\u001b[1;33m=\u001b[0m\u001b[0mdriver\u001b[0m\u001b[1;33m,\u001b[0m \u001b[1;33m**\u001b[0m\u001b[0mkwargs\u001b[0m\u001b[1;33m)\u001b[0m\u001b[1;33m\u001b[0m\u001b[1;33m\u001b[0m\u001b[0m\n\u001b[0m\u001b[0;32m    227\u001b[0m         \u001b[1;32melif\u001b[0m \u001b[0mmode\u001b[0m \u001b[1;33m==\u001b[0m \u001b[1;34m'r+'\u001b[0m\u001b[1;33m:\u001b[0m\u001b[1;33m\u001b[0m\u001b[1;33m\u001b[0m\u001b[0m\n\u001b[0;32m    228\u001b[0m             \u001b[0ms\u001b[0m \u001b[1;33m=\u001b[0m \u001b[0mget_writer_for_path\u001b[0m\u001b[1;33m(\u001b[0m\u001b[0mpath\u001b[0m\u001b[1;33m)\u001b[0m\u001b[1;33m(\u001b[0m\u001b[0mpath\u001b[0m\u001b[1;33m,\u001b[0m \u001b[0mmode\u001b[0m\u001b[1;33m,\u001b[0m \u001b[0mdriver\u001b[0m\u001b[1;33m=\u001b[0m\u001b[0mdriver\u001b[0m\u001b[1;33m,\u001b[0m \u001b[1;33m**\u001b[0m\u001b[0mkwargs\u001b[0m\u001b[1;33m)\u001b[0m\u001b[1;33m\u001b[0m\u001b[1;33m\u001b[0m\u001b[0m\n",
      "\u001b[1;32mrasterio\\_base.pyx\u001b[0m in \u001b[0;36mrasterio._base.DatasetBase.__init__\u001b[1;34m()\u001b[0m\n",
      "\u001b[1;31mRasterioIOError\u001b[0m: ../Data/Examples/aet-198403.tif: No such file or directory"
     ]
    }
   ],
   "source": [
    "# run individual date range\n",
    "shp_fn = r'../Data/Actual/Fires/Inputs/fire17_1.shp'\n",
    "\n",
    "poly_rasterizer_year_group(poly = shp_fn, raster_exmpl = r'../Data/Examples/aet-198403.tif',\n",
    "                raster_path_prefix = r'../Data/Examples/fire_' ,year_col_name='YEAR_',\n",
    "                year_sub_list=range(2008,2014))\n",
    "\n"
   ]
  },
  {
   "cell_type": "code",
   "execution_count": 8,
   "metadata": {},
   "outputs": [],
   "source": [
    "# run all individual years 2000 to 2018\n",
    "shp_fn = r'../Data/Actual/Fires/Inputs/fire17_1.shp'\n",
    "\n",
    "for year in range(1950,2018):\n",
    "    poly_rasterizer_year_group(poly = shp_fn, \n",
    "                    raster_exmpl = r'../Data/Examples/3month/aet-198403.tif',\n",
    "                    raster_path_prefix = r'../Data/Actual\\Fires/Rasters/fire_' ,\n",
    "                    year_col_name='YEAR_',\n",
    "                    year_sub_list=year)\n",
    "\n"
   ]
  },
  {
   "cell_type": "code",
   "execution_count": 4,
   "metadata": {},
   "outputs": [
    {
     "name": "stdout",
     "output_type": "stream",
     "text": [
      "[[1951, 1955], [1956, 1960], [1961, 1965], [1966, 1970], [1971, 1975], [1976, 1980], [1981, 1985], [1986, 1990], [1991, 1995], [1996, 2000], [2001, 2005], [2006, 2010], [2011, 2015]]\n"
     ]
    }
   ],
   "source": [
    "# Gather multiple date ranges\n",
    "year_groups = []\n",
    "for f, b in zip(range(1951,2015,5), range(1955,2020,5)):\n",
    "    year_groups.append([f, b])\n",
    "    \n",
    "print(year_groups)\n"
   ]
  },
  {
   "cell_type": "code",
   "execution_count": null,
   "metadata": {},
   "outputs": [],
   "source": []
  },
  {
   "cell_type": "code",
   "execution_count": 6,
   "metadata": {},
   "outputs": [
    {
     "name": "stderr",
     "output_type": "stream",
     "text": [
      "C:\\Users\\mmann\\AppData\\Local\\Continuum\\anaconda2\\envs\\ts-rasterv2\\lib\\site-packages\\tsraster\\prep.py:270: SettingWithCopyWarning: \n",
      "A value is trying to be set on a copy of a slice from a DataFrame.\n",
      "Try using .loc[row_indexer,col_indexer] = value instead\n",
      "\n",
      "See the caveats in the documentation: http://pandas.pydata.org/pandas-docs/stable/indexing.html#indexing-view-versus-copy\n",
      "  polys['ONES'] = 1\n"
     ]
    }
   ],
   "source": [
    "# run all 5 year date ranges from 1950 to 2018\n",
    "shp_fn = r'../Data/Actual/Fires/Inputs/fire17_1.shp'\n",
    "\n",
    "for year in year_groups:\n",
    "    poly_rasterizer_year_group(poly = shp_fn, \n",
    "                    raster_exmpl = r'../Data/Examples/aet-198403.tif',\n",
    "                    raster_path_prefix = r'../Data/Actual/Fires/Outputs/fire_' ,\n",
    "                    year_col_name='YEAR_',\n",
    "                    year_sub_list=year)"
   ]
  },
  {
   "cell_type": "markdown",
   "metadata": {},
   "source": [
    "Move climate data into correct year_group folders"
   ]
  },
  {
   "cell_type": "code",
   "execution_count": 133,
   "metadata": {},
   "outputs": [],
   "source": [
    "import shutil\n",
    "from pathlib import Path\n",
    "\n",
    "\n",
    "def chk_mak_dir(directory):\n",
    "    if not os.path.exists(directory):\n",
    "        os.makedirs(directory)\n",
    "        \n",
    "def int_globber(ints):\n",
    "    # create regular expression for specific year \n",
    "    return ''.join([\"[\"+i+\"]\" for i in str(ints)])\n",
    "\n",
    "def path_globber(a_dir,year_group,metric):\n",
    "     # gets all in_path files in a date range \n",
    "     l = [glob(os.path.join(a_dir,metric+\"-\"+int_globber(i)+\"*\")) \n",
    "              for i in range(year_group[0],year_group[1])]\n",
    "     return  [item for sublist in l for item in sublist]\n",
    "\n",
    "    \n",
    "in_dir = 'E:/HIST 1000m/'\n",
    "out_dir = '../Data/Actual/Climate'\n",
    "\n",
    "for metric in ['ppt','tmx','aet','cwd','pet','pck']:   \n",
    "    for year_group in year_groups:\n",
    "        # check for and make output dir\n",
    "        year_group_dir = str(year_group[0])+\"_\"+ str(year_group[1])\n",
    "        out_dir_metric = os.path.join(out_dir,year_group_dir,metric)\n",
    "        chk_mak_dir(out_dir_metric)\n",
    "        \n",
    "        # make lists of files to move and destinations\n",
    "        files_to_move = path_globber(in_dir, year_group,metric)\n",
    "        files_out_move =[os.path.join(out_dir_metric, \n",
    "                                      os.path.basename(i)) for i in files_to_move]\n",
    "        #print(pd.DataFrame([files_to_move,files_out_move])) # print examples\n",
    "        \n",
    "        # move files \n",
    "        for index, item in enumerate(files_to_move ):\n",
    "            if Path(files_out_move[index]).is_file():\n",
    "                next\n",
    "            else:\n",
    "                shutil.move(files_to_move[index], files_out_move[index])\n"
   ]
  },
  {
   "cell_type": "code",
   "execution_count": 112,
   "metadata": {},
   "outputs": [
    {
     "data": {
      "text/html": [
       "<div>\n",
       "<style scoped>\n",
       "    .dataframe tbody tr th:only-of-type {\n",
       "        vertical-align: middle;\n",
       "    }\n",
       "\n",
       "    .dataframe tbody tr th {\n",
       "        vertical-align: top;\n",
       "    }\n",
       "\n",
       "    .dataframe thead th {\n",
       "        text-align: right;\n",
       "    }\n",
       "</style>\n",
       "<table border=\"1\" class=\"dataframe\">\n",
       "  <thead>\n",
       "    <tr style=\"text-align: right;\">\n",
       "      <th></th>\n",
       "      <th>0</th>\n",
       "      <th>1</th>\n",
       "      <th>2</th>\n",
       "      <th>3</th>\n",
       "      <th>4</th>\n",
       "      <th>5</th>\n",
       "      <th>6</th>\n",
       "      <th>7</th>\n",
       "      <th>8</th>\n",
       "      <th>9</th>\n",
       "      <th>...</th>\n",
       "      <th>38</th>\n",
       "      <th>39</th>\n",
       "      <th>40</th>\n",
       "      <th>41</th>\n",
       "      <th>42</th>\n",
       "      <th>43</th>\n",
       "      <th>44</th>\n",
       "      <th>45</th>\n",
       "      <th>46</th>\n",
       "      <th>47</th>\n",
       "    </tr>\n",
       "  </thead>\n",
       "  <tbody>\n",
       "    <tr>\n",
       "      <th>0</th>\n",
       "      <td>E:/HIST 1000m\\aet-200601.tif</td>\n",
       "      <td>E:/HIST 1000m\\aet-200602.tif</td>\n",
       "      <td>E:/HIST 1000m\\aet-200603.tif</td>\n",
       "      <td>E:/HIST 1000m\\aet-200604.tif</td>\n",
       "      <td>E:/HIST 1000m\\aet-200605.tif</td>\n",
       "      <td>E:/HIST 1000m\\aet-200606.tif</td>\n",
       "      <td>E:/HIST 1000m\\aet-200607.tif</td>\n",
       "      <td>E:/HIST 1000m\\aet-200608.tif</td>\n",
       "      <td>E:/HIST 1000m\\aet-200609.tif</td>\n",
       "      <td>E:/HIST 1000m\\aet-200610.tif</td>\n",
       "      <td>...</td>\n",
       "      <td>E:/HIST 1000m\\aet-200903.tif</td>\n",
       "      <td>E:/HIST 1000m\\aet-200904.tif</td>\n",
       "      <td>E:/HIST 1000m\\aet-200905.tif</td>\n",
       "      <td>E:/HIST 1000m\\aet-200906.tif</td>\n",
       "      <td>E:/HIST 1000m\\aet-200907.tif</td>\n",
       "      <td>E:/HIST 1000m\\aet-200908.tif</td>\n",
       "      <td>E:/HIST 1000m\\aet-200909.tif</td>\n",
       "      <td>E:/HIST 1000m\\aet-200910.tif</td>\n",
       "      <td>E:/HIST 1000m\\aet-200911.tif</td>\n",
       "      <td>E:/HIST 1000m\\aet-200912.tif</td>\n",
       "    </tr>\n",
       "    <tr>\n",
       "      <th>1</th>\n",
       "      <td>../Data/Actual/Climate//2011_2015\\aet-200601.tif</td>\n",
       "      <td>../Data/Actual/Climate//2011_2015\\aet-200602.tif</td>\n",
       "      <td>../Data/Actual/Climate//2011_2015\\aet-200603.tif</td>\n",
       "      <td>../Data/Actual/Climate//2011_2015\\aet-200604.tif</td>\n",
       "      <td>../Data/Actual/Climate//2011_2015\\aet-200605.tif</td>\n",
       "      <td>../Data/Actual/Climate//2011_2015\\aet-200606.tif</td>\n",
       "      <td>../Data/Actual/Climate//2011_2015\\aet-200607.tif</td>\n",
       "      <td>../Data/Actual/Climate//2011_2015\\aet-200608.tif</td>\n",
       "      <td>../Data/Actual/Climate//2011_2015\\aet-200609.tif</td>\n",
       "      <td>../Data/Actual/Climate//2011_2015\\aet-200610.tif</td>\n",
       "      <td>...</td>\n",
       "      <td>../Data/Actual/Climate//2011_2015\\aet-200903.tif</td>\n",
       "      <td>../Data/Actual/Climate//2011_2015\\aet-200904.tif</td>\n",
       "      <td>../Data/Actual/Climate//2011_2015\\aet-200905.tif</td>\n",
       "      <td>../Data/Actual/Climate//2011_2015\\aet-200906.tif</td>\n",
       "      <td>../Data/Actual/Climate//2011_2015\\aet-200907.tif</td>\n",
       "      <td>../Data/Actual/Climate//2011_2015\\aet-200908.tif</td>\n",
       "      <td>../Data/Actual/Climate//2011_2015\\aet-200909.tif</td>\n",
       "      <td>../Data/Actual/Climate//2011_2015\\aet-200910.tif</td>\n",
       "      <td>../Data/Actual/Climate//2011_2015\\aet-200911.tif</td>\n",
       "      <td>../Data/Actual/Climate//2011_2015\\aet-200912.tif</td>\n",
       "    </tr>\n",
       "  </tbody>\n",
       "</table>\n",
       "<p>2 rows × 48 columns</p>\n",
       "</div>"
      ],
      "text/plain": [
       "                                                 0   \\\n",
       "0                      E:/HIST 1000m\\aet-200601.tif   \n",
       "1  ../Data/Actual/Climate//2011_2015\\aet-200601.tif   \n",
       "\n",
       "                                                 1   \\\n",
       "0                      E:/HIST 1000m\\aet-200602.tif   \n",
       "1  ../Data/Actual/Climate//2011_2015\\aet-200602.tif   \n",
       "\n",
       "                                                 2   \\\n",
       "0                      E:/HIST 1000m\\aet-200603.tif   \n",
       "1  ../Data/Actual/Climate//2011_2015\\aet-200603.tif   \n",
       "\n",
       "                                                 3   \\\n",
       "0                      E:/HIST 1000m\\aet-200604.tif   \n",
       "1  ../Data/Actual/Climate//2011_2015\\aet-200604.tif   \n",
       "\n",
       "                                                 4   \\\n",
       "0                      E:/HIST 1000m\\aet-200605.tif   \n",
       "1  ../Data/Actual/Climate//2011_2015\\aet-200605.tif   \n",
       "\n",
       "                                                 5   \\\n",
       "0                      E:/HIST 1000m\\aet-200606.tif   \n",
       "1  ../Data/Actual/Climate//2011_2015\\aet-200606.tif   \n",
       "\n",
       "                                                 6   \\\n",
       "0                      E:/HIST 1000m\\aet-200607.tif   \n",
       "1  ../Data/Actual/Climate//2011_2015\\aet-200607.tif   \n",
       "\n",
       "                                                 7   \\\n",
       "0                      E:/HIST 1000m\\aet-200608.tif   \n",
       "1  ../Data/Actual/Climate//2011_2015\\aet-200608.tif   \n",
       "\n",
       "                                                 8   \\\n",
       "0                      E:/HIST 1000m\\aet-200609.tif   \n",
       "1  ../Data/Actual/Climate//2011_2015\\aet-200609.tif   \n",
       "\n",
       "                                                 9   \\\n",
       "0                      E:/HIST 1000m\\aet-200610.tif   \n",
       "1  ../Data/Actual/Climate//2011_2015\\aet-200610.tif   \n",
       "\n",
       "                         ...                         \\\n",
       "0                        ...                          \n",
       "1                        ...                          \n",
       "\n",
       "                                                 38  \\\n",
       "0                      E:/HIST 1000m\\aet-200903.tif   \n",
       "1  ../Data/Actual/Climate//2011_2015\\aet-200903.tif   \n",
       "\n",
       "                                                 39  \\\n",
       "0                      E:/HIST 1000m\\aet-200904.tif   \n",
       "1  ../Data/Actual/Climate//2011_2015\\aet-200904.tif   \n",
       "\n",
       "                                                 40  \\\n",
       "0                      E:/HIST 1000m\\aet-200905.tif   \n",
       "1  ../Data/Actual/Climate//2011_2015\\aet-200905.tif   \n",
       "\n",
       "                                                 41  \\\n",
       "0                      E:/HIST 1000m\\aet-200906.tif   \n",
       "1  ../Data/Actual/Climate//2011_2015\\aet-200906.tif   \n",
       "\n",
       "                                                 42  \\\n",
       "0                      E:/HIST 1000m\\aet-200907.tif   \n",
       "1  ../Data/Actual/Climate//2011_2015\\aet-200907.tif   \n",
       "\n",
       "                                                 43  \\\n",
       "0                      E:/HIST 1000m\\aet-200908.tif   \n",
       "1  ../Data/Actual/Climate//2011_2015\\aet-200908.tif   \n",
       "\n",
       "                                                 44  \\\n",
       "0                      E:/HIST 1000m\\aet-200909.tif   \n",
       "1  ../Data/Actual/Climate//2011_2015\\aet-200909.tif   \n",
       "\n",
       "                                                 45  \\\n",
       "0                      E:/HIST 1000m\\aet-200910.tif   \n",
       "1  ../Data/Actual/Climate//2011_2015\\aet-200910.tif   \n",
       "\n",
       "                                                 46  \\\n",
       "0                      E:/HIST 1000m\\aet-200911.tif   \n",
       "1  ../Data/Actual/Climate//2011_2015\\aet-200911.tif   \n",
       "\n",
       "                                                 47  \n",
       "0                      E:/HIST 1000m\\aet-200912.tif  \n",
       "1  ../Data/Actual/Climate//2011_2015\\aet-200912.tif  \n",
       "\n",
       "[2 rows x 48 columns]"
      ]
     },
     "execution_count": 112,
     "metadata": {},
     "output_type": "execute_result"
    }
   ],
   "source": [
    "import pandas as pd\n",
    "pd.DataFrame([files_to_move,files_out_move])\n",
    "\n"
   ]
  },
  {
   "cell_type": "code",
   "execution_count": null,
   "metadata": {},
   "outputs": [],
   "source": [
    "\n"
   ]
  },
  {
   "cell_type": "markdown",
   "metadata": {},
   "source": [
    "# Rasterize State Polygon\n",
    "\n",
    "function to rasterize polygons (assigns 1s to features) and can provide buffer at multiples of example raster resolution."
   ]
  },
  {
   "cell_type": "code",
   "execution_count": 1,
   "metadata": {},
   "outputs": [],
   "source": [
    "from tsraster import prep\n",
    "import rasterio\n",
    "from matplotlib import pyplot"
   ]
  },
  {
   "cell_type": "code",
   "execution_count": 2,
   "metadata": {},
   "outputs": [],
   "source": [
    "# rasterize state polygon using same parameters as raster_ex, add 10 cell buffer\n",
    "prep.poly_rasterizer(poly = 'F:/Boundary/StatePoly.shp', raster_ex = r'F:/3month/aet-198401.tif',\n",
    "                raster_path_prefix = r'../Data\\Examples\\buffer/StatePoly_buf',buffer_poly_cells=0)"
   ]
  },
  {
   "cell_type": "code",
   "execution_count": 10,
   "metadata": {},
   "outputs": [
    {
     "data": {
      "image/png": "[encoded data removed]",
      "text/plain": [
       "<Figure size 432x288 with 1 Axes>"
      ]
     },
     "metadata": {
      "needs_background": "light"
     },
     "output_type": "display_data"
    }
   ],
   "source": [
    "dataset = rasterio.open(r'../Data/Examples/TestOutputs/StatePoly_buf.tif')\n",
    "\n",
    "\n",
    "pyplot.imshow(dataset.read(1), cmap='pink')\n",
    "pyplot.show()"
   ]
  }
 ],
 "metadata": {
  "kernelspec": {
   "display_name": "Python 3",
   "language": "python",
   "name": "python3"
  },
  "language_info": {
   "codemirror_mode": {
    "name": "ipython",
    "version": 3
   },
   "file_extension": ".py",
   "mimetype": "text/x-python",
   "name": "python",
   "nbconvert_exporter": "python",
   "pygments_lexer": "ipython3",
   "version": "3.6.8"
  }
 },
 "nbformat": 4,
 "nbformat_minor": 2
}
