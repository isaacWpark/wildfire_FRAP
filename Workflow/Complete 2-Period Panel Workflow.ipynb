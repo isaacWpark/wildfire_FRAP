{
 "cells": [
  {
   "cell_type": "markdown",
   "metadata": {},
   "source": [
    "# Panel estimation of wildifire probability "
   ]
  },
  {
   "cell_type": "code",
   "execution_count": 27,
   "metadata": {},
   "outputs": [],
   "source": [
    "from tsraster.prep import combine_extracted_features, combine_target_rasters, wide_to_long_target_features,unmask_df,panel_lag_1\n",
    "from tsraster.calculate import checkRelevance2, calculateFeatures\n",
    "\n",
    "from numpy import NaN,isnan\n",
    "from pathlib import Path \n",
    "import os\n",
    "import pandas as pd\n",
    "\n",
    "import tsraster.prep  as tr\n",
    "import tsraster.model  as md\n",
    "\n",
    "import rasterio\n",
    "import matplotlib.pyplot as plt\n",
    "\n",
    "from sklearn.ensemble import RandomForestRegressor, GradientBoostingRegressor, RandomForestClassifier\n",
    "from sklearn.metrics import accuracy_score,confusion_matrix, cohen_kappa_score\n",
    "from sklearn.ensemble import GradientBoostingClassifier"
   ]
  },
  {
   "cell_type": "markdown",
   "metadata": {},
   "source": [
    "### Features Extraction at Scale"
   ]
  },
  {
   "cell_type": "code",
   "execution_count": 6,
   "metadata": {},
   "outputs": [
    {
     "data": {
      "text/plain": [
       "['..\\\\Data\\\\Examples\\\\Panel_Example\\\\Climate\\\\2006_2010\\\\cwd',\n",
       " '..\\\\Data\\\\Examples\\\\Panel_Example\\\\Climate\\\\2006_2010\\\\ppt',\n",
       " '..\\\\Data\\\\Examples\\\\Panel_Example\\\\Climate\\\\2011_2015\\\\cwd',\n",
       " '..\\\\Data\\\\Examples\\\\Panel_Example\\\\Climate\\\\2011_2015\\\\ppt']"
      ]
     },
     "execution_count": 6,
     "metadata": {},
     "output_type": "execute_result"
    }
   ],
   "source": [
    "fc_parameters = {\n",
    "\t    \"mean\": None,\n",
    "\t    \"maximum\": None,\n",
    "\t    \"median\":None}\n",
    "\n",
    "p = Path('../Data/Examples/Panel_Example/Climate/')\n",
    "folders = [str(x) for x in p.glob('*/*') if x.is_dir() and '_features' not in str(x) and 'Fire' not in str(x) ]\n",
    "folders"
   ]
  },
  {
   "cell_type": "code",
   "execution_count": 12,
   "metadata": {},
   "outputs": [
    {
     "name": "stdout",
     "output_type": "stream",
     "text": [
      "Directory is not empty\n",
      "..\\Data\\Examples\\Panel_Example\\Climate\\2006_2010\\cwd\n",
      "df: ..\\Data\\Examples\\Panel_Example\\Climate\\2006_2010\\cwd\\my_df.csv\n"
     ]
    },
    {
     "name": "stderr",
     "output_type": "stream",
     "text": [
      "Feature Extraction: 100%|████████████████████████████████████████████████████████████████| 5/5 [00:50<00:00, 10.46s/it]\n"
     ]
    },
    {
     "name": "stdout",
     "output_type": "stream",
     "text": [
      "features:..\\Data\\Examples\\Panel_Example\\Climate\\2006_2010\\cwd_features\\extracted_features.csv\n",
      "       cwd__maximum     cwd__mean   cwd__median\n",
      "count  1.137669e+06  1.137669e+06  1.137669e+06\n",
      "mean  -6.321948e+03 -6.361746e+03 -6.369084e+03\n",
      "std    4.893647e+03  4.840688e+03  4.830975e+03\n",
      "min   -9.999000e+03 -9.999000e+03 -9.999000e+03\n",
      "25%   -9.999000e+03 -9.999000e+03 -9.999000e+03\n",
      "50%   -9.999000e+03 -9.999000e+03 -9.999000e+03\n",
      "75%    1.838448e+02  6.138217e+01  1.257800e+01\n",
      "max    2.327495e+02  1.318143e+02  1.334538e+02\n",
      "Directory is not empty\n",
      "..\\Data\\Examples\\Panel_Example\\Climate\\2006_2010\\ppt\n",
      "df: ..\\Data\\Examples\\Panel_Example\\Climate\\2006_2010\\ppt\\my_df.csv\n"
     ]
    },
    {
     "name": "stderr",
     "output_type": "stream",
     "text": [
      "Feature Extraction: 100%|████████████████████████████████████████████████████████████████| 5/5 [00:53<00:00, 10.89s/it]\n"
     ]
    },
    {
     "name": "stdout",
     "output_type": "stream",
     "text": [
      "features:..\\Data\\Examples\\Panel_Example\\Climate\\2006_2010\\ppt_features\\extracted_features.csv\n",
      "       ppt__maximum     ppt__mean   ppt__median\n",
      "count  1.137669e+06  1.137669e+06  1.137669e+06\n",
      "mean  -6.318338e+03 -6.375807e+03 -6.383758e+03\n",
      "std    4.899379e+03  4.822003e+03  4.811385e+03\n",
      "min   -9.999000e+03 -9.999000e+03 -9.999000e+03\n",
      "25%   -9.999000e+03 -9.999000e+03 -9.999000e+03\n",
      "50%   -9.999000e+03 -9.999000e+03 -9.999000e+03\n",
      "75%    7.860650e+01  1.487717e+01  4.968500e+00\n",
      "max    1.191274e+03  3.167586e+02  2.474300e+02\n",
      "Directory is not empty\n",
      "..\\Data\\Examples\\Panel_Example\\Climate\\2011_2015\\cwd\n",
      "df: ..\\Data\\Examples\\Panel_Example\\Climate\\2011_2015\\cwd\\my_df.csv\n"
     ]
    },
    {
     "name": "stderr",
     "output_type": "stream",
     "text": [
      "Feature Extraction: 100%|████████████████████████████████████████████████████████████████| 5/5 [00:49<00:00, 10.28s/it]\n"
     ]
    },
    {
     "name": "stdout",
     "output_type": "stream",
     "text": [
      "features:..\\Data\\Examples\\Panel_Example\\Climate\\2011_2015\\cwd_features\\extracted_features.csv\n",
      "       cwd__maximum     cwd__mean   cwd__median\n",
      "count  1.137669e+06  1.137669e+06  1.137669e+06\n",
      "mean  -6.322409e+03 -6.360048e+03 -6.362518e+03\n",
      "std    4.893033e+03  4.842955e+03  4.839713e+03\n",
      "min   -9.999000e+03 -9.999000e+03 -9.999000e+03\n",
      "25%   -9.999000e+03 -9.999000e+03 -9.999000e+03\n",
      "50%   -9.999000e+03 -9.999000e+03 -9.999000e+03\n",
      "75%    1.842680e+02  6.424258e+01  4.230175e+01\n",
      "max    2.329300e+02  1.402930e+02  1.575240e+02\n",
      "Directory is not empty\n",
      "..\\Data\\Examples\\Panel_Example\\Climate\\2011_2015\\ppt\n",
      "df: ..\\Data\\Examples\\Panel_Example\\Climate\\2011_2015\\ppt\\my_df.csv\n"
     ]
    },
    {
     "name": "stderr",
     "output_type": "stream",
     "text": [
      "Feature Extraction: 100%|████████████████████████████████████████████████████████████████| 5/5 [00:51<00:00, 10.52s/it]\n"
     ]
    },
    {
     "name": "stdout",
     "output_type": "stream",
     "text": [
      "features:..\\Data\\Examples\\Panel_Example\\Climate\\2011_2015\\ppt_features\\extracted_features.csv\n",
      "       ppt__maximum     ppt__mean   ppt__median\n",
      "count  1.137669e+06  1.137669e+06  1.137669e+06\n",
      "mean  -6.317016e+03 -6.376843e+03 -6.383711e+03\n",
      "std    4.901381e+03  4.820616e+03  4.811441e+03\n",
      "min   -9.999000e+03 -9.999000e+03 -9.999000e+03\n",
      "25%   -9.999000e+03 -9.999000e+03 -9.999000e+03\n",
      "50%   -9.999000e+03 -9.999000e+03 -9.999000e+03\n",
      "75%    7.883900e+01  1.455392e+01  6.439800e+00\n",
      "max    1.559048e+03  2.847197e+02  2.021816e+02\n"
     ]
    }
   ],
   "source": [
    "for folder in folders:\n",
    "    if not os.listdir(folder):\n",
    "        print(\"Directory is empty\")\n",
    "    else:    \n",
    "        print(\"Directory is not empty\")\n",
    "        print(folder)\n",
    "        ts_features = calculateFeatures(folder,\n",
    "                                        parameters=fc_parameters,\n",
    "                                        reset_df=True,\n",
    "                                        tiff_output=False,\n",
    "                                        raster_mask =  r\"../Data/Examples/buffer/StatePoly_buf.tif\",\n",
    "                                        workers = 1)\n",
    "        print(ts_features.describe())\n",
    "        del ts_features"
   ]
  },
  {
   "cell_type": "markdown",
   "metadata": {},
   "source": [
    "### Organize data"
   ]
  },
  {
   "cell_type": "markdown",
   "metadata": {},
   "source": [
    "* Climate_feature_subset_train\n",
    "    * 2001_2005\n",
    "        * aet_features\n",
    "            * extracted_features.csv\n",
    "            * ...\n",
    "        * ppt_features\n",
    "            * extracted_features.csv\n",
    "            * ...        \n",
    "    * 2006_2010\n",
    "        * aet_features\n",
    "            * extracted_features.csv\n",
    "            * ...\n",
    "        * ppt_features\n",
    "            * extracted_features.csv\n",
    "            * ...  \n",
    "    * 2011_2015"
   ]
  },
  {
   "cell_type": "markdown",
   "metadata": {},
   "source": [
    "### append all features to one dataframe"
   ]
  },
  {
   "cell_type": "code",
   "execution_count": 2,
   "metadata": {},
   "outputs": [
    {
     "name": "stdout",
     "output_type": "stream",
     "text": [
      "Combining folder year names ['20062010', '20062010', '20112015', '20112015']\n"
     ]
    },
    {
     "name": "stderr",
     "output_type": "stream",
     "text": [
      "C:\\Users\\mmann\\AppData\\Local\\Continuum\\anaconda2\\envs\\ts-rasterv2\\lib\\site-packages\\numpy\\lib\\arraysetops.py:472: FutureWarning: elementwise comparison failed; returning scalar instead, but in the future will perform elementwise comparison\n",
      "  mask |= (ar1 == a)\n"
     ]
    }
   ],
   "source": [
    "\n",
    "path = r'../Data/Examples/Panel_Example/Climate/'\n",
    "\n",
    "concatenated_attribute_df = combine_extracted_features(path,write_out=False)\n"
   ]
  },
  {
   "cell_type": "code",
   "execution_count": 3,
   "metadata": {},
   "outputs": [
    {
     "data": {
      "text/html": [
       "<div>\n",
       "<style scoped>\n",
       "    .dataframe tbody tr th:only-of-type {\n",
       "        vertical-align: middle;\n",
       "    }\n",
       "\n",
       "    .dataframe tbody tr th {\n",
       "        vertical-align: top;\n",
       "    }\n",
       "\n",
       "    .dataframe thead th {\n",
       "        text-align: right;\n",
       "    }\n",
       "</style>\n",
       "<table border=\"1\" class=\"dataframe\">\n",
       "  <thead>\n",
       "    <tr style=\"text-align: right;\">\n",
       "      <th></th>\n",
       "      <th>cwd__maximum-20062010</th>\n",
       "      <th>cwd__mean-20062010</th>\n",
       "      <th>cwd__median-20062010</th>\n",
       "      <th>ppt__maximum-20062010</th>\n",
       "      <th>ppt__mean-20062010</th>\n",
       "      <th>ppt__median-20062010</th>\n",
       "      <th>cwd__maximum-20112015</th>\n",
       "      <th>cwd__mean-20112015</th>\n",
       "      <th>cwd__median-20112015</th>\n",
       "      <th>ppt__maximum-20112015</th>\n",
       "      <th>ppt__mean-20112015</th>\n",
       "      <th>ppt__median-20112015</th>\n",
       "    </tr>\n",
       "    <tr>\n",
       "      <th>pixel_id</th>\n",
       "      <th></th>\n",
       "      <th></th>\n",
       "      <th></th>\n",
       "      <th></th>\n",
       "      <th></th>\n",
       "      <th></th>\n",
       "      <th></th>\n",
       "      <th></th>\n",
       "      <th></th>\n",
       "      <th></th>\n",
       "      <th></th>\n",
       "      <th></th>\n",
       "    </tr>\n",
       "  </thead>\n",
       "  <tbody>\n",
       "    <tr>\n",
       "      <th>0</th>\n",
       "      <td>-9999.0</td>\n",
       "      <td>-9999.0</td>\n",
       "      <td>-9999.0</td>\n",
       "      <td>-9999.0</td>\n",
       "      <td>-9999.0</td>\n",
       "      <td>-9999.0</td>\n",
       "      <td>-9999.0</td>\n",
       "      <td>-9999.0</td>\n",
       "      <td>-9999.0</td>\n",
       "      <td>-9999.0</td>\n",
       "      <td>-9999.0</td>\n",
       "      <td>-9999.0</td>\n",
       "    </tr>\n",
       "    <tr>\n",
       "      <th>1</th>\n",
       "      <td>-9999.0</td>\n",
       "      <td>-9999.0</td>\n",
       "      <td>-9999.0</td>\n",
       "      <td>-9999.0</td>\n",
       "      <td>-9999.0</td>\n",
       "      <td>-9999.0</td>\n",
       "      <td>-9999.0</td>\n",
       "      <td>-9999.0</td>\n",
       "      <td>-9999.0</td>\n",
       "      <td>-9999.0</td>\n",
       "      <td>-9999.0</td>\n",
       "      <td>-9999.0</td>\n",
       "    </tr>\n",
       "    <tr>\n",
       "      <th>2</th>\n",
       "      <td>-9999.0</td>\n",
       "      <td>-9999.0</td>\n",
       "      <td>-9999.0</td>\n",
       "      <td>-9999.0</td>\n",
       "      <td>-9999.0</td>\n",
       "      <td>-9999.0</td>\n",
       "      <td>-9999.0</td>\n",
       "      <td>-9999.0</td>\n",
       "      <td>-9999.0</td>\n",
       "      <td>-9999.0</td>\n",
       "      <td>-9999.0</td>\n",
       "      <td>-9999.0</td>\n",
       "    </tr>\n",
       "    <tr>\n",
       "      <th>3</th>\n",
       "      <td>-9999.0</td>\n",
       "      <td>-9999.0</td>\n",
       "      <td>-9999.0</td>\n",
       "      <td>-9999.0</td>\n",
       "      <td>-9999.0</td>\n",
       "      <td>-9999.0</td>\n",
       "      <td>-9999.0</td>\n",
       "      <td>-9999.0</td>\n",
       "      <td>-9999.0</td>\n",
       "      <td>-9999.0</td>\n",
       "      <td>-9999.0</td>\n",
       "      <td>-9999.0</td>\n",
       "    </tr>\n",
       "    <tr>\n",
       "      <th>4</th>\n",
       "      <td>-9999.0</td>\n",
       "      <td>-9999.0</td>\n",
       "      <td>-9999.0</td>\n",
       "      <td>-9999.0</td>\n",
       "      <td>-9999.0</td>\n",
       "      <td>-9999.0</td>\n",
       "      <td>-9999.0</td>\n",
       "      <td>-9999.0</td>\n",
       "      <td>-9999.0</td>\n",
       "      <td>-9999.0</td>\n",
       "      <td>-9999.0</td>\n",
       "      <td>-9999.0</td>\n",
       "    </tr>\n",
       "  </tbody>\n",
       "</table>\n",
       "</div>"
      ],
      "text/plain": [
       "          cwd__maximum-20062010  cwd__mean-20062010  cwd__median-20062010  \\\n",
       "pixel_id                                                                    \n",
       "0                       -9999.0             -9999.0               -9999.0   \n",
       "1                       -9999.0             -9999.0               -9999.0   \n",
       "2                       -9999.0             -9999.0               -9999.0   \n",
       "3                       -9999.0             -9999.0               -9999.0   \n",
       "4                       -9999.0             -9999.0               -9999.0   \n",
       "\n",
       "          ppt__maximum-20062010  ppt__mean-20062010  ppt__median-20062010  \\\n",
       "pixel_id                                                                    \n",
       "0                       -9999.0             -9999.0               -9999.0   \n",
       "1                       -9999.0             -9999.0               -9999.0   \n",
       "2                       -9999.0             -9999.0               -9999.0   \n",
       "3                       -9999.0             -9999.0               -9999.0   \n",
       "4                       -9999.0             -9999.0               -9999.0   \n",
       "\n",
       "          cwd__maximum-20112015  cwd__mean-20112015  cwd__median-20112015  \\\n",
       "pixel_id                                                                    \n",
       "0                       -9999.0             -9999.0               -9999.0   \n",
       "1                       -9999.0             -9999.0               -9999.0   \n",
       "2                       -9999.0             -9999.0               -9999.0   \n",
       "3                       -9999.0             -9999.0               -9999.0   \n",
       "4                       -9999.0             -9999.0               -9999.0   \n",
       "\n",
       "          ppt__maximum-20112015  ppt__mean-20112015  ppt__median-20112015  \n",
       "pixel_id                                                                   \n",
       "0                       -9999.0             -9999.0               -9999.0  \n",
       "1                       -9999.0             -9999.0               -9999.0  \n",
       "2                       -9999.0             -9999.0               -9999.0  \n",
       "3                       -9999.0             -9999.0               -9999.0  \n",
       "4                       -9999.0             -9999.0               -9999.0  "
      ]
     },
     "execution_count": 3,
     "metadata": {},
     "output_type": "execute_result"
    }
   ],
   "source": [
    "concatenated_attribute_df.head()"
   ]
  },
  {
   "cell_type": "markdown",
   "metadata": {},
   "source": [
    "collect multitple years of Y (target) data"
   ]
  },
  {
   "cell_type": "code",
   "execution_count": 4,
   "metadata": {},
   "outputs": [],
   "source": [
    "path = r\"../Data/Examples/Panel_Example/Fire/\"\n",
    "target_file_prefix = 'fire_'\n",
    "\n",
    "concatenated_target_df = combine_target_rasters(path,\n",
    "                                                target_file_prefix,\n",
    "                                                write_out=False)"
   ]
  },
  {
   "cell_type": "code",
   "execution_count": 5,
   "metadata": {},
   "outputs": [
    {
     "data": {
      "text/html": [
       "<div>\n",
       "<style scoped>\n",
       "    .dataframe tbody tr th:only-of-type {\n",
       "        vertical-align: middle;\n",
       "    }\n",
       "\n",
       "    .dataframe tbody tr th {\n",
       "        vertical-align: top;\n",
       "    }\n",
       "\n",
       "    .dataframe thead th {\n",
       "        text-align: right;\n",
       "    }\n",
       "</style>\n",
       "<table border=\"1\" class=\"dataframe\">\n",
       "  <thead>\n",
       "    <tr style=\"text-align: right;\">\n",
       "      <th></th>\n",
       "      <th>Y-20062010</th>\n",
       "      <th>Y-20112015</th>\n",
       "    </tr>\n",
       "    <tr>\n",
       "      <th>pixel_id</th>\n",
       "      <th></th>\n",
       "      <th></th>\n",
       "    </tr>\n",
       "  </thead>\n",
       "  <tbody>\n",
       "    <tr>\n",
       "      <th>0</th>\n",
       "      <td>0</td>\n",
       "      <td>0</td>\n",
       "    </tr>\n",
       "    <tr>\n",
       "      <th>1</th>\n",
       "      <td>0</td>\n",
       "      <td>0</td>\n",
       "    </tr>\n",
       "    <tr>\n",
       "      <th>2</th>\n",
       "      <td>0</td>\n",
       "      <td>0</td>\n",
       "    </tr>\n",
       "    <tr>\n",
       "      <th>3</th>\n",
       "      <td>0</td>\n",
       "      <td>0</td>\n",
       "    </tr>\n",
       "    <tr>\n",
       "      <th>4</th>\n",
       "      <td>0</td>\n",
       "      <td>0</td>\n",
       "    </tr>\n",
       "  </tbody>\n",
       "</table>\n",
       "</div>"
      ],
      "text/plain": [
       "          Y-20062010  Y-20112015\n",
       "pixel_id                        \n",
       "0                  0           0\n",
       "1                  0           0\n",
       "2                  0           0\n",
       "3                  0           0\n",
       "4                  0           0"
      ]
     },
     "execution_count": 5,
     "metadata": {},
     "output_type": "execute_result"
    }
   ],
   "source": [
    "concatenated_target_df.head()"
   ]
  },
  {
   "cell_type": "markdown",
   "metadata": {},
   "source": [
    "mask both the attribute data and targets "
   ]
  },
  {
   "cell_type": "code",
   "execution_count": 7,
   "metadata": {},
   "outputs": [],
   "source": [
    "raster_mask =u\"../Data/Examples/buffer/StatePoly_buf.tif\"\n",
    "original_df = [concatenated_attribute_df, concatenated_target_df]\n",
    "\n",
    "mask_attributes_df, mask_target_df = tr.mask_df(raster_mask, \n",
    "                                                original_df,  \n",
    "                                                missing_value=-9999,\n",
    "                                                reset_index = False)"
   ]
  },
  {
   "cell_type": "code",
   "execution_count": 8,
   "metadata": {},
   "outputs": [
    {
     "data": {
      "text/html": [
       "<div>\n",
       "<style scoped>\n",
       "    .dataframe tbody tr th:only-of-type {\n",
       "        vertical-align: middle;\n",
       "    }\n",
       "\n",
       "    .dataframe tbody tr th {\n",
       "        vertical-align: top;\n",
       "    }\n",
       "\n",
       "    .dataframe thead th {\n",
       "        text-align: right;\n",
       "    }\n",
       "</style>\n",
       "<table border=\"1\" class=\"dataframe\">\n",
       "  <thead>\n",
       "    <tr style=\"text-align: right;\">\n",
       "      <th></th>\n",
       "      <th>cwd__maximum-20062010</th>\n",
       "      <th>cwd__mean-20062010</th>\n",
       "      <th>cwd__median-20062010</th>\n",
       "      <th>ppt__maximum-20062010</th>\n",
       "      <th>ppt__mean-20062010</th>\n",
       "      <th>ppt__median-20062010</th>\n",
       "      <th>cwd__maximum-20112015</th>\n",
       "      <th>cwd__mean-20112015</th>\n",
       "      <th>cwd__median-20112015</th>\n",
       "      <th>ppt__maximum-20112015</th>\n",
       "      <th>ppt__mean-20112015</th>\n",
       "      <th>ppt__median-20112015</th>\n",
       "    </tr>\n",
       "    <tr>\n",
       "      <th>pixel_id</th>\n",
       "      <th></th>\n",
       "      <th></th>\n",
       "      <th></th>\n",
       "      <th></th>\n",
       "      <th></th>\n",
       "      <th></th>\n",
       "      <th></th>\n",
       "      <th></th>\n",
       "      <th></th>\n",
       "      <th></th>\n",
       "      <th></th>\n",
       "      <th></th>\n",
       "    </tr>\n",
       "  </thead>\n",
       "  <tbody>\n",
       "    <tr>\n",
       "      <th>134588</th>\n",
       "      <td>95.193573</td>\n",
       "      <td>10.808438</td>\n",
       "      <td>0.0</td>\n",
       "      <td>535.173157</td>\n",
       "      <td>154.437119</td>\n",
       "      <td>116.529739</td>\n",
       "      <td>84.842857</td>\n",
       "      <td>16.329674</td>\n",
       "      <td>0.0000</td>\n",
       "      <td>565.594971</td>\n",
       "      <td>150.687866</td>\n",
       "      <td>108.165001</td>\n",
       "    </tr>\n",
       "    <tr>\n",
       "      <th>134589</th>\n",
       "      <td>114.003502</td>\n",
       "      <td>20.163677</td>\n",
       "      <td>0.0</td>\n",
       "      <td>552.677979</td>\n",
       "      <td>161.583511</td>\n",
       "      <td>122.655746</td>\n",
       "      <td>95.689499</td>\n",
       "      <td>25.205521</td>\n",
       "      <td>0.0000</td>\n",
       "      <td>589.078491</td>\n",
       "      <td>156.253983</td>\n",
       "      <td>111.509003</td>\n",
       "    </tr>\n",
       "    <tr>\n",
       "      <th>134590</th>\n",
       "      <td>157.690506</td>\n",
       "      <td>24.496553</td>\n",
       "      <td>0.0</td>\n",
       "      <td>564.724487</td>\n",
       "      <td>166.094742</td>\n",
       "      <td>126.713501</td>\n",
       "      <td>132.104996</td>\n",
       "      <td>26.933245</td>\n",
       "      <td>0.0000</td>\n",
       "      <td>578.199524</td>\n",
       "      <td>152.994583</td>\n",
       "      <td>109.597748</td>\n",
       "    </tr>\n",
       "    <tr>\n",
       "      <th>134591</th>\n",
       "      <td>160.140396</td>\n",
       "      <td>25.144434</td>\n",
       "      <td>0.0</td>\n",
       "      <td>580.050781</td>\n",
       "      <td>172.390976</td>\n",
       "      <td>132.294403</td>\n",
       "      <td>135.035995</td>\n",
       "      <td>26.979912</td>\n",
       "      <td>0.0000</td>\n",
       "      <td>588.890015</td>\n",
       "      <td>155.064163</td>\n",
       "      <td>109.506195</td>\n",
       "    </tr>\n",
       "    <tr>\n",
       "      <th>134592</th>\n",
       "      <td>162.972397</td>\n",
       "      <td>26.338125</td>\n",
       "      <td>0.0</td>\n",
       "      <td>600.773621</td>\n",
       "      <td>179.457764</td>\n",
       "      <td>138.405792</td>\n",
       "      <td>138.880005</td>\n",
       "      <td>27.230467</td>\n",
       "      <td>0.2344</td>\n",
       "      <td>631.367188</td>\n",
       "      <td>165.473877</td>\n",
       "      <td>115.161003</td>\n",
       "    </tr>\n",
       "  </tbody>\n",
       "</table>\n",
       "</div>"
      ],
      "text/plain": [
       "          cwd__maximum-20062010  cwd__mean-20062010  cwd__median-20062010  \\\n",
       "pixel_id                                                                    \n",
       "134588                95.193573           10.808438                   0.0   \n",
       "134589               114.003502           20.163677                   0.0   \n",
       "134590               157.690506           24.496553                   0.0   \n",
       "134591               160.140396           25.144434                   0.0   \n",
       "134592               162.972397           26.338125                   0.0   \n",
       "\n",
       "          ppt__maximum-20062010  ppt__mean-20062010  ppt__median-20062010  \\\n",
       "pixel_id                                                                    \n",
       "134588               535.173157          154.437119            116.529739   \n",
       "134589               552.677979          161.583511            122.655746   \n",
       "134590               564.724487          166.094742            126.713501   \n",
       "134591               580.050781          172.390976            132.294403   \n",
       "134592               600.773621          179.457764            138.405792   \n",
       "\n",
       "          cwd__maximum-20112015  cwd__mean-20112015  cwd__median-20112015  \\\n",
       "pixel_id                                                                    \n",
       "134588                84.842857           16.329674                0.0000   \n",
       "134589                95.689499           25.205521                0.0000   \n",
       "134590               132.104996           26.933245                0.0000   \n",
       "134591               135.035995           26.979912                0.0000   \n",
       "134592               138.880005           27.230467                0.2344   \n",
       "\n",
       "          ppt__maximum-20112015  ppt__mean-20112015  ppt__median-20112015  \n",
       "pixel_id                                                                   \n",
       "134588               565.594971          150.687866            108.165001  \n",
       "134589               589.078491          156.253983            111.509003  \n",
       "134590               578.199524          152.994583            109.597748  \n",
       "134591               588.890015          155.064163            109.506195  \n",
       "134592               631.367188          165.473877            115.161003  "
      ]
     },
     "execution_count": 8,
     "metadata": {},
     "output_type": "execute_result"
    }
   ],
   "source": [
    "mask_attributes_df.head()"
   ]
  },
  {
   "cell_type": "code",
   "execution_count": 9,
   "metadata": {},
   "outputs": [
    {
     "data": {
      "text/html": [
       "<div>\n",
       "<style scoped>\n",
       "    .dataframe tbody tr th:only-of-type {\n",
       "        vertical-align: middle;\n",
       "    }\n",
       "\n",
       "    .dataframe tbody tr th {\n",
       "        vertical-align: top;\n",
       "    }\n",
       "\n",
       "    .dataframe thead th {\n",
       "        text-align: right;\n",
       "    }\n",
       "</style>\n",
       "<table border=\"1\" class=\"dataframe\">\n",
       "  <thead>\n",
       "    <tr style=\"text-align: right;\">\n",
       "      <th></th>\n",
       "      <th>Y-20062010</th>\n",
       "      <th>Y-20112015</th>\n",
       "    </tr>\n",
       "    <tr>\n",
       "      <th>pixel_id</th>\n",
       "      <th></th>\n",
       "      <th></th>\n",
       "    </tr>\n",
       "  </thead>\n",
       "  <tbody>\n",
       "    <tr>\n",
       "      <th>134588</th>\n",
       "      <td>0</td>\n",
       "      <td>0</td>\n",
       "    </tr>\n",
       "    <tr>\n",
       "      <th>134589</th>\n",
       "      <td>0</td>\n",
       "      <td>0</td>\n",
       "    </tr>\n",
       "    <tr>\n",
       "      <th>134590</th>\n",
       "      <td>0</td>\n",
       "      <td>0</td>\n",
       "    </tr>\n",
       "    <tr>\n",
       "      <th>134591</th>\n",
       "      <td>0</td>\n",
       "      <td>0</td>\n",
       "    </tr>\n",
       "    <tr>\n",
       "      <th>134592</th>\n",
       "      <td>0</td>\n",
       "      <td>0</td>\n",
       "    </tr>\n",
       "  </tbody>\n",
       "</table>\n",
       "</div>"
      ],
      "text/plain": [
       "          Y-20062010  Y-20112015\n",
       "pixel_id                        \n",
       "134588             0           0\n",
       "134589             0           0\n",
       "134590             0           0\n",
       "134591             0           0\n",
       "134592             0           0"
      ]
     },
     "execution_count": 9,
     "metadata": {},
     "output_type": "execute_result"
    }
   ],
   "source": [
    "mask_target_df.head()"
   ]
  },
  {
   "cell_type": "markdown",
   "metadata": {},
   "source": [
    "switch panel data from wide to long format"
   ]
  },
  {
   "cell_type": "code",
   "execution_count": 10,
   "metadata": {},
   "outputs": [
    {
     "name": "stdout",
     "output_type": "stream",
     "text": [
      "converted to long, indexes match\n"
     ]
    }
   ],
   "source": [
    "target_ln, features_ln = wide_to_long_target_features(target = mask_target_df,\n",
    "                                                      features = mask_attributes_df,\n",
    "                                                      sep='-')"
   ]
  },
  {
   "cell_type": "markdown",
   "metadata": {},
   "source": [
    "Show size and repeated obs by pixel cell"
   ]
  },
  {
   "cell_type": "code",
   "execution_count": 14,
   "metadata": {},
   "outputs": [
    {
     "data": {
      "text/html": [
       "<div>\n",
       "<style scoped>\n",
       "    .dataframe tbody tr th:only-of-type {\n",
       "        vertical-align: middle;\n",
       "    }\n",
       "\n",
       "    .dataframe tbody tr th {\n",
       "        vertical-align: top;\n",
       "    }\n",
       "\n",
       "    .dataframe thead th {\n",
       "        text-align: right;\n",
       "    }\n",
       "</style>\n",
       "<table border=\"1\" class=\"dataframe\">\n",
       "  <thead>\n",
       "    <tr style=\"text-align: right;\">\n",
       "      <th></th>\n",
       "      <th></th>\n",
       "      <th>ppt__median</th>\n",
       "      <th>cwd__median</th>\n",
       "      <th>ppt__mean</th>\n",
       "      <th>ppt__maximum</th>\n",
       "      <th>cwd__mean</th>\n",
       "      <th>cwd__maximum</th>\n",
       "    </tr>\n",
       "    <tr>\n",
       "      <th>pixel_id</th>\n",
       "      <th>time</th>\n",
       "      <th></th>\n",
       "      <th></th>\n",
       "      <th></th>\n",
       "      <th></th>\n",
       "      <th></th>\n",
       "      <th></th>\n",
       "    </tr>\n",
       "  </thead>\n",
       "  <tbody>\n",
       "    <tr>\n",
       "      <th rowspan=\"2\" valign=\"top\">134588</th>\n",
       "      <th>20062010</th>\n",
       "      <td>116.529739</td>\n",
       "      <td>0.0000</td>\n",
       "      <td>154.437119</td>\n",
       "      <td>535.173157</td>\n",
       "      <td>10.808438</td>\n",
       "      <td>95.193573</td>\n",
       "    </tr>\n",
       "    <tr>\n",
       "      <th>20112015</th>\n",
       "      <td>108.165001</td>\n",
       "      <td>0.0000</td>\n",
       "      <td>150.687866</td>\n",
       "      <td>565.594971</td>\n",
       "      <td>16.329674</td>\n",
       "      <td>84.842857</td>\n",
       "    </tr>\n",
       "    <tr>\n",
       "      <th rowspan=\"2\" valign=\"top\">134589</th>\n",
       "      <th>20062010</th>\n",
       "      <td>122.655746</td>\n",
       "      <td>0.0000</td>\n",
       "      <td>161.583511</td>\n",
       "      <td>552.677979</td>\n",
       "      <td>20.163677</td>\n",
       "      <td>114.003502</td>\n",
       "    </tr>\n",
       "    <tr>\n",
       "      <th>20112015</th>\n",
       "      <td>111.509003</td>\n",
       "      <td>0.0000</td>\n",
       "      <td>156.253983</td>\n",
       "      <td>589.078491</td>\n",
       "      <td>25.205521</td>\n",
       "      <td>95.689499</td>\n",
       "    </tr>\n",
       "    <tr>\n",
       "      <th rowspan=\"2\" valign=\"top\">134590</th>\n",
       "      <th>20062010</th>\n",
       "      <td>126.713501</td>\n",
       "      <td>0.0000</td>\n",
       "      <td>166.094742</td>\n",
       "      <td>564.724487</td>\n",
       "      <td>24.496553</td>\n",
       "      <td>157.690506</td>\n",
       "    </tr>\n",
       "    <tr>\n",
       "      <th>20112015</th>\n",
       "      <td>109.597748</td>\n",
       "      <td>0.0000</td>\n",
       "      <td>152.994583</td>\n",
       "      <td>578.199524</td>\n",
       "      <td>26.933245</td>\n",
       "      <td>132.104996</td>\n",
       "    </tr>\n",
       "    <tr>\n",
       "      <th rowspan=\"2\" valign=\"top\">134591</th>\n",
       "      <th>20062010</th>\n",
       "      <td>132.294403</td>\n",
       "      <td>0.0000</td>\n",
       "      <td>172.390976</td>\n",
       "      <td>580.050781</td>\n",
       "      <td>25.144434</td>\n",
       "      <td>160.140396</td>\n",
       "    </tr>\n",
       "    <tr>\n",
       "      <th>20112015</th>\n",
       "      <td>109.506195</td>\n",
       "      <td>0.0000</td>\n",
       "      <td>155.064163</td>\n",
       "      <td>588.890015</td>\n",
       "      <td>26.979912</td>\n",
       "      <td>135.035995</td>\n",
       "    </tr>\n",
       "    <tr>\n",
       "      <th rowspan=\"2\" valign=\"top\">134592</th>\n",
       "      <th>20062010</th>\n",
       "      <td>138.405792</td>\n",
       "      <td>0.0000</td>\n",
       "      <td>179.457764</td>\n",
       "      <td>600.773621</td>\n",
       "      <td>26.338125</td>\n",
       "      <td>162.972397</td>\n",
       "    </tr>\n",
       "    <tr>\n",
       "      <th>20112015</th>\n",
       "      <td>115.161003</td>\n",
       "      <td>0.2344</td>\n",
       "      <td>165.473877</td>\n",
       "      <td>631.367188</td>\n",
       "      <td>27.230467</td>\n",
       "      <td>138.880005</td>\n",
       "    </tr>\n",
       "  </tbody>\n",
       "</table>\n",
       "</div>"
      ],
      "text/plain": [
       "                   ppt__median  cwd__median   ppt__mean  ppt__maximum  \\\n",
       "pixel_id time                                                           \n",
       "134588   20062010   116.529739       0.0000  154.437119    535.173157   \n",
       "         20112015   108.165001       0.0000  150.687866    565.594971   \n",
       "134589   20062010   122.655746       0.0000  161.583511    552.677979   \n",
       "         20112015   111.509003       0.0000  156.253983    589.078491   \n",
       "134590   20062010   126.713501       0.0000  166.094742    564.724487   \n",
       "         20112015   109.597748       0.0000  152.994583    578.199524   \n",
       "134591   20062010   132.294403       0.0000  172.390976    580.050781   \n",
       "         20112015   109.506195       0.0000  155.064163    588.890015   \n",
       "134592   20062010   138.405792       0.0000  179.457764    600.773621   \n",
       "         20112015   115.161003       0.2344  165.473877    631.367188   \n",
       "\n",
       "                   cwd__mean  cwd__maximum  \n",
       "pixel_id time                               \n",
       "134588   20062010  10.808438     95.193573  \n",
       "         20112015  16.329674     84.842857  \n",
       "134589   20062010  20.163677    114.003502  \n",
       "         20112015  25.205521     95.689499  \n",
       "134590   20062010  24.496553    157.690506  \n",
       "         20112015  26.933245    132.104996  \n",
       "134591   20062010  25.144434    160.140396  \n",
       "         20112015  26.979912    135.035995  \n",
       "134592   20062010  26.338125    162.972397  \n",
       "         20112015  27.230467    138.880005  "
      ]
     },
     "execution_count": 14,
     "metadata": {},
     "output_type": "execute_result"
    }
   ],
   "source": [
    "features_ln.sort_index().head(10)"
   ]
  },
  {
   "cell_type": "code",
   "execution_count": 15,
   "metadata": {},
   "outputs": [
    {
     "data": {
      "text/html": [
       "<div>\n",
       "<style scoped>\n",
       "    .dataframe tbody tr th:only-of-type {\n",
       "        vertical-align: middle;\n",
       "    }\n",
       "\n",
       "    .dataframe tbody tr th {\n",
       "        vertical-align: top;\n",
       "    }\n",
       "\n",
       "    .dataframe thead th {\n",
       "        text-align: right;\n",
       "    }\n",
       "</style>\n",
       "<table border=\"1\" class=\"dataframe\">\n",
       "  <thead>\n",
       "    <tr style=\"text-align: right;\">\n",
       "      <th></th>\n",
       "      <th></th>\n",
       "      <th>Y</th>\n",
       "    </tr>\n",
       "    <tr>\n",
       "      <th>pixel_id</th>\n",
       "      <th>time</th>\n",
       "      <th></th>\n",
       "    </tr>\n",
       "  </thead>\n",
       "  <tbody>\n",
       "    <tr>\n",
       "      <th rowspan=\"2\" valign=\"top\">134588</th>\n",
       "      <th>20062010</th>\n",
       "      <td>0</td>\n",
       "    </tr>\n",
       "    <tr>\n",
       "      <th>20112015</th>\n",
       "      <td>0</td>\n",
       "    </tr>\n",
       "    <tr>\n",
       "      <th rowspan=\"2\" valign=\"top\">134589</th>\n",
       "      <th>20062010</th>\n",
       "      <td>0</td>\n",
       "    </tr>\n",
       "    <tr>\n",
       "      <th>20112015</th>\n",
       "      <td>0</td>\n",
       "    </tr>\n",
       "    <tr>\n",
       "      <th rowspan=\"2\" valign=\"top\">134590</th>\n",
       "      <th>20062010</th>\n",
       "      <td>0</td>\n",
       "    </tr>\n",
       "    <tr>\n",
       "      <th>20112015</th>\n",
       "      <td>0</td>\n",
       "    </tr>\n",
       "    <tr>\n",
       "      <th rowspan=\"2\" valign=\"top\">134591</th>\n",
       "      <th>20062010</th>\n",
       "      <td>0</td>\n",
       "    </tr>\n",
       "    <tr>\n",
       "      <th>20112015</th>\n",
       "      <td>0</td>\n",
       "    </tr>\n",
       "    <tr>\n",
       "      <th rowspan=\"2\" valign=\"top\">134592</th>\n",
       "      <th>20062010</th>\n",
       "      <td>0</td>\n",
       "    </tr>\n",
       "    <tr>\n",
       "      <th>20112015</th>\n",
       "      <td>0</td>\n",
       "    </tr>\n",
       "  </tbody>\n",
       "</table>\n",
       "</div>"
      ],
      "text/plain": [
       "                   Y\n",
       "pixel_id time       \n",
       "134588   20062010  0\n",
       "         20112015  0\n",
       "134589   20062010  0\n",
       "         20112015  0\n",
       "134590   20062010  0\n",
       "         20112015  0\n",
       "134591   20062010  0\n",
       "         20112015  0\n",
       "134592   20062010  0\n",
       "         20112015  0"
      ]
     },
     "execution_count": 15,
     "metadata": {},
     "output_type": "execute_result"
    }
   ],
   "source": [
    "target_ln.sort_index().head(10)"
   ]
  },
  {
   "cell_type": "markdown",
   "metadata": {},
   "source": [
    "### add temporal lagged variables "
   ]
  },
  {
   "cell_type": "code",
   "execution_count": 18,
   "metadata": {},
   "outputs": [],
   "source": [
    "\n",
    "lag_vars = ['ppt__median',\n",
    " 'cwd__mean',\n",
    " 'cwd__mean']    \n",
    "\n",
    "\n",
    "features_ln = panel_lag_1(features_ln, \n",
    "                          col_names=lag_vars, \n",
    "                          group_by_index ='pixel_id')\n"
   ]
  },
  {
   "cell_type": "markdown",
   "metadata": {},
   "source": [
    "adding a temporal lag implies that one time period will be lost"
   ]
  },
  {
   "cell_type": "code",
   "execution_count": 19,
   "metadata": {},
   "outputs": [
    {
     "data": {
      "text/html": [
       "<div>\n",
       "<style scoped>\n",
       "    .dataframe tbody tr th:only-of-type {\n",
       "        vertical-align: middle;\n",
       "    }\n",
       "\n",
       "    .dataframe tbody tr th {\n",
       "        vertical-align: top;\n",
       "    }\n",
       "\n",
       "    .dataframe thead th {\n",
       "        text-align: right;\n",
       "    }\n",
       "</style>\n",
       "<table border=\"1\" class=\"dataframe\">\n",
       "  <thead>\n",
       "    <tr style=\"text-align: right;\">\n",
       "      <th></th>\n",
       "      <th></th>\n",
       "      <th>ppt__median</th>\n",
       "      <th>cwd__median</th>\n",
       "      <th>ppt__mean</th>\n",
       "      <th>ppt__maximum</th>\n",
       "      <th>cwd__mean</th>\n",
       "      <th>cwd__maximum</th>\n",
       "      <th>ppt__median_1</th>\n",
       "      <th>cwd__mean_1</th>\n",
       "      <th>cwd__mean_1</th>\n",
       "    </tr>\n",
       "    <tr>\n",
       "      <th>pixel_id</th>\n",
       "      <th>time</th>\n",
       "      <th></th>\n",
       "      <th></th>\n",
       "      <th></th>\n",
       "      <th></th>\n",
       "      <th></th>\n",
       "      <th></th>\n",
       "      <th></th>\n",
       "      <th></th>\n",
       "      <th></th>\n",
       "    </tr>\n",
       "  </thead>\n",
       "  <tbody>\n",
       "    <tr>\n",
       "      <th>134588</th>\n",
       "      <th>20112015</th>\n",
       "      <td>108.165001</td>\n",
       "      <td>0.0000</td>\n",
       "      <td>150.687866</td>\n",
       "      <td>565.594971</td>\n",
       "      <td>16.329674</td>\n",
       "      <td>84.842857</td>\n",
       "      <td>116.529739</td>\n",
       "      <td>10.808438</td>\n",
       "      <td>10.808438</td>\n",
       "    </tr>\n",
       "    <tr>\n",
       "      <th>134589</th>\n",
       "      <th>20112015</th>\n",
       "      <td>111.509003</td>\n",
       "      <td>0.0000</td>\n",
       "      <td>156.253983</td>\n",
       "      <td>589.078491</td>\n",
       "      <td>25.205521</td>\n",
       "      <td>95.689499</td>\n",
       "      <td>122.655746</td>\n",
       "      <td>20.163677</td>\n",
       "      <td>20.163677</td>\n",
       "    </tr>\n",
       "    <tr>\n",
       "      <th>134590</th>\n",
       "      <th>20112015</th>\n",
       "      <td>109.597748</td>\n",
       "      <td>0.0000</td>\n",
       "      <td>152.994583</td>\n",
       "      <td>578.199524</td>\n",
       "      <td>26.933245</td>\n",
       "      <td>132.104996</td>\n",
       "      <td>126.713501</td>\n",
       "      <td>24.496553</td>\n",
       "      <td>24.496553</td>\n",
       "    </tr>\n",
       "    <tr>\n",
       "      <th>134591</th>\n",
       "      <th>20112015</th>\n",
       "      <td>109.506195</td>\n",
       "      <td>0.0000</td>\n",
       "      <td>155.064163</td>\n",
       "      <td>588.890015</td>\n",
       "      <td>26.979912</td>\n",
       "      <td>135.035995</td>\n",
       "      <td>132.294403</td>\n",
       "      <td>25.144434</td>\n",
       "      <td>25.144434</td>\n",
       "    </tr>\n",
       "    <tr>\n",
       "      <th>134592</th>\n",
       "      <th>20112015</th>\n",
       "      <td>115.161003</td>\n",
       "      <td>0.2344</td>\n",
       "      <td>165.473877</td>\n",
       "      <td>631.367188</td>\n",
       "      <td>27.230467</td>\n",
       "      <td>138.880005</td>\n",
       "      <td>138.405792</td>\n",
       "      <td>26.338125</td>\n",
       "      <td>26.338125</td>\n",
       "    </tr>\n",
       "  </tbody>\n",
       "</table>\n",
       "</div>"
      ],
      "text/plain": [
       "                   ppt__median  cwd__median   ppt__mean  ppt__maximum  \\\n",
       "pixel_id time                                                           \n",
       "134588   20112015   108.165001       0.0000  150.687866    565.594971   \n",
       "134589   20112015   111.509003       0.0000  156.253983    589.078491   \n",
       "134590   20112015   109.597748       0.0000  152.994583    578.199524   \n",
       "134591   20112015   109.506195       0.0000  155.064163    588.890015   \n",
       "134592   20112015   115.161003       0.2344  165.473877    631.367188   \n",
       "\n",
       "                   cwd__mean  cwd__maximum  ppt__median_1  cwd__mean_1  \\\n",
       "pixel_id time                                                            \n",
       "134588   20112015  16.329674     84.842857     116.529739    10.808438   \n",
       "134589   20112015  25.205521     95.689499     122.655746    20.163677   \n",
       "134590   20112015  26.933245    132.104996     126.713501    24.496553   \n",
       "134591   20112015  26.979912    135.035995     132.294403    25.144434   \n",
       "134592   20112015  27.230467    138.880005     138.405792    26.338125   \n",
       "\n",
       "                   cwd__mean_1  \n",
       "pixel_id time                   \n",
       "134588   20112015    10.808438  \n",
       "134589   20112015    20.163677  \n",
       "134590   20112015    24.496553  \n",
       "134591   20112015    25.144434  \n",
       "134592   20112015    26.338125  "
      ]
     },
     "execution_count": 19,
     "metadata": {},
     "output_type": "execute_result"
    }
   ],
   "source": [
    "features_ln.head()"
   ]
  },
  {
   "cell_type": "markdown",
   "metadata": {},
   "source": [
    "join and test train split yX data, define groups of independent objects by pixel id"
   ]
  },
  {
   "cell_type": "markdown",
   "metadata": {},
   "source": [
    "although not case here, you will typically have multiple observations from a single pixel, therefore it is important to group by pixel_id index, this ensures that each pixel is only included in either the training or testing data"
   ]
  },
  {
   "cell_type": "code",
   "execution_count": 21,
   "metadata": {},
   "outputs": [
    {
     "name": "stdout",
     "output_type": "stream",
     "text": [
      "input should be csv or pandas dataframe with yX, or [y,X]\n",
      "reading in list concat on common index\n",
      "need to figure out groups with stratification by y\n"
     ]
    }
   ],
   "source": [
    "obj = [target_ln,features_ln]\n",
    "\n",
    "X_train, X_test, y_train, y_test = md.get_data(obj,\n",
    "                                            stratify=True,\n",
    "                                            test_size=0.9,\n",
    "                                            scale=False,\n",
    "                                            groups =  features_ln.index.get_level_values('pixel_id') )"
   ]
  },
  {
   "cell_type": "raw",
   "metadata": {},
   "source": []
  },
  {
   "cell_type": "markdown",
   "metadata": {},
   "source": [
    "### Filter variables and train model"
   ]
  },
  {
   "cell_type": "markdown",
   "metadata": {},
   "source": [
    "Find relevant variables and combine Y and X data"
   ]
  },
  {
   "cell_type": "code",
   "execution_count": 28,
   "metadata": {},
   "outputs": [
    {
     "ename": "ValueError",
     "evalue": "Buffer dtype mismatch, expected 'Python object' but got 'long long'",
     "output_type": "error",
     "traceback": [
      "\u001b[1;31m---------------------------------------------------------------------------\u001b[0m",
      "\u001b[1;31mRemoteTraceback\u001b[0m                           Traceback (most recent call last)",
      "\u001b[1;31mRemoteTraceback\u001b[0m: \n\"\"\"\nTraceback (most recent call last):\n  File \"C:\\Users\\mmann\\AppData\\Local\\Continuum\\anaconda2\\envs\\ts-rasterv2\\lib\\multiprocessing\\pool.py\", line 119, in worker\n    result = (True, func(*args, **kwds))\n  File \"C:\\Users\\mmann\\AppData\\Local\\Continuum\\anaconda2\\envs\\ts-rasterv2\\lib\\multiprocessing\\pool.py\", line 44, in mapstar\n    return list(map(*args))\n  File \"C:\\Users\\mmann\\AppData\\Local\\Continuum\\anaconda2\\envs\\ts-rasterv2\\lib\\site-packages\\tsfresh\\feature_selection\\significance_tests.py\", line 117, in target_binary_feature_real_test\n    x_y1 = x[y == y1]\n  File \"C:\\Users\\mmann\\AppData\\Local\\Continuum\\anaconda2\\envs\\ts-rasterv2\\lib\\site-packages\\pandas\\core\\series.py\", line 662, in __getitem__\n    key = check_bool_indexer(self.index, key)\n  File \"C:\\Users\\mmann\\AppData\\Local\\Continuum\\anaconda2\\envs\\ts-rasterv2\\lib\\site-packages\\pandas\\core\\indexing.py\", line 2020, in check_bool_indexer\n    result = result.reindex(ax)\n  File \"C:\\Users\\mmann\\AppData\\Local\\Continuum\\anaconda2\\envs\\ts-rasterv2\\lib\\site-packages\\pandas\\core\\series.py\", line 2681, in reindex\n    return super(Series, self).reindex(index=index, **kwargs)\n  File \"C:\\Users\\mmann\\AppData\\Local\\Continuum\\anaconda2\\envs\\ts-rasterv2\\lib\\site-packages\\pandas\\core\\generic.py\", line 3023, in reindex\n    fill_value, copy).__finalize__(self)\n  File \"C:\\Users\\mmann\\AppData\\Local\\Continuum\\anaconda2\\envs\\ts-rasterv2\\lib\\site-packages\\pandas\\core\\generic.py\", line 3036, in _reindex_axes\n    tolerance=tolerance, method=method)\n  File \"C:\\Users\\mmann\\AppData\\Local\\Continuum\\anaconda2\\envs\\ts-rasterv2\\lib\\site-packages\\pandas\\core\\indexes\\multi.py\", line 1912, in reindex\n    target = MultiIndex.from_tuples(target)\n  File \"C:\\Users\\mmann\\AppData\\Local\\Continuum\\anaconda2\\envs\\ts-rasterv2\\lib\\site-packages\\pandas\\core\\indexes\\multi.py\", line 1195, in from_tuples\n    arrays = list(lib.tuples_to_object_array(tuples).T)\n  File \"pandas/_libs/src\\inference.pyx\", line 1581, in pandas._libs.lib.tuples_to_object_array\nValueError: Buffer dtype mismatch, expected 'Python object' but got 'long long'\n\"\"\"",
      "\nThe above exception was the direct cause of the following exception:\n",
      "\u001b[1;31mValueError\u001b[0m                                Traceback (most recent call last)",
      "\u001b[1;32m<ipython-input-28-ab9b4b6faac2>\u001b[0m in \u001b[0;36m<module>\u001b[1;34m\u001b[0m\n\u001b[0;32m      1\u001b[0m relevant_vars, X_train_relevant = checkRelevance2(x=X_train,\n\u001b[0;32m      2\u001b[0m                                                   \u001b[0my\u001b[0m\u001b[1;33m=\u001b[0m\u001b[0my_train\u001b[0m\u001b[1;33m,\u001b[0m\u001b[1;33m\u001b[0m\u001b[1;33m\u001b[0m\u001b[0m\n\u001b[1;32m----> 3\u001b[1;33m                                                   fdr_level=0.01) \n\u001b[0m\u001b[0;32m      4\u001b[0m \u001b[0mprint\u001b[0m\u001b[1;33m(\u001b[0m\u001b[0mrelevant_vars\u001b[0m\u001b[1;33m)\u001b[0m\u001b[1;33m\u001b[0m\u001b[1;33m\u001b[0m\u001b[0m\n\u001b[0;32m      5\u001b[0m \u001b[1;33m\u001b[0m\u001b[0m\n",
      "\u001b[1;32m~\\AppData\\Local\\Continuum\\anaconda2\\envs\\ts-rasterv2\\lib\\site-packages\\tsraster\\calculate.py\u001b[0m in \u001b[0;36mcheckRelevance2\u001b[1;34m(x, y, ml_task, fdr_level)\u001b[0m\n\u001b[0;32m    384\u001b[0m                              \u001b[0mtarget\u001b[0m\u001b[1;33m,\u001b[0m\u001b[1;33m\u001b[0m\u001b[1;33m\u001b[0m\u001b[0m\n\u001b[0;32m    385\u001b[0m                              \u001b[0mml_task\u001b[0m\u001b[1;33m=\u001b[0m\u001b[0mml_task\u001b[0m\u001b[1;33m,\u001b[0m\u001b[1;33m\u001b[0m\u001b[1;33m\u001b[0m\u001b[0m\n\u001b[1;32m--> 386\u001b[1;33m                              fdr_level=fdr_level)\n\u001b[0m\u001b[0;32m    387\u001b[0m \u001b[1;33m\u001b[0m\u001b[0m\n\u001b[0;32m    388\u001b[0m         \u001b[1;31m# gather subset of relevant features\u001b[0m\u001b[1;33m\u001b[0m\u001b[1;33m\u001b[0m\u001b[1;33m\u001b[0m\u001b[0m\n",
      "\u001b[1;32m~\\AppData\\Local\\Continuum\\anaconda2\\envs\\ts-rasterv2\\lib\\site-packages\\tsfresh\\feature_selection\\relevance.py\u001b[0m in \u001b[0;36mcalculate_relevance_table\u001b[1;34m(X, y, ml_task, n_jobs, chunksize, test_for_binary_target_binary_feature, test_for_binary_target_real_feature, test_for_real_target_binary_feature, test_for_real_target_real_feature, fdr_level, hypotheses_independent)\u001b[0m\n\u001b[0;32m    159\u001b[0m             tmp = _calculate_relevance_table_for_implicit_target(\n\u001b[0;32m    160\u001b[0m                 \u001b[0mtable_real\u001b[0m\u001b[1;33m,\u001b[0m \u001b[0mtable_binary\u001b[0m\u001b[1;33m,\u001b[0m \u001b[0mX\u001b[0m\u001b[1;33m,\u001b[0m \u001b[0m_test_real_feature\u001b[0m\u001b[1;33m,\u001b[0m \u001b[0m_test_binary_feature\u001b[0m\u001b[1;33m,\u001b[0m \u001b[0mhypotheses_independent\u001b[0m\u001b[1;33m,\u001b[0m\u001b[1;33m\u001b[0m\u001b[1;33m\u001b[0m\u001b[0m\n\u001b[1;32m--> 161\u001b[1;33m                 \u001b[0mfdr_level\u001b[0m\u001b[1;33m,\u001b[0m \u001b[0mmap_function\u001b[0m\u001b[1;33m\u001b[0m\u001b[1;33m\u001b[0m\u001b[0m\n\u001b[0m\u001b[0;32m    162\u001b[0m             )\n\u001b[0;32m    163\u001b[0m             \u001b[0mtables\u001b[0m\u001b[1;33m.\u001b[0m\u001b[0mappend\u001b[0m\u001b[1;33m(\u001b[0m\u001b[0mtmp\u001b[0m\u001b[1;33m)\u001b[0m\u001b[1;33m\u001b[0m\u001b[1;33m\u001b[0m\u001b[0m\n",
      "\u001b[1;32m~\\AppData\\Local\\Continuum\\anaconda2\\envs\\ts-rasterv2\\lib\\site-packages\\tsfresh\\feature_selection\\relevance.py\u001b[0m in \u001b[0;36m_calculate_relevance_table_for_implicit_target\u001b[1;34m(table_real, table_binary, X, test_real_feature, test_binary_feature, hypotheses_independent, fdr_level, map_function)\u001b[0m\n\u001b[0;32m    188\u001b[0m                                                    hypotheses_independent, fdr_level, map_function):\n\u001b[0;32m    189\u001b[0m     table_real['p_value'] = pd.Series(\n\u001b[1;32m--> 190\u001b[1;33m         \u001b[0mmap_function\u001b[0m\u001b[1;33m(\u001b[0m\u001b[0mtest_real_feature\u001b[0m\u001b[1;33m,\u001b[0m \u001b[1;33m[\u001b[0m\u001b[0mX\u001b[0m\u001b[1;33m[\u001b[0m\u001b[0mfeature\u001b[0m\u001b[1;33m]\u001b[0m \u001b[1;32mfor\u001b[0m \u001b[0mfeature\u001b[0m \u001b[1;32min\u001b[0m \u001b[0mtable_real\u001b[0m\u001b[1;33m.\u001b[0m\u001b[0mindex\u001b[0m\u001b[1;33m]\u001b[0m\u001b[1;33m)\u001b[0m\u001b[1;33m,\u001b[0m\u001b[1;33m\u001b[0m\u001b[1;33m\u001b[0m\u001b[0m\n\u001b[0m\u001b[0;32m    191\u001b[0m         \u001b[0mindex\u001b[0m\u001b[1;33m=\u001b[0m\u001b[0mtable_real\u001b[0m\u001b[1;33m.\u001b[0m\u001b[0mindex\u001b[0m\u001b[1;33m\u001b[0m\u001b[1;33m\u001b[0m\u001b[0m\n\u001b[0;32m    192\u001b[0m     )\n",
      "\u001b[1;32m~\\AppData\\Local\\Continuum\\anaconda2\\envs\\ts-rasterv2\\lib\\multiprocessing\\pool.py\u001b[0m in \u001b[0;36mmap\u001b[1;34m(self, func, iterable, chunksize)\u001b[0m\n\u001b[0;32m    286\u001b[0m         \u001b[1;32min\u001b[0m \u001b[0ma\u001b[0m \u001b[0mlist\u001b[0m \u001b[0mthat\u001b[0m \u001b[1;32mis\u001b[0m \u001b[0mreturned\u001b[0m\u001b[1;33m.\u001b[0m\u001b[1;33m\u001b[0m\u001b[1;33m\u001b[0m\u001b[0m\n\u001b[0;32m    287\u001b[0m         '''\n\u001b[1;32m--> 288\u001b[1;33m         \u001b[1;32mreturn\u001b[0m \u001b[0mself\u001b[0m\u001b[1;33m.\u001b[0m\u001b[0m_map_async\u001b[0m\u001b[1;33m(\u001b[0m\u001b[0mfunc\u001b[0m\u001b[1;33m,\u001b[0m \u001b[0miterable\u001b[0m\u001b[1;33m,\u001b[0m \u001b[0mmapstar\u001b[0m\u001b[1;33m,\u001b[0m \u001b[0mchunksize\u001b[0m\u001b[1;33m)\u001b[0m\u001b[1;33m.\u001b[0m\u001b[0mget\u001b[0m\u001b[1;33m(\u001b[0m\u001b[1;33m)\u001b[0m\u001b[1;33m\u001b[0m\u001b[1;33m\u001b[0m\u001b[0m\n\u001b[0m\u001b[0;32m    289\u001b[0m \u001b[1;33m\u001b[0m\u001b[0m\n\u001b[0;32m    290\u001b[0m     \u001b[1;32mdef\u001b[0m \u001b[0mstarmap\u001b[0m\u001b[1;33m(\u001b[0m\u001b[0mself\u001b[0m\u001b[1;33m,\u001b[0m \u001b[0mfunc\u001b[0m\u001b[1;33m,\u001b[0m \u001b[0miterable\u001b[0m\u001b[1;33m,\u001b[0m \u001b[0mchunksize\u001b[0m\u001b[1;33m=\u001b[0m\u001b[1;32mNone\u001b[0m\u001b[1;33m)\u001b[0m\u001b[1;33m:\u001b[0m\u001b[1;33m\u001b[0m\u001b[1;33m\u001b[0m\u001b[0m\n",
      "\u001b[1;32m~\\AppData\\Local\\Continuum\\anaconda2\\envs\\ts-rasterv2\\lib\\multiprocessing\\pool.py\u001b[0m in \u001b[0;36mget\u001b[1;34m(self, timeout)\u001b[0m\n\u001b[0;32m    668\u001b[0m             \u001b[1;32mreturn\u001b[0m \u001b[0mself\u001b[0m\u001b[1;33m.\u001b[0m\u001b[0m_value\u001b[0m\u001b[1;33m\u001b[0m\u001b[1;33m\u001b[0m\u001b[0m\n\u001b[0;32m    669\u001b[0m         \u001b[1;32melse\u001b[0m\u001b[1;33m:\u001b[0m\u001b[1;33m\u001b[0m\u001b[1;33m\u001b[0m\u001b[0m\n\u001b[1;32m--> 670\u001b[1;33m             \u001b[1;32mraise\u001b[0m \u001b[0mself\u001b[0m\u001b[1;33m.\u001b[0m\u001b[0m_value\u001b[0m\u001b[1;33m\u001b[0m\u001b[1;33m\u001b[0m\u001b[0m\n\u001b[0m\u001b[0;32m    671\u001b[0m \u001b[1;33m\u001b[0m\u001b[0m\n\u001b[0;32m    672\u001b[0m     \u001b[1;32mdef\u001b[0m \u001b[0m_set\u001b[0m\u001b[1;33m(\u001b[0m\u001b[0mself\u001b[0m\u001b[1;33m,\u001b[0m \u001b[0mi\u001b[0m\u001b[1;33m,\u001b[0m \u001b[0mobj\u001b[0m\u001b[1;33m)\u001b[0m\u001b[1;33m:\u001b[0m\u001b[1;33m\u001b[0m\u001b[1;33m\u001b[0m\u001b[0m\n",
      "\u001b[1;31mValueError\u001b[0m: Buffer dtype mismatch, expected 'Python object' but got 'long long'"
     ]
    }
   ],
   "source": [
    "relevant_vars, X_train_relevant = checkRelevance2(x=X_train,\n",
    "                                                  y=y_train,\n",
    "                                                  fdr_level=0.01) \n",
    "print(relevant_vars)\n",
    "\n",
    "#X_test_relevant = X_test[X_train_relevant.columns]"
   ]
  },
  {
   "cell_type": "markdown",
   "metadata": {},
   "source": [
    "train a gradient booster classifier "
   ]
  },
  {
   "cell_type": "code",
   "execution_count": 19,
   "metadata": {},
   "outputs": [],
   "source": [
    "clf = GradientBoostingClassifier(n_estimators=400, learning_rate=0.1,\n",
    "                                 max_depth=2, random_state=0).fit(X_train[X_train_relevant.columns], y_train)\n",
    "\n",
    " "
   ]
  },
  {
   "cell_type": "code",
   "execution_count": 20,
   "metadata": {},
   "outputs": [
    {
     "name": "stdout",
     "output_type": "stream",
     "text": [
      "Testing accuracy: 0.9849629376480432\n",
      "Testing Kappa:  0.05931517869865699\n",
      "Testing Conf: \n",
      "[[167080     18]\n",
      " [  2534     82]]\n"
     ]
    }
   ],
   "source": [
    "predict_test = clf.predict(X=X_test[X_train_relevant.columns])\n",
    "\n",
    "test_acc = accuracy_score(y_test, predict_test)\n",
    "kappa = cohen_kappa_score(y_test, predict_test)\n",
    "confusion = confusion_matrix(y_test, predict_test)\n",
    "\n",
    "print('Testing accuracy:',test_acc)\n",
    "print('Testing Kappa: ',kappa)\n",
    "print('Testing Conf: ')\n",
    "print(confusion)"
   ]
  },
  {
   "cell_type": "markdown",
   "metadata": {},
   "source": [
    "Look at feature importance"
   ]
  },
  {
   "cell_type": "code",
   "execution_count": 23,
   "metadata": {},
   "outputs": [
    {
     "data": {
      "text/html": [
       "<div>\n",
       "<style scoped>\n",
       "    .dataframe tbody tr th:only-of-type {\n",
       "        vertical-align: middle;\n",
       "    }\n",
       "\n",
       "    .dataframe tbody tr th {\n",
       "        vertical-align: top;\n",
       "    }\n",
       "\n",
       "    .dataframe thead th {\n",
       "        text-align: right;\n",
       "    }\n",
       "</style>\n",
       "<table border=\"1\" class=\"dataframe\">\n",
       "  <thead>\n",
       "    <tr style=\"text-align: right;\">\n",
       "      <th></th>\n",
       "      <th>importance</th>\n",
       "    </tr>\n",
       "  </thead>\n",
       "  <tbody>\n",
       "    <tr>\n",
       "      <th>ppt__mean_change</th>\n",
       "      <td>0.061058</td>\n",
       "    </tr>\n",
       "    <tr>\n",
       "      <th>ppt__agg_linear_trend__f_agg_\"max\"__chunk_len_6__attr_\"slope\"_1</th>\n",
       "      <td>0.060758</td>\n",
       "    </tr>\n",
       "    <tr>\n",
       "      <th>ppt__maximum</th>\n",
       "      <td>0.059118</td>\n",
       "    </tr>\n",
       "    <tr>\n",
       "      <th>pet__quantile__q_0.05</th>\n",
       "      <td>0.052816</td>\n",
       "    </tr>\n",
       "    <tr>\n",
       "      <th>ppt__agg_linear_trend__f_agg_\"max\"__chunk_len_6__attr_\"slope\"</th>\n",
       "      <td>0.046017</td>\n",
       "    </tr>\n",
       "    <tr>\n",
       "      <th>cwd__mean_change</th>\n",
       "      <td>0.039922</td>\n",
       "    </tr>\n",
       "    <tr>\n",
       "      <th>ppt__last_location_of_minimum</th>\n",
       "      <td>0.032166</td>\n",
       "    </tr>\n",
       "    <tr>\n",
       "      <th>ppt__maximum_1</th>\n",
       "      <td>0.031376</td>\n",
       "    </tr>\n",
       "    <tr>\n",
       "      <th>tmx__agg_linear_trend__f_agg_\"max\"__chunk_len_6__attr_\"slope\"_1</th>\n",
       "      <td>0.030075</td>\n",
       "    </tr>\n",
       "    <tr>\n",
       "      <th>ppt__agg_linear_trend__f_agg_\"min\"__chunk_len_6__attr_\"slope\"</th>\n",
       "      <td>0.029910</td>\n",
       "    </tr>\n",
       "  </tbody>\n",
       "</table>\n",
       "</div>"
      ],
      "text/plain": [
       "                                                    importance\n",
       "ppt__mean_change                                      0.061058\n",
       "ppt__agg_linear_trend__f_agg_\"max\"__chunk_len_6...    0.060758\n",
       "ppt__maximum                                          0.059118\n",
       "pet__quantile__q_0.05                                 0.052816\n",
       "ppt__agg_linear_trend__f_agg_\"max\"__chunk_len_6...    0.046017\n",
       "cwd__mean_change                                      0.039922\n",
       "ppt__last_location_of_minimum                         0.032166\n",
       "ppt__maximum_1                                        0.031376\n",
       "tmx__agg_linear_trend__f_agg_\"max\"__chunk_len_6...    0.030075\n",
       "ppt__agg_linear_trend__f_agg_\"min\"__chunk_len_6...    0.029910"
      ]
     },
     "execution_count": 23,
     "metadata": {},
     "output_type": "execute_result"
    }
   ],
   "source": [
    "feature_importances = pd.DataFrame(clf.feature_importances_,\n",
    "                                   index = X_test_relevant.columns,\n",
    "                                    columns=['importance']).sort_values('importance', ascending=False)\n",
    " \n",
    "feature_importances.head(10)"
   ]
  },
  {
   "cell_type": "markdown",
   "metadata": {},
   "source": [
    "predict to all observations in panel\n",
    "get predicted class and probability of class"
   ]
  },
  {
   "cell_type": "code",
   "execution_count": 24,
   "metadata": {},
   "outputs": [],
   "source": [
    "concatenated_df_predict = md.model_predict(model = clf,\n",
    "                                        new_X = features_ln[X_train_relevant.columns])\n",
    "\n",
    "concatenated_df_prob =  md.model_predict_prob(model = clf,\n",
    "                                        new_X = features_ln[X_train_relevant.columns])"
   ]
  },
  {
   "cell_type": "markdown",
   "metadata": {},
   "source": [
    "isolate one 5 year period for mapping \n"
   ]
  },
  {
   "cell_type": "code",
   "execution_count": 25,
   "metadata": {},
   "outputs": [
    {
     "data": {
      "text/html": [
       "<div>\n",
       "<style scoped>\n",
       "    .dataframe tbody tr th:only-of-type {\n",
       "        vertical-align: middle;\n",
       "    }\n",
       "\n",
       "    .dataframe tbody tr th {\n",
       "        vertical-align: top;\n",
       "    }\n",
       "\n",
       "    .dataframe thead th {\n",
       "        text-align: right;\n",
       "    }\n",
       "</style>\n",
       "<table border=\"1\" class=\"dataframe\">\n",
       "  <thead>\n",
       "    <tr style=\"text-align: right;\">\n",
       "      <th></th>\n",
       "      <th>0</th>\n",
       "      <th>1</th>\n",
       "    </tr>\n",
       "  </thead>\n",
       "  <tbody>\n",
       "    <tr>\n",
       "      <th>count</th>\n",
       "      <td>424284.000000</td>\n",
       "      <td>424284.000000</td>\n",
       "    </tr>\n",
       "    <tr>\n",
       "      <th>mean</th>\n",
       "      <td>0.980478</td>\n",
       "      <td>0.019522</td>\n",
       "    </tr>\n",
       "    <tr>\n",
       "      <th>std</th>\n",
       "      <td>0.039986</td>\n",
       "      <td>0.039986</td>\n",
       "    </tr>\n",
       "    <tr>\n",
       "      <th>min</th>\n",
       "      <td>0.001744</td>\n",
       "      <td>0.000177</td>\n",
       "    </tr>\n",
       "    <tr>\n",
       "      <th>25%</th>\n",
       "      <td>0.978398</td>\n",
       "      <td>0.002558</td>\n",
       "    </tr>\n",
       "    <tr>\n",
       "      <th>50%</th>\n",
       "      <td>0.992058</td>\n",
       "      <td>0.007942</td>\n",
       "    </tr>\n",
       "    <tr>\n",
       "      <th>75%</th>\n",
       "      <td>0.997442</td>\n",
       "      <td>0.021602</td>\n",
       "    </tr>\n",
       "    <tr>\n",
       "      <th>max</th>\n",
       "      <td>0.999823</td>\n",
       "      <td>0.998256</td>\n",
       "    </tr>\n",
       "  </tbody>\n",
       "</table>\n",
       "</div>"
      ],
      "text/plain": [
       "                   0              1\n",
       "count  424284.000000  424284.000000\n",
       "mean        0.980478       0.019522\n",
       "std         0.039986       0.039986\n",
       "min         0.001744       0.000177\n",
       "25%         0.978398       0.002558\n",
       "50%         0.992058       0.007942\n",
       "75%         0.997442       0.021602\n",
       "max         0.999823       0.998256"
      ]
     },
     "execution_count": 25,
     "metadata": {},
     "output_type": "execute_result"
    }
   ],
   "source": [
    "\n",
    "concatenated_df_prob_1996 = concatenated_df_prob.query('time == \"19962000\" ')\n",
    "concatenated_df_prob_1996.index = concatenated_df_prob_1996.index.get_level_values(0) \n",
    "\n",
    "concatenated_df_prob_1996.describe()"
   ]
  },
  {
   "cell_type": "markdown",
   "metadata": {},
   "source": [
    "unmask values "
   ]
  },
  {
   "cell_type": "code",
   "execution_count": 26,
   "metadata": {},
   "outputs": [
    {
     "name": "stderr",
     "output_type": "stream",
     "text": [
      "C:\\Users\\mmann\\AppData\\Local\\Continuum\\anaconda2\\envs\\ts-rasterv2\\lib\\site-packages\\pandas\\core\\frame.py:4290: SettingWithCopyWarning: \n",
      "A value is trying to be set on a copy of a slice from a DataFrame.\n",
      "Try using .loc[row_indexer,col_indexer] = value instead\n",
      "\n",
      "See the caveats in the documentation: http://pandas.pydata.org/pandas-docs/stable/indexing.html#indexing-view-versus-copy\n",
      "  self[col] = expressions.where(mask, this, that)\n"
     ]
    },
    {
     "data": {
      "text/plain": [
       "count    424284.000000\n",
       "mean          0.019522\n",
       "std           0.039986\n",
       "min           0.000177\n",
       "25%           0.002558\n",
       "50%           0.007942\n",
       "75%           0.021602\n",
       "max           0.998256\n",
       "Name: 1, dtype: float64"
      ]
     },
     "execution_count": 26,
     "metadata": {},
     "output_type": "execute_result"
    }
   ],
   "source": [
    "\n",
    "unmask_concatenated_df_prob_1996 = tr.unmask_df(concatenated_attribute_df, \n",
    "                                                concatenated_df_prob_1996)\n",
    "\n",
    " \n",
    "unmask_concatenated_df_prob_1996 = unmask_df(original_df = concatenated_attribute_df,\n",
    "                                             mask_df_output = concatenated_df_prob_1996) \n",
    "\n",
    "# keep only class prob of fire event \n",
    "unmask_concatenated_df_prob_1996 = unmask_concatenated_df_prob_1996.iloc[:,1]\n",
    "unmask_concatenated_df_prob_1996[unmask_concatenated_df_prob_1996== -9999 ]= NaN \n",
    "\n",
    "unmask_concatenated_df_prob_1996.describe()"
   ]
  },
  {
   "cell_type": "markdown",
   "metadata": {},
   "source": [
    "### rasterize and plot prediction"
   ]
  },
  {
   "cell_type": "code",
   "execution_count": 27,
   "metadata": {},
   "outputs": [
    {
     "data": {
      "image/png": "[encoded data removed]",
      "text/plain": [
       "<Figure size 432x288 with 2 Axes>"
      ]
     },
     "metadata": {
      "needs_background": "light"
     },
     "output_type": "display_data"
    }
   ],
   "source": [
    "raster_ex = \"F:/5year/aet/aet-201201.tif\"\n",
    "ex_row, ex_cols =  rasterio.open(raster_ex).shape\n",
    "\n",
    "f2Array = unmask_concatenated_df_prob_1996.values.reshape(ex_row, ex_cols)\n",
    " # Plot the grid\n",
    "\n",
    "plt.imshow(f2Array)\n",
    "plt.set_cmap(\"Reds\")\n",
    "plt.colorbar( )\n",
    "plt.show()"
   ]
  },
  {
   "cell_type": "markdown",
   "metadata": {},
   "source": [
    "compare to actual"
   ]
  },
  {
   "cell_type": "code",
   "execution_count": 32,
   "metadata": {},
   "outputs": [
    {
     "data": {
      "image/png": "[encoded data removed]",
      "text/plain": [
       "<Figure size 432x288 with 1 Axes>"
      ]
     },
     "metadata": {
      "needs_background": "light"
     },
     "output_type": "display_data"
    }
   ],
   "source": [
    "\n",
    "path = r\"G:\\Fire_target_train\\fire_1996_2000.tif\"\n",
    "image_name = tr.image_names(path)\n",
    "rasters = tr.image_to_array(path)[:,:,0]\n",
    "rasters[isnan(f2Array)] = NaN\n",
    "\n",
    "plt.imshow(rasters)\n",
    "plt.set_cmap(\"Reds\")\n",
    "plt.show()\n"
   ]
  },
  {
   "cell_type": "code",
   "execution_count": null,
   "metadata": {},
   "outputs": [],
   "source": [
    " "
   ]
  }
 ],
 "metadata": {
  "kernelspec": {
   "display_name": "Python [conda env:ts-rasterv2]",
   "language": "python",
   "name": "conda-env-ts-rasterv2-py"
  },
  "language_info": {
   "codemirror_mode": {
    "name": "ipython",
    "version": 3
   },
   "file_extension": ".py",
   "mimetype": "text/x-python",
   "name": "python",
   "nbconvert_exporter": "python",
   "pygments_lexer": "ipython3",
   "version": "3.6.7"
  }
 },
 "nbformat": 4,
 "nbformat_minor": 2
}
