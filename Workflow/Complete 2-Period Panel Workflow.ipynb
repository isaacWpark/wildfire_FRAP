{
 "cells": [
  {
   "cell_type": "markdown",
   "metadata": {},
   "source": [
    "# Panel estimation of wildifire probability "
   ]
  },
  {
   "cell_type": "code",
   "execution_count": 1,
   "metadata": {},
   "outputs": [],
   "source": [
    "from tsraster.prep import combine_extracted_features, combine_target_rasters, wide_to_long_target_features,unmask_df,panel_lag_1\n",
    "from tsraster.calculate import checkRelevance2, calculateFeatures\n",
    "\n",
    "from numpy import NaN,isnan\n",
    "from pathlib import Path \n",
    "import os\n",
    "import pandas as pd\n",
    "\n",
    "import tsraster.prep  as tr\n",
    "import tsraster.model  as md\n",
    "\n",
    "import rasterio\n",
    "import matplotlib.pyplot as plt\n",
    "\n",
    "from sklearn.ensemble import RandomForestRegressor, GradientBoostingRegressor, RandomForestClassifier\n",
    "from sklearn.metrics import accuracy_score,confusion_matrix, cohen_kappa_score\n",
    "from sklearn.ensemble import GradientBoostingClassifier"
   ]
  },
  {
   "cell_type": "markdown",
   "metadata": {},
   "source": [
    "### Features Extraction at Scale"
   ]
  },
  {
   "cell_type": "code",
   "execution_count": 2,
   "metadata": {},
   "outputs": [
    {
     "data": {
      "text/plain": [
       "['..\\\\Data\\\\Examples\\\\Panel_Example\\\\Climate\\\\2006_2010\\\\cwd',\n",
       " '..\\\\Data\\\\Examples\\\\Panel_Example\\\\Climate\\\\2006_2010\\\\ppt',\n",
       " '..\\\\Data\\\\Examples\\\\Panel_Example\\\\Climate\\\\2011_2015\\\\cwd',\n",
       " '..\\\\Data\\\\Examples\\\\Panel_Example\\\\Climate\\\\2011_2015\\\\ppt']"
      ]
     },
     "execution_count": 2,
     "metadata": {},
     "output_type": "execute_result"
    }
   ],
   "source": [
    "fc_parameters = {\n",
    "\t    \"mean\": None,\n",
    "\t    \"maximum\": None,\n",
    "\t    \"median\":None}\n",
    "\n",
    "p = Path('../Data/Examples/Panel_Example/Climate/')\n",
    "folders = [str(x) for x in p.glob('*/*') if x.is_dir() and '_features' not in str(x) and 'Fire' not in str(x) ]\n",
    "folders"
   ]
  },
  {
   "cell_type": "code",
   "execution_count": 12,
   "metadata": {},
   "outputs": [
    {
     "name": "stdout",
     "output_type": "stream",
     "text": [
      "Directory is not empty\n",
      "..\\Data\\Examples\\Panel_Example\\Climate\\2006_2010\\cwd\n",
      "df: ..\\Data\\Examples\\Panel_Example\\Climate\\2006_2010\\cwd\\my_df.csv\n"
     ]
    },
    {
     "name": "stderr",
     "output_type": "stream",
     "text": [
      "Feature Extraction: 100%|████████████████████████████████████████████████████████████████| 5/5 [00:50<00:00, 10.46s/it]\n"
     ]
    },
    {
     "name": "stdout",
     "output_type": "stream",
     "text": [
      "features:..\\Data\\Examples\\Panel_Example\\Climate\\2006_2010\\cwd_features\\extracted_features.csv\n",
      "       cwd__maximum     cwd__mean   cwd__median\n",
      "count  1.137669e+06  1.137669e+06  1.137669e+06\n",
      "mean  -6.321948e+03 -6.361746e+03 -6.369084e+03\n",
      "std    4.893647e+03  4.840688e+03  4.830975e+03\n",
      "min   -9.999000e+03 -9.999000e+03 -9.999000e+03\n",
      "25%   -9.999000e+03 -9.999000e+03 -9.999000e+03\n",
      "50%   -9.999000e+03 -9.999000e+03 -9.999000e+03\n",
      "75%    1.838448e+02  6.138217e+01  1.257800e+01\n",
      "max    2.327495e+02  1.318143e+02  1.334538e+02\n",
      "Directory is not empty\n",
      "..\\Data\\Examples\\Panel_Example\\Climate\\2006_2010\\ppt\n",
      "df: ..\\Data\\Examples\\Panel_Example\\Climate\\2006_2010\\ppt\\my_df.csv\n"
     ]
    },
    {
     "name": "stderr",
     "output_type": "stream",
     "text": [
      "Feature Extraction: 100%|████████████████████████████████████████████████████████████████| 5/5 [00:53<00:00, 10.89s/it]\n"
     ]
    },
    {
     "name": "stdout",
     "output_type": "stream",
     "text": [
      "features:..\\Data\\Examples\\Panel_Example\\Climate\\2006_2010\\ppt_features\\extracted_features.csv\n",
      "       ppt__maximum     ppt__mean   ppt__median\n",
      "count  1.137669e+06  1.137669e+06  1.137669e+06\n",
      "mean  -6.318338e+03 -6.375807e+03 -6.383758e+03\n",
      "std    4.899379e+03  4.822003e+03  4.811385e+03\n",
      "min   -9.999000e+03 -9.999000e+03 -9.999000e+03\n",
      "25%   -9.999000e+03 -9.999000e+03 -9.999000e+03\n",
      "50%   -9.999000e+03 -9.999000e+03 -9.999000e+03\n",
      "75%    7.860650e+01  1.487717e+01  4.968500e+00\n",
      "max    1.191274e+03  3.167586e+02  2.474300e+02\n",
      "Directory is not empty\n",
      "..\\Data\\Examples\\Panel_Example\\Climate\\2011_2015\\cwd\n",
      "df: ..\\Data\\Examples\\Panel_Example\\Climate\\2011_2015\\cwd\\my_df.csv\n"
     ]
    },
    {
     "name": "stderr",
     "output_type": "stream",
     "text": [
      "Feature Extraction: 100%|████████████████████████████████████████████████████████████████| 5/5 [00:49<00:00, 10.28s/it]\n"
     ]
    },
    {
     "name": "stdout",
     "output_type": "stream",
     "text": [
      "features:..\\Data\\Examples\\Panel_Example\\Climate\\2011_2015\\cwd_features\\extracted_features.csv\n",
      "       cwd__maximum     cwd__mean   cwd__median\n",
      "count  1.137669e+06  1.137669e+06  1.137669e+06\n",
      "mean  -6.322409e+03 -6.360048e+03 -6.362518e+03\n",
      "std    4.893033e+03  4.842955e+03  4.839713e+03\n",
      "min   -9.999000e+03 -9.999000e+03 -9.999000e+03\n",
      "25%   -9.999000e+03 -9.999000e+03 -9.999000e+03\n",
      "50%   -9.999000e+03 -9.999000e+03 -9.999000e+03\n",
      "75%    1.842680e+02  6.424258e+01  4.230175e+01\n",
      "max    2.329300e+02  1.402930e+02  1.575240e+02\n",
      "Directory is not empty\n",
      "..\\Data\\Examples\\Panel_Example\\Climate\\2011_2015\\ppt\n",
      "df: ..\\Data\\Examples\\Panel_Example\\Climate\\2011_2015\\ppt\\my_df.csv\n"
     ]
    },
    {
     "name": "stderr",
     "output_type": "stream",
     "text": [
      "Feature Extraction: 100%|████████████████████████████████████████████████████████████████| 5/5 [00:51<00:00, 10.52s/it]\n"
     ]
    },
    {
     "name": "stdout",
     "output_type": "stream",
     "text": [
      "features:..\\Data\\Examples\\Panel_Example\\Climate\\2011_2015\\ppt_features\\extracted_features.csv\n",
      "       ppt__maximum     ppt__mean   ppt__median\n",
      "count  1.137669e+06  1.137669e+06  1.137669e+06\n",
      "mean  -6.317016e+03 -6.376843e+03 -6.383711e+03\n",
      "std    4.901381e+03  4.820616e+03  4.811441e+03\n",
      "min   -9.999000e+03 -9.999000e+03 -9.999000e+03\n",
      "25%   -9.999000e+03 -9.999000e+03 -9.999000e+03\n",
      "50%   -9.999000e+03 -9.999000e+03 -9.999000e+03\n",
      "75%    7.883900e+01  1.455392e+01  6.439800e+00\n",
      "max    1.559048e+03  2.847197e+02  2.021816e+02\n"
     ]
    }
   ],
   "source": [
    "for folder in folders:\n",
    "    if not os.listdir(folder):\n",
    "        print(\"Directory is empty\")\n",
    "    else:    \n",
    "        print(\"Directory is not empty\")\n",
    "        print(folder)\n",
    "        ts_features = calculateFeatures(folder,\n",
    "                                        parameters=fc_parameters,\n",
    "                                        reset_df=True,\n",
    "                                        tiff_output=False,\n",
    "                                        raster_mask =  r\"../Data/Examples/buffer/StatePoly_buf.tif\",\n",
    "                                        workers = 1)\n",
    "        print(ts_features.describe())\n",
    "        del ts_features"
   ]
  },
  {
   "cell_type": "markdown",
   "metadata": {},
   "source": [
    "### Organize data"
   ]
  },
  {
   "cell_type": "markdown",
   "metadata": {},
   "source": [
    "* Climate_feature_subset_train\n",
    "    * 2001_2005\n",
    "        * aet_features\n",
    "            * extracted_features.csv\n",
    "            * ...\n",
    "        * ppt_features\n",
    "            * extracted_features.csv\n",
    "            * ...        \n",
    "    * 2006_2010\n",
    "        * aet_features\n",
    "            * extracted_features.csv\n",
    "            * ...\n",
    "        * ppt_features\n",
    "            * extracted_features.csv\n",
    "            * ...  \n",
    "    * 2011_2015"
   ]
  },
  {
   "cell_type": "markdown",
   "metadata": {},
   "source": [
    "### append all features to one dataframe"
   ]
  },
  {
   "cell_type": "code",
   "execution_count": 3,
   "metadata": {},
   "outputs": [
    {
     "name": "stdout",
     "output_type": "stream",
     "text": [
      "Combining folder year names ['20062010', '20062010', '20112015', '20112015']\n"
     ]
    },
    {
     "name": "stderr",
     "output_type": "stream",
     "text": [
      "C:\\Users\\mmann\\AppData\\Local\\Continuum\\anaconda2\\envs\\ts-rasterv2\\lib\\site-packages\\numpy\\lib\\arraysetops.py:472: FutureWarning: elementwise comparison failed; returning scalar instead, but in the future will perform elementwise comparison\n",
      "  mask |= (ar1 == a)\n"
     ]
    }
   ],
   "source": [
    "\n",
    "path = r'../Data/Examples/Panel_Example/Climate/'\n",
    "\n",
    "concatenated_attribute_df = combine_extracted_features(path,write_out=False)\n"
   ]
  },
  {
   "cell_type": "code",
   "execution_count": 4,
   "metadata": {},
   "outputs": [
    {
     "data": {
      "text/html": [
       "<div>\n",
       "<style scoped>\n",
       "    .dataframe tbody tr th:only-of-type {\n",
       "        vertical-align: middle;\n",
       "    }\n",
       "\n",
       "    .dataframe tbody tr th {\n",
       "        vertical-align: top;\n",
       "    }\n",
       "\n",
       "    .dataframe thead th {\n",
       "        text-align: right;\n",
       "    }\n",
       "</style>\n",
       "<table border=\"1\" class=\"dataframe\">\n",
       "  <thead>\n",
       "    <tr style=\"text-align: right;\">\n",
       "      <th></th>\n",
       "      <th>cwd__maximum-20062010</th>\n",
       "      <th>cwd__mean-20062010</th>\n",
       "      <th>cwd__median-20062010</th>\n",
       "      <th>ppt__maximum-20062010</th>\n",
       "      <th>ppt__mean-20062010</th>\n",
       "      <th>ppt__median-20062010</th>\n",
       "      <th>cwd__maximum-20112015</th>\n",
       "      <th>cwd__mean-20112015</th>\n",
       "      <th>cwd__median-20112015</th>\n",
       "      <th>ppt__maximum-20112015</th>\n",
       "      <th>ppt__mean-20112015</th>\n",
       "      <th>ppt__median-20112015</th>\n",
       "    </tr>\n",
       "    <tr>\n",
       "      <th>pixel_id</th>\n",
       "      <th></th>\n",
       "      <th></th>\n",
       "      <th></th>\n",
       "      <th></th>\n",
       "      <th></th>\n",
       "      <th></th>\n",
       "      <th></th>\n",
       "      <th></th>\n",
       "      <th></th>\n",
       "      <th></th>\n",
       "      <th></th>\n",
       "      <th></th>\n",
       "    </tr>\n",
       "  </thead>\n",
       "  <tbody>\n",
       "    <tr>\n",
       "      <th>0</th>\n",
       "      <td>-9999.0</td>\n",
       "      <td>-9999.0</td>\n",
       "      <td>-9999.0</td>\n",
       "      <td>-9999.0</td>\n",
       "      <td>-9999.0</td>\n",
       "      <td>-9999.0</td>\n",
       "      <td>-9999.0</td>\n",
       "      <td>-9999.0</td>\n",
       "      <td>-9999.0</td>\n",
       "      <td>-9999.0</td>\n",
       "      <td>-9999.0</td>\n",
       "      <td>-9999.0</td>\n",
       "    </tr>\n",
       "    <tr>\n",
       "      <th>1</th>\n",
       "      <td>-9999.0</td>\n",
       "      <td>-9999.0</td>\n",
       "      <td>-9999.0</td>\n",
       "      <td>-9999.0</td>\n",
       "      <td>-9999.0</td>\n",
       "      <td>-9999.0</td>\n",
       "      <td>-9999.0</td>\n",
       "      <td>-9999.0</td>\n",
       "      <td>-9999.0</td>\n",
       "      <td>-9999.0</td>\n",
       "      <td>-9999.0</td>\n",
       "      <td>-9999.0</td>\n",
       "    </tr>\n",
       "    <tr>\n",
       "      <th>2</th>\n",
       "      <td>-9999.0</td>\n",
       "      <td>-9999.0</td>\n",
       "      <td>-9999.0</td>\n",
       "      <td>-9999.0</td>\n",
       "      <td>-9999.0</td>\n",
       "      <td>-9999.0</td>\n",
       "      <td>-9999.0</td>\n",
       "      <td>-9999.0</td>\n",
       "      <td>-9999.0</td>\n",
       "      <td>-9999.0</td>\n",
       "      <td>-9999.0</td>\n",
       "      <td>-9999.0</td>\n",
       "    </tr>\n",
       "    <tr>\n",
       "      <th>3</th>\n",
       "      <td>-9999.0</td>\n",
       "      <td>-9999.0</td>\n",
       "      <td>-9999.0</td>\n",
       "      <td>-9999.0</td>\n",
       "      <td>-9999.0</td>\n",
       "      <td>-9999.0</td>\n",
       "      <td>-9999.0</td>\n",
       "      <td>-9999.0</td>\n",
       "      <td>-9999.0</td>\n",
       "      <td>-9999.0</td>\n",
       "      <td>-9999.0</td>\n",
       "      <td>-9999.0</td>\n",
       "    </tr>\n",
       "    <tr>\n",
       "      <th>4</th>\n",
       "      <td>-9999.0</td>\n",
       "      <td>-9999.0</td>\n",
       "      <td>-9999.0</td>\n",
       "      <td>-9999.0</td>\n",
       "      <td>-9999.0</td>\n",
       "      <td>-9999.0</td>\n",
       "      <td>-9999.0</td>\n",
       "      <td>-9999.0</td>\n",
       "      <td>-9999.0</td>\n",
       "      <td>-9999.0</td>\n",
       "      <td>-9999.0</td>\n",
       "      <td>-9999.0</td>\n",
       "    </tr>\n",
       "  </tbody>\n",
       "</table>\n",
       "</div>"
      ],
      "text/plain": [
       "          cwd__maximum-20062010  cwd__mean-20062010  cwd__median-20062010  \\\n",
       "pixel_id                                                                    \n",
       "0                       -9999.0             -9999.0               -9999.0   \n",
       "1                       -9999.0             -9999.0               -9999.0   \n",
       "2                       -9999.0             -9999.0               -9999.0   \n",
       "3                       -9999.0             -9999.0               -9999.0   \n",
       "4                       -9999.0             -9999.0               -9999.0   \n",
       "\n",
       "          ppt__maximum-20062010  ppt__mean-20062010  ppt__median-20062010  \\\n",
       "pixel_id                                                                    \n",
       "0                       -9999.0             -9999.0               -9999.0   \n",
       "1                       -9999.0             -9999.0               -9999.0   \n",
       "2                       -9999.0             -9999.0               -9999.0   \n",
       "3                       -9999.0             -9999.0               -9999.0   \n",
       "4                       -9999.0             -9999.0               -9999.0   \n",
       "\n",
       "          cwd__maximum-20112015  cwd__mean-20112015  cwd__median-20112015  \\\n",
       "pixel_id                                                                    \n",
       "0                       -9999.0             -9999.0               -9999.0   \n",
       "1                       -9999.0             -9999.0               -9999.0   \n",
       "2                       -9999.0             -9999.0               -9999.0   \n",
       "3                       -9999.0             -9999.0               -9999.0   \n",
       "4                       -9999.0             -9999.0               -9999.0   \n",
       "\n",
       "          ppt__maximum-20112015  ppt__mean-20112015  ppt__median-20112015  \n",
       "pixel_id                                                                   \n",
       "0                       -9999.0             -9999.0               -9999.0  \n",
       "1                       -9999.0             -9999.0               -9999.0  \n",
       "2                       -9999.0             -9999.0               -9999.0  \n",
       "3                       -9999.0             -9999.0               -9999.0  \n",
       "4                       -9999.0             -9999.0               -9999.0  "
      ]
     },
     "execution_count": 4,
     "metadata": {},
     "output_type": "execute_result"
    }
   ],
   "source": [
    "concatenated_attribute_df.head()"
   ]
  },
  {
   "cell_type": "markdown",
   "metadata": {},
   "source": [
    "collect multitple years of Y (target) data"
   ]
  },
  {
   "cell_type": "code",
   "execution_count": 5,
   "metadata": {},
   "outputs": [],
   "source": [
    "path = r\"../Data/Examples/Panel_Example/Fire/\"\n",
    "target_file_prefix = 'fire_'\n",
    "\n",
    "concatenated_target_df = combine_target_rasters(path,\n",
    "                                                target_file_prefix,\n",
    "                                                write_out=False)"
   ]
  },
  {
   "cell_type": "code",
   "execution_count": 6,
   "metadata": {},
   "outputs": [
    {
     "data": {
      "text/html": [
       "<div>\n",
       "<style scoped>\n",
       "    .dataframe tbody tr th:only-of-type {\n",
       "        vertical-align: middle;\n",
       "    }\n",
       "\n",
       "    .dataframe tbody tr th {\n",
       "        vertical-align: top;\n",
       "    }\n",
       "\n",
       "    .dataframe thead th {\n",
       "        text-align: right;\n",
       "    }\n",
       "</style>\n",
       "<table border=\"1\" class=\"dataframe\">\n",
       "  <thead>\n",
       "    <tr style=\"text-align: right;\">\n",
       "      <th></th>\n",
       "      <th>Y-20062010</th>\n",
       "      <th>Y-20112015</th>\n",
       "    </tr>\n",
       "    <tr>\n",
       "      <th>pixel_id</th>\n",
       "      <th></th>\n",
       "      <th></th>\n",
       "    </tr>\n",
       "  </thead>\n",
       "  <tbody>\n",
       "    <tr>\n",
       "      <th>0</th>\n",
       "      <td>0</td>\n",
       "      <td>0</td>\n",
       "    </tr>\n",
       "    <tr>\n",
       "      <th>1</th>\n",
       "      <td>0</td>\n",
       "      <td>0</td>\n",
       "    </tr>\n",
       "    <tr>\n",
       "      <th>2</th>\n",
       "      <td>0</td>\n",
       "      <td>0</td>\n",
       "    </tr>\n",
       "    <tr>\n",
       "      <th>3</th>\n",
       "      <td>0</td>\n",
       "      <td>0</td>\n",
       "    </tr>\n",
       "    <tr>\n",
       "      <th>4</th>\n",
       "      <td>0</td>\n",
       "      <td>0</td>\n",
       "    </tr>\n",
       "  </tbody>\n",
       "</table>\n",
       "</div>"
      ],
      "text/plain": [
       "          Y-20062010  Y-20112015\n",
       "pixel_id                        \n",
       "0                  0           0\n",
       "1                  0           0\n",
       "2                  0           0\n",
       "3                  0           0\n",
       "4                  0           0"
      ]
     },
     "execution_count": 6,
     "metadata": {},
     "output_type": "execute_result"
    }
   ],
   "source": [
    "concatenated_target_df.head()"
   ]
  },
  {
   "cell_type": "markdown",
   "metadata": {},
   "source": [
    "mask both the attribute data and targets "
   ]
  },
  {
   "cell_type": "code",
   "execution_count": 7,
   "metadata": {},
   "outputs": [],
   "source": [
    "raster_mask =u\"../Data/Examples/buffer/StatePoly_buf.tif\"\n",
    "original_df = [concatenated_attribute_df, concatenated_target_df]\n",
    "\n",
    "mask_attributes_df, mask_target_df = tr.mask_df(raster_mask, \n",
    "                                                original_df,  \n",
    "                                                missing_value=-9999,\n",
    "                                                reset_index = False)"
   ]
  },
  {
   "cell_type": "code",
   "execution_count": 8,
   "metadata": {},
   "outputs": [
    {
     "data": {
      "text/html": [
       "<div>\n",
       "<style scoped>\n",
       "    .dataframe tbody tr th:only-of-type {\n",
       "        vertical-align: middle;\n",
       "    }\n",
       "\n",
       "    .dataframe tbody tr th {\n",
       "        vertical-align: top;\n",
       "    }\n",
       "\n",
       "    .dataframe thead th {\n",
       "        text-align: right;\n",
       "    }\n",
       "</style>\n",
       "<table border=\"1\" class=\"dataframe\">\n",
       "  <thead>\n",
       "    <tr style=\"text-align: right;\">\n",
       "      <th></th>\n",
       "      <th>cwd__maximum-20062010</th>\n",
       "      <th>cwd__mean-20062010</th>\n",
       "      <th>cwd__median-20062010</th>\n",
       "      <th>ppt__maximum-20062010</th>\n",
       "      <th>ppt__mean-20062010</th>\n",
       "      <th>ppt__median-20062010</th>\n",
       "      <th>cwd__maximum-20112015</th>\n",
       "      <th>cwd__mean-20112015</th>\n",
       "      <th>cwd__median-20112015</th>\n",
       "      <th>ppt__maximum-20112015</th>\n",
       "      <th>ppt__mean-20112015</th>\n",
       "      <th>ppt__median-20112015</th>\n",
       "    </tr>\n",
       "    <tr>\n",
       "      <th>pixel_id</th>\n",
       "      <th></th>\n",
       "      <th></th>\n",
       "      <th></th>\n",
       "      <th></th>\n",
       "      <th></th>\n",
       "      <th></th>\n",
       "      <th></th>\n",
       "      <th></th>\n",
       "      <th></th>\n",
       "      <th></th>\n",
       "      <th></th>\n",
       "      <th></th>\n",
       "    </tr>\n",
       "  </thead>\n",
       "  <tbody>\n",
       "    <tr>\n",
       "      <th>134588</th>\n",
       "      <td>95.193573</td>\n",
       "      <td>10.808438</td>\n",
       "      <td>0.0</td>\n",
       "      <td>535.173157</td>\n",
       "      <td>154.437119</td>\n",
       "      <td>116.529739</td>\n",
       "      <td>84.842857</td>\n",
       "      <td>16.329674</td>\n",
       "      <td>0.0000</td>\n",
       "      <td>565.594971</td>\n",
       "      <td>150.687866</td>\n",
       "      <td>108.165001</td>\n",
       "    </tr>\n",
       "    <tr>\n",
       "      <th>134589</th>\n",
       "      <td>114.003502</td>\n",
       "      <td>20.163677</td>\n",
       "      <td>0.0</td>\n",
       "      <td>552.677979</td>\n",
       "      <td>161.583511</td>\n",
       "      <td>122.655746</td>\n",
       "      <td>95.689499</td>\n",
       "      <td>25.205521</td>\n",
       "      <td>0.0000</td>\n",
       "      <td>589.078491</td>\n",
       "      <td>156.253983</td>\n",
       "      <td>111.509003</td>\n",
       "    </tr>\n",
       "    <tr>\n",
       "      <th>134590</th>\n",
       "      <td>157.690506</td>\n",
       "      <td>24.496553</td>\n",
       "      <td>0.0</td>\n",
       "      <td>564.724487</td>\n",
       "      <td>166.094742</td>\n",
       "      <td>126.713501</td>\n",
       "      <td>132.104996</td>\n",
       "      <td>26.933245</td>\n",
       "      <td>0.0000</td>\n",
       "      <td>578.199524</td>\n",
       "      <td>152.994583</td>\n",
       "      <td>109.597748</td>\n",
       "    </tr>\n",
       "    <tr>\n",
       "      <th>134591</th>\n",
       "      <td>160.140396</td>\n",
       "      <td>25.144434</td>\n",
       "      <td>0.0</td>\n",
       "      <td>580.050781</td>\n",
       "      <td>172.390976</td>\n",
       "      <td>132.294403</td>\n",
       "      <td>135.035995</td>\n",
       "      <td>26.979912</td>\n",
       "      <td>0.0000</td>\n",
       "      <td>588.890015</td>\n",
       "      <td>155.064163</td>\n",
       "      <td>109.506195</td>\n",
       "    </tr>\n",
       "    <tr>\n",
       "      <th>134592</th>\n",
       "      <td>162.972397</td>\n",
       "      <td>26.338125</td>\n",
       "      <td>0.0</td>\n",
       "      <td>600.773621</td>\n",
       "      <td>179.457764</td>\n",
       "      <td>138.405792</td>\n",
       "      <td>138.880005</td>\n",
       "      <td>27.230467</td>\n",
       "      <td>0.2344</td>\n",
       "      <td>631.367188</td>\n",
       "      <td>165.473877</td>\n",
       "      <td>115.161003</td>\n",
       "    </tr>\n",
       "  </tbody>\n",
       "</table>\n",
       "</div>"
      ],
      "text/plain": [
       "          cwd__maximum-20062010  cwd__mean-20062010  cwd__median-20062010  \\\n",
       "pixel_id                                                                    \n",
       "134588                95.193573           10.808438                   0.0   \n",
       "134589               114.003502           20.163677                   0.0   \n",
       "134590               157.690506           24.496553                   0.0   \n",
       "134591               160.140396           25.144434                   0.0   \n",
       "134592               162.972397           26.338125                   0.0   \n",
       "\n",
       "          ppt__maximum-20062010  ppt__mean-20062010  ppt__median-20062010  \\\n",
       "pixel_id                                                                    \n",
       "134588               535.173157          154.437119            116.529739   \n",
       "134589               552.677979          161.583511            122.655746   \n",
       "134590               564.724487          166.094742            126.713501   \n",
       "134591               580.050781          172.390976            132.294403   \n",
       "134592               600.773621          179.457764            138.405792   \n",
       "\n",
       "          cwd__maximum-20112015  cwd__mean-20112015  cwd__median-20112015  \\\n",
       "pixel_id                                                                    \n",
       "134588                84.842857           16.329674                0.0000   \n",
       "134589                95.689499           25.205521                0.0000   \n",
       "134590               132.104996           26.933245                0.0000   \n",
       "134591               135.035995           26.979912                0.0000   \n",
       "134592               138.880005           27.230467                0.2344   \n",
       "\n",
       "          ppt__maximum-20112015  ppt__mean-20112015  ppt__median-20112015  \n",
       "pixel_id                                                                   \n",
       "134588               565.594971          150.687866            108.165001  \n",
       "134589               589.078491          156.253983            111.509003  \n",
       "134590               578.199524          152.994583            109.597748  \n",
       "134591               588.890015          155.064163            109.506195  \n",
       "134592               631.367188          165.473877            115.161003  "
      ]
     },
     "execution_count": 8,
     "metadata": {},
     "output_type": "execute_result"
    }
   ],
   "source": [
    "mask_attributes_df.head()"
   ]
  },
  {
   "cell_type": "code",
   "execution_count": 9,
   "metadata": {},
   "outputs": [
    {
     "data": {
      "text/html": [
       "<div>\n",
       "<style scoped>\n",
       "    .dataframe tbody tr th:only-of-type {\n",
       "        vertical-align: middle;\n",
       "    }\n",
       "\n",
       "    .dataframe tbody tr th {\n",
       "        vertical-align: top;\n",
       "    }\n",
       "\n",
       "    .dataframe thead th {\n",
       "        text-align: right;\n",
       "    }\n",
       "</style>\n",
       "<table border=\"1\" class=\"dataframe\">\n",
       "  <thead>\n",
       "    <tr style=\"text-align: right;\">\n",
       "      <th></th>\n",
       "      <th>Y-20062010</th>\n",
       "      <th>Y-20112015</th>\n",
       "    </tr>\n",
       "    <tr>\n",
       "      <th>pixel_id</th>\n",
       "      <th></th>\n",
       "      <th></th>\n",
       "    </tr>\n",
       "  </thead>\n",
       "  <tbody>\n",
       "    <tr>\n",
       "      <th>134588</th>\n",
       "      <td>0</td>\n",
       "      <td>0</td>\n",
       "    </tr>\n",
       "    <tr>\n",
       "      <th>134589</th>\n",
       "      <td>0</td>\n",
       "      <td>0</td>\n",
       "    </tr>\n",
       "    <tr>\n",
       "      <th>134590</th>\n",
       "      <td>0</td>\n",
       "      <td>0</td>\n",
       "    </tr>\n",
       "    <tr>\n",
       "      <th>134591</th>\n",
       "      <td>0</td>\n",
       "      <td>0</td>\n",
       "    </tr>\n",
       "    <tr>\n",
       "      <th>134592</th>\n",
       "      <td>0</td>\n",
       "      <td>0</td>\n",
       "    </tr>\n",
       "  </tbody>\n",
       "</table>\n",
       "</div>"
      ],
      "text/plain": [
       "          Y-20062010  Y-20112015\n",
       "pixel_id                        \n",
       "134588             0           0\n",
       "134589             0           0\n",
       "134590             0           0\n",
       "134591             0           0\n",
       "134592             0           0"
      ]
     },
     "execution_count": 9,
     "metadata": {},
     "output_type": "execute_result"
    }
   ],
   "source": [
    "mask_target_df.head()"
   ]
  },
  {
   "cell_type": "markdown",
   "metadata": {},
   "source": [
    "switch panel data from wide to long format"
   ]
  },
  {
   "cell_type": "code",
   "execution_count": 10,
   "metadata": {},
   "outputs": [
    {
     "name": "stdout",
     "output_type": "stream",
     "text": [
      "converted to long, indexes match\n"
     ]
    }
   ],
   "source": [
    "target_ln, features_ln = wide_to_long_target_features(target = mask_target_df,\n",
    "                                                      features = mask_attributes_df,\n",
    "                                                      sep='-')"
   ]
  },
  {
   "cell_type": "markdown",
   "metadata": {},
   "source": [
    "Show size and repeated obs by pixel cell"
   ]
  },
  {
   "cell_type": "code",
   "execution_count": 11,
   "metadata": {},
   "outputs": [
    {
     "data": {
      "text/html": [
       "<div>\n",
       "<style scoped>\n",
       "    .dataframe tbody tr th:only-of-type {\n",
       "        vertical-align: middle;\n",
       "    }\n",
       "\n",
       "    .dataframe tbody tr th {\n",
       "        vertical-align: top;\n",
       "    }\n",
       "\n",
       "    .dataframe thead th {\n",
       "        text-align: right;\n",
       "    }\n",
       "</style>\n",
       "<table border=\"1\" class=\"dataframe\">\n",
       "  <thead>\n",
       "    <tr style=\"text-align: right;\">\n",
       "      <th></th>\n",
       "      <th></th>\n",
       "      <th>cwd__maximum</th>\n",
       "      <th>ppt__maximum</th>\n",
       "      <th>ppt__median</th>\n",
       "      <th>ppt__mean</th>\n",
       "      <th>cwd__mean</th>\n",
       "      <th>cwd__median</th>\n",
       "    </tr>\n",
       "    <tr>\n",
       "      <th>pixel_id</th>\n",
       "      <th>time</th>\n",
       "      <th></th>\n",
       "      <th></th>\n",
       "      <th></th>\n",
       "      <th></th>\n",
       "      <th></th>\n",
       "      <th></th>\n",
       "    </tr>\n",
       "  </thead>\n",
       "  <tbody>\n",
       "    <tr>\n",
       "      <th rowspan=\"2\" valign=\"top\">134588</th>\n",
       "      <th>20062010</th>\n",
       "      <td>95.193573</td>\n",
       "      <td>535.173157</td>\n",
       "      <td>116.529739</td>\n",
       "      <td>154.437119</td>\n",
       "      <td>10.808438</td>\n",
       "      <td>0.0000</td>\n",
       "    </tr>\n",
       "    <tr>\n",
       "      <th>20112015</th>\n",
       "      <td>84.842857</td>\n",
       "      <td>565.594971</td>\n",
       "      <td>108.165001</td>\n",
       "      <td>150.687866</td>\n",
       "      <td>16.329674</td>\n",
       "      <td>0.0000</td>\n",
       "    </tr>\n",
       "    <tr>\n",
       "      <th rowspan=\"2\" valign=\"top\">134589</th>\n",
       "      <th>20062010</th>\n",
       "      <td>114.003502</td>\n",
       "      <td>552.677979</td>\n",
       "      <td>122.655746</td>\n",
       "      <td>161.583511</td>\n",
       "      <td>20.163677</td>\n",
       "      <td>0.0000</td>\n",
       "    </tr>\n",
       "    <tr>\n",
       "      <th>20112015</th>\n",
       "      <td>95.689499</td>\n",
       "      <td>589.078491</td>\n",
       "      <td>111.509003</td>\n",
       "      <td>156.253983</td>\n",
       "      <td>25.205521</td>\n",
       "      <td>0.0000</td>\n",
       "    </tr>\n",
       "    <tr>\n",
       "      <th rowspan=\"2\" valign=\"top\">134590</th>\n",
       "      <th>20062010</th>\n",
       "      <td>157.690506</td>\n",
       "      <td>564.724487</td>\n",
       "      <td>126.713501</td>\n",
       "      <td>166.094742</td>\n",
       "      <td>24.496553</td>\n",
       "      <td>0.0000</td>\n",
       "    </tr>\n",
       "    <tr>\n",
       "      <th>20112015</th>\n",
       "      <td>132.104996</td>\n",
       "      <td>578.199524</td>\n",
       "      <td>109.597748</td>\n",
       "      <td>152.994583</td>\n",
       "      <td>26.933245</td>\n",
       "      <td>0.0000</td>\n",
       "    </tr>\n",
       "    <tr>\n",
       "      <th rowspan=\"2\" valign=\"top\">134591</th>\n",
       "      <th>20062010</th>\n",
       "      <td>160.140396</td>\n",
       "      <td>580.050781</td>\n",
       "      <td>132.294403</td>\n",
       "      <td>172.390976</td>\n",
       "      <td>25.144434</td>\n",
       "      <td>0.0000</td>\n",
       "    </tr>\n",
       "    <tr>\n",
       "      <th>20112015</th>\n",
       "      <td>135.035995</td>\n",
       "      <td>588.890015</td>\n",
       "      <td>109.506195</td>\n",
       "      <td>155.064163</td>\n",
       "      <td>26.979912</td>\n",
       "      <td>0.0000</td>\n",
       "    </tr>\n",
       "    <tr>\n",
       "      <th rowspan=\"2\" valign=\"top\">134592</th>\n",
       "      <th>20062010</th>\n",
       "      <td>162.972397</td>\n",
       "      <td>600.773621</td>\n",
       "      <td>138.405792</td>\n",
       "      <td>179.457764</td>\n",
       "      <td>26.338125</td>\n",
       "      <td>0.0000</td>\n",
       "    </tr>\n",
       "    <tr>\n",
       "      <th>20112015</th>\n",
       "      <td>138.880005</td>\n",
       "      <td>631.367188</td>\n",
       "      <td>115.161003</td>\n",
       "      <td>165.473877</td>\n",
       "      <td>27.230467</td>\n",
       "      <td>0.2344</td>\n",
       "    </tr>\n",
       "  </tbody>\n",
       "</table>\n",
       "</div>"
      ],
      "text/plain": [
       "                   cwd__maximum  ppt__maximum  ppt__median   ppt__mean  \\\n",
       "pixel_id time                                                            \n",
       "134588   20062010     95.193573    535.173157   116.529739  154.437119   \n",
       "         20112015     84.842857    565.594971   108.165001  150.687866   \n",
       "134589   20062010    114.003502    552.677979   122.655746  161.583511   \n",
       "         20112015     95.689499    589.078491   111.509003  156.253983   \n",
       "134590   20062010    157.690506    564.724487   126.713501  166.094742   \n",
       "         20112015    132.104996    578.199524   109.597748  152.994583   \n",
       "134591   20062010    160.140396    580.050781   132.294403  172.390976   \n",
       "         20112015    135.035995    588.890015   109.506195  155.064163   \n",
       "134592   20062010    162.972397    600.773621   138.405792  179.457764   \n",
       "         20112015    138.880005    631.367188   115.161003  165.473877   \n",
       "\n",
       "                   cwd__mean  cwd__median  \n",
       "pixel_id time                              \n",
       "134588   20062010  10.808438       0.0000  \n",
       "         20112015  16.329674       0.0000  \n",
       "134589   20062010  20.163677       0.0000  \n",
       "         20112015  25.205521       0.0000  \n",
       "134590   20062010  24.496553       0.0000  \n",
       "         20112015  26.933245       0.0000  \n",
       "134591   20062010  25.144434       0.0000  \n",
       "         20112015  26.979912       0.0000  \n",
       "134592   20062010  26.338125       0.0000  \n",
       "         20112015  27.230467       0.2344  "
      ]
     },
     "execution_count": 11,
     "metadata": {},
     "output_type": "execute_result"
    }
   ],
   "source": [
    "features_ln.sort_index().head(10)"
   ]
  },
  {
   "cell_type": "code",
   "execution_count": 12,
   "metadata": {},
   "outputs": [
    {
     "data": {
      "text/html": [
       "<div>\n",
       "<style scoped>\n",
       "    .dataframe tbody tr th:only-of-type {\n",
       "        vertical-align: middle;\n",
       "    }\n",
       "\n",
       "    .dataframe tbody tr th {\n",
       "        vertical-align: top;\n",
       "    }\n",
       "\n",
       "    .dataframe thead th {\n",
       "        text-align: right;\n",
       "    }\n",
       "</style>\n",
       "<table border=\"1\" class=\"dataframe\">\n",
       "  <thead>\n",
       "    <tr style=\"text-align: right;\">\n",
       "      <th></th>\n",
       "      <th></th>\n",
       "      <th>Y</th>\n",
       "    </tr>\n",
       "    <tr>\n",
       "      <th>pixel_id</th>\n",
       "      <th>time</th>\n",
       "      <th></th>\n",
       "    </tr>\n",
       "  </thead>\n",
       "  <tbody>\n",
       "    <tr>\n",
       "      <th rowspan=\"2\" valign=\"top\">134588</th>\n",
       "      <th>20062010</th>\n",
       "      <td>0</td>\n",
       "    </tr>\n",
       "    <tr>\n",
       "      <th>20112015</th>\n",
       "      <td>0</td>\n",
       "    </tr>\n",
       "    <tr>\n",
       "      <th rowspan=\"2\" valign=\"top\">134589</th>\n",
       "      <th>20062010</th>\n",
       "      <td>0</td>\n",
       "    </tr>\n",
       "    <tr>\n",
       "      <th>20112015</th>\n",
       "      <td>0</td>\n",
       "    </tr>\n",
       "    <tr>\n",
       "      <th rowspan=\"2\" valign=\"top\">134590</th>\n",
       "      <th>20062010</th>\n",
       "      <td>0</td>\n",
       "    </tr>\n",
       "    <tr>\n",
       "      <th>20112015</th>\n",
       "      <td>0</td>\n",
       "    </tr>\n",
       "    <tr>\n",
       "      <th rowspan=\"2\" valign=\"top\">134591</th>\n",
       "      <th>20062010</th>\n",
       "      <td>0</td>\n",
       "    </tr>\n",
       "    <tr>\n",
       "      <th>20112015</th>\n",
       "      <td>0</td>\n",
       "    </tr>\n",
       "    <tr>\n",
       "      <th rowspan=\"2\" valign=\"top\">134592</th>\n",
       "      <th>20062010</th>\n",
       "      <td>0</td>\n",
       "    </tr>\n",
       "    <tr>\n",
       "      <th>20112015</th>\n",
       "      <td>0</td>\n",
       "    </tr>\n",
       "  </tbody>\n",
       "</table>\n",
       "</div>"
      ],
      "text/plain": [
       "                   Y\n",
       "pixel_id time       \n",
       "134588   20062010  0\n",
       "         20112015  0\n",
       "134589   20062010  0\n",
       "         20112015  0\n",
       "134590   20062010  0\n",
       "         20112015  0\n",
       "134591   20062010  0\n",
       "         20112015  0\n",
       "134592   20062010  0\n",
       "         20112015  0"
      ]
     },
     "execution_count": 12,
     "metadata": {},
     "output_type": "execute_result"
    }
   ],
   "source": [
    "target_ln.sort_index().head(10)"
   ]
  },
  {
   "cell_type": "markdown",
   "metadata": {},
   "source": [
    "### add temporal lagged variables "
   ]
  },
  {
   "cell_type": "code",
   "execution_count": 13,
   "metadata": {},
   "outputs": [],
   "source": [
    "\n",
    "lag_vars = ['ppt__median',\n",
    " 'cwd__mean',\n",
    " 'cwd__maximum']    \n",
    "\n",
    "\n",
    "features_ln = panel_lag_1(features_ln, \n",
    "                          col_names=lag_vars, \n",
    "                          group_by_index ='pixel_id')\n",
    "\n",
    "\n",
    "\n",
    "# ADDING two copies of cwd_mean_1"
   ]
  },
  {
   "cell_type": "markdown",
   "metadata": {},
   "source": [
    "adding a temporal lag implies that one time period will be lost"
   ]
  },
  {
   "cell_type": "code",
   "execution_count": 14,
   "metadata": {},
   "outputs": [
    {
     "data": {
      "text/html": [
       "<div>\n",
       "<style scoped>\n",
       "    .dataframe tbody tr th:only-of-type {\n",
       "        vertical-align: middle;\n",
       "    }\n",
       "\n",
       "    .dataframe tbody tr th {\n",
       "        vertical-align: top;\n",
       "    }\n",
       "\n",
       "    .dataframe thead th {\n",
       "        text-align: right;\n",
       "    }\n",
       "</style>\n",
       "<table border=\"1\" class=\"dataframe\">\n",
       "  <thead>\n",
       "    <tr style=\"text-align: right;\">\n",
       "      <th></th>\n",
       "      <th></th>\n",
       "      <th>cwd__maximum</th>\n",
       "      <th>ppt__maximum</th>\n",
       "      <th>ppt__median</th>\n",
       "      <th>ppt__mean</th>\n",
       "      <th>cwd__mean</th>\n",
       "      <th>cwd__median</th>\n",
       "      <th>cwd__mean_1</th>\n",
       "      <th>cwd__maximum_1</th>\n",
       "      <th>ppt__median_1</th>\n",
       "    </tr>\n",
       "    <tr>\n",
       "      <th>pixel_id</th>\n",
       "      <th>time</th>\n",
       "      <th></th>\n",
       "      <th></th>\n",
       "      <th></th>\n",
       "      <th></th>\n",
       "      <th></th>\n",
       "      <th></th>\n",
       "      <th></th>\n",
       "      <th></th>\n",
       "      <th></th>\n",
       "    </tr>\n",
       "  </thead>\n",
       "  <tbody>\n",
       "    <tr>\n",
       "      <th>134588</th>\n",
       "      <th>20112015</th>\n",
       "      <td>84.842857</td>\n",
       "      <td>565.594971</td>\n",
       "      <td>108.165001</td>\n",
       "      <td>150.687866</td>\n",
       "      <td>16.329674</td>\n",
       "      <td>0.0000</td>\n",
       "      <td>10.808438</td>\n",
       "      <td>95.193573</td>\n",
       "      <td>116.529739</td>\n",
       "    </tr>\n",
       "    <tr>\n",
       "      <th>134589</th>\n",
       "      <th>20112015</th>\n",
       "      <td>95.689499</td>\n",
       "      <td>589.078491</td>\n",
       "      <td>111.509003</td>\n",
       "      <td>156.253983</td>\n",
       "      <td>25.205521</td>\n",
       "      <td>0.0000</td>\n",
       "      <td>20.163677</td>\n",
       "      <td>114.003502</td>\n",
       "      <td>122.655746</td>\n",
       "    </tr>\n",
       "    <tr>\n",
       "      <th>134590</th>\n",
       "      <th>20112015</th>\n",
       "      <td>132.104996</td>\n",
       "      <td>578.199524</td>\n",
       "      <td>109.597748</td>\n",
       "      <td>152.994583</td>\n",
       "      <td>26.933245</td>\n",
       "      <td>0.0000</td>\n",
       "      <td>24.496553</td>\n",
       "      <td>157.690506</td>\n",
       "      <td>126.713501</td>\n",
       "    </tr>\n",
       "    <tr>\n",
       "      <th>134591</th>\n",
       "      <th>20112015</th>\n",
       "      <td>135.035995</td>\n",
       "      <td>588.890015</td>\n",
       "      <td>109.506195</td>\n",
       "      <td>155.064163</td>\n",
       "      <td>26.979912</td>\n",
       "      <td>0.0000</td>\n",
       "      <td>25.144434</td>\n",
       "      <td>160.140396</td>\n",
       "      <td>132.294403</td>\n",
       "    </tr>\n",
       "    <tr>\n",
       "      <th>134592</th>\n",
       "      <th>20112015</th>\n",
       "      <td>138.880005</td>\n",
       "      <td>631.367188</td>\n",
       "      <td>115.161003</td>\n",
       "      <td>165.473877</td>\n",
       "      <td>27.230467</td>\n",
       "      <td>0.2344</td>\n",
       "      <td>26.338125</td>\n",
       "      <td>162.972397</td>\n",
       "      <td>138.405792</td>\n",
       "    </tr>\n",
       "  </tbody>\n",
       "</table>\n",
       "</div>"
      ],
      "text/plain": [
       "                   cwd__maximum  ppt__maximum  ppt__median   ppt__mean  \\\n",
       "pixel_id time                                                            \n",
       "134588   20112015     84.842857    565.594971   108.165001  150.687866   \n",
       "134589   20112015     95.689499    589.078491   111.509003  156.253983   \n",
       "134590   20112015    132.104996    578.199524   109.597748  152.994583   \n",
       "134591   20112015    135.035995    588.890015   109.506195  155.064163   \n",
       "134592   20112015    138.880005    631.367188   115.161003  165.473877   \n",
       "\n",
       "                   cwd__mean  cwd__median  cwd__mean_1  cwd__maximum_1  \\\n",
       "pixel_id time                                                            \n",
       "134588   20112015  16.329674       0.0000    10.808438       95.193573   \n",
       "134589   20112015  25.205521       0.0000    20.163677      114.003502   \n",
       "134590   20112015  26.933245       0.0000    24.496553      157.690506   \n",
       "134591   20112015  26.979912       0.0000    25.144434      160.140396   \n",
       "134592   20112015  27.230467       0.2344    26.338125      162.972397   \n",
       "\n",
       "                   ppt__median_1  \n",
       "pixel_id time                     \n",
       "134588   20112015     116.529739  \n",
       "134589   20112015     122.655746  \n",
       "134590   20112015     126.713501  \n",
       "134591   20112015     132.294403  \n",
       "134592   20112015     138.405792  "
      ]
     },
     "execution_count": 14,
     "metadata": {},
     "output_type": "execute_result"
    }
   ],
   "source": [
    "features_ln.head()"
   ]
  },
  {
   "cell_type": "markdown",
   "metadata": {},
   "source": [
    "join and test train split yX data, define groups of independent objects by pixel id"
   ]
  },
  {
   "cell_type": "markdown",
   "metadata": {},
   "source": [
    "although not case here, you will typically have multiple observations from a single pixel, therefore it is important to group by pixel_id index, this ensures that each pixel is only included in either the training or testing data"
   ]
  },
  {
   "cell_type": "code",
   "execution_count": 15,
   "metadata": {},
   "outputs": [
    {
     "name": "stdout",
     "output_type": "stream",
     "text": [
      "input should be csv or pandas dataframe with yX, or [y,X]\n",
      "reading in list concat on common index, inner join\n",
      "ERROR: need to figure out groups with stratification by y\n"
     ]
    }
   ],
   "source": [
    "obj = [target_ln,features_ln]\n",
    "\n",
    "X_train, X_test, y_train, y_test = md.get_data(obj,\n",
    "                                            stratify=True,\n",
    "                                            test_size=0.9,\n",
    "                                            scale=False,\n",
    "                                            groups =  features_ln.index.get_level_values('pixel_id') )"
   ]
  },
  {
   "cell_type": "markdown",
   "metadata": {},
   "source": [
    "### Filter variables and train model"
   ]
  },
  {
   "cell_type": "markdown",
   "metadata": {},
   "source": [
    "Find relevant variables and combine Y and X data"
   ]
  },
  {
   "cell_type": "code",
   "execution_count": 16,
   "metadata": {},
   "outputs": [
    {
     "name": "stdout",
     "output_type": "stream",
     "text": [
      "                       feature  type  p_value  relevant\n",
      "feature                                                \n",
      "cwd__maximum      cwd__maximum  real      0.0      True\n",
      "ppt__maximum      ppt__maximum  real      0.0      True\n",
      "ppt__median        ppt__median  real      0.0      True\n",
      "ppt__mean            ppt__mean  real      0.0      True\n",
      "cwd__mean            cwd__mean  real      0.0      True\n",
      "cwd__median        cwd__median  real      0.0      True\n",
      "cwd__mean_1        cwd__mean_1  real      0.0      True\n",
      "cwd__maximum_1  cwd__maximum_1  real      0.0      True\n",
      "ppt__median_1    ppt__median_1  real      0.0      True\n"
     ]
    }
   ],
   "source": [
    "relevant_vars, X_train_relevant = checkRelevance2(x=X_train,\n",
    "                                                  y=y_train,\n",
    "                                                  fdr_level=0.01) \n",
    "print(relevant_vars)\n",
    "\n",
    "X_test_relevant = X_test[X_train_relevant.columns]"
   ]
  },
  {
   "cell_type": "markdown",
   "metadata": {},
   "source": [
    "train a gradient booster classifier "
   ]
  },
  {
   "cell_type": "code",
   "execution_count": 17,
   "metadata": {},
   "outputs": [],
   "source": [
    "clf = GradientBoostingClassifier(n_estimators=400, learning_rate=0.1,\n",
    "                                 max_depth=2, random_state=0)\\\n",
    "                                .fit(X_train[X_train_relevant.columns], y_train)"
   ]
  },
  {
   "cell_type": "code",
   "execution_count": 18,
   "metadata": {},
   "outputs": [
    {
     "data": {
      "text/plain": [
       "Index(['cwd__maximum', 'ppt__maximum', 'ppt__median', 'ppt__mean', 'cwd__mean',\n",
       "       'cwd__median', 'cwd__mean_1', 'cwd__maximum_1', 'ppt__median_1'],\n",
       "      dtype='object')"
      ]
     },
     "execution_count": 18,
     "metadata": {},
     "output_type": "execute_result"
    }
   ],
   "source": [
    "X_train_relevant.columns"
   ]
  },
  {
   "cell_type": "code",
   "execution_count": 19,
   "metadata": {},
   "outputs": [
    {
     "name": "stdout",
     "output_type": "stream",
     "text": [
      "Testing accuracy: 0.9720368295415793\n",
      "Testing Kappa:  0.014021813029466368\n",
      "Testing Conf: \n",
      "[[79795     7]\n",
      " [ 2289    17]]\n"
     ]
    }
   ],
   "source": [
    "predict_test = clf.predict(X=X_test[X_train_relevant.columns])\n",
    "\n",
    "test_acc = accuracy_score(y_test, predict_test)\n",
    "kappa = cohen_kappa_score(y_test, predict_test)\n",
    "confusion = confusion_matrix(y_test, predict_test)\n",
    "\n",
    "print('Testing accuracy:',test_acc)\n",
    "print('Testing Kappa: ',kappa)\n",
    "print('Testing Conf: ')\n",
    "print(confusion)"
   ]
  },
  {
   "cell_type": "markdown",
   "metadata": {},
   "source": [
    "Look at feature importance"
   ]
  },
  {
   "cell_type": "code",
   "execution_count": 20,
   "metadata": {},
   "outputs": [
    {
     "name": "stdout",
     "output_type": "stream",
     "text": [
      "                importance\n",
      "cwd__mean         0.208788\n",
      "ppt__median_1     0.177789\n",
      "ppt__maximum      0.165352\n",
      "ppt__mean         0.142789\n",
      "ppt__median       0.115897\n",
      "cwd__maximum      0.068204\n",
      "cwd__maximum_1    0.045207\n",
      "cwd__mean_1       0.043384\n",
      "cwd__median       0.032589\n"
     ]
    },
    {
     "data": {
      "text/plain": [
       "(9, 1)"
      ]
     },
     "execution_count": 20,
     "metadata": {},
     "output_type": "execute_result"
    }
   ],
   "source": [
    "feature_importances = pd.DataFrame(clf.feature_importances_,\n",
    "                                   index = X_test_relevant.columns,\n",
    "                                    columns=['importance']).sort_values('importance', ascending=False)\n",
    " \n",
    "print(feature_importances.head(10))\n",
    "feature_importances.shape"
   ]
  },
  {
   "cell_type": "markdown",
   "metadata": {},
   "source": [
    "predict to all observations in panel\n",
    "get predicted class and probability of class"
   ]
  },
  {
   "cell_type": "code",
   "execution_count": 21,
   "metadata": {},
   "outputs": [
    {
     "name": "stdout",
     "output_type": "stream",
     "text": [
      "(410537, 9)\n",
      "(82108, 9)\n",
      "Index(['cwd__maximum', 'ppt__maximum', 'ppt__median', 'ppt__mean', 'cwd__mean',\n",
      "       'cwd__median', 'cwd__mean_1', 'cwd__maximum_1', 'ppt__median_1'],\n",
      "      dtype='object')\n",
      "Index(['cwd__maximum', 'ppt__maximum', 'ppt__median', 'ppt__mean', 'cwd__mean',\n",
      "       'cwd__median', 'cwd__mean_1', 'cwd__maximum_1', 'ppt__median_1'],\n",
      "      dtype='object')\n"
     ]
    }
   ],
   "source": [
    "print(features_ln[X_train_relevant.columns].shape)\n",
    "print(X_test[X_train_relevant.columns].shape)\n",
    "print(features_ln[X_train_relevant.columns].columns)\n",
    "print(X_test[X_train_relevant.columns].columns)"
   ]
  },
  {
   "cell_type": "code",
   "execution_count": 22,
   "metadata": {},
   "outputs": [],
   "source": [
    "concatenated_df_predict = md.model_predict(model = clf,\n",
    "                                            new_X = features_ln[X_train_relevant.columns])\n",
    "\n",
    "concatenated_df_prob =  md.model_predict_prob(model = clf,\n",
    "                                        new_X = features_ln[X_train_relevant.columns])"
   ]
  },
  {
   "cell_type": "markdown",
   "metadata": {},
   "source": [
    "isolate one 5 year period for mapping \n"
   ]
  },
  {
   "cell_type": "code",
   "execution_count": 25,
   "metadata": {},
   "outputs": [
    {
     "name": "stdout",
     "output_type": "stream",
     "text": [
      "                   0              1\n",
      "count  410537.000000  410537.000000\n",
      "mean        0.972245       0.027755\n",
      "std         0.047635       0.047635\n",
      "min         0.000160       0.000091\n",
      "25%         0.967403       0.002601\n",
      "50%         0.990246       0.009754\n",
      "75%         0.997399       0.032597\n",
      "max         0.999909       0.999840\n"
     ]
    }
   ],
   "source": [
    "concatenated_df_prob_2011 = concatenated_df_prob.query('time == \"20112015\" ')\n",
    "\n",
    "print(concatenated_df_prob_2011.describe())"
   ]
  },
  {
   "cell_type": "markdown",
   "metadata": {},
   "source": [
    "unmask values "
   ]
  },
  {
   "cell_type": "code",
   "execution_count": 46,
   "metadata": {},
   "outputs": [
    {
     "data": {
      "text/html": [
       "<div>\n",
       "<style scoped>\n",
       "    .dataframe tbody tr th:only-of-type {\n",
       "        vertical-align: middle;\n",
       "    }\n",
       "\n",
       "    .dataframe tbody tr th {\n",
       "        vertical-align: top;\n",
       "    }\n",
       "\n",
       "    .dataframe thead th {\n",
       "        text-align: right;\n",
       "    }\n",
       "</style>\n",
       "<table border=\"1\" class=\"dataframe\">\n",
       "  <thead>\n",
       "    <tr style=\"text-align: right;\">\n",
       "      <th></th>\n",
       "      <th>time</th>\n",
       "      <th>0</th>\n",
       "      <th>1</th>\n",
       "      <th>value</th>\n",
       "    </tr>\n",
       "    <tr>\n",
       "      <th>pixel_id</th>\n",
       "      <th></th>\n",
       "      <th></th>\n",
       "      <th></th>\n",
       "      <th></th>\n",
       "    </tr>\n",
       "  </thead>\n",
       "  <tbody>\n",
       "    <tr>\n",
       "      <th>0</th>\n",
       "      <td>-9999</td>\n",
       "      <td>-9999.0</td>\n",
       "      <td>-9999.0</td>\n",
       "      <td>-9999</td>\n",
       "    </tr>\n",
       "    <tr>\n",
       "      <th>1</th>\n",
       "      <td>-9999</td>\n",
       "      <td>-9999.0</td>\n",
       "      <td>-9999.0</td>\n",
       "      <td>-9999</td>\n",
       "    </tr>\n",
       "    <tr>\n",
       "      <th>2</th>\n",
       "      <td>-9999</td>\n",
       "      <td>-9999.0</td>\n",
       "      <td>-9999.0</td>\n",
       "      <td>-9999</td>\n",
       "    </tr>\n",
       "    <tr>\n",
       "      <th>3</th>\n",
       "      <td>-9999</td>\n",
       "      <td>-9999.0</td>\n",
       "      <td>-9999.0</td>\n",
       "      <td>-9999</td>\n",
       "    </tr>\n",
       "    <tr>\n",
       "      <th>4</th>\n",
       "      <td>-9999</td>\n",
       "      <td>-9999.0</td>\n",
       "      <td>-9999.0</td>\n",
       "      <td>-9999</td>\n",
       "    </tr>\n",
       "  </tbody>\n",
       "</table>\n",
       "</div>"
      ],
      "text/plain": [
       "          time       0       1  value\n",
       "pixel_id                             \n",
       "0        -9999 -9999.0 -9999.0  -9999\n",
       "1        -9999 -9999.0 -9999.0  -9999\n",
       "2        -9999 -9999.0 -9999.0  -9999\n",
       "3        -9999 -9999.0 -9999.0  -9999\n",
       "4        -9999 -9999.0 -9999.0  -9999"
      ]
     },
     "execution_count": 46,
     "metadata": {},
     "output_type": "execute_result"
    }
   ],
   "source": [
    "unmask_concatenated_df_prob_2011 = unmask_df(original_df = concatenated_attribute_df, \n",
    "                                                mask_df_output = concatenated_df_prob_2011)\n",
    "unmask_concatenated_df_prob_2011.head()"
   ]
  },
  {
   "cell_type": "code",
   "execution_count": 43,
   "metadata": {},
   "outputs": [
    {
     "data": {
      "text/plain": [
       "count    1.137669e+06\n",
       "mean    -6.390770e+03\n",
       "std      4.802029e+03\n",
       "min     -9.999000e+03\n",
       "25%     -9.999000e+03\n",
       "50%     -9.999000e+03\n",
       "75%      3.915681e-03\n",
       "max      9.998403e-01\n",
       "Name: 1, dtype: float64"
      ]
     },
     "execution_count": 43,
     "metadata": {},
     "output_type": "execute_result"
    }
   ],
   "source": [
    "unmask_concatenated_df_prob_2011[1].describe()"
   ]
  },
  {
   "cell_type": "code",
   "execution_count": 47,
   "metadata": {},
   "outputs": [
    {
     "name": "stderr",
     "output_type": "stream",
     "text": [
      "C:\\Users\\mmann\\AppData\\Local\\Continuum\\anaconda2\\envs\\ts-rasterv2\\lib\\site-packages\\ipykernel\\__main__.py:3: SettingWithCopyWarning: \n",
      "A value is trying to be set on a copy of a slice from a DataFrame\n",
      "\n",
      "See the caveats in the documentation: http://pandas.pydata.org/pandas-docs/stable/indexing.html#indexing-view-versus-copy\n",
      "  app.launch_new_instance()\n"
     ]
    },
    {
     "data": {
      "text/plain": [
       "count    410537.000000\n",
       "mean          0.027755\n",
       "std           0.047635\n",
       "min           0.000091\n",
       "25%           0.002601\n",
       "50%           0.009754\n",
       "75%           0.032597\n",
       "max           0.999840\n",
       "Name: 1, dtype: float64"
      ]
     },
     "execution_count": 47,
     "metadata": {},
     "output_type": "execute_result"
    }
   ],
   "source": [
    "# keep only class prob of fire event \n",
    "prob_2011 = unmask_concatenated_df_prob_2011[1]  # column is named 1\n",
    "prob_2011[prob_2011 == -9999 ]= NaN \n",
    "\n",
    "prob_2011.describe()"
   ]
  },
  {
   "cell_type": "markdown",
   "metadata": {},
   "source": [
    "### rasterize and plot prediction"
   ]
  },
  {
   "cell_type": "code",
   "execution_count": 48,
   "metadata": {},
   "outputs": [
    {
     "data": {
      "image/png": "[encoded data removed]",
      "text/plain": [
       "<Figure size 432x288 with 2 Axes>"
      ]
     },
     "metadata": {
      "needs_background": "light"
     },
     "output_type": "display_data"
    }
   ],
   "source": [
    "raster_ex = \"F:/5year/aet/aet-201201.tif\"\n",
    "ex_row, ex_cols =  rasterio.open(raster_ex).shape\n",
    "\n",
    "f2Array = prob_2011.values.reshape(ex_row, ex_cols)\n",
    " # Plot the grid\n",
    "\n",
    "plt.imshow(f2Array)\n",
    "plt.set_cmap(\"Reds\")\n",
    "plt.colorbar( )\n",
    "plt.show()"
   ]
  },
  {
   "cell_type": "markdown",
   "metadata": {},
   "source": [
    "compare to actual"
   ]
  },
  {
   "cell_type": "code",
   "execution_count": 49,
   "metadata": {},
   "outputs": [
    {
     "data": {
      "image/png": "[encoded data removed]",
      "text/plain": [
       "<Figure size 432x288 with 1 Axes>"
      ]
     },
     "metadata": {
      "needs_background": "light"
     },
     "output_type": "display_data"
    }
   ],
   "source": [
    "\n",
    "path = r\"G:\\Fire_target_train\\fire_1996_2000.tif\"\n",
    "image_name = tr.image_names(path)\n",
    "rasters = tr.image_to_array(path)[:,:,0]\n",
    "rasters[isnan(f2Array)] = NaN\n",
    "\n",
    "plt.imshow(rasters)\n",
    "plt.set_cmap(\"Reds\")\n",
    "plt.show()\n"
   ]
  },
  {
   "cell_type": "code",
   "execution_count": null,
   "metadata": {},
   "outputs": [],
   "source": [
    " "
   ]
  },
  {
   "cell_type": "raw",
   "metadata": {},
   "source": []
  }
 ],
 "metadata": {
  "kernelspec": {
   "display_name": "Python [conda env:ts-rasterv2]",
   "language": "python",
   "name": "conda-env-ts-rasterv2-py"
  },
  "language_info": {
   "codemirror_mode": {
    "name": "ipython",
    "version": 3
   },
   "file_extension": ".py",
   "mimetype": "text/x-python",
   "name": "python",
   "nbconvert_exporter": "python",
   "pygments_lexer": "ipython3",
   "version": "3.6.7"
  }
 },
 "nbformat": 4,
 "nbformat_minor": 2
}
