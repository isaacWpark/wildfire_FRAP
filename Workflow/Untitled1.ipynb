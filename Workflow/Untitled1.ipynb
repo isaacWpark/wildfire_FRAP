{
 "cells": [
  {
   "cell_type": "code",
   "execution_count": 2,
   "metadata": {},
   "outputs": [],
   "source": [
    "import gdal\n",
    "\n"
   ]
  },
  {
   "cell_type": "code",
   "execution_count": 6,
   "metadata": {},
   "outputs": [
    {
     "name": "stdout",
     "output_type": "stream",
     "text": [
      "<osgeo.gdal.Dataset; proxy of <Swig Object of type 'GDALDatasetShadow *' at 0x00000000052A75D0> >\n"
     ]
    }
   ],
   "source": [
    "# open the HDF container\n",
    "hdf_ds = gdal.Open(\"C:/Users/Python3/Documents/wildfire_FRAP/Data/Actual/Lightning/2018_Downloads/LISOTD_HRFC_V2.3.2015.hdf\")\n",
    "print(hdf_ds)\n"
   ]
  },
  {
   "cell_type": "code",
   "execution_count": 8,
   "metadata": {},
   "outputs": [
    {
     "name": "stdout",
     "output_type": "stream",
     "text": [
      "HDF4_SDS:UNKNOWN:\"C:/Users/Python3/Documents/wildfire_FRAP/Data/Actual/Lightning/2018_Downloads/LISOTD_HRFC_V2.3.2015.hdf\":6\n"
     ]
    }
   ],
   "source": [
    "# this is just a string of the name of the subdataset\n",
    "b3_string = hdf_ds.GetSubDatasets()[4][0]\n",
    "\n",
    "print(b3_string)"
   ]
  },
  {
   "cell_type": "code",
   "execution_count": 15,
   "metadata": {},
   "outputs": [
    {
     "name": "stdout",
     "output_type": "stream",
     "text": [
      "<osgeo.gdal.Dataset; proxy of <Swig Object of type 'GDALDatasetShadow *' at 0x000000000524BB10> >\n"
     ]
    }
   ],
   "source": [
    "# open the subdataset\n",
    "sds_b3 = gdal.Open(hdf_ds.GetSubDatasets()[2][0])\n",
    "print(sds_b3)\n"
   ]
  },
  {
   "cell_type": "code",
   "execution_count": 16,
   "metadata": {},
   "outputs": [
    {
     "name": "stdout",
     "output_type": "stream",
     "text": [
      "\n"
     ]
    },
    {
     "data": {
      "text/plain": [
       "''"
      ]
     },
     "execution_count": 16,
     "metadata": {},
     "output_type": "execute_result"
    }
   ],
   "source": [
    "# get the projection\n",
    "proj = sds_b3.GetProjection()\n",
    "print(proj)\n",
    "proj"
   ]
  },
  {
   "cell_type": "code",
   "execution_count": 5,
   "metadata": {},
   "outputs": [
    {
     "ename": "SyntaxError",
     "evalue": "invalid syntax (<ipython-input-5-0cb160d23e69>, line 1)",
     "output_type": "error",
     "traceback": [
      "\u001b[1;36m  File \u001b[1;32m\"<ipython-input-5-0cb160d23e69>\"\u001b[1;36m, line \u001b[1;32m1\u001b[0m\n\u001b[1;33m    gdal.gdaltranslate(HDF4_EOS:EOS_GRID:\"C:/Users/Python3/Documents/wildfire_FRAP/Data/Actual/Lightning/2018_Downloads/LISOTD_HRFC_V2.3.2015.hdf\":HRFC_COM_FR.tiff)\u001b[0m\n\u001b[1;37m                               ^\u001b[0m\n\u001b[1;31mSyntaxError\u001b[0m\u001b[1;31m:\u001b[0m invalid syntax\n"
     ]
    }
   ],
   "source": [
    "gdal.gdaltranslate(HDF4_EOS:EOS_GRID:\"C:/Users/Python3/Documents/wildfire_FRAP/Data/Actual/Lightning/2018_Downloads/LISOTD_HRFC_V2.3.2015.hdf\":HRFC_COM_FR.tiff)\n",
    "\n",
    "#gdaltranslate  HDF4_EOS:EOS_GRID:\"/path/to/file/MOD11A1.A2012193.h00v08.005.2012196013548.hdf\":MODIS_Grid_Daily_1km_LST:LST_Day_1km out.tiff"
   ]
  },
  {
   "cell_type": "code",
   "execution_count": null,
   "metadata": {},
   "outputs": [],
   "source": []
  }
 ],
 "metadata": {
  "kernelspec": {
   "display_name": "Python 3",
   "language": "python",
   "name": "python3"
  },
  "language_info": {
   "codemirror_mode": {
    "name": "ipython",
    "version": 3
   },
   "file_extension": ".py",
   "mimetype": "text/x-python",
   "name": "python",
   "nbconvert_exporter": "python",
   "pygments_lexer": "ipython3",
   "version": "3.6.8"
  }
 },
 "nbformat": 4,
 "nbformat_minor": 2
}
