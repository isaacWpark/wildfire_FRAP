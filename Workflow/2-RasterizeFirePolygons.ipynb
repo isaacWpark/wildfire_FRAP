{
 "cells": [
  {
   "cell_type": "markdown",
   "metadata": {},
   "source": [
    "## Create Example - Rasterize Single Year of Fire Data"
   ]
  },
  {
   "cell_type": "code",
   "execution_count": 3,
   "metadata": {},
   "outputs": [],
   "source": [
    "#https://gis.stackexchange.com/questions/151339/rasterize-a-shapefile-with-geopandas-or-fiona-python\n",
    "# use env:gdal_env_2.7v.2\n",
    "import geopandas as gpd\n",
    "import rasterio\n",
    "from rasterio import features\n",
    "import numpy as np\n",
    "import os\n",
    "from glob import glob\n"
   ]
  },
  {
   "cell_type": "markdown",
   "metadata": {},
   "source": [
    "Set up your filenames"
   ]
  },
  {
   "cell_type": "code",
   "execution_count": 6,
   "metadata": {},
   "outputs": [],
   "source": [
    "shp_fn = r'../Data/Actual/Fires/fire17_1.shp'"
   ]
  },
  {
   "cell_type": "markdown",
   "metadata": {},
   "source": [
    "Open the file with GeoPANDAS read_file"
   ]
  },
  {
   "cell_type": "code",
   "execution_count": 7,
   "metadata": {},
   "outputs": [],
   "source": [
    "fires = gpd.read_file(shp_fn)   \n"
   ]
  },
  {
   "cell_type": "markdown",
   "metadata": {},
   "source": [
    "CHeck and fix datatype issues"
   ]
  },
  {
   "cell_type": "code",
   "execution_count": 4,
   "metadata": {},
   "outputs": [],
   "source": [
    "#print fires.columns\n",
    "#fires['YEAR_'].head()\n",
    "#fires.YEAR_.unique()"
   ]
  },
  {
   "cell_type": "code",
   "execution_count": 4,
   "metadata": {},
   "outputs": [
    {
     "name": "stdout",
     "output_type": "stream",
     "text": [
      "YEAR_        object\n",
      "STATE        object\n",
      "AGENCY       object\n",
      "UNIT_ID      object\n",
      "FIRE_NAME    object\n",
      "dtype: object\n"
     ]
    }
   ],
   "source": [
    "print fires.dtypes.head()"
   ]
  },
  {
   "cell_type": "code",
   "execution_count": 5,
   "metadata": {},
   "outputs": [
    {
     "name": "stdout",
     "output_type": "stream",
     "text": [
      "YEAR_         int32\n",
      "STATE        object\n",
      "AGENCY       object\n",
      "UNIT_ID      object\n",
      "FIRE_NAME    object\n",
      "dtype: object\n"
     ]
    }
   ],
   "source": [
    "# subset to year and convert to integer\n",
    "fires = fires[fires['YEAR_'].isin(['1984'])]\n",
    "fires['YEAR_'] = fires['YEAR_'].astype(str).astype(int)\n",
    "print fires.dtypes.head()\n",
    "\n",
    "# create column of ones to rasterize for presence (1) of fire\n",
    "fires['ONES'] = 1"
   ]
  },
  {
   "cell_type": "markdown",
   "metadata": {},
   "source": [
    "Open the raster file you want to use as a template for feature burning using rasterio\n"
   ]
  },
  {
   "cell_type": "code",
   "execution_count": 11,
   "metadata": {},
   "outputs": [
    {
     "data": {
      "text/plain": [
       "BoundingBox(left=-374495.83635354, bottom=-616363.3341887, right=566504.16364646, top=592636.6658113)"
      ]
     },
     "execution_count": 11,
     "metadata": {},
     "output_type": "execute_result"
    }
   ],
   "source": [
    "example = r'../Data/Examples/aet-198403.tif'\n",
    "\n",
    "rst = rasterio.open(example)\n",
    "rst.bounds"
   ]
  },
  {
   "cell_type": "markdown",
   "metadata": {},
   "source": [
    "copy and update the metadata from the input raster for the output\n"
   ]
  },
  {
   "cell_type": "code",
   "execution_count": 12,
   "metadata": {},
   "outputs": [
    {
     "name": "stdout",
     "output_type": "stream",
     "text": [
      "{'count': 1, 'crs': CRS({u'lon_0': -120, u'ellps': u'GRS80', u'y_0': -4000000, u'no_defs': True, u'proj': u'aea', u'x_0': 0, u'units': u'm', u'towgs84': u'0,0,0,0,0,0,0', u'lat_2': 40.5, u'lat_1': 34, u'lat_0': 0}), 'interleave': 'band', 'dtype': 'float32', 'driver': u'GTiff', 'transform': Affine(1000.0, 0.0, -374495.83635354,\n",
      "       0.0, -1000.0, 592636.6658113), 'height': 1209, 'width': 941, 'tiled': False, 'nodata': 0, 'compress': 'lzw'}\n"
     ]
    }
   ],
   "source": [
    "with rasterio.open(example) as src:\n",
    "    array = src.read()\n",
    "    profile = src.profile\n",
    "    profile.update(dtype=rasterio.float32, count=1, compress='lzw',nodata=0)\n",
    "    out_arr = src.read(1) # get data from first band, this gets updated in write\n",
    "    print profile"
   ]
  },
  {
   "cell_type": "markdown",
   "metadata": {},
   "source": [
    "Now burn the features into the raster and write it out\n"
   ]
  },
  {
   "cell_type": "code",
   "execution_count": 13,
   "metadata": {},
   "outputs": [],
   "source": [
    "output = r'../Data/Examples/3month_fire/fire_1984.tif' # any new file\n",
    "    \n",
    "# Write to tif, using the same profile as the source\n",
    "with rasterio.open(output, 'w', **profile) as dst:\n",
    "        \n",
    "    # Write the product as a raster band to a new  file. For\n",
    "    # the new file's profile, we start with the meta attributes of\n",
    "    # the source file, but then change the band count to 1, set the\n",
    "    # dtype to float, and specify LZW compression, missing = 0.\n",
    "\n",
    "    # this is where we create a generator of geom, value pairs to use in rasterizing\n",
    "    shapes = ((geom,value) for geom, value in zip(fires.geometry, fires.ONES))\n",
    "\n",
    "    #rasterize shapes to raster values based on centroid \n",
    "    burned_value = features.rasterize(shapes=shapes, fill=0, out=out_arr, transform=dst.transform)\n",
    "    # write out values \n",
    "    dst.write(burned_value,1)"
   ]
  },
  {
   "cell_type": "markdown",
   "metadata": {},
   "source": [
    "The overall idea is to create an iterable containing tuples of (geometry, value), where the geometry is a shapely geometry and the value is what you want to burn into the raster at that geometry's location. Both Fiona and GeoPANDAS use shapely geometries so you are in luck there. In this example a generator is used to iterate through the (geometry,value) pairs which were extracted from the GeoDataFrame and joined together using zip()."
   ]
  },
  {
   "cell_type": "markdown",
   "metadata": {},
   "source": [
    "## Create Annual Fire Rasters\n"
   ]
  },
  {
   "cell_type": "code",
   "execution_count": 10,
   "metadata": {},
   "outputs": [],
   "source": [
    "import geopandas as gpd\n",
    "import rasterio\n",
    "from rasterio import features\n",
    "import numpy as np\n",
    "from joblib import Parallel, delayed\n",
    "import multiprocessing\n",
    "\n",
    "def fire_rasterizer(poly,raster_exmpl,raster_path_prefix,year_col_name='YEAR_',year_sub_list=range(1980,1990)):\n",
    "\n",
    "    # years must be forced into a list\n",
    "    if type(year_sub_list)==int:\n",
    "        year_sub_list = [year_sub_list]\n",
    "        \n",
    "    # check if polygon is already geopandas dataframe if so, don't read again\n",
    "    if ('fires' in locals()):\n",
    "        if not(isinstance(fires, gpd.geodataframe.GeoDataFrame)): \n",
    "            fires = gpd.read_file(poly)\n",
    "    else:\n",
    "        fires = poly\n",
    "    \n",
    "    # subset to year and convert to integer\n",
    "    fires = fires[fires.loc[:,year_col_name].isin( [str(i) for i in year_sub_list] )]\n",
    "\n",
    "    # create column of ones to rasterize for presence (1) of fire\n",
    "    fires['ONES'] = 1\n",
    "   \n",
    "\n",
    "    # get example metadata\n",
    "    with rasterio.open(raster_exmpl) as src:\n",
    "        array = src.read()\n",
    "        profile = src.profile\n",
    "        profile.update(dtype=rasterio.float32, count=1, compress='lzw',nodata=0)\n",
    "        out_arr = src.read(1) # get data from first band, this gets updated in write\n",
    "\n",
    "    # Write to tif, using the same profile as the source\n",
    "    with rasterio.open(raster_path_prefix+str(year_sub_list[0])+'_'+str(year_sub_list[-1])+'.tif', 'w', **profile) as dst:\n",
    "\n",
    "        # generator of geom, value pairs to use in rasterizing\n",
    "        shapes = ((geom,value) for geom, value in zip(fires.geometry, fires.ONES))\n",
    "\n",
    "        #rasterize shapes \n",
    "        burned_value = features.rasterize(shapes=shapes, fill=0, out=out_arr, transform=dst.transform)\n",
    "        dst.write(burned_value,1)"
   ]
  },
  {
   "cell_type": "code",
   "execution_count": 17,
   "metadata": {},
   "outputs": [
    {
     "name": "stderr",
     "output_type": "stream",
     "text": [
      "C:\\Users\\mmann\\AppData\\Local\\Continuum\\anaconda2\\envs\\gdal_env_2.7v2\\lib\\site-packages\\ipykernel\\__main__.py:25: SettingWithCopyWarning: \n",
      "A value is trying to be set on a copy of a slice from a DataFrame.\n",
      "Try using .loc[row_indexer,col_indexer] = value instead\n",
      "\n",
      "See the caveats in the documentation: http://pandas.pydata.org/pandas-docs/stable/indexing.html#indexing-view-versus-copy\n"
     ]
    }
   ],
   "source": [
    "# run individual date range\n",
    "shp_fn = r'../Data/Actual/Fires/fire17_1.shp'\n",
    "\n",
    "fire_rasterizer(poly = fires, raster_exmpl = r'../Data/Examples/aet-198403.tif',\n",
    "                raster_path_prefix = r'../Data/Examples/fire_' ,year_col_name='YEAR_',\n",
    "                year_sub_list=range(2008,2014))\n",
    "\n"
   ]
  },
  {
   "cell_type": "code",
   "execution_count": 16,
   "metadata": {},
   "outputs": [
    {
     "name": "stderr",
     "output_type": "stream",
     "text": [
      "C:\\Users\\mmann\\AppData\\Local\\Continuum\\anaconda2\\envs\\gdal_env_2.7v2\\lib\\site-packages\\ipykernel\\__main__.py:25: SettingWithCopyWarning: \n",
      "A value is trying to be set on a copy of a slice from a DataFrame.\n",
      "Try using .loc[row_indexer,col_indexer] = value instead\n",
      "\n",
      "See the caveats in the documentation: http://pandas.pydata.org/pandas-docs/stable/indexing.html#indexing-view-versus-copy\n"
     ]
    }
   ],
   "source": [
    "# run all individual years 1950 to 2018\n",
    "shp_fn = r'../Data/Actual/Fires/fire17_1.shp'\n",
    "\n",
    "for year in range(1950,2018):\n",
    "    fire_rasterizer(poly = fires, \n",
    "                    raster_exmpl = r'../Data/Examples/aet-198403.tif',\n",
    "                    raster_path_prefix = r'../Data/Examples\\TestOutputs/fire_' ,\n",
    "                    year_col_name='YEAR_',\n",
    "                    year_sub_list=year)\n",
    "\n"
   ]
  },
  {
   "cell_type": "code",
   "execution_count": 73,
   "metadata": {},
   "outputs": [
    {
     "name": "stdout",
     "output_type": "stream",
     "text": [
      "[[1951, 1955], [1956, 1960], [1961, 1965], [1966, 1970], [1971, 1975], [1976, 1980], [1981, 1985], [1986, 1990], [1991, 1995], [1996, 2000], [2001, 2005], [2006, 2010], [2011, 2015]]\n"
     ]
    }
   ],
   "source": [
    "# Gather multiple date ranges\n",
    "year_groups = []\n",
    "for f, b in zip(range(1951,2015,5), range(1955,2020,5)):\n",
    "    year_groups.append([f, b])\n",
    "    \n",
    "print(year_groups)\n"
   ]
  },
  {
   "cell_type": "code",
   "execution_count": 14,
   "metadata": {},
   "outputs": [
    {
     "name": "stderr",
     "output_type": "stream",
     "text": [
      "C:\\Users\\mmann\\AppData\\Local\\Continuum\\anaconda2\\envs\\ts-rasterv2\\lib\\site-packages\\ipykernel\\__main__.py:25: SettingWithCopyWarning: \n",
      "A value is trying to be set on a copy of a slice from a DataFrame.\n",
      "Try using .loc[row_indexer,col_indexer] = value instead\n",
      "\n",
      "See the caveats in the documentation: http://pandas.pydata.org/pandas-docs/stable/indexing.html#indexing-view-versus-copy\n"
     ]
    }
   ],
   "source": [
    "# run all 5 year date ranges from 1950 to 2018\n",
    "shp_fn = r'../Data/Actual/Fires/Inputs/fire17_1.shp'\n",
    "\n",
    "for year in year_groups:\n",
    "    fire_rasterizer(poly = fires, \n",
    "                    raster_exmpl = r'../Data/Examples/aet-198403.tif',\n",
    "                    raster_path_prefix = r'../Data/Actual/Fires/Outputs/fire_' ,\n",
    "                    year_col_name='YEAR_',\n",
    "                    year_sub_list=year)"
   ]
  },
  {
   "cell_type": "markdown",
   "metadata": {},
   "source": [
    "Move climate data into correct year_group folders"
   ]
  },
  {
   "cell_type": "code",
   "execution_count": 133,
   "metadata": {},
   "outputs": [],
   "source": [
    "import shutil\n",
    "from pathlib import Path\n",
    "\n",
    "\n",
    "def chk_mak_dir(directory):\n",
    "    if not os.path.exists(directory):\n",
    "        os.makedirs(directory)\n",
    "        \n",
    "def int_globber(ints):\n",
    "    # create regular expression for specific year \n",
    "    return ''.join([\"[\"+i+\"]\" for i in str(ints)])\n",
    "\n",
    "def path_globber(a_dir,year_group,metric):\n",
    "     # gets all in_path files in a date range \n",
    "     l = [glob(os.path.join(a_dir,metric+\"-\"+int_globber(i)+\"*\")) \n",
    "              for i in range(year_group[0],year_group[1])]\n",
    "     return  [item for sublist in l for item in sublist]\n",
    "\n",
    "    \n",
    "in_dir = 'E:/HIST 1000m/'\n",
    "out_dir = '../Data/Actual/Climate'\n",
    "\n",
    "for metric in ['ppt','tmx','aet','cwd','pet','pck']:   \n",
    "    for year_group in year_groups:\n",
    "        # check for and make output dir\n",
    "        year_group_dir = str(year_group[0])+\"_\"+ str(year_group[1])\n",
    "        out_dir_metric = os.path.join(out_dir,year_group_dir,metric)\n",
    "        chk_mak_dir(out_dir_metric)\n",
    "        \n",
    "        # make lists of files to move and destinations\n",
    "        files_to_move = path_globber(in_dir, year_group,metric)\n",
    "        files_out_move =[os.path.join(out_dir_metric, \n",
    "                                      os.path.basename(i)) for i in files_to_move]\n",
    "        #print(pd.DataFrame([files_to_move,files_out_move])) # print examples\n",
    "        \n",
    "        # move files \n",
    "        for index, item in enumerate(files_to_move ):\n",
    "            if Path(files_out_move[index]).is_file():\n",
    "                next\n",
    "            else:\n",
    "                shutil.move(files_to_move[index], files_out_move[index])\n"
   ]
  },
  {
   "cell_type": "code",
   "execution_count": 112,
   "metadata": {},
   "outputs": [
    {
     "data": {
      "text/html": [
       "<div>\n",
       "<style scoped>\n",
       "    .dataframe tbody tr th:only-of-type {\n",
       "        vertical-align: middle;\n",
       "    }\n",
       "\n",
       "    .dataframe tbody tr th {\n",
       "        vertical-align: top;\n",
       "    }\n",
       "\n",
       "    .dataframe thead th {\n",
       "        text-align: right;\n",
       "    }\n",
       "</style>\n",
       "<table border=\"1\" class=\"dataframe\">\n",
       "  <thead>\n",
       "    <tr style=\"text-align: right;\">\n",
       "      <th></th>\n",
       "      <th>0</th>\n",
       "      <th>1</th>\n",
       "      <th>2</th>\n",
       "      <th>3</th>\n",
       "      <th>4</th>\n",
       "      <th>5</th>\n",
       "      <th>6</th>\n",
       "      <th>7</th>\n",
       "      <th>8</th>\n",
       "      <th>9</th>\n",
       "      <th>...</th>\n",
       "      <th>38</th>\n",
       "      <th>39</th>\n",
       "      <th>40</th>\n",
       "      <th>41</th>\n",
       "      <th>42</th>\n",
       "      <th>43</th>\n",
       "      <th>44</th>\n",
       "      <th>45</th>\n",
       "      <th>46</th>\n",
       "      <th>47</th>\n",
       "    </tr>\n",
       "  </thead>\n",
       "  <tbody>\n",
       "    <tr>\n",
       "      <th>0</th>\n",
       "      <td>E:/HIST 1000m\\aet-200601.tif</td>\n",
       "      <td>E:/HIST 1000m\\aet-200602.tif</td>\n",
       "      <td>E:/HIST 1000m\\aet-200603.tif</td>\n",
       "      <td>E:/HIST 1000m\\aet-200604.tif</td>\n",
       "      <td>E:/HIST 1000m\\aet-200605.tif</td>\n",
       "      <td>E:/HIST 1000m\\aet-200606.tif</td>\n",
       "      <td>E:/HIST 1000m\\aet-200607.tif</td>\n",
       "      <td>E:/HIST 1000m\\aet-200608.tif</td>\n",
       "      <td>E:/HIST 1000m\\aet-200609.tif</td>\n",
       "      <td>E:/HIST 1000m\\aet-200610.tif</td>\n",
       "      <td>...</td>\n",
       "      <td>E:/HIST 1000m\\aet-200903.tif</td>\n",
       "      <td>E:/HIST 1000m\\aet-200904.tif</td>\n",
       "      <td>E:/HIST 1000m\\aet-200905.tif</td>\n",
       "      <td>E:/HIST 1000m\\aet-200906.tif</td>\n",
       "      <td>E:/HIST 1000m\\aet-200907.tif</td>\n",
       "      <td>E:/HIST 1000m\\aet-200908.tif</td>\n",
       "      <td>E:/HIST 1000m\\aet-200909.tif</td>\n",
       "      <td>E:/HIST 1000m\\aet-200910.tif</td>\n",
       "      <td>E:/HIST 1000m\\aet-200911.tif</td>\n",
       "      <td>E:/HIST 1000m\\aet-200912.tif</td>\n",
       "    </tr>\n",
       "    <tr>\n",
       "      <th>1</th>\n",
       "      <td>../Data/Actual/Climate//2011_2015\\aet-200601.tif</td>\n",
       "      <td>../Data/Actual/Climate//2011_2015\\aet-200602.tif</td>\n",
       "      <td>../Data/Actual/Climate//2011_2015\\aet-200603.tif</td>\n",
       "      <td>../Data/Actual/Climate//2011_2015\\aet-200604.tif</td>\n",
       "      <td>../Data/Actual/Climate//2011_2015\\aet-200605.tif</td>\n",
       "      <td>../Data/Actual/Climate//2011_2015\\aet-200606.tif</td>\n",
       "      <td>../Data/Actual/Climate//2011_2015\\aet-200607.tif</td>\n",
       "      <td>../Data/Actual/Climate//2011_2015\\aet-200608.tif</td>\n",
       "      <td>../Data/Actual/Climate//2011_2015\\aet-200609.tif</td>\n",
       "      <td>../Data/Actual/Climate//2011_2015\\aet-200610.tif</td>\n",
       "      <td>...</td>\n",
       "      <td>../Data/Actual/Climate//2011_2015\\aet-200903.tif</td>\n",
       "      <td>../Data/Actual/Climate//2011_2015\\aet-200904.tif</td>\n",
       "      <td>../Data/Actual/Climate//2011_2015\\aet-200905.tif</td>\n",
       "      <td>../Data/Actual/Climate//2011_2015\\aet-200906.tif</td>\n",
       "      <td>../Data/Actual/Climate//2011_2015\\aet-200907.tif</td>\n",
       "      <td>../Data/Actual/Climate//2011_2015\\aet-200908.tif</td>\n",
       "      <td>../Data/Actual/Climate//2011_2015\\aet-200909.tif</td>\n",
       "      <td>../Data/Actual/Climate//2011_2015\\aet-200910.tif</td>\n",
       "      <td>../Data/Actual/Climate//2011_2015\\aet-200911.tif</td>\n",
       "      <td>../Data/Actual/Climate//2011_2015\\aet-200912.tif</td>\n",
       "    </tr>\n",
       "  </tbody>\n",
       "</table>\n",
       "<p>2 rows × 48 columns</p>\n",
       "</div>"
      ],
      "text/plain": [
       "                                                 0   \\\n",
       "0                      E:/HIST 1000m\\aet-200601.tif   \n",
       "1  ../Data/Actual/Climate//2011_2015\\aet-200601.tif   \n",
       "\n",
       "                                                 1   \\\n",
       "0                      E:/HIST 1000m\\aet-200602.tif   \n",
       "1  ../Data/Actual/Climate//2011_2015\\aet-200602.tif   \n",
       "\n",
       "                                                 2   \\\n",
       "0                      E:/HIST 1000m\\aet-200603.tif   \n",
       "1  ../Data/Actual/Climate//2011_2015\\aet-200603.tif   \n",
       "\n",
       "                                                 3   \\\n",
       "0                      E:/HIST 1000m\\aet-200604.tif   \n",
       "1  ../Data/Actual/Climate//2011_2015\\aet-200604.tif   \n",
       "\n",
       "                                                 4   \\\n",
       "0                      E:/HIST 1000m\\aet-200605.tif   \n",
       "1  ../Data/Actual/Climate//2011_2015\\aet-200605.tif   \n",
       "\n",
       "                                                 5   \\\n",
       "0                      E:/HIST 1000m\\aet-200606.tif   \n",
       "1  ../Data/Actual/Climate//2011_2015\\aet-200606.tif   \n",
       "\n",
       "                                                 6   \\\n",
       "0                      E:/HIST 1000m\\aet-200607.tif   \n",
       "1  ../Data/Actual/Climate//2011_2015\\aet-200607.tif   \n",
       "\n",
       "                                                 7   \\\n",
       "0                      E:/HIST 1000m\\aet-200608.tif   \n",
       "1  ../Data/Actual/Climate//2011_2015\\aet-200608.tif   \n",
       "\n",
       "                                                 8   \\\n",
       "0                      E:/HIST 1000m\\aet-200609.tif   \n",
       "1  ../Data/Actual/Climate//2011_2015\\aet-200609.tif   \n",
       "\n",
       "                                                 9   \\\n",
       "0                      E:/HIST 1000m\\aet-200610.tif   \n",
       "1  ../Data/Actual/Climate//2011_2015\\aet-200610.tif   \n",
       "\n",
       "                         ...                         \\\n",
       "0                        ...                          \n",
       "1                        ...                          \n",
       "\n",
       "                                                 38  \\\n",
       "0                      E:/HIST 1000m\\aet-200903.tif   \n",
       "1  ../Data/Actual/Climate//2011_2015\\aet-200903.tif   \n",
       "\n",
       "                                                 39  \\\n",
       "0                      E:/HIST 1000m\\aet-200904.tif   \n",
       "1  ../Data/Actual/Climate//2011_2015\\aet-200904.tif   \n",
       "\n",
       "                                                 40  \\\n",
       "0                      E:/HIST 1000m\\aet-200905.tif   \n",
       "1  ../Data/Actual/Climate//2011_2015\\aet-200905.tif   \n",
       "\n",
       "                                                 41  \\\n",
       "0                      E:/HIST 1000m\\aet-200906.tif   \n",
       "1  ../Data/Actual/Climate//2011_2015\\aet-200906.tif   \n",
       "\n",
       "                                                 42  \\\n",
       "0                      E:/HIST 1000m\\aet-200907.tif   \n",
       "1  ../Data/Actual/Climate//2011_2015\\aet-200907.tif   \n",
       "\n",
       "                                                 43  \\\n",
       "0                      E:/HIST 1000m\\aet-200908.tif   \n",
       "1  ../Data/Actual/Climate//2011_2015\\aet-200908.tif   \n",
       "\n",
       "                                                 44  \\\n",
       "0                      E:/HIST 1000m\\aet-200909.tif   \n",
       "1  ../Data/Actual/Climate//2011_2015\\aet-200909.tif   \n",
       "\n",
       "                                                 45  \\\n",
       "0                      E:/HIST 1000m\\aet-200910.tif   \n",
       "1  ../Data/Actual/Climate//2011_2015\\aet-200910.tif   \n",
       "\n",
       "                                                 46  \\\n",
       "0                      E:/HIST 1000m\\aet-200911.tif   \n",
       "1  ../Data/Actual/Climate//2011_2015\\aet-200911.tif   \n",
       "\n",
       "                                                 47  \n",
       "0                      E:/HIST 1000m\\aet-200912.tif  \n",
       "1  ../Data/Actual/Climate//2011_2015\\aet-200912.tif  \n",
       "\n",
       "[2 rows x 48 columns]"
      ]
     },
     "execution_count": 112,
     "metadata": {},
     "output_type": "execute_result"
    }
   ],
   "source": [
    "import pandas as pd\n",
    "pd.DataFrame([files_to_move,files_out_move])\n",
    "\n"
   ]
  },
  {
   "cell_type": "code",
   "execution_count": null,
   "metadata": {},
   "outputs": [],
   "source": [
    "\n"
   ]
  },
  {
   "cell_type": "markdown",
   "metadata": {},
   "source": [
    "# Rasterize State Polygon\n",
    "\n",
    "function to rasterize polygons (assigns 1s to features) and can provide buffer at multiples of example raster resolution."
   ]
  },
  {
   "cell_type": "code",
   "execution_count": 9,
   "metadata": {},
   "outputs": [],
   "source": [
    "from tsraster import prep\n",
    "import rasterio\n",
    "from matplotlib import pyplot"
   ]
  },
  {
   "cell_type": "code",
   "execution_count": 4,
   "metadata": {},
   "outputs": [],
   "source": [
    "# rasterize state polygon using same parameters as raster_ex, add 10 cell buffer\n",
    "prep.poly_rasterizer(poly = 'F:/Boundary/StatePoly.shp', raster_ex = r'F:/3month/aet-198401.tif',\n",
    "                raster_path_prefix = r'../Data/Examples\\TestOutputs/StatePoly_buf',buffer_poly_cells=10)"
   ]
  },
  {
   "cell_type": "code",
   "execution_count": 10,
   "metadata": {},
   "outputs": [
    {
     "data": {
      "image/png": "[encoded data removed]",
      "text/plain": [
       "<Figure size 432x288 with 1 Axes>"
      ]
     },
     "metadata": {
      "needs_background": "light"
     },
     "output_type": "display_data"
    }
   ],
   "source": [
    "dataset = rasterio.open(r'../Data/Examples/TestOutputs/StatePoly_buf.tif')\n",
    "\n",
    "\n",
    "pyplot.imshow(dataset.read(1), cmap='pink')\n",
    "pyplot.show()"
   ]
  }
 ],
 "metadata": {
  "kernelspec": {
   "display_name": "Python [conda env:ts-rasterv2]",
   "language": "python",
   "name": "conda-env-ts-rasterv2-py"
  },
  "language_info": {
   "codemirror_mode": {
    "name": "ipython",
    "version": 3
   },
   "file_extension": ".py",
   "mimetype": "text/x-python",
   "name": "python",
   "nbconvert_exporter": "python",
   "pygments_lexer": "ipython3",
   "version": "3.6.7"
  }
 },
 "nbformat": 4,
 "nbformat_minor": 2
}
