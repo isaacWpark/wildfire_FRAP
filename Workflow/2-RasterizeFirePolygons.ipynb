{
 "cells": [
  {
   "cell_type": "markdown",
   "metadata": {},
   "source": [
    "## Create Example - Rasterize Single Year of Fire Data"
   ]
  },
  {
   "cell_type": "code",
   "execution_count": 1,
   "metadata": {},
   "outputs": [],
   "source": [
    "#https://gis.stackexchange.com/questions/151339/rasterize-a-shapefile-with-geopandas-or-fiona-python\n",
    "# use env:gdal_env_2.7v.2\n",
    "import geopandas as gpd\n",
    "import rasterio\n",
    "from rasterio import features\n",
    "import numpy as np"
   ]
  },
  {
   "cell_type": "markdown",
   "metadata": {},
   "source": [
    "Set up your filenames"
   ]
  },
  {
   "cell_type": "code",
   "execution_count": 2,
   "metadata": {},
   "outputs": [],
   "source": [
    "shp_fn = r'../Data/Examples/fire17_1.geojson'"
   ]
  },
  {
   "cell_type": "markdown",
   "metadata": {},
   "source": [
    "Open the file with GeoPANDAS read_file"
   ]
  },
  {
   "cell_type": "code",
   "execution_count": 3,
   "metadata": {},
   "outputs": [],
   "source": [
    "fires = gpd.read_file(shp_fn)"
   ]
  },
  {
   "cell_type": "markdown",
   "metadata": {},
   "source": [
    "CHeck and fix datatype issues"
   ]
  },
  {
   "cell_type": "code",
   "execution_count": 4,
   "metadata": {},
   "outputs": [],
   "source": [
    "#print fires.columns\n",
    "#fires['YEAR_'].head()\n",
    "#fires.YEAR_.unique()"
   ]
  },
  {
   "cell_type": "code",
   "execution_count": 5,
   "metadata": {},
   "outputs": [
    {
     "name": "stdout",
     "output_type": "stream",
     "text": [
      "YEAR_        object\n",
      "STATE        object\n",
      "AGENCY       object\n",
      "UNIT_ID      object\n",
      "FIRE_NAME    object\n",
      "dtype: object\n"
     ]
    }
   ],
   "source": [
    "print fires.dtypes.head()"
   ]
  },
  {
   "cell_type": "code",
   "execution_count": 6,
   "metadata": {},
   "outputs": [
    {
     "name": "stdout",
     "output_type": "stream",
     "text": [
      "YEAR_         int32\n",
      "STATE        object\n",
      "AGENCY       object\n",
      "UNIT_ID      object\n",
      "FIRE_NAME    object\n",
      "dtype: object\n"
     ]
    }
   ],
   "source": [
    "# subset to year and convert to integer\n",
    "fires = fires[fires['YEAR_'].isin(['1980'])]\n",
    "fires['YEAR_'] = fires['YEAR_'].astype(str).astype(int)\n",
    "print fires.dtypes.head()\n",
    "\n",
    "# create column of ones to rasterize for presence (1) of fire\n",
    "fires['ONES'] = 1"
   ]
  },
  {
   "cell_type": "markdown",
   "metadata": {},
   "source": [
    "Open the raster file you want to use as a template for feature burning using rasterio\n"
   ]
  },
  {
   "cell_type": "code",
   "execution_count": 7,
   "metadata": {},
   "outputs": [
    {
     "data": {
      "text/plain": [
       "BoundingBox(left=-374495.83635354, bottom=-616363.3341887, right=566504.16364646, top=592636.6658113)"
      ]
     },
     "execution_count": 7,
     "metadata": {},
     "output_type": "execute_result"
    }
   ],
   "source": [
    "example = r'../Data/Examples/aet-198403.tif'\n",
    "\n",
    "rst = rasterio.open(example)\n",
    "rst.bounds"
   ]
  },
  {
   "cell_type": "markdown",
   "metadata": {},
   "source": [
    "copy and update the metadata from the input raster for the output\n"
   ]
  },
  {
   "cell_type": "code",
   "execution_count": 8,
   "metadata": {},
   "outputs": [
    {
     "name": "stdout",
     "output_type": "stream",
     "text": [
      "{'count': 1, 'crs': CRS({u'lon_0': -120, u'ellps': u'GRS80', u'y_0': -4000000, u'no_defs': True, u'proj': u'aea', u'x_0': 0, u'units': u'm', u'towgs84': u'0,0,0,0,0,0,0', u'lat_2': 40.5, u'lat_1': 34, u'lat_0': 0}), 'interleave': 'band', 'dtype': 'float32', 'driver': u'GTiff', 'transform': Affine(1000.0, 0.0, -374495.83635354,\n",
      "       0.0, -1000.0, 592636.6658113), 'height': 1209, 'width': 941, 'tiled': False, 'nodata': 0, 'compress': 'lzw'}\n"
     ]
    }
   ],
   "source": [
    "with rasterio.open(example) as src:\n",
    "    array = src.read()\n",
    "    profile = src.profile\n",
    "    profile.update(dtype=rasterio.float32, count=1, compress='lzw',nodata=0)\n",
    "    out_arr = src.read(1) # get data from first band, this gets updated in write\n",
    "    print profile"
   ]
  },
  {
   "cell_type": "markdown",
   "metadata": {},
   "source": [
    "Now burn the features into the raster and write it out\n"
   ]
  },
  {
   "cell_type": "code",
   "execution_count": 9,
   "metadata": {},
   "outputs": [],
   "source": [
    "output = r'../Data/Examples/fire_1980.tif' # any new file\n",
    "    \n",
    "# Write to tif, using the same profile as the source\n",
    "with rasterio.open(output, 'w', **profile) as dst:\n",
    "        \n",
    "    # Write the product as a raster band to a new  file. For\n",
    "    # the new file's profile, we start with the meta attributes of\n",
    "    # the source file, but then change the band count to 1, set the\n",
    "    # dtype to float, and specify LZW compression, missing = 0.\n",
    "\n",
    "    # this is where we create a generator of geom, value pairs to use in rasterizing\n",
    "    shapes = ((geom,value) for geom, value in zip(fires.geometry, fires.ONES))\n",
    "\n",
    "    #rasterize shapes to raster values based on centroid \n",
    "    burned_value = features.rasterize(shapes=shapes, fill=0, out=out_arr, transform=dst.transform)\n",
    "    # write out values \n",
    "    dst.write(burned_value,1)"
   ]
  },
  {
   "cell_type": "markdown",
   "metadata": {},
   "source": [
    "The overall idea is to create an iterable containing tuples of (geometry, value), where the geometry is a shapely geometry and the value is what you want to burn into the raster at that geometry's location. Both Fiona and GeoPANDAS use shapely geometries so you are in luck there. In this example a generator is used to iterate through the (geometry,value) pairs which were extracted from the GeoDataFrame and joined together using zip()."
   ]
  },
  {
   "cell_type": "markdown",
   "metadata": {},
   "source": [
    "## Create Annual Fire Rasters\n"
   ]
  },
  {
   "cell_type": "code",
   "execution_count": 1,
   "metadata": {},
   "outputs": [],
   "source": [
    "import geopandas as gpd\n",
    "import rasterio\n",
    "from rasterio import features\n",
    "import numpy as np\n",
    "from joblib import Parallel, delayed\n",
    "import multiprocessing\n",
    "\n",
    "def fire_rasterizer(poly,raster_exmpl,raster_path_prefix,year_col_name='YEAR_',year_sub_list=range(1980,1990)):\n",
    "\n",
    "    # years must be forced into a list\n",
    "    if type(year_sub_list)==int:\n",
    "        year_sub_list = [year_sub_list]\n",
    "        \n",
    "    # check if polygon is already geopandas dataframe if so, don't read again\n",
    "    if ('fires' in locals()):\n",
    "        if not(isinstance(fires, gpd.geodataframe.GeoDataFrame)): \n",
    "            fires = gpd.read_file(poly)\n",
    "    else:\n",
    "        fires = poly\n",
    "    \n",
    "    # subset to year and convert to integer\n",
    "    fires = fires[fires.loc[:,year_col_name].isin( [str(i) for i in year_sub_list] )]\n",
    "\n",
    "    # create column of ones to rasterize for presence (1) of fire\n",
    "    fires['ONES'] = 1\n",
    "   \n",
    "\n",
    "    # get example metadata\n",
    "    with rasterio.open(raster_exmpl) as src:\n",
    "        array = src.read()\n",
    "        profile = src.profile\n",
    "        profile.update(dtype=rasterio.float32, count=1, compress='lzw',nodata=0)\n",
    "        out_arr = src.read(1) # get data from first band, this gets updated in write\n",
    "\n",
    "    # Write to tif, using the same profile as the source\n",
    "    with rasterio.open(raster_path_prefix+str(year_sub_list[0])+'_'+str(year_sub_list[-1])+'.tif', 'w', **profile) as dst:\n",
    "\n",
    "        # this is where we create a generator of geom, value pairs to use in rasterizing\n",
    "        shapes = ((geom,value) for geom, value in zip(fires.geometry, fires.ONES))\n",
    "\n",
    "        #rasterize shapes \n",
    "        burned_value = features.rasterize(shapes=shapes, fill=0, out=out_arr, transform=dst.transform)\n",
    "        dst.write(burned_value,1)"
   ]
  },
  {
   "cell_type": "code",
   "execution_count": 84,
   "metadata": {},
   "outputs": [
    {
     "name": "stderr",
     "output_type": "stream",
     "text": [
      "C:\\Users\\mmann\\AppData\\Local\\Continuum\\anaconda2\\envs\\gdal_env_2.7v2\\lib\\site-packages\\ipykernel\\__main__.py:25: SettingWithCopyWarning: \n",
      "A value is trying to be set on a copy of a slice from a DataFrame.\n",
      "Try using .loc[row_indexer,col_indexer] = value instead\n",
      "\n",
      "See the caveats in the documentation: http://pandas.pydata.org/pandas-docs/stable/indexing.html#indexing-view-versus-copy\n"
     ]
    }
   ],
   "source": [
    "# run individual year\n",
    "#fires = gpd.read_file(  r'../Data/Examples/fire17_1.geojson')   \n",
    "\n",
    "fire_rasterizer(poly = fires, raster_exmpl = r'../Data/Examples/aet-198403.tif',\n",
    "                raster_path_prefix = r'../Data/Examples/fire_' ,year_col_name='YEAR_',\n",
    "                year_sub_list=range(2008,2014))\n",
    "\n"
   ]
  },
  {
   "cell_type": "code",
   "execution_count": 85,
   "metadata": {},
   "outputs": [
    {
     "name": "stderr",
     "output_type": "stream",
     "text": [
      "C:\\Users\\mmann\\AppData\\Local\\Continuum\\anaconda2\\envs\\gdal_env_2.7v2\\lib\\site-packages\\ipykernel\\__main__.py:25: SettingWithCopyWarning: \n",
      "A value is trying to be set on a copy of a slice from a DataFrame.\n",
      "Try using .loc[row_indexer,col_indexer] = value instead\n",
      "\n",
      "See the caveats in the documentation: http://pandas.pydata.org/pandas-docs/stable/indexing.html#indexing-view-versus-copy\n"
     ]
    }
   ],
   "source": [
    "# run individual year\n",
    "fires = gpd.read_file(  r'../Data/Examples/fire17_1.geojson')   \n",
    "\n",
    "for year in range(1950,2018):\n",
    "    fire_rasterizer(poly = fires, \n",
    "                    raster_exmpl = r'../Data/Examples/aet-198403.tif',\n",
    "                    raster_path_prefix = r'../Data/Examples\\TestOutputs/fire_' ,\n",
    "                    year_col_name='YEAR_',\n",
    "                    year_sub_list=year)\n",
    "\n"
   ]
  },
  {
   "cell_type": "code",
   "execution_count": 80,
   "metadata": {},
   "outputs": [
    {
     "name": "stdout",
     "output_type": "stream",
     "text": [
      "[[1, 11], [2, 12], [3, 13], [4, 14], [5, 15], [6, 16], [7, 17], [8, 18], [9, 19]]\n"
     ]
    }
   ],
   "source": [
    "a = []\n",
    "for f, b in zip(range(1,10), range(11,20)):\n",
    "    a.append([f, b])\n",
    "    \n",
    "print a"
   ]
  },
  {
   "cell_type": "code",
   "execution_count": 51,
   "metadata": {},
   "outputs": [],
   "source": []
  },
  {
   "cell_type": "code",
   "execution_count": 4,
   "metadata": {},
   "outputs": [
    {
     "name": "stderr",
     "output_type": "stream",
     "text": [
      "C:\\Users\\mmann\\AppData\\Local\\Continuum\\anaconda2\\envs\\gdal_env_2.7v2\\lib\\site-packages\\ipykernel\\__main__.py:25: SettingWithCopyWarning: \n",
      "A value is trying to be set on a copy of a slice from a DataFrame.\n",
      "Try using .loc[row_indexer,col_indexer] = value instead\n",
      "\n",
      "See the caveats in the documentation: http://pandas.pydata.org/pandas-docs/stable/indexing.html#indexing-view-versus-copy\n"
     ]
    }
   ],
   "source": [
    "fires = gpd.read_file(  r'../Data/Examples/fire17_1.geojson')   \n",
    "\n",
    "fire_rasterizer(poly = fires, raster_exmpl = r'../Data/Examples/aet-198403.tif',\n",
    "                raster_path_prefix = r'F:\\Fires/fire_' ,year_col_name='YEAR_',\n",
    "                year_sub_list=range(2008,2014))\n"
   ]
  }
 ],
 "metadata": {
  "kernelspec": {
   "display_name": "Python [conda env:gdal_env_2.7v2]",
   "language": "python",
   "name": "conda-env-gdal_env_2.7v2-py"
  },
  "language_info": {
   "codemirror_mode": {
    "name": "ipython",
    "version": 2
   },
   "file_extension": ".py",
   "mimetype": "text/x-python",
   "name": "python",
   "nbconvert_exporter": "python",
   "pygments_lexer": "ipython2",
   "version": "2.7.15"
  }
 },
 "nbformat": 4,
 "nbformat_minor": 2
}
