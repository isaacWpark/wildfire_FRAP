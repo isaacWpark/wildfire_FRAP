{
 "cells": [
  {
   "cell_type": "markdown",
   "metadata": {},
   "source": [
    "### Prep:\n",
    "\n",
    "* Resample all inputs see 1-Resample Input Data.ipynb\n",
    "* Rasterize fires and organize by time period see 2-RasterizeFirePolygons_OrganizeData.ipynb\n",
    "\n",
    "### Data Structure:\n",
    "Data should be structured as follows:\n",
    "\n",
    "* Independent Vars 2012-2016\n",
    "    * aet\n",
    "        * aet-201201.tif\n",
    "        * ...\n",
    "        * aet-201612.tif\n",
    "    * cwd\n",
    "        * cwd-201201.tif\n",
    "        * ...\n",
    "        * cwd-201612.tif\n",
    "    * ppt\n",
    "        * ppt-201201.tif\n",
    "        * ...\n",
    "        * ppt-201612.tif\n",
    "    * ...\n",
    "* Independent Vars 2017-2021\n",
    "    * ...\n",
    "* Dependent Var 2012-2016\n",
    "    * Fire-2012-2016\n",
    "* Dependent Var 2017-2021\n",
    "    * Fire-2017-2021"
   ]
  },
  {
   "cell_type": "code",
   "execution_count": 1,
   "metadata": {},
   "outputs": [],
   "source": [
    "import tsraster.prep as tr\n",
    "import tsraster.random as random\n",
    "import tsraster.calculate as ca\n",
    "import numpy as np\n",
    "\n",
    "import tsraster.model  as md\n",
    "import pandas as pd\n",
    "import os\n",
    "import matplotlib.pyplot as plt\n",
    "%matplotlib inline\n",
    "from math import ceil\n",
    "from tsraster.prep import set_df_mindex\n",
    "import copy"
   ]
  },
  {
   "cell_type": "code",
   "execution_count": null,
   "metadata": {},
   "outputs": [],
   "source": [
    "### "
   ]
  },
  {
   "cell_type": "code",
   "execution_count": 2,
   "metadata": {},
   "outputs": [],
   "source": [
    "########################### "
   ]
  },
  {
   "cell_type": "code",
   "execution_count": 3,
   "metadata": {},
   "outputs": [],
   "source": [
    "#construct poisson disk mask\n",
    "'''\n",
    "Create raster of cells to be selected (populated as ones) in a raster of background value zero\n",
    "\n",
    ":param raster_mask: name of raster mask - provides dimensions for subsample, and also masks unusable areas - IS ASSUMED TO BE CONTIGUOUS\n",
    ":param k: number of attempts to select a point around each reference point before marking it as inactive\n",
    ":param r: minimum distance (in raster cells) between selected points \n",
    "'''\n",
    "\n",
    "\n",
    "rasterMask = random.Poisson_Subsample(raster_mask = r\"../Data\\Examples\\buffer\\StatePoly_buf.tif\",\n",
    "                                      outFile = r\"../Data\\Examples\\diskTest.tif\",\n",
    "                                      k=50, \n",
    "                                      r=10)[0]"
   ]
  },
  {
   "cell_type": "code",
   "execution_count": 5,
   "metadata": {
    "scrolled": true
   },
   "outputs": [
    {
     "data": {
      "text/html": [
       "<div>\n",
       "<style scoped>\n",
       "    .dataframe tbody tr th:only-of-type {\n",
       "        vertical-align: middle;\n",
       "    }\n",
       "\n",
       "    .dataframe tbody tr th {\n",
       "        vertical-align: top;\n",
       "    }\n",
       "\n",
       "    .dataframe thead th {\n",
       "        text-align: right;\n",
       "    }\n",
       "</style>\n",
       "<table border=\"1\" class=\"dataframe\">\n",
       "  <thead>\n",
       "    <tr style=\"text-align: right;\">\n",
       "      <th></th>\n",
       "      <th>Campground</th>\n",
       "      <th>FireStation_Dist</th>\n",
       "      <th>Airfield_Dist</th>\n",
       "      <th>City_Bounds</th>\n",
       "      <th>NPS_Bounds</th>\n",
       "      <th>Lightning</th>\n",
       "      <th>Elev</th>\n",
       "    </tr>\n",
       "    <tr>\n",
       "      <th>pixel_id</th>\n",
       "      <th></th>\n",
       "      <th></th>\n",
       "      <th></th>\n",
       "      <th></th>\n",
       "      <th></th>\n",
       "      <th></th>\n",
       "      <th></th>\n",
       "    </tr>\n",
       "  </thead>\n",
       "  <tbody>\n",
       "    <tr>\n",
       "      <th>0</th>\n",
       "      <td>-1</td>\n",
       "      <td>121</td>\n",
       "      <td>78</td>\n",
       "      <td>-1</td>\n",
       "      <td>-1</td>\n",
       "      <td>0</td>\n",
       "      <td>-15</td>\n",
       "    </tr>\n",
       "    <tr>\n",
       "      <th>1</th>\n",
       "      <td>-1</td>\n",
       "      <td>-23</td>\n",
       "      <td>-66</td>\n",
       "      <td>-1</td>\n",
       "      <td>-1</td>\n",
       "      <td>0</td>\n",
       "      <td>-15</td>\n",
       "    </tr>\n",
       "    <tr>\n",
       "      <th>2</th>\n",
       "      <td>-1</td>\n",
       "      <td>95</td>\n",
       "      <td>49</td>\n",
       "      <td>-1</td>\n",
       "      <td>-1</td>\n",
       "      <td>0</td>\n",
       "      <td>-15</td>\n",
       "    </tr>\n",
       "    <tr>\n",
       "      <th>3</th>\n",
       "      <td>-1</td>\n",
       "      <td>-38</td>\n",
       "      <td>-88</td>\n",
       "      <td>-1</td>\n",
       "      <td>-1</td>\n",
       "      <td>0</td>\n",
       "      <td>-15</td>\n",
       "    </tr>\n",
       "    <tr>\n",
       "      <th>4</th>\n",
       "      <td>-1</td>\n",
       "      <td>91</td>\n",
       "      <td>34</td>\n",
       "      <td>-1</td>\n",
       "      <td>-1</td>\n",
       "      <td>0</td>\n",
       "      <td>-15</td>\n",
       "    </tr>\n",
       "  </tbody>\n",
       "</table>\n",
       "</div>"
      ],
      "text/plain": [
       "          Campground  FireStation_Dist  Airfield_Dist  City_Bounds  \\\n",
       "pixel_id                                                             \n",
       "0                 -1               121             78           -1   \n",
       "1                 -1               -23            -66           -1   \n",
       "2                 -1                95             49           -1   \n",
       "3                 -1               -38            -88           -1   \n",
       "4                 -1                91             34           -1   \n",
       "\n",
       "          NPS_Bounds  Lightning  Elev  \n",
       "pixel_id                               \n",
       "0                 -1          0   -15  \n",
       "1                 -1          0   -15  \n",
       "2                 -1          0   -15  \n",
       "3                 -1          0   -15  \n",
       "4                 -1          0   -15  "
      ]
     },
     "execution_count": 5,
     "metadata": {},
     "output_type": "execute_result"
    }
   ],
   "source": [
    "#combine all data that is invariant over time into single dataFrame\n",
    "\n",
    "'''Combines set of rasters to single dataFrame based on csv that lists all desired files and column names to use in dataframe for data\n",
    " corresponding to each raster\n",
    " '''\n",
    "\n",
    "#param csvPath: path to csv of filepaths (in column \"FilePath\") and desired label names for values in each raster (in column \"DataName\")\n",
    "#param outPath: path to ouput file name and location\n",
    "\n",
    "invar_Data = tr.multi_image_to_dataframe(\"C:/Users/Python3/Documents/wildfire_FRAP_working/wildfire_FRAP/Data/Actual/Invar_FileList.csv\", \"C:/Users/Python3/Documents/wildfire_FRAP_working/wildfire_FRAP/Data/Actual/invar_out_test.csv\")\n",
    "invar_Data.head()"
   ]
  },
  {
   "cell_type": "code",
   "execution_count": 6,
   "metadata": {},
   "outputs": [
    {
     "name": "stdout",
     "output_type": "stream",
     "text": [
      "df: C:/Users/Python3/Documents/wildfire_FRAP_working/wildfire_FRAP/Data/Actual/Climate/BCM HIST Final 1000m_1950_2016/my_df.csv\n"
     ]
    },
    {
     "name": "stderr",
     "output_type": "stream",
     "text": [
      "Feature Extraction: 100%|████████████████████████| 5/5 [01:13<00:00, 15.02s/it]\n"
     ]
    },
    {
     "name": "stdout",
     "output_type": "stream",
     "text": [
      "features:C:/Users/Python3/Documents/wildfire_FRAP_working/wildfire_FRAP/Data/Extracted_Features/Pre_Masked/extracted_features1981_3_prev_offset0.csv\n",
      "tif:C:/Users/Python3/Documents/wildfire_FRAP_working/wildfire_FRAP/Data/Extracted_Features/Pre_Masked/extracted_features1981_3_prev_offset0.tiff\n",
      "df: C:/Users/Python3/Documents/wildfire_FRAP_working/wildfire_FRAP/Data/Actual/Climate/BCM HIST Final 1000m_1950_2016/my_df.csv\n"
     ]
    },
    {
     "name": "stderr",
     "output_type": "stream",
     "text": [
      "Feature Extraction: 100%|████████████████████████| 5/5 [01:19<00:00, 16.39s/it]\n"
     ]
    },
    {
     "name": "stdout",
     "output_type": "stream",
     "text": [
      "features:C:/Users/Python3/Documents/wildfire_FRAP_working/wildfire_FRAP/Data/Extracted_Features/Pre_Masked/extracted_features1982_3_prev_offset0.csv\n",
      "tif:C:/Users/Python3/Documents/wildfire_FRAP_working/wildfire_FRAP/Data/Extracted_Features/Pre_Masked/extracted_features1982_3_prev_offset0.tiff\n"
     ]
    }
   ],
   "source": [
    "#conduct climate feature extraction across all years of interest, merge results with invar data annually\n",
    "\n",
    "\n",
    "'''Extracts summary statistics(features) from multiYear datasets within moving window, across years\n",
    "    Outputs a series of annual dataFrames as CSV files\n",
    "'''\n",
    "\n",
    "#param startYear: year on which to start feature extraction\n",
    "#param endYear: year on which to end feature extraction\n",
    "#param featureData_Path: file path to data from which to extract features\n",
    "#param feature_params: summary statistics(features) to extract from data within each window\n",
    "#param invar_Data: year-invariate data to join with extracted feature data on an annual scale\n",
    "#param out_Path: file path to location at which extracted features should be output as a csv\n",
    "#param window_length: length of window within which to extract features\n",
    "#param window_offset: number of years by which features pertaining to each year are offset from that year\n",
    "#param mask:  mask to apply to data prior to feature extraction\n",
    "\n",
    "ca.multiYear_Window_Extraction(1981, 1982, \"C:/Users/Python3/Documents/wildfire_FRAP_working/wildfire_FRAP/Data/Actual/Climate/BCM HIST Final 1000m_1950_2016/\",\n",
    "                    feature_params = {\"mean\": None,\"maximum\": None}, \n",
    "                    invar_Data = invar_Data,\n",
    "                    out_Path = 'C:/Users/Python3/Documents/wildfire_FRAP_working/wildfire_FRAP/Data/Extracted_Features/Pre_Masked/',\n",
    "                        mask = \"C:/Users/Python3/Documents/wildfire_FRAP_working/wildfire_FRAP/Data/Examples/buffer/StatePoly_buf.tif\" ,\n",
    "                    window_length = 3,\n",
    "                    window_offset = 0)"
   ]
  },
  {
   "cell_type": "code",
   "execution_count": 3,
   "metadata": {},
   "outputs": [],
   "source": [
    "'''merge additional annually repeating data into feature data (which is already merged with time-invariant data)\n",
    "    Produces annual dataFrames consisting of all explanatory variables that may be incorporated into model\n",
    "'''\n",
    "    \n",
    "#param startYear: year on which to start feature extraction\n",
    "#param endYear: year on which to end feature extraction\n",
    "#param other_Data_prefixList: list of file path and portion of filename preceding year for additional Data\n",
    "#param feature_Data_suffixList: portion of feature data file name that follows year for additional data\n",
    "#param dataNameList: list of intended data names for additional data\n",
    "#param outPath: filepath for folder in which the output will be placed\n",
    "\n",
    "\n",
    "tr.annual_Data_Merge(1981, 1982, \n",
    "                  \"C:/Users/Python3/Documents/wildfire_FRAP_working/wildfire_FRAP/Data/Extracted_Features/Pre_Masked/\", \n",
    "                 [\"C:/Users/Python3/Documents/wildfire_FRAP/Data/Actual/SERGOM_Housing/Interpolated/bhc\"],\n",
    "                 [\"linreg.tif\"],\n",
    "                 [\"Housing_Density\"],\n",
    "                 'C:/Users/Python3/Documents/wildfire_FRAP_working/wildfire_FRAP/Data/Extracted_Features/Pre_Masked/')"
   ]
  },
  {
   "cell_type": "code",
   "execution_count": 4,
   "metadata": {},
   "outputs": [],
   "source": [
    "#converts annual fire raster data into annual CSV files, does some minor reformatting for downstream processing\n",
    "'''convert annual fire data rasters into annual dataFrames, export as .CSV files\n",
    "    also does some minor reformatting to prevent problems with downstream processing\n",
    "'''\n",
    "    \n",
    "    #param startYear: year on which to start feature extraction\n",
    "    #param endYear: year on which to end feature extraction\n",
    "    #param file_Path: path to target data files (fire data)\n",
    "    #outPath: filepath for folder in which the output will be placed: \n",
    "\n",
    "\n",
    "\n",
    "tr.target_Data_to_csv_multiYear(1981, 1982,\n",
    "                            \"C:/Users/Python3/Documents/wildfire_FRAP_working/wildfire_FRAP/Data/Actual/Fires/Rasters/\",\n",
    "                            'C:/Users/Python3/Documents/wildfire_FRAP_working/wildfire_FRAP/Data/Extracted_Features/Pre_Masked/')"
   ]
  },
  {
   "cell_type": "code",
   "execution_count": 2,
   "metadata": {},
   "outputs": [
    {
     "name": "stderr",
     "output_type": "stream",
     "text": [
      "C:\\Users\\Python3\\Anaconda3\\envs\\ts-raster\\lib\\site-packages\\numpy\\lib\\arraysetops.py:522: FutureWarning: elementwise comparison failed; returning scalar instead, but in the future will perform elementwise comparison\n",
      "  mask |= (ar1 == a)\n"
     ]
    }
   ],
   "source": [
    "'''masks annual datasets (combined and fire), and saves the resulting masked data files as CSV files\n",
    "    Also returns multiYear files (combined and fire) for subsequent processing - adds in 'year' as a data column\n",
    "'''\n",
    "    #param startYear: year on which to begin\n",
    "    #param endYear: year on which to end\n",
    "    #param DataLists: csv of files to pull, with the year is the index, \n",
    "    #       \"combined_Data_Filepaths\" as the column of combined data filepaths, and\n",
    "    #       \"target_Data_filePaths\" as the column of the target data(i.e. fire) filepaths.\n",
    "    #param maskFile: filepath to data file used for masking\n",
    "    #outPath: filepath for folder in which the output will be placed\n",
    "\n",
    "\n",
    "combined_Data, target_Data = tr.multiYear_Mask(1981, 1982, \n",
    "                                               'C:/Users/Python3/Documents/wildfire_FRAP_working/wildfire_FRAP/Data/Extracted_Features/Pre_Masked/', \n",
    "                                               r\"../Data\\Examples\\diskTest.tif\", \n",
    "                                               \"C:/Users/Python3/Documents/wildfire_FRAP_working/wildfire_FRAP/Data/Extracted_Features/Masked/\")"
   ]
  },
  {
   "cell_type": "code",
   "execution_count": 3,
   "metadata": {},
   "outputs": [
    {
     "data": {
      "text/html": [
       "<div>\n",
       "<style scoped>\n",
       "    .dataframe tbody tr th:only-of-type {\n",
       "        vertical-align: middle;\n",
       "    }\n",
       "\n",
       "    .dataframe tbody tr th {\n",
       "        vertical-align: top;\n",
       "    }\n",
       "\n",
       "    .dataframe thead th {\n",
       "        text-align: right;\n",
       "    }\n",
       "</style>\n",
       "<table border=\"1\" class=\"dataframe\">\n",
       "  <thead>\n",
       "    <tr style=\"text-align: right;\">\n",
       "      <th></th>\n",
       "      <th>pixel_id</th>\n",
       "      <th>Unnamed: 0</th>\n",
       "      <th>Unnamed: 0.1</th>\n",
       "      <th>time</th>\n",
       "      <th>aet__maximum</th>\n",
       "      <th>aet__mean</th>\n",
       "      <th>cwd__maximum</th>\n",
       "      <th>cwd__mean</th>\n",
       "      <th>Campground</th>\n",
       "      <th>FireStation_Dist</th>\n",
       "      <th>Airfield_Dist</th>\n",
       "      <th>City_Bounds</th>\n",
       "      <th>NPS_Bounds</th>\n",
       "      <th>Lightning</th>\n",
       "      <th>Elev</th>\n",
       "      <th>Housing_Density</th>\n",
       "      <th>year</th>\n",
       "      <th>pixel_group</th>\n",
       "      <th>year_group</th>\n",
       "    </tr>\n",
       "  </thead>\n",
       "  <tbody>\n",
       "    <tr>\n",
       "      <th>0</th>\n",
       "      <td>135532</td>\n",
       "      <td>135532</td>\n",
       "      <td>135532</td>\n",
       "      <td>197901_198112</td>\n",
       "      <td>146.348801</td>\n",
       "      <td>52.559612</td>\n",
       "      <td>51.924400</td>\n",
       "      <td>29.699389</td>\n",
       "      <td>-1</td>\n",
       "      <td>122</td>\n",
       "      <td>125</td>\n",
       "      <td>-1</td>\n",
       "      <td>-1</td>\n",
       "      <td>0</td>\n",
       "      <td>-114</td>\n",
       "      <td>1</td>\n",
       "      <td>1981</td>\n",
       "      <td>6</td>\n",
       "      <td>3</td>\n",
       "    </tr>\n",
       "    <tr>\n",
       "      <th>1</th>\n",
       "      <td>135544</td>\n",
       "      <td>135544</td>\n",
       "      <td>135544</td>\n",
       "      <td>197901_198112</td>\n",
       "      <td>159.460007</td>\n",
       "      <td>59.854465</td>\n",
       "      <td>34.564999</td>\n",
       "      <td>18.978876</td>\n",
       "      <td>-1</td>\n",
       "      <td>-115</td>\n",
       "      <td>-42</td>\n",
       "      <td>-1</td>\n",
       "      <td>-1</td>\n",
       "      <td>0</td>\n",
       "      <td>44</td>\n",
       "      <td>0</td>\n",
       "      <td>1981</td>\n",
       "      <td>2</td>\n",
       "      <td>3</td>\n",
       "    </tr>\n",
       "    <tr>\n",
       "      <th>2</th>\n",
       "      <td>136499</td>\n",
       "      <td>136499</td>\n",
       "      <td>136499</td>\n",
       "      <td>197901_198112</td>\n",
       "      <td>82.879379</td>\n",
       "      <td>25.414602</td>\n",
       "      <td>105.540627</td>\n",
       "      <td>51.545486</td>\n",
       "      <td>-1</td>\n",
       "      <td>-107</td>\n",
       "      <td>-31</td>\n",
       "      <td>-1</td>\n",
       "      <td>-1</td>\n",
       "      <td>0</td>\n",
       "      <td>-75</td>\n",
       "      <td>0</td>\n",
       "      <td>1981</td>\n",
       "      <td>4</td>\n",
       "      <td>3</td>\n",
       "    </tr>\n",
       "    <tr>\n",
       "      <th>3</th>\n",
       "      <td>137476</td>\n",
       "      <td>137476</td>\n",
       "      <td>137476</td>\n",
       "      <td>197901_198112</td>\n",
       "      <td>143.273605</td>\n",
       "      <td>53.919800</td>\n",
       "      <td>47.438000</td>\n",
       "      <td>22.393867</td>\n",
       "      <td>-1</td>\n",
       "      <td>-42</td>\n",
       "      <td>110</td>\n",
       "      <td>-1</td>\n",
       "      <td>-1</td>\n",
       "      <td>0</td>\n",
       "      <td>-100</td>\n",
       "      <td>0</td>\n",
       "      <td>1981</td>\n",
       "      <td>1</td>\n",
       "      <td>3</td>\n",
       "    </tr>\n",
       "    <tr>\n",
       "      <th>4</th>\n",
       "      <td>137486</td>\n",
       "      <td>137486</td>\n",
       "      <td>137486</td>\n",
       "      <td>197901_198112</td>\n",
       "      <td>118.560799</td>\n",
       "      <td>45.622555</td>\n",
       "      <td>65.917999</td>\n",
       "      <td>33.337620</td>\n",
       "      <td>-1</td>\n",
       "      <td>-105</td>\n",
       "      <td>87</td>\n",
       "      <td>-1</td>\n",
       "      <td>-1</td>\n",
       "      <td>0</td>\n",
       "      <td>17</td>\n",
       "      <td>0</td>\n",
       "      <td>1981</td>\n",
       "      <td>0</td>\n",
       "      <td>3</td>\n",
       "    </tr>\n",
       "  </tbody>\n",
       "</table>\n",
       "</div>"
      ],
      "text/plain": [
       "   pixel_id  Unnamed: 0  Unnamed: 0.1           time  aet__maximum  aet__mean  \\\n",
       "0    135532      135532        135532  197901_198112    146.348801  52.559612   \n",
       "1    135544      135544        135544  197901_198112    159.460007  59.854465   \n",
       "2    136499      136499        136499  197901_198112     82.879379  25.414602   \n",
       "3    137476      137476        137476  197901_198112    143.273605  53.919800   \n",
       "4    137486      137486        137486  197901_198112    118.560799  45.622555   \n",
       "\n",
       "   cwd__maximum  cwd__mean  Campground  FireStation_Dist  Airfield_Dist  \\\n",
       "0     51.924400  29.699389          -1               122            125   \n",
       "1     34.564999  18.978876          -1              -115            -42   \n",
       "2    105.540627  51.545486          -1              -107            -31   \n",
       "3     47.438000  22.393867          -1               -42            110   \n",
       "4     65.917999  33.337620          -1              -105             87   \n",
       "\n",
       "   City_Bounds  NPS_Bounds  Lightning  Elev  Housing_Density  year  \\\n",
       "0           -1          -1          0  -114                1  1981   \n",
       "1           -1          -1          0    44                0  1981   \n",
       "2           -1          -1          0   -75                0  1981   \n",
       "3           -1          -1          0  -100                0  1981   \n",
       "4           -1          -1          0    17                0  1981   \n",
       "\n",
       "   pixel_group  year_group  \n",
       "0            6           3  \n",
       "1            2           3  \n",
       "2            4           3  \n",
       "3            1           3  \n",
       "4            0           3  "
      ]
     },
     "execution_count": 3,
     "metadata": {},
     "output_type": "execute_result"
    }
   ],
   "source": [
    "'''Assigns each pixel and year to a randomly assigned group in order to allocate them for testing and training- \n",
    "'''\n",
    "\n",
    "\n",
    "#param combined_Data:  multivariate data for explaining target data - may be filename or csv\n",
    "#param combined_Data: target data - may be filename or csv\n",
    "#param varsToGroupBy: variable(s) on which to build groups for testing/training\n",
    "#param groupVars: variable(s) to name those groups\n",
    "#param tesGroups: number of randomly assigned groups to provide for each variable\n",
    "\n",
    "\n",
    "\n",
    "combined_Data2, target_Data2 = random.TestTrain_GroupMaker(combined_Data, target_Data, [\"pixel_id\", \"year\"], [\"pixel_group\", \"year_group\"], testGroups = [10, 6])\n",
    "combined_Data2.head()"
   ]
  },
  {
   "cell_type": "code",
   "execution_count": 12,
   "metadata": {},
   "outputs": [],
   "source": [
    "def elasticNet_2dimTest(combined_Data, target_Data, varsToGroupBy, groupVars, testGroups):\n",
    "\n",
    "    combined_Data, target_Data = random.TestTrain_GroupMaker(combined_Data, target_Data, \n",
    "                                                               varsToGroupBy, \n",
    "                                                               groupVars, \n",
    "                                                               testGroups)\n",
    "\n",
    "\n",
    "    #select out test/training data for each iteration by pixels, years, and both \n",
    "    #(test against temporally alien, spatially alien,and completely alien conditions)\n",
    "\n",
    "    #get list of group ids, since in cases where group # <10, may not begin at zero\n",
    "    pixel_testVals = list(set(combined_Data[groupVars[0]].tolist()))\n",
    "    year_testVals = list(set(combined_Data[groupVars[1]].tolist()))\n",
    "\n",
    "    pixels_years_MSEList = []\n",
    "    pixels_MSEList = []\n",
    "    years_MSEList = []\n",
    "\n",
    "    pixels_years_R2List = []\n",
    "    pixels_R2List = []\n",
    "    years_R2List = []\n",
    "\n",
    "    for x in pixel_testVals:\n",
    "\n",
    "\n",
    "\n",
    "        for y in year_testVals:\n",
    "            trainData_X = combined_Data[combined_Data[groupVars[0]] != x]\n",
    "            trainData_X = trainData_X[trainData_X[groupVars[1]] != y]\n",
    "\n",
    "            trainData_y = target_Data[target_Data[groupVars[0]] != x]\n",
    "            trainData_y = trainData_y[trainData_y[groupVars[1]] != y]\n",
    "\n",
    "\n",
    "            testData_X_pixels_years = combined_Data[combined_Data[groupVars[0]] == x]\n",
    "            testData_X_pixels_years = testData_X_pixels_years[testData_X_pixels_years[groupVars[1]] == y]\n",
    "\n",
    "            testData_X_pixels = combined_Data[combined_Data[groupVars[0]] == x]\n",
    "            testData_X_pixels = testData_X_pixels[testData_X_pixels[groupVars[1]] != y]\n",
    "\n",
    "            testData_X_years = combined_Data[combined_Data[groupVars[0]] != x]\n",
    "            testData_X_years = testData_X_years[testData_X_years[groupVars[1]] == y]\n",
    "\n",
    "\n",
    "\n",
    "            testData_y_pixels_years = target_Data[target_Data[groupVars[0]] == x]\n",
    "            testData_y_pixels_years = testData_y_pixels_years[testData_y_pixels_years[groupVars[1]] == y]\n",
    "\n",
    "            testData_y_pixels = target_Data[target_Data[groupVars[0]] == x]\n",
    "            testData_y_pixels = testData_y_pixels[testData_y_pixels[groupVars[1]] != y]\n",
    "\n",
    "            testData_y_years = target_Data[target_Data[groupVars[0]] != x]\n",
    "            testData_y_years = testData_y_years[testData_y_years[groupVars[1]] == y]\n",
    "\n",
    "\n",
    "            pixels_years_iterOutput = md.ElasticNetModel(trainData_X, trainData_y['value'], testData_X_pixels_years, testData_y_pixels_years['value'])\n",
    "            pixels_iterOutput = md.ElasticNetModel(trainData_X, trainData_y['value'], testData_X_pixels, testData_y_pixels['value'])\n",
    "            years_iterOutput = md.ElasticNetModel(trainData_X, trainData_y['value'], testData_X_years, testData_y_years['value'])\n",
    "\n",
    "\n",
    "\n",
    "            pixels_years_MSEList.append(pixels_years_iterOutput[1])\n",
    "            pixels_MSEList.append(pixels_iterOutput[1])\n",
    "            years_MSEList.append(years_iterOutput[1])\n",
    "\n",
    "            pixels_years_R2List.append(pixels_years_iterOutput[2])\n",
    "            pixels_R2List.append(pixels_iterOutput[2])\n",
    "            years_R2List.append(years_iterOutput[2])\n",
    "\n",
    "    print(\"pixels_Years MSE Overall: \", sum(pixels_years_MSEList)/len(pixels_years_MSEList))\n",
    "    print(\"pixels_Years R2 Overall: \", sum(pixels_years_R2List)/len(pixels_years_R2List))\n",
    "    print(\"pixels_Years R2 iterations: \", pixels_years_R2List)\n",
    "    print(\"\\n\")\n",
    "    print(\"pixels MSE Overall: \", sum(pixels_MSEList)/len(pixels_MSEList))\n",
    "    print(\"pixels R2 Overall: \", sum(pixels_R2List)/len(pixels_R2List))\n",
    "    print(len(pixels_R2List))\n",
    "    print(\"pixels R2 iterations: \", pixels_R2List)\n",
    "    print(\"\\n\")\n",
    "    print(\"years MSE Overall: \", sum(years_MSEList)/len(years_MSEList))\n",
    "    print(\"years R2 Overall: \", sum(years_R2List)/len(years_R2List))\n",
    "    print(len(years_R2List))\n",
    "    print(\"years R2 iterations: \", years_R2List)\n",
    "    print(\"\\n\")\n",
    "\n",
    "            #select out test/training data for each iteration by years"
   ]
  },
  {
   "cell_type": "code",
   "execution_count": 13,
   "metadata": {},
   "outputs": [
    {
     "name": "stdout",
     "output_type": "stream",
     "text": [
      "pixels_Years MSE Overall:  -0.000972436612029443\n",
      "pixels_Years R2 Overall:  -205002.34458079853\n",
      "pixels_Years R2 Overall:  -9318.288390036296\n",
      "22\n",
      "pixels_Years R2 iterations:  [-0.4457043592507326, -11.635626510117762, -1720.8789927516218, -1.2806626448829541, -0.48460978904667207, -9.156130726914144, -0.30112045843711943, -11.094565836789549, -0.4321624831091917, -10.515615015696815, -0.39965899996836884, -10.135176522503462, -0.37532918037109786, -10.787805700455525, -6699.372958519421, -143639.5612080204, -0.585867160544008, -10.981014019785922, -2591.5394564362186, -50272.380915663016, 0.0, 0.0]\n",
      "\n",
      "\n",
      "pixels MSE Overall:  -0.0008353898245174538\n",
      "pixels R2 Overall:  -8208.142324171187\n",
      "22\n",
      "pixels R2 iterations:  [-0.4457043592507326, -11.635626510117762, -0.32578318856147415, -10623.380499376255, -0.48460978904667207, -9.156130726914144, -0.30112045843711943, -11.094565836789549, -0.4321624831091917, -10.515615015696815, -0.39965899996836884, -10.135176522503462, -0.37532918037109786, -10.787805700455525, -20091.973613297923, -47922.310626765284, -0.585867160544008, -10.981014019785922, -1290.7766831673982, -100573.03353920774, 0.0, 0.0]\n",
      "\n",
      "\n",
      "years MSE Overall:  -0.0002019797368085673\n",
      "years R2 Overall:  -2429.796059583936\n",
      "22\n",
      "years R2 iterations:  [-404.9792430718178, -2893.8848442074122, -200.4571298287824, -1650.614298337467, -389.8510588394322, -2627.5177372325484, -407.9720006239861, -3079.8894728871833, -400.0611357775301, -2823.9730222492512, -399.412633331742, -2839.628283671136, -403.68202934687264, -2931.3015138353053, -3842.581685277834, -5537.07509323185, -396.3500090094158, -2665.6698738543582, -532.104184774144, -15474.556624525401, -443.5536416217874, -3110.397795311335]\n",
      "\n",
      "\n"
     ]
    }
   ],
   "source": [
    "elasticNet_2dimTest(combined_Data, target_Data, [\"pixel_id\", \"year\"], [\"pixel_group\", \"year_group\"], testGroups = [10, 6])\n"
   ]
  },
  {
   "cell_type": "code",
   "execution_count": null,
   "metadata": {},
   "outputs": [],
   "source": [
    "###################"
   ]
  },
  {
   "cell_type": "code",
   "execution_count": null,
   "metadata": {},
   "outputs": [],
   "source": [
    "obj = [target_data,extracted_features]\n",
    "\n",
    "X_train, X_test, y_train, y_test = md.get_data(obj,\n",
    "                                            stratify=True,\n",
    "                                            test_size=0.9,\n",
    "                                            scale=False  )"
   ]
  },
  {
   "cell_type": "code",
   "execution_count": 14,
   "metadata": {},
   "outputs": [
    {
     "name": "stderr",
     "output_type": "stream",
     "text": [
      "WARNING:tsfresh.feature_selection.relevance:Infered classification as machine learning task\n"
     ]
    },
    {
     "name": "stdout",
     "output_type": "stream",
     "text": [
      "                   feature  type       p_value  relevant\n",
      "feature                                                 \n",
      "aet__maximum  aet__maximum  real  6.993191e-23      True\n",
      "aet__mean        aet__mean  real  7.604158e-21      True\n",
      "cwd__mean        cwd__mean  real  2.424042e-14      True\n",
      "cwd__maximum  cwd__maximum  real  1.681569e-13      True\n"
     ]
    },
    {
     "data": {
      "text/html": [
       "<div>\n",
       "<style scoped>\n",
       "    .dataframe tbody tr th:only-of-type {\n",
       "        vertical-align: middle;\n",
       "    }\n",
       "\n",
       "    .dataframe tbody tr th {\n",
       "        vertical-align: top;\n",
       "    }\n",
       "\n",
       "    .dataframe thead th {\n",
       "        text-align: right;\n",
       "    }\n",
       "</style>\n",
       "<table border=\"1\" class=\"dataframe\">\n",
       "  <thead>\n",
       "    <tr style=\"text-align: right;\">\n",
       "      <th></th>\n",
       "      <th></th>\n",
       "      <th>aet__maximum</th>\n",
       "      <th>aet__mean</th>\n",
       "      <th>cwd__mean</th>\n",
       "      <th>cwd__maximum</th>\n",
       "    </tr>\n",
       "    <tr>\n",
       "      <th>pixel_id</th>\n",
       "      <th>time</th>\n",
       "      <th></th>\n",
       "      <th></th>\n",
       "      <th></th>\n",
       "      <th></th>\n",
       "    </tr>\n",
       "  </thead>\n",
       "  <tbody>\n",
       "    <tr>\n",
       "      <th>613782</th>\n",
       "      <th>199701_199912</th>\n",
       "      <td>147.283600</td>\n",
       "      <td>41.908684</td>\n",
       "      <td>57.450752</td>\n",
       "      <td>131.722397</td>\n",
       "    </tr>\n",
       "    <tr>\n",
       "      <th>758707</th>\n",
       "      <th>199501_199712</th>\n",
       "      <td>142.056503</td>\n",
       "      <td>43.035862</td>\n",
       "      <td>69.082191</td>\n",
       "      <td>153.076996</td>\n",
       "    </tr>\n",
       "    <tr>\n",
       "      <th>1042362</th>\n",
       "      <th>199701_199912</th>\n",
       "      <td>134.751251</td>\n",
       "      <td>40.237396</td>\n",
       "      <td>68.876823</td>\n",
       "      <td>136.493118</td>\n",
       "    </tr>\n",
       "    <tr>\n",
       "      <th>597693</th>\n",
       "      <th>199501_199712</th>\n",
       "      <td>72.180000</td>\n",
       "      <td>25.977777</td>\n",
       "      <td>67.088882</td>\n",
       "      <td>132.429993</td>\n",
       "    </tr>\n",
       "    <tr>\n",
       "      <th>666588</th>\n",
       "      <th>199701_199912</th>\n",
       "      <td>101.658997</td>\n",
       "      <td>23.553017</td>\n",
       "      <td>91.105591</td>\n",
       "      <td>202.184998</td>\n",
       "    </tr>\n",
       "  </tbody>\n",
       "</table>\n",
       "</div>"
      ],
      "text/plain": [
       "                        aet__maximum  aet__mean  cwd__mean  cwd__maximum\n",
       "pixel_id time                                                           \n",
       "613782   199701_199912    147.283600  41.908684  57.450752    131.722397\n",
       "758707   199501_199712    142.056503  43.035862  69.082191    153.076996\n",
       "1042362  199701_199912    134.751251  40.237396  68.876823    136.493118\n",
       "597693   199501_199712     72.180000  25.977777  67.088882    132.429993\n",
       "666588   199701_199912    101.658997  23.553017  91.105591    202.184998"
      ]
     },
     "execution_count": 14,
     "metadata": {},
     "output_type": "execute_result"
    }
   ],
   "source": [
    "relevance_test, relevant_features  = ca.checkRelevance2(x=X_train, \n",
    "                                                        y=y_train,\n",
    "                                                        fdr_level=0.01)\n",
    "print(relevance_test)\n",
    "relevant_features.head()"
   ]
  },
  {
   "cell_type": "code",
   "execution_count": 15,
   "metadata": {},
   "outputs": [],
   "source": [
    "from sklearn.ensemble import GradientBoostingClassifier\n",
    "clf = GradientBoostingClassifier(n_estimators=200, learning_rate=0.1,\n",
    "                                 max_depth=2, random_state=0).fit(X_train[relevant_features.columns], y_train)"
   ]
  },
  {
   "cell_type": "code",
   "execution_count": 16,
   "metadata": {},
   "outputs": [
    {
     "data": {
      "text/html": [
       "<div>\n",
       "<style scoped>\n",
       "    .dataframe tbody tr th:only-of-type {\n",
       "        vertical-align: middle;\n",
       "    }\n",
       "\n",
       "    .dataframe tbody tr th {\n",
       "        vertical-align: top;\n",
       "    }\n",
       "\n",
       "    .dataframe thead th {\n",
       "        text-align: right;\n",
       "    }\n",
       "</style>\n",
       "<table border=\"1\" class=\"dataframe\">\n",
       "  <thead>\n",
       "    <tr style=\"text-align: right;\">\n",
       "      <th></th>\n",
       "      <th>importance</th>\n",
       "    </tr>\n",
       "  </thead>\n",
       "  <tbody>\n",
       "    <tr>\n",
       "      <th>aet__mean</th>\n",
       "      <td>0.367164</td>\n",
       "    </tr>\n",
       "    <tr>\n",
       "      <th>cwd__maximum</th>\n",
       "      <td>0.321893</td>\n",
       "    </tr>\n",
       "    <tr>\n",
       "      <th>aet__maximum</th>\n",
       "      <td>0.195558</td>\n",
       "    </tr>\n",
       "    <tr>\n",
       "      <th>cwd__mean</th>\n",
       "      <td>0.115384</td>\n",
       "    </tr>\n",
       "  </tbody>\n",
       "</table>\n",
       "</div>"
      ],
      "text/plain": [
       "              importance\n",
       "aet__mean       0.367164\n",
       "cwd__maximum    0.321893\n",
       "aet__maximum    0.195558\n",
       "cwd__mean       0.115384"
      ]
     },
     "execution_count": 16,
     "metadata": {},
     "output_type": "execute_result"
    }
   ],
   "source": [
    "feature_importances = pd.DataFrame(clf.feature_importances_,\n",
    "                                   index = relevant_features.columns,\n",
    "                                    columns=['importance']).sort_values('importance', ascending=False)\n",
    " \n",
    "feature_importances"
   ]
  },
  {
   "cell_type": "code",
   "execution_count": 17,
   "metadata": {},
   "outputs": [
    {
     "name": "stdout",
     "output_type": "stream",
     "text": [
      "df: C:/Users/Python3/Documents/wildfire_FRAP/Data/Actual/Climate/BCM HIST Final 1000m_1950_2016/my_df.csv\n"
     ]
    },
    {
     "name": "stderr",
     "output_type": "stream",
     "text": [
      "Feature Extraction: 100%|████████████████████████| 5/5 [01:20<00:00, 16.76s/it]\n"
     ]
    },
    {
     "name": "stdout",
     "output_type": "stream",
     "text": [
      "features:C:/Users/Python3/Documents/wildfire_FRAP/Data/Extracted_Features/Pre_Masked/extracted_features2003_3_prev_offset0.csv\n",
      "tif:C:/Users/Python3/Documents/wildfire_FRAP/Data/Extracted_Features/Pre_Masked/extracted_features2003_3_prev_offset0.tiff\n"
     ]
    }
   ],
   "source": [
    "#Get target year's data\n",
    "\n",
    "projectedYear = ca.calculateFeatures_window(path = \"C:/Users/Python3/Documents/wildfire_FRAP/Data/Actual/Climate/BCM HIST Final 1000m_1950_2016/\", \n",
    "                                              parameters = {\"mean\": None,\n",
    "                                                            \"maximum\": None}, \n",
    "                                              baseYear = 2003,\n",
    "                                              length = 3,\n",
    "                                              offset = 0,\n",
    "                                              reset_df=True,\n",
    "                                              raster_mask =  \"C:/Users/Python3/Documents/wildfire_FRAP/Data/Examples/buffer/StatePoly_buf.tif\" ,\n",
    "                                              tiff_output=True,\n",
    "                                              workers = 1,\n",
    "                                              outPath = 'C:/Users/Python3/Documents/wildfire_FRAP/Data/Extracted_Features/Pre_Masked/')\n",
    "    \n",
    "\n",
    "\n",
    "\n",
    "#Predict to Novel Data\n",
    "all_predict = md.model_predict(model = clf,\n",
    "                                        new_X = projectedYear[relevant_features.columns])\n",
    "\n",
    "# returns probability of each class\n",
    "all_prob =  md.model_predict_prob(model = clf,\n",
    "                                        new_X = projectedYear[relevant_features.columns])"
   ]
  },
  {
   "cell_type": "code",
   "execution_count": 18,
   "metadata": {},
   "outputs": [
    {
     "name": "stdout",
     "output_type": "stream",
     "text": [
      "pixel_id  time         \n",
      "0         200101_200312    0\n",
      "1         200101_200312    0\n",
      "2         200101_200312    0\n",
      "3         200101_200312    0\n",
      "4         200101_200312    0\n",
      "dtype: int8\n"
     ]
    },
    {
     "data": {
      "text/html": [
       "<div>\n",
       "<style scoped>\n",
       "    .dataframe tbody tr th:only-of-type {\n",
       "        vertical-align: middle;\n",
       "    }\n",
       "\n",
       "    .dataframe tbody tr th {\n",
       "        vertical-align: top;\n",
       "    }\n",
       "\n",
       "    .dataframe thead th {\n",
       "        text-align: right;\n",
       "    }\n",
       "</style>\n",
       "<table border=\"1\" class=\"dataframe\">\n",
       "  <thead>\n",
       "    <tr style=\"text-align: right;\">\n",
       "      <th></th>\n",
       "      <th></th>\n",
       "      <th>0</th>\n",
       "      <th>1</th>\n",
       "    </tr>\n",
       "    <tr>\n",
       "      <th>pixel_id</th>\n",
       "      <th>time</th>\n",
       "      <th></th>\n",
       "      <th></th>\n",
       "    </tr>\n",
       "  </thead>\n",
       "  <tbody>\n",
       "    <tr>\n",
       "      <th>0</th>\n",
       "      <th>200101_200312</th>\n",
       "      <td>0.999391</td>\n",
       "      <td>0.000609</td>\n",
       "    </tr>\n",
       "    <tr>\n",
       "      <th>1</th>\n",
       "      <th>200101_200312</th>\n",
       "      <td>0.999391</td>\n",
       "      <td>0.000609</td>\n",
       "    </tr>\n",
       "    <tr>\n",
       "      <th>2</th>\n",
       "      <th>200101_200312</th>\n",
       "      <td>0.999391</td>\n",
       "      <td>0.000609</td>\n",
       "    </tr>\n",
       "    <tr>\n",
       "      <th>3</th>\n",
       "      <th>200101_200312</th>\n",
       "      <td>0.999391</td>\n",
       "      <td>0.000609</td>\n",
       "    </tr>\n",
       "    <tr>\n",
       "      <th>4</th>\n",
       "      <th>200101_200312</th>\n",
       "      <td>0.999391</td>\n",
       "      <td>0.000609</td>\n",
       "    </tr>\n",
       "  </tbody>\n",
       "</table>\n",
       "</div>"
      ],
      "text/plain": [
       "                               0         1\n",
       "pixel_id time                             \n",
       "0        200101_200312  0.999391  0.000609\n",
       "1        200101_200312  0.999391  0.000609\n",
       "2        200101_200312  0.999391  0.000609\n",
       "3        200101_200312  0.999391  0.000609\n",
       "4        200101_200312  0.999391  0.000609"
      ]
     },
     "execution_count": 18,
     "metadata": {},
     "output_type": "execute_result"
    }
   ],
   "source": [
    "print(all_predict.head())\n",
    "all_prob.head()"
   ]
  },
  {
   "cell_type": "code",
   "execution_count": 27,
   "metadata": {},
   "outputs": [
    {
     "name": "stderr",
     "output_type": "stream",
     "text": [
      "C:\\Users\\Python3\\Anaconda3\\envs\\ts-raster\\lib\\site-packages\\ipykernel_launcher.py:6: FutureWarning: Method .as_matrix will be removed in a future version. Use .values instead.\n",
      "  \n"
     ]
    },
    {
     "data": {
      "image/png": "[encoded data removed]",
      "text/plain": [
       "<Figure size 432x288 with 2 Axes>"
      ]
     },
     "metadata": {
      "needs_background": "light"
     },
     "output_type": "display_data"
    }
   ],
   "source": [
    "import rasterio\n",
    "from numpy import reshape\n",
    "raster_ex = \"../Data/Examples/3month/aet-198401.tif\"\n",
    "ex_row, ex_cols =  rasterio.open(raster_ex).shape\n",
    "\n",
    "f2Array = reshape(all_prob[1].as_matrix(), (ex_row, ex_cols))\n",
    " # Plot the grid\n",
    "\n",
    "plt.imshow(f2Array)\n",
    "plt.set_cmap(\"Reds\")\n",
    "plt.colorbar( )\n",
    "plt.show()"
   ]
  },
  {
   "cell_type": "code",
   "execution_count": 28,
   "metadata": {},
   "outputs": [],
   "source": [
    "with rasterio.open(\"../Data/Examples/3month/aet-198401.tif\") as exampleRast:\n",
    "        array = exampleRast.read()\n",
    "        profile = exampleRast.profile\n",
    "        profile.update(dtype=rasterio.float32, count=1, compress='lzw',nodata=0)\n",
    "\n",
    "f2Array = np.float32(f2Array)      \n",
    "        \n",
    "with rasterio.open(\"../Data/Examples/Prob_Out/Prob_Out.tif\", 'w', **profile) as prob_iter:\n",
    "    prob_iter.write(f2Array, 1)"
   ]
  },
  {
   "cell_type": "code",
   "execution_count": null,
   "metadata": {},
   "outputs": [],
   "source": [
    "#################################"
   ]
  },
  {
   "cell_type": "code",
   "execution_count": 6,
   "metadata": {},
   "outputs": [
    {
     "ename": "FileNotFoundError",
     "evalue": "File b'../Data/Examples/3month_fire/fire_1984.tif\\\\my_df.csv' does not exist",
     "output_type": "error",
     "traceback": [
      "\u001b[1;31m---------------------------------------------------------------------------\u001b[0m",
      "\u001b[1;31mFileNotFoundError\u001b[0m                         Traceback (most recent call last)",
      "\u001b[1;32m<ipython-input-6-a2f87fd07535>\u001b[0m in \u001b[0;36m<module>\u001b[1;34m\u001b[0m\n\u001b[0;32m      6\u001b[0m target_data_mask = tr.mask_df(raster_mask,\n\u001b[0;32m      7\u001b[0m                                    \u001b[0moriginal_df\u001b[0m\u001b[1;33m=\u001b[0m\u001b[1;34mr\"../Data/Examples/3month_fire/fire_1984.tif\"\u001b[0m\u001b[1;33m,\u001b[0m\u001b[1;33m\u001b[0m\u001b[1;33m\u001b[0m\u001b[0m\n\u001b[1;32m----> 8\u001b[1;33m                                    reset_index = False)\n\u001b[0m\u001b[0;32m      9\u001b[0m \u001b[0mtarget_data_mask\u001b[0m\u001b[1;33m.\u001b[0m\u001b[0mhead\u001b[0m\u001b[1;33m(\u001b[0m\u001b[1;33m)\u001b[0m\u001b[1;33m\u001b[0m\u001b[1;33m\u001b[0m\u001b[0m\n\u001b[0;32m     10\u001b[0m \u001b[1;33m\u001b[0m\u001b[0m\n",
      "\u001b[1;32mc:\\users\\python3\\documents\\ts-raster\\tsraster\\prep.py\u001b[0m in \u001b[0;36mmask_df\u001b[1;34m(raster_mask, original_df, missing_value, reset_index)\u001b[0m\n\u001b[0;32m    517\u001b[0m     \u001b[1;32mif\u001b[0m \u001b[1;32mnot\u001b[0m\u001b[1;33m(\u001b[0m\u001b[0misinstance\u001b[0m\u001b[1;33m(\u001b[0m\u001b[0moriginal_df\u001b[0m\u001b[1;33m,\u001b[0m \u001b[0mpd\u001b[0m\u001b[1;33m.\u001b[0m\u001b[0mcore\u001b[0m\u001b[1;33m.\u001b[0m\u001b[0mseries\u001b[0m\u001b[1;33m.\u001b[0m\u001b[0mSeries\u001b[0m\u001b[1;33m)\u001b[0m\u001b[1;33m)\u001b[0m \u001b[1;32mand\u001b[0m\u001b[0;31m \u001b[0m\u001b[0;31m\\\u001b[0m\u001b[1;33m\u001b[0m\u001b[1;33m\u001b[0m\u001b[0m\n\u001b[0;32m    518\u001b[0m             \u001b[1;32mnot\u001b[0m\u001b[1;33m(\u001b[0m\u001b[0misinstance\u001b[0m\u001b[1;33m(\u001b[0m\u001b[0moriginal_df\u001b[0m\u001b[1;33m,\u001b[0m \u001b[0mpd\u001b[0m\u001b[1;33m.\u001b[0m\u001b[0mcore\u001b[0m\u001b[1;33m.\u001b[0m\u001b[0mframe\u001b[0m\u001b[1;33m.\u001b[0m\u001b[0mDataFrame\u001b[0m\u001b[1;33m)\u001b[0m\u001b[1;33m)\u001b[0m\u001b[1;33m:\u001b[0m\u001b[1;33m\u001b[0m\u001b[1;33m\u001b[0m\u001b[0m\n\u001b[1;32m--> 519\u001b[1;33m         \u001b[0moriginal_df\u001b[0m \u001b[1;33m=\u001b[0m \u001b[0mread_my_df\u001b[0m\u001b[1;33m(\u001b[0m\u001b[0moriginal_df\u001b[0m\u001b[1;33m)\u001b[0m\u001b[1;33m\u001b[0m\u001b[1;33m\u001b[0m\u001b[0m\n\u001b[0m\u001b[0;32m    520\u001b[0m \u001b[1;33m\u001b[0m\u001b[0m\n\u001b[0;32m    521\u001b[0m     \u001b[1;31m# limit to matching pixels in index from index_mask\u001b[0m\u001b[1;33m\u001b[0m\u001b[1;33m\u001b[0m\u001b[1;33m\u001b[0m\u001b[0m\n",
      "\u001b[1;32mc:\\users\\python3\\documents\\ts-raster\\tsraster\\prep.py\u001b[0m in \u001b[0;36mread_my_df\u001b[1;34m(path)\u001b[0m\n\u001b[0;32m     68\u001b[0m     \u001b[1;33m:\u001b[0m\u001b[1;32mreturn\u001b[0m\u001b[1;33m:\u001b[0m \u001b[0mmy_df\u001b[0m \u001b[0mlocated\u001b[0m \u001b[1;32min\u001b[0m \u001b[0minput\u001b[0m \u001b[0mdirectory\u001b[0m\u001b[1;33m\u001b[0m\u001b[1;33m\u001b[0m\u001b[0m\n\u001b[0;32m     69\u001b[0m     '''\n\u001b[1;32m---> 70\u001b[1;33m     \u001b[0mmy_df\u001b[0m \u001b[1;33m=\u001b[0m \u001b[0mpd\u001b[0m\u001b[1;33m.\u001b[0m\u001b[0mread_csv\u001b[0m\u001b[1;33m(\u001b[0m\u001b[0mos\u001b[0m\u001b[1;33m.\u001b[0m\u001b[0mpath\u001b[0m\u001b[1;33m.\u001b[0m\u001b[0mjoin\u001b[0m\u001b[1;33m(\u001b[0m\u001b[0mpath\u001b[0m\u001b[1;33m,\u001b[0m\u001b[1;34m'my_df.csv'\u001b[0m\u001b[1;33m)\u001b[0m\u001b[1;33m)\u001b[0m\u001b[1;33m\u001b[0m\u001b[1;33m\u001b[0m\u001b[0m\n\u001b[0m\u001b[0;32m     71\u001b[0m     \u001b[0mmy_df\u001b[0m \u001b[1;33m=\u001b[0m \u001b[0mset_df_mindex\u001b[0m\u001b[1;33m(\u001b[0m\u001b[0mmy_df\u001b[0m\u001b[1;33m)\u001b[0m \u001b[1;31m#sort\u001b[0m\u001b[1;33m\u001b[0m\u001b[1;33m\u001b[0m\u001b[0m\n\u001b[0;32m     72\u001b[0m     \u001b[1;31m# add columns needed for tsfresh\u001b[0m\u001b[1;33m\u001b[0m\u001b[1;33m\u001b[0m\u001b[1;33m\u001b[0m\u001b[0m\n",
      "\u001b[1;32m~\\Anaconda3\\envs\\ts-raster\\lib\\site-packages\\pandas\\io\\parsers.py\u001b[0m in \u001b[0;36mparser_f\u001b[1;34m(filepath_or_buffer, sep, delimiter, header, names, index_col, usecols, squeeze, prefix, mangle_dupe_cols, dtype, engine, converters, true_values, false_values, skipinitialspace, skiprows, nrows, na_values, keep_default_na, na_filter, verbose, skip_blank_lines, parse_dates, infer_datetime_format, keep_date_col, date_parser, dayfirst, iterator, chunksize, compression, thousands, decimal, lineterminator, quotechar, quoting, escapechar, comment, encoding, dialect, tupleize_cols, error_bad_lines, warn_bad_lines, skipfooter, doublequote, delim_whitespace, low_memory, memory_map, float_precision)\u001b[0m\n\u001b[0;32m    676\u001b[0m                     skip_blank_lines=skip_blank_lines)\n\u001b[0;32m    677\u001b[0m \u001b[1;33m\u001b[0m\u001b[0m\n\u001b[1;32m--> 678\u001b[1;33m         \u001b[1;32mreturn\u001b[0m \u001b[0m_read\u001b[0m\u001b[1;33m(\u001b[0m\u001b[0mfilepath_or_buffer\u001b[0m\u001b[1;33m,\u001b[0m \u001b[0mkwds\u001b[0m\u001b[1;33m)\u001b[0m\u001b[1;33m\u001b[0m\u001b[1;33m\u001b[0m\u001b[0m\n\u001b[0m\u001b[0;32m    679\u001b[0m \u001b[1;33m\u001b[0m\u001b[0m\n\u001b[0;32m    680\u001b[0m     \u001b[0mparser_f\u001b[0m\u001b[1;33m.\u001b[0m\u001b[0m__name__\u001b[0m \u001b[1;33m=\u001b[0m \u001b[0mname\u001b[0m\u001b[1;33m\u001b[0m\u001b[1;33m\u001b[0m\u001b[0m\n",
      "\u001b[1;32m~\\Anaconda3\\envs\\ts-raster\\lib\\site-packages\\pandas\\io\\parsers.py\u001b[0m in \u001b[0;36m_read\u001b[1;34m(filepath_or_buffer, kwds)\u001b[0m\n\u001b[0;32m    438\u001b[0m \u001b[1;33m\u001b[0m\u001b[0m\n\u001b[0;32m    439\u001b[0m     \u001b[1;31m# Create the parser.\u001b[0m\u001b[1;33m\u001b[0m\u001b[1;33m\u001b[0m\u001b[1;33m\u001b[0m\u001b[0m\n\u001b[1;32m--> 440\u001b[1;33m     \u001b[0mparser\u001b[0m \u001b[1;33m=\u001b[0m \u001b[0mTextFileReader\u001b[0m\u001b[1;33m(\u001b[0m\u001b[0mfilepath_or_buffer\u001b[0m\u001b[1;33m,\u001b[0m \u001b[1;33m**\u001b[0m\u001b[0mkwds\u001b[0m\u001b[1;33m)\u001b[0m\u001b[1;33m\u001b[0m\u001b[1;33m\u001b[0m\u001b[0m\n\u001b[0m\u001b[0;32m    441\u001b[0m \u001b[1;33m\u001b[0m\u001b[0m\n\u001b[0;32m    442\u001b[0m     \u001b[1;32mif\u001b[0m \u001b[0mchunksize\u001b[0m \u001b[1;32mor\u001b[0m \u001b[0miterator\u001b[0m\u001b[1;33m:\u001b[0m\u001b[1;33m\u001b[0m\u001b[1;33m\u001b[0m\u001b[0m\n",
      "\u001b[1;32m~\\Anaconda3\\envs\\ts-raster\\lib\\site-packages\\pandas\\io\\parsers.py\u001b[0m in \u001b[0;36m__init__\u001b[1;34m(self, f, engine, **kwds)\u001b[0m\n\u001b[0;32m    785\u001b[0m             \u001b[0mself\u001b[0m\u001b[1;33m.\u001b[0m\u001b[0moptions\u001b[0m\u001b[1;33m[\u001b[0m\u001b[1;34m'has_index_names'\u001b[0m\u001b[1;33m]\u001b[0m \u001b[1;33m=\u001b[0m \u001b[0mkwds\u001b[0m\u001b[1;33m[\u001b[0m\u001b[1;34m'has_index_names'\u001b[0m\u001b[1;33m]\u001b[0m\u001b[1;33m\u001b[0m\u001b[1;33m\u001b[0m\u001b[0m\n\u001b[0;32m    786\u001b[0m \u001b[1;33m\u001b[0m\u001b[0m\n\u001b[1;32m--> 787\u001b[1;33m         \u001b[0mself\u001b[0m\u001b[1;33m.\u001b[0m\u001b[0m_make_engine\u001b[0m\u001b[1;33m(\u001b[0m\u001b[0mself\u001b[0m\u001b[1;33m.\u001b[0m\u001b[0mengine\u001b[0m\u001b[1;33m)\u001b[0m\u001b[1;33m\u001b[0m\u001b[1;33m\u001b[0m\u001b[0m\n\u001b[0m\u001b[0;32m    788\u001b[0m \u001b[1;33m\u001b[0m\u001b[0m\n\u001b[0;32m    789\u001b[0m     \u001b[1;32mdef\u001b[0m \u001b[0mclose\u001b[0m\u001b[1;33m(\u001b[0m\u001b[0mself\u001b[0m\u001b[1;33m)\u001b[0m\u001b[1;33m:\u001b[0m\u001b[1;33m\u001b[0m\u001b[1;33m\u001b[0m\u001b[0m\n",
      "\u001b[1;32m~\\Anaconda3\\envs\\ts-raster\\lib\\site-packages\\pandas\\io\\parsers.py\u001b[0m in \u001b[0;36m_make_engine\u001b[1;34m(self, engine)\u001b[0m\n\u001b[0;32m   1012\u001b[0m     \u001b[1;32mdef\u001b[0m \u001b[0m_make_engine\u001b[0m\u001b[1;33m(\u001b[0m\u001b[0mself\u001b[0m\u001b[1;33m,\u001b[0m \u001b[0mengine\u001b[0m\u001b[1;33m=\u001b[0m\u001b[1;34m'c'\u001b[0m\u001b[1;33m)\u001b[0m\u001b[1;33m:\u001b[0m\u001b[1;33m\u001b[0m\u001b[1;33m\u001b[0m\u001b[0m\n\u001b[0;32m   1013\u001b[0m         \u001b[1;32mif\u001b[0m \u001b[0mengine\u001b[0m \u001b[1;33m==\u001b[0m \u001b[1;34m'c'\u001b[0m\u001b[1;33m:\u001b[0m\u001b[1;33m\u001b[0m\u001b[1;33m\u001b[0m\u001b[0m\n\u001b[1;32m-> 1014\u001b[1;33m             \u001b[0mself\u001b[0m\u001b[1;33m.\u001b[0m\u001b[0m_engine\u001b[0m \u001b[1;33m=\u001b[0m \u001b[0mCParserWrapper\u001b[0m\u001b[1;33m(\u001b[0m\u001b[0mself\u001b[0m\u001b[1;33m.\u001b[0m\u001b[0mf\u001b[0m\u001b[1;33m,\u001b[0m \u001b[1;33m**\u001b[0m\u001b[0mself\u001b[0m\u001b[1;33m.\u001b[0m\u001b[0moptions\u001b[0m\u001b[1;33m)\u001b[0m\u001b[1;33m\u001b[0m\u001b[1;33m\u001b[0m\u001b[0m\n\u001b[0m\u001b[0;32m   1015\u001b[0m         \u001b[1;32melse\u001b[0m\u001b[1;33m:\u001b[0m\u001b[1;33m\u001b[0m\u001b[1;33m\u001b[0m\u001b[0m\n\u001b[0;32m   1016\u001b[0m             \u001b[1;32mif\u001b[0m \u001b[0mengine\u001b[0m \u001b[1;33m==\u001b[0m \u001b[1;34m'python'\u001b[0m\u001b[1;33m:\u001b[0m\u001b[1;33m\u001b[0m\u001b[1;33m\u001b[0m\u001b[0m\n",
      "\u001b[1;32m~\\Anaconda3\\envs\\ts-raster\\lib\\site-packages\\pandas\\io\\parsers.py\u001b[0m in \u001b[0;36m__init__\u001b[1;34m(self, src, **kwds)\u001b[0m\n\u001b[0;32m   1706\u001b[0m         \u001b[0mkwds\u001b[0m\u001b[1;33m[\u001b[0m\u001b[1;34m'usecols'\u001b[0m\u001b[1;33m]\u001b[0m \u001b[1;33m=\u001b[0m \u001b[0mself\u001b[0m\u001b[1;33m.\u001b[0m\u001b[0musecols\u001b[0m\u001b[1;33m\u001b[0m\u001b[1;33m\u001b[0m\u001b[0m\n\u001b[0;32m   1707\u001b[0m \u001b[1;33m\u001b[0m\u001b[0m\n\u001b[1;32m-> 1708\u001b[1;33m         \u001b[0mself\u001b[0m\u001b[1;33m.\u001b[0m\u001b[0m_reader\u001b[0m \u001b[1;33m=\u001b[0m \u001b[0mparsers\u001b[0m\u001b[1;33m.\u001b[0m\u001b[0mTextReader\u001b[0m\u001b[1;33m(\u001b[0m\u001b[0msrc\u001b[0m\u001b[1;33m,\u001b[0m \u001b[1;33m**\u001b[0m\u001b[0mkwds\u001b[0m\u001b[1;33m)\u001b[0m\u001b[1;33m\u001b[0m\u001b[1;33m\u001b[0m\u001b[0m\n\u001b[0m\u001b[0;32m   1709\u001b[0m \u001b[1;33m\u001b[0m\u001b[0m\n\u001b[0;32m   1710\u001b[0m         \u001b[0mpassed_names\u001b[0m \u001b[1;33m=\u001b[0m \u001b[0mself\u001b[0m\u001b[1;33m.\u001b[0m\u001b[0mnames\u001b[0m \u001b[1;32mis\u001b[0m \u001b[1;32mNone\u001b[0m\u001b[1;33m\u001b[0m\u001b[1;33m\u001b[0m\u001b[0m\n",
      "\u001b[1;32mpandas\\_libs\\parsers.pyx\u001b[0m in \u001b[0;36mpandas._libs.parsers.TextReader.__cinit__\u001b[1;34m()\u001b[0m\n",
      "\u001b[1;32mpandas\\_libs\\parsers.pyx\u001b[0m in \u001b[0;36mpandas._libs.parsers.TextReader._setup_parser_source\u001b[1;34m()\u001b[0m\n",
      "\u001b[1;31mFileNotFoundError\u001b[0m: File b'../Data/Examples/3month_fire/fire_1984.tif\\\\my_df.csv' does not exist"
     ]
    }
   ],
   "source": [
    "raster_mask = r\"../Data\\Examples\\buffer\\StatePoly_buf.tif\"\n",
    "\n",
    "# combine in list to make sure they return same number of rows\n",
    "\n",
    "\n",
    "target_data_mask = tr.mask_df(raster_mask,\n",
    "                                   original_df=r\"../Data/Examples/3month_fire/fire_1984.tif\",\n",
    "                                   reset_index = False)\n",
    "target_data_mask.head()\n",
    "\n"
   ]
  },
  {
   "cell_type": "code",
   "execution_count": null,
   "metadata": {},
   "outputs": [],
   "source": [
    "extracted_features.head(3)"
   ]
  },
  {
   "cell_type": "code",
   "execution_count": null,
   "metadata": {},
   "outputs": [],
   "source": [
    "extracted_features.describe()"
   ]
  },
  {
   "cell_type": "code",
   "execution_count": null,
   "metadata": {},
   "outputs": [],
   "source": [
    "# first, get the original dimension/shape of image \n",
    "og_rasters = tr.image_to_array_window(path = \"C:/Users/Python3/Documents/wildfire_FRAP/Data/Actual/Climate/BCM HIST Final 1000m_1950_2016/\", baseYear = 2002, length = 1, offset = 1)\n",
    "rows, cols, nums = og_rasters.shape\n",
    "\n",
    "\n",
    "# convert df to matrix array\n",
    "matrix_features = extracted_features.values\n",
    "num_of_layers = matrix_features.shape[1]\n",
    "\n",
    "\n",
    "f2Array = matrix_features.reshape(rows, cols, num_of_layers)\n",
    "print(f2Array.shape)\n",
    "\n",
    "plt.subplots(1, 1,figsize=(10,10))\n",
    "cols = 3\n",
    "\n",
    "for i in range(0,f2Array.shape[2]):\n",
    "    img = f2Array[:,:,i]\n",
    "    i = i+1\n",
    "    plt.subplot(ceil(f2Array.shape[2]/cols),cols,i)\n",
    "    plt.imshow(img, cmap=\"Greys\")\n",
    "    plt.title(extracted_features.columns[i-1])"
   ]
  },
  {
   "cell_type": "raw",
   "metadata": {},
   "source": [
    "# Alternatively if there are memory issues, you can loop through subfolders\n",
    "# features are then written for each specific variable folder\n",
    "\n",
    "from pathlib import Path \n",
    "p = Path('F:/5year')\n",
    "folders = [str(x) for x in p.iterdir() if x.is_dir() and '_features' not in str(x) and 'Fire' not in str(x) ]\n",
    "\n",
    "for folder in folders:\n",
    "    if not os.listdir(folder):\n",
    "        print(\"Directory is empty\")\n",
    "    else:    \n",
    "        print(\"Directory is not empty\")\n",
    "        print(folder)\n",
    "        ts_features = calculateFeatures(path = folder, \n",
    "                                          parameters = {\"mean\": None,\n",
    "                                                        \"maximum\": None}, \n",
    "                                          reset_df=True,\n",
    "                                          raster_mask =  r\"../Data/Examples/buffer/StatePoly_buf.tif\" ,\n",
    "                                          tiff_output=True,\n",
    "                                          workers = 2)\n",
    "        print(ts_features.describe())\n",
    "        \n",
    "\n",
    "# append all features to one dataframe \n",
    "path = r'F:/5year/'\n",
    "\n",
    "all_files = [os.path.join(root, name)\n",
    "             for root, dirs, files in os.walk(path)\n",
    "             for name in files\n",
    "             if name.endswith(( \"features.csv\"))]\n",
    "\n",
    "df_from_each_file = (pd.read_csv(f) for f in all_files)\n",
    "concatenated_df   = pd.concat(df_from_each_file,axis=1, ignore_index=False)\n",
    "concatenated_df.columns"
   ]
  },
  {
   "cell_type": "markdown",
   "metadata": {},
   "source": [
    "## Feature Selection\n",
    "Because the number of features can be very large, we need to limit it to those most relevant.\n"
   ]
  },
  {
   "cell_type": "code",
   "execution_count": null,
   "metadata": {},
   "outputs": [],
   "source": []
  },
  {
   "cell_type": "markdown",
   "metadata": {},
   "source": [
    " Remove pixels outside of the state or with missing values. "
   ]
  },
  {
   "cell_type": "code",
   "execution_count": null,
   "metadata": {},
   "outputs": [],
   "source": [
    "raster_mask = r\"../Data\\Examples\\buffer\\StatePoly_buf.tif\"\n",
    "\n",
    "# combine in list to make sure they return same number of rows\n",
    "mask_list = [target_data, extracted_features]\n",
    "\n",
    "target_data_mask, extracted_features_mask  = tr.mask_df(raster_mask,\n",
    "                                   original_df=mask_list,\n",
    "                                   reset_index = False)\n",
    " "
   ]
  },
  {
   "cell_type": "code",
   "execution_count": null,
   "metadata": {},
   "outputs": [],
   "source": [
    "target_data_mask.head()\n"
   ]
  },
  {
   "cell_type": "code",
   "execution_count": null,
   "metadata": {},
   "outputs": [],
   "source": [
    "extracted_features_mask.head()"
   ]
  },
  {
   "cell_type": "code",
   "execution_count": null,
   "metadata": {},
   "outputs": [],
   "source": [
    "obj = [target_data_mask,extracted_features_mask]\n",
    "\n",
    "X_train, X_test, y_train, y_test = md.get_data(obj,\n",
    "                                            stratify=True,\n",
    "                                            test_size=0.9,\n",
    "                                            scale=False  )"
   ]
  },
  {
   "cell_type": "markdown",
   "metadata": {},
   "source": [
    "fdr_level is the level statistics significance "
   ]
  },
  {
   "cell_type": "code",
   "execution_count": null,
   "metadata": {},
   "outputs": [],
   "source": []
  },
  {
   "cell_type": "code",
   "execution_count": null,
   "metadata": {},
   "outputs": [],
   "source": [
    "relevance_test, relevant_features  = ca.checkRelevance2(x=X_train, \n",
    "                                                        y=y_train,\n",
    "                                                        fdr_level=0.01)\n",
    "print(relevance_test)\n",
    "relevant_features.head()"
   ]
  },
  {
   "cell_type": "markdown",
   "metadata": {},
   "source": [
    "### Train model and make prediction"
   ]
  },
  {
   "cell_type": "code",
   "execution_count": null,
   "metadata": {},
   "outputs": [],
   "source": [
    "from sklearn.ensemble import GradientBoostingClassifier\n",
    "clf = GradientBoostingClassifier(n_estimators=200, learning_rate=0.1,\n",
    "                                 max_depth=2, random_state=0).fit(X_train[relevant_features.columns], y_train)"
   ]
  },
  {
   "cell_type": "code",
   "execution_count": null,
   "metadata": {},
   "outputs": [],
   "source": [
    "from sklearn.metrics import accuracy_score,confusion_matrix, cohen_kappa_score\n",
    "predict_test = clf.predict(X=X_test[relevant_features.columns])\n",
    "\n",
    "test_acc = accuracy_score(y_test, predict_test)\n",
    "kappa = cohen_kappa_score(y_test, predict_test)\n",
    "confusion = confusion_matrix(y_test, predict_test)\n",
    "\n",
    "print('Testing accuracy:',test_acc)\n",
    "print('Testing Kappa: ',kappa)\n",
    "print('Testing Conf: ')\n",
    "print(confusion)"
   ]
  },
  {
   "cell_type": "code",
   "execution_count": null,
   "metadata": {},
   "outputs": [],
   "source": [
    "feature_importances = pd.DataFrame(clf.feature_importances_,\n",
    "                                   index = relevant_features.columns,\n",
    "                                    columns=['importance']).sort_values('importance', ascending=False)\n",
    " \n",
    "feature_importances"
   ]
  },
  {
   "cell_type": "markdown",
   "metadata": {},
   "source": [
    "### Predict to all cells and map\n",
    "predict to all observations in panel\n",
    "get predicted class and probability of class"
   ]
  },
  {
   "cell_type": "code",
   "execution_count": null,
   "metadata": {},
   "outputs": [],
   "source": [
    "all_predict = md.model_predict(model = clf,\n",
    "                                        new_X = extracted_features[relevant_features.columns])\n",
    "\n",
    "# returns probability of each class\n",
    "all_prob =  md.model_predict_prob(model = clf,\n",
    "                                        new_X = extracted_features[relevant_features.columns])"
   ]
  },
  {
   "cell_type": "code",
   "execution_count": null,
   "metadata": {},
   "outputs": [],
   "source": [
    "print(all_predict.head())\n",
    "all_prob.head()"
   ]
  },
  {
   "cell_type": "markdown",
   "metadata": {},
   "source": [
    "Rasterize and plot prediction"
   ]
  },
  {
   "cell_type": "code",
   "execution_count": null,
   "metadata": {},
   "outputs": [],
   "source": [
    "import rasterio\n",
    "from numpy import reshape\n",
    "raster_ex = \"../Data/Examples/3month/aet-198401.tif\"\n",
    "ex_row, ex_cols =  rasterio.open(raster_ex).shape\n",
    "\n",
    "f2Array = reshape(all_prob[1].as_matrix(), (ex_row, ex_cols))\n",
    " # Plot the grid\n",
    "\n",
    "plt.imshow(f2Array)\n",
    "plt.set_cmap(\"Reds\")\n",
    "plt.colorbar( )\n",
    "plt.show()"
   ]
  },
  {
   "cell_type": "code",
   "execution_count": null,
   "metadata": {},
   "outputs": [],
   "source": [
    "q = md.ElasticNetModel(X_train, y_train, X_test, y_test)\n",
    "print(q)"
   ]
  },
  {
   "cell_type": "code",
   "execution_count": null,
   "metadata": {},
   "outputs": [],
   "source": [
    "q = md.ElasticNetCVModel(X_train, y_train, X_test, y_test)\n",
    "print(q)"
   ]
  },
  {
   "cell_type": "code",
   "execution_count": 19,
   "metadata": {},
   "outputs": [
    {
     "data": {
      "text/plain": [
       "pixel_id\n",
       "0    0\n",
       "1    0\n",
       "2    0\n",
       "3    0\n",
       "4    0\n",
       "Name: value, dtype: int8"
      ]
     },
     "execution_count": 19,
     "metadata": {},
     "output_type": "execute_result"
    }
   ],
   "source": [
    "target_variable_iter2 = r\"../Data/Actual/Fires/Rasters/fire_1998_1998.tif\"\n",
    "target_Data_iter2 = tr.image_to_series_simple(target_variable_iter2)\n",
    "target_Data_iter2.head()"
   ]
  },
  {
   "cell_type": "code",
   "execution_count": 22,
   "metadata": {},
   "outputs": [
    {
     "data": {
      "text/html": [
       "<div>\n",
       "<style scoped>\n",
       "    .dataframe tbody tr th:only-of-type {\n",
       "        vertical-align: middle;\n",
       "    }\n",
       "\n",
       "    .dataframe tbody tr th {\n",
       "        vertical-align: top;\n",
       "    }\n",
       "\n",
       "    .dataframe thead th {\n",
       "        text-align: right;\n",
       "    }\n",
       "</style>\n",
       "<table border=\"1\" class=\"dataframe\">\n",
       "  <thead>\n",
       "    <tr style=\"text-align: right;\">\n",
       "      <th></th>\n",
       "      <th>value</th>\n",
       "    </tr>\n",
       "    <tr>\n",
       "      <th>pixel_id</th>\n",
       "      <th></th>\n",
       "    </tr>\n",
       "  </thead>\n",
       "  <tbody>\n",
       "    <tr>\n",
       "      <th>0</th>\n",
       "      <td>0</td>\n",
       "    </tr>\n",
       "    <tr>\n",
       "      <th>1</th>\n",
       "      <td>0</td>\n",
       "    </tr>\n",
       "    <tr>\n",
       "      <th>2</th>\n",
       "      <td>0</td>\n",
       "    </tr>\n",
       "    <tr>\n",
       "      <th>3</th>\n",
       "      <td>0</td>\n",
       "    </tr>\n",
       "    <tr>\n",
       "      <th>4</th>\n",
       "      <td>0</td>\n",
       "    </tr>\n",
       "  </tbody>\n",
       "</table>\n",
       "</div>"
      ],
      "text/plain": [
       "          value\n",
       "pixel_id       \n",
       "0             0\n",
       "1             0\n",
       "2             0\n",
       "3             0\n",
       "4             0"
      ]
     },
     "execution_count": 22,
     "metadata": {},
     "output_type": "execute_result"
    }
   ],
   "source": [
    "target_Data_iter2 = target_Data_iter2.to_frame(name = \"value\")\n",
    "target_Data_iter2.head()\n"
   ]
  },
  {
   "cell_type": "code",
   "execution_count": null,
   "metadata": {},
   "outputs": [],
   "source": []
  },
  {
   "cell_type": "code",
   "execution_count": 23,
   "metadata": {},
   "outputs": [
    {
     "name": "stdout",
     "output_type": "stream",
     "text": [
      "time index missing in one element, merging list elements using only pixel_id index\n"
     ]
    },
    {
     "data": {
      "text/html": [
       "<div>\n",
       "<style scoped>\n",
       "    .dataframe tbody tr th:only-of-type {\n",
       "        vertical-align: middle;\n",
       "    }\n",
       "\n",
       "    .dataframe tbody tr th {\n",
       "        vertical-align: top;\n",
       "    }\n",
       "\n",
       "    .dataframe thead th {\n",
       "        text-align: right;\n",
       "    }\n",
       "</style>\n",
       "<table border=\"1\" class=\"dataframe\">\n",
       "  <thead>\n",
       "    <tr style=\"text-align: right;\">\n",
       "      <th></th>\n",
       "      <th></th>\n",
       "      <th>value</th>\n",
       "    </tr>\n",
       "    <tr>\n",
       "      <th>pixel_id</th>\n",
       "      <th>time</th>\n",
       "      <th></th>\n",
       "    </tr>\n",
       "  </thead>\n",
       "  <tbody>\n",
       "    <tr>\n",
       "      <th>135560</th>\n",
       "      <th>201401_201612</th>\n",
       "      <td>0</td>\n",
       "    </tr>\n",
       "    <tr>\n",
       "      <th>137415</th>\n",
       "      <th>201401_201612</th>\n",
       "      <td>0</td>\n",
       "    </tr>\n",
       "    <tr>\n",
       "      <th>137430</th>\n",
       "      <th>201401_201612</th>\n",
       "      <td>0</td>\n",
       "    </tr>\n",
       "    <tr>\n",
       "      <th>137458</th>\n",
       "      <th>201401_201612</th>\n",
       "      <td>0</td>\n",
       "    </tr>\n",
       "    <tr>\n",
       "      <th>137484</th>\n",
       "      <th>201401_201612</th>\n",
       "      <td>0</td>\n",
       "    </tr>\n",
       "  </tbody>\n",
       "</table>\n",
       "</div>"
      ],
      "text/plain": [
       "                        value\n",
       "pixel_id time                \n",
       "135560   201401_201612      0\n",
       "137415   201401_201612      0\n",
       "137430   201401_201612      0\n",
       "137458   201401_201612      0\n",
       "137484   201401_201612      0"
      ]
     },
     "execution_count": 23,
     "metadata": {},
     "output_type": "execute_result"
    }
   ],
   "source": [
    "#read in mask data generated using poisson disk regression as mask\n",
    "target_Data_iter2,  combined_Data_iter  = tr.mask_df(maskFile,\n",
    "                                   original_df=[target_Data_iter2, combined_Data_iter],\n",
    "                                   reset_index = False)\n",
    "target_Data_iter2.head()"
   ]
  },
  {
   "cell_type": "code",
   "execution_count": null,
   "metadata": {},
   "outputs": [],
   "source": []
  }
 ],
 "metadata": {
  "kernelspec": {
   "display_name": "Python 3",
   "language": "python",
   "name": "python3"
  },
  "language_info": {
   "codemirror_mode": {
    "name": "ipython",
    "version": 3
   },
   "file_extension": ".py",
   "mimetype": "text/x-python",
   "name": "python",
   "nbconvert_exporter": "python",
   "pygments_lexer": "ipython3",
   "version": "3.6.8"
  }
 },
 "nbformat": 4,
 "nbformat_minor": 2
}
