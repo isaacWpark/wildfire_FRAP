{
 "cells": [
  {
   "cell_type": "code",
   "execution_count": 11,
   "metadata": {},
   "outputs": [
    {
     "name": "stdout",
     "output_type": "stream",
     "text": [
      "12\n",
      "['../Data/Examples/3month_ts\\\\aet\\\\aet-201201.tif', '../Data/Examples/3month_ts\\\\aet\\\\aet-201202.tif', '../Data/Examples/3month_ts\\\\aet\\\\aet-201203.tif', '../Data/Examples/3month_ts\\\\cwd\\\\cwd-201201.tif', '../Data/Examples/3month_ts\\\\cwd\\\\cwd-201202.tif', '../Data/Examples/3month_ts\\\\cwd\\\\cwd-201203.tif', '../Data/Examples/3month_ts\\\\pck\\\\pck-201201.tif', '../Data/Examples/3month_ts\\\\pck\\\\pck-201202.tif', '../Data/Examples/3month_ts\\\\pck\\\\pck-201203.tif', '../Data/Examples/3month_ts\\\\tmx\\\\tmx-201201.tif', '../Data/Examples/3month_ts\\\\tmx\\\\tmx-201202.tif', '../Data/Examples/3month_ts\\\\tmx\\\\tmx-201203.tif']\n"
     ]
    }
   ],
   "source": [
    "import glob\n",
    "path = r\"../Data/Examples/3month_ts/\"\n",
    "images = glob.glob(\"{}/**/*.tif\".format(path), recursive=True)\n",
    "print(len(images))\n",
    "print(images)"
   ]
  },
  {
   "cell_type": "code",
   "execution_count": 24,
   "metadata": {},
   "outputs": [
    {
     "name": "stdout",
     "output_type": "stream",
     "text": [
      "12\n",
      "['../Data/Examples/3month_ts\\\\aet\\\\aet-201201.tif', '../Data/Examples/3month_ts\\\\aet\\\\aet-201202.tif', '../Data/Examples/3month_ts\\\\aet\\\\aet-201203.tif', '../Data/Examples/3month_ts\\\\cwd\\\\cwd-201201.tif', '../Data/Examples/3month_ts\\\\cwd\\\\cwd-201202.tif', '../Data/Examples/3month_ts\\\\cwd\\\\cwd-201203.tif', '../Data/Examples/3month_ts\\\\pck\\\\pck-201201.tif', '../Data/Examples/3month_ts\\\\pck\\\\pck-201202.tif', '../Data/Examples/3month_ts\\\\pck\\\\pck-201203.tif', '../Data/Examples/3month_ts\\\\tmx\\\\tmx-201201.tif', '../Data/Examples/3month_ts\\\\tmx\\\\tmx-201202.tif', '../Data/Examples/3month_ts\\\\tmx\\\\tmx-201203.tif']\n"
     ]
    },
    {
     "data": {
      "text/plain": [
       "list"
      ]
     },
     "execution_count": 24,
     "metadata": {},
     "output_type": "execute_result"
    }
   ],
   "source": [
    "images = glob.glob((path+ '/*/*-' + '2012' '??.tif'), recursive=True)\n",
    "print(len(images))\n",
    "print(images)\n",
    "type(images)"
   ]
  },
  {
   "cell_type": "code",
   "execution_count": 22,
   "metadata": {},
   "outputs": [
    {
     "data": {
      "text/plain": [
       "[0, 2, 4, 1, 3, 5]"
      ]
     },
     "execution_count": 22,
     "metadata": {},
     "output_type": "execute_result"
    }
   ],
   "source": [
    "images = []\n",
    "        for x in xrange(length):\n",
    "            images = images +  glob.glob((path+ '/*/*-2012??.tif'), recursive=True)"
   ]
  },
  {
   "cell_type": "code",
   "execution_count": null,
   "metadata": {},
   "outputs": [],
   "source": []
  }
 ],
 "metadata": {
  "kernelspec": {
   "display_name": "Python 3",
   "language": "python",
   "name": "python3"
  },
  "language_info": {
   "codemirror_mode": {
    "name": "ipython",
    "version": 3
   },
   "file_extension": ".py",
   "mimetype": "text/x-python",
   "name": "python",
   "nbconvert_exporter": "python",
   "pygments_lexer": "ipython3",
   "version": "3.6.8"
  }
 },
 "nbformat": 4,
 "nbformat_minor": 2
}
