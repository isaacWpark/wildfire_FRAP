{
 "cells": [
  {
   "cell_type": "markdown",
   "metadata": {},
   "source": [
    "## Reading and visualizing multiple images"
   ]
  },
  {
   "cell_type": "markdown",
   "metadata": {},
   "source": [
    "This basic tutorial covers how to read images stored multiple folders. **tsraster** stacks these images and renders one image with multiple bands."
   ]
  },
  {
   "cell_type": "code",
   "execution_count": 1,
   "metadata": {},
   "outputs": [],
   "source": [
    "import os.path\n",
    "\n",
    "import matplotlib.pyplot as plt\n",
    "%matplotlib inline\n",
    "\n",
    "import tsraster\n",
    "from tsraster.prep import sRead as tr"
   ]
  },
  {
   "cell_type": "markdown",
   "metadata": {},
   "source": [
    "connect to the data directory"
   ]
  },
  {
   "cell_type": "code",
   "execution_count": 2,
   "metadata": {},
   "outputs": [],
   "source": [
    "path = r\"C:/Users/mmann/Documents/ts-raster-example-data/2year/\""
   ]
  },
  {
   "cell_type": "markdown",
   "metadata": {},
   "source": [
    "the images in this directory are structured as: \n",
    "    - temperature:\n",
    "        2005\n",
    "          tmx-200501.tif\n",
    "          tmx-200502.tif\n",
    "          tmx-200503.tif\n",
    "        2006\n",
    "          tmx-200601.tif\n",
    "          tmx-200602.tif\n",
    "          tmx-200603.tif\n",
    "        2007\n",
    "          tmx-200701.tif\n",
    "          tmx-200702.tif\n",
    "          tmx-200703.tif\n",
    " "
   ]
  },
  {
   "cell_type": "markdown",
   "metadata": {},
   "source": [
    "Accordingly, for temprature we have three years of data and for each year we have three monthly data. \n",
    "\n",
    "    'tmx-200501.tif': temprature (the variable), 2005 (the year), 01 (the month)\n"
   ]
  },
  {
   "cell_type": "markdown",
   "metadata": {},
   "source": [
    "Read the images and print their corresponding name"
   ]
  },
  {
   "cell_type": "code",
   "execution_count": null,
   "metadata": {},
   "outputs": [],
   "source": [
    "image_name = tr.image_names(path)\n",
    "print(image_name)"
   ]
  },
  {
   "cell_type": "markdown",
   "metadata": {},
   "source": [
    "Convert each to array and stack them as bands"
   ]
  },
  {
   "cell_type": "code",
   "execution_count": null,
   "metadata": {},
   "outputs": [],
   "source": [
    "rasters = tr.image2array(path)"
   ]
  },
  {
   "cell_type": "code",
   "execution_count": null,
   "metadata": {},
   "outputs": [],
   "source": [
    "# first image\n",
    "rasters[0]"
   ]
  },
  {
   "cell_type": "markdown",
   "metadata": {},
   "source": [
    "Check the total number of images (bands stacked together)"
   ]
  },
  {
   "cell_type": "code",
   "execution_count": null,
   "metadata": {},
   "outputs": [],
   "source": [
    "rasters.shape"
   ]
  },
  {
   "cell_type": "markdown",
   "metadata": {},
   "source": [
    "Visualize"
   ]
  },
  {
   "cell_type": "code",
   "execution_count": null,
   "metadata": {
    "scrolled": false
   },
   "outputs": [],
   "source": [
    "fig, ax = plt.subplots(3,3, figsize=(10,10))\n",
    "\n",
    "for i in range(0,rasters.shape[2]):\n",
    "    img = rasters[:,:,i]\n",
    "    i = i+1\n",
    "    plt.subplot(3,3,i)\n",
    "    plt.imshow(img, cmap=\"Greys\")\n",
    "    "
   ]
  },
  {
   "cell_type": "code",
   "execution_count": null,
   "metadata": {},
   "outputs": [],
   "source": [
    "# clean up\n",
    "del rasters\n",
    "import gc\n",
    "gc.collect()"
   ]
  },
  {
   "cell_type": "markdown",
   "metadata": {},
   "source": [
    "# Feature extraction\n"
   ]
  },
  {
   "cell_type": "markdown",
   "metadata": {},
   "source": [
    "This documents show how to extract important timeseries charcterstics from raster files."
   ]
  },
  {
   "cell_type": "code",
   "execution_count": 3,
   "metadata": {},
   "outputs": [],
   "source": [
    "import os.path\n",
    "\n",
    "import matplotlib.pyplot as plt\n",
    "%matplotlib inline\n",
    "\n",
    "from rasterio.plot import show\n",
    "\n",
    "import tsraster\n",
    "from tsraster.prep import sRead as tr\n",
    "\n",
    "from tsraster.calculate import calculateFeatures\n",
    "from tsraster.calculate import features2array"
   ]
  },
  {
   "cell_type": "markdown",
   "metadata": {},
   "source": [
    "connect to the data directory"
   ]
  },
  {
   "cell_type": "code",
   "execution_count": 6,
   "metadata": {},
   "outputs": [],
   "source": [
    "path = r\"C:/Users/mmann/Documents/ts-raster-example-data/2year/\""
   ]
  },
  {
   "cell_type": "markdown",
   "metadata": {},
   "source": [
    "read the images and convert the arrays to a time-series dataframe "
   ]
  },
  {
   "cell_type": "code",
   "execution_count": 7,
   "metadata": {},
   "outputs": [],
   "source": [
    "rasters = tr.ts_series(path)"
   ]
  },
  {
   "cell_type": "markdown",
   "metadata": {},
   "source": [
    "Lets take a look at the time-series data"
   ]
  },
  {
   "cell_type": "code",
   "execution_count": 8,
   "metadata": {},
   "outputs": [
    {
     "data": {
      "text/html": [
       "<div>\n",
       "<style scoped>\n",
       "    .dataframe tbody tr th:only-of-type {\n",
       "        vertical-align: middle;\n",
       "    }\n",
       "\n",
       "    .dataframe tbody tr th {\n",
       "        vertical-align: top;\n",
       "    }\n",
       "\n",
       "    .dataframe thead th {\n",
       "        text-align: right;\n",
       "    }\n",
       "</style>\n",
       "<table border=\"1\" class=\"dataframe\">\n",
       "  <thead>\n",
       "    <tr style=\"text-align: right;\">\n",
       "      <th></th>\n",
       "      <th>id</th>\n",
       "      <th>kind</th>\n",
       "      <th>value</th>\n",
       "      <th>time</th>\n",
       "    </tr>\n",
       "  </thead>\n",
       "  <tbody>\n",
       "    <tr>\n",
       "      <th>0</th>\n",
       "      <td>1</td>\n",
       "      <td>aet-198401</td>\n",
       "      <td>0.0</td>\n",
       "      <td>198401</td>\n",
       "    </tr>\n",
       "    <tr>\n",
       "      <th>1</th>\n",
       "      <td>1</td>\n",
       "      <td>aet-198402</td>\n",
       "      <td>0.0</td>\n",
       "      <td>198402</td>\n",
       "    </tr>\n",
       "    <tr>\n",
       "      <th>2</th>\n",
       "      <td>1</td>\n",
       "      <td>aet-198403</td>\n",
       "      <td>0.0</td>\n",
       "      <td>198403</td>\n",
       "    </tr>\n",
       "    <tr>\n",
       "      <th>3</th>\n",
       "      <td>1</td>\n",
       "      <td>aet-198404</td>\n",
       "      <td>0.0</td>\n",
       "      <td>198404</td>\n",
       "    </tr>\n",
       "    <tr>\n",
       "      <th>4</th>\n",
       "      <td>1</td>\n",
       "      <td>aet-198405</td>\n",
       "      <td>0.0</td>\n",
       "      <td>198405</td>\n",
       "    </tr>\n",
       "    <tr>\n",
       "      <th>5</th>\n",
       "      <td>1</td>\n",
       "      <td>aet-198406</td>\n",
       "      <td>0.0</td>\n",
       "      <td>198406</td>\n",
       "    </tr>\n",
       "    <tr>\n",
       "      <th>6</th>\n",
       "      <td>1</td>\n",
       "      <td>aet-198407</td>\n",
       "      <td>0.0</td>\n",
       "      <td>198407</td>\n",
       "    </tr>\n",
       "    <tr>\n",
       "      <th>7</th>\n",
       "      <td>1</td>\n",
       "      <td>aet-198408</td>\n",
       "      <td>0.0</td>\n",
       "      <td>198408</td>\n",
       "    </tr>\n",
       "    <tr>\n",
       "      <th>8</th>\n",
       "      <td>1</td>\n",
       "      <td>aet-198409</td>\n",
       "      <td>0.0</td>\n",
       "      <td>198409</td>\n",
       "    </tr>\n",
       "    <tr>\n",
       "      <th>9</th>\n",
       "      <td>1</td>\n",
       "      <td>aet-198410</td>\n",
       "      <td>0.0</td>\n",
       "      <td>198410</td>\n",
       "    </tr>\n",
       "  </tbody>\n",
       "</table>\n",
       "</div>"
      ],
      "text/plain": [
       "  id        kind  value    time\n",
       "0  1  aet-198401    0.0  198401\n",
       "1  1  aet-198402    0.0  198402\n",
       "2  1  aet-198403    0.0  198403\n",
       "3  1  aet-198404    0.0  198404\n",
       "4  1  aet-198405    0.0  198405\n",
       "5  1  aet-198406    0.0  198406\n",
       "6  1  aet-198407    0.0  198407\n",
       "7  1  aet-198408    0.0  198408\n",
       "8  1  aet-198409    0.0  198409\n",
       "9  1  aet-198410    0.0  198410"
      ]
     },
     "execution_count": 8,
     "metadata": {},
     "output_type": "execute_result"
    }
   ],
   "source": [
    "rasters.head(10)"
   ]
  },
  {
   "cell_type": "markdown",
   "metadata": {},
   "source": [
    "Accordingly, each pixel is identified by *id*. Since there are 9 bands (3 images per year), **tsraster** assigns each 9 first pixels the id number 1 and differentiate each by their respective year and month. Hence, the *time* column organizes and orders pixels by time. The *value* column represent the pixel value"
   ]
  },
  {
   "cell_type": "markdown",
   "metadata": {},
   "source": [
    "We can summerize the data and examine its pattern."
   ]
  },
  {
   "cell_type": "code",
   "execution_count": 9,
   "metadata": {},
   "outputs": [
    {
     "data": {
      "text/html": [
       "<div>\n",
       "<style scoped>\n",
       "    .dataframe tbody tr th:only-of-type {\n",
       "        vertical-align: middle;\n",
       "    }\n",
       "\n",
       "    .dataframe tbody tr th {\n",
       "        vertical-align: top;\n",
       "    }\n",
       "\n",
       "    .dataframe thead th {\n",
       "        text-align: right;\n",
       "    }\n",
       "</style>\n",
       "<table border=\"1\" class=\"dataframe\">\n",
       "  <thead>\n",
       "    <tr style=\"text-align: right;\">\n",
       "      <th></th>\n",
       "      <th>value</th>\n",
       "    </tr>\n",
       "  </thead>\n",
       "  <tbody>\n",
       "    <tr>\n",
       "      <th>count</th>\n",
       "      <td>2.730406e+07</td>\n",
       "    </tr>\n",
       "    <tr>\n",
       "      <th>mean</th>\n",
       "      <td>9.136765e+00</td>\n",
       "    </tr>\n",
       "    <tr>\n",
       "      <th>std</th>\n",
       "      <td>2.126251e+01</td>\n",
       "    </tr>\n",
       "    <tr>\n",
       "      <th>min</th>\n",
       "      <td>-1.000000e-02</td>\n",
       "    </tr>\n",
       "    <tr>\n",
       "      <th>25%</th>\n",
       "      <td>0.000000e+00</td>\n",
       "    </tr>\n",
       "    <tr>\n",
       "      <th>50%</th>\n",
       "      <td>0.000000e+00</td>\n",
       "    </tr>\n",
       "    <tr>\n",
       "      <th>75%</th>\n",
       "      <td>4.487500e+00</td>\n",
       "    </tr>\n",
       "    <tr>\n",
       "      <th>max</th>\n",
       "      <td>1.945075e+02</td>\n",
       "    </tr>\n",
       "  </tbody>\n",
       "</table>\n",
       "</div>"
      ],
      "text/plain": [
       "              value\n",
       "count  2.730406e+07\n",
       "mean   9.136765e+00\n",
       "std    2.126251e+01\n",
       "min   -1.000000e-02\n",
       "25%    0.000000e+00\n",
       "50%    0.000000e+00\n",
       "75%    4.487500e+00\n",
       "max    1.945075e+02"
      ]
     },
     "execution_count": 9,
     "metadata": {},
     "output_type": "execute_result"
    }
   ],
   "source": [
    "rasters.describe()"
   ]
  },
  {
   "cell_type": "markdown",
   "metadata": {},
   "source": [
    "Let's go ahead and extract features"
   ]
  },
  {
   "cell_type": "code",
   "execution_count": 10,
   "metadata": {},
   "outputs": [],
   "source": [
    "import os.path\n",
    "\n",
    "import matplotlib.pyplot as plt\n",
    "%matplotlib inline\n",
    "\n",
    "from rasterio.plot import show\n",
    "\n",
    "import tsraster\n",
    "from tsraster.prep import sRead as tr\n",
    "\n",
    "from tsraster.calculate import calculateFeatures\n",
    "from tsraster.calculate import features2array\n",
    "\n",
    "path = r\"C:\\Users\\mmann\\Documents\\ts-raster-example-data\\2year\""
   ]
  },
  {
   "cell_type": "markdown",
   "metadata": {},
   "source": [
    "extract features\n"
   ]
  },
  {
   "cell_type": "code",
   "execution_count": 11,
   "metadata": {},
   "outputs": [
    {
     "name": "stdout",
     "output_type": "stream",
     "text": [
      "C:\\Users\\mmann\\Documents\\ts-raster-example-data\\2year\\my_df.pkl\n"
     ]
    },
    {
     "name": "stderr",
     "output_type": "stream",
     "text": [
      "Feature Extraction: 100%|██████████████████████████████████████████████████████████████| 50/50 [11:14<00:00,  3.00s/it]\n"
     ]
    }
   ],
   "source": [
    "ts_features = calculateFeatures(path,reset_df=True)"
   ]
  },
  {
   "cell_type": "markdown",
   "metadata": {},
   "source": [
    "The feature extraction swift through all bands and calculate values such maximum, minimum and mean, median. \n",
    "In this instance, 4 features of temprature data are generated for 9 rasters representing 3 months of 3 years of data."
   ]
  },
  {
   "cell_type": "markdown",
   "metadata": {},
   "source": [
    "Let's take a look at the summary of these features."
   ]
  },
  {
   "cell_type": "code",
   "execution_count": 12,
   "metadata": {},
   "outputs": [
    {
     "data": {
      "text/html": [
       "<div>\n",
       "<style scoped>\n",
       "    .dataframe tbody tr th:only-of-type {\n",
       "        vertical-align: middle;\n",
       "    }\n",
       "\n",
       "    .dataframe tbody tr th {\n",
       "        vertical-align: top;\n",
       "    }\n",
       "\n",
       "    .dataframe thead th {\n",
       "        text-align: right;\n",
       "    }\n",
       "</style>\n",
       "<table border=\"1\" class=\"dataframe\">\n",
       "  <thead>\n",
       "    <tr style=\"text-align: right;\">\n",
       "      <th>variable</th>\n",
       "      <th>value__agg_linear_trend__f_agg_\"max\"__chunk_len_6__attr_\"slope\"</th>\n",
       "      <th>value__agg_linear_trend__f_agg_\"min\"__chunk_len_6__attr_\"slope\"</th>\n",
       "      <th>value__last_location_of_maximum</th>\n",
       "      <th>value__last_location_of_minimum</th>\n",
       "      <th>value__longest_strike_above_mean</th>\n",
       "      <th>value__longest_strike_below_mean</th>\n",
       "      <th>value__maximum</th>\n",
       "      <th>value__mean</th>\n",
       "      <th>value__mean_abs_change</th>\n",
       "      <th>value__mean_change</th>\n",
       "      <th>...</th>\n",
       "      <th>value__number_cwt_peaks__n_12</th>\n",
       "      <th>value__number_cwt_peaks__n_6</th>\n",
       "      <th>value__quantile__q_0.05</th>\n",
       "      <th>value__quantile__q_0.15</th>\n",
       "      <th>value__quantile__q_0.85</th>\n",
       "      <th>value__quantile__q_0.95</th>\n",
       "      <th>value__ratio_beyond_r_sigma__r_2</th>\n",
       "      <th>value__ratio_beyond_r_sigma__r_3</th>\n",
       "      <th>value__skewness</th>\n",
       "      <th>value__sum_values</th>\n",
       "    </tr>\n",
       "  </thead>\n",
       "  <tbody>\n",
       "    <tr>\n",
       "      <th>count</th>\n",
       "      <td>1.137669e+06</td>\n",
       "      <td>1.137669e+06</td>\n",
       "      <td>1.137669e+06</td>\n",
       "      <td>1.137669e+06</td>\n",
       "      <td>1.137669e+06</td>\n",
       "      <td>1.137669e+06</td>\n",
       "      <td>1.137669e+06</td>\n",
       "      <td>1.137669e+06</td>\n",
       "      <td>1.137669e+06</td>\n",
       "      <td>1.137669e+06</td>\n",
       "      <td>...</td>\n",
       "      <td>1.137669e+06</td>\n",
       "      <td>1.137669e+06</td>\n",
       "      <td>1.137669e+06</td>\n",
       "      <td>1.137669e+06</td>\n",
       "      <td>1.137669e+06</td>\n",
       "      <td>1.137669e+06</td>\n",
       "      <td>1.137669e+06</td>\n",
       "      <td>1.137669e+06</td>\n",
       "      <td>1.137669e+06</td>\n",
       "      <td>1.137669e+06</td>\n",
       "    </tr>\n",
       "    <tr>\n",
       "      <th>mean</th>\n",
       "      <td>-9.661236e-01</td>\n",
       "      <td>-2.851645e-01</td>\n",
       "      <td>7.654705e-01</td>\n",
       "      <td>8.746603e-01</td>\n",
       "      <td>1.541722e+01</td>\n",
       "      <td>1.649159e+01</td>\n",
       "      <td>3.531019e+01</td>\n",
       "      <td>9.136761e+00</td>\n",
       "      <td>7.780789e+00</td>\n",
       "      <td>1.820007e-02</td>\n",
       "      <td>...</td>\n",
       "      <td>1.364370e+00</td>\n",
       "      <td>1.617892e+00</td>\n",
       "      <td>1.742146e-01</td>\n",
       "      <td>5.504904e-01</td>\n",
       "      <td>2.014164e+01</td>\n",
       "      <td>2.833287e+01</td>\n",
       "      <td>2.445519e-02</td>\n",
       "      <td>3.580311e-03</td>\n",
       "      <td>5.517891e-01</td>\n",
       "      <td>2.192823e+02</td>\n",
       "    </tr>\n",
       "    <tr>\n",
       "      <th>std</th>\n",
       "      <td>6.494044e+00</td>\n",
       "      <td>1.094308e+00</td>\n",
       "      <td>3.185040e-01</td>\n",
       "      <td>2.407689e-01</td>\n",
       "      <td>1.003047e+01</td>\n",
       "      <td>8.810522e+00</td>\n",
       "      <td>4.682504e+01</td>\n",
       "      <td>1.279547e+01</td>\n",
       "      <td>1.024846e+01</td>\n",
       "      <td>2.397943e-01</td>\n",
       "      <td>...</td>\n",
       "      <td>1.729038e+00</td>\n",
       "      <td>2.039654e+00</td>\n",
       "      <td>8.426926e-01</td>\n",
       "      <td>1.842471e+00</td>\n",
       "      <td>2.781575e+01</td>\n",
       "      <td>3.833924e+01</td>\n",
       "      <td>3.393963e-02</td>\n",
       "      <td>1.168495e-02</td>\n",
       "      <td>7.316594e-01</td>\n",
       "      <td>3.070914e+02</td>\n",
       "    </tr>\n",
       "    <tr>\n",
       "      <th>min</th>\n",
       "      <td>-4.720590e+01</td>\n",
       "      <td>-1.253110e+01</td>\n",
       "      <td>4.166667e-02</td>\n",
       "      <td>4.166667e-02</td>\n",
       "      <td>1.000000e+00</td>\n",
       "      <td>2.000000e+00</td>\n",
       "      <td>0.000000e+00</td>\n",
       "      <td>0.000000e+00</td>\n",
       "      <td>0.000000e+00</td>\n",
       "      <td>-1.918283e+00</td>\n",
       "      <td>...</td>\n",
       "      <td>0.000000e+00</td>\n",
       "      <td>0.000000e+00</td>\n",
       "      <td>-1.000000e-02</td>\n",
       "      <td>-1.600000e-04</td>\n",
       "      <td>0.000000e+00</td>\n",
       "      <td>0.000000e+00</td>\n",
       "      <td>0.000000e+00</td>\n",
       "      <td>0.000000e+00</td>\n",
       "      <td>-6.740087e-02</td>\n",
       "      <td>0.000000e+00</td>\n",
       "    </tr>\n",
       "    <tr>\n",
       "      <th>25%</th>\n",
       "      <td>0.000000e+00</td>\n",
       "      <td>0.000000e+00</td>\n",
       "      <td>5.000000e-01</td>\n",
       "      <td>8.333333e-01</td>\n",
       "      <td>4.000000e+00</td>\n",
       "      <td>7.000000e+00</td>\n",
       "      <td>0.000000e+00</td>\n",
       "      <td>0.000000e+00</td>\n",
       "      <td>0.000000e+00</td>\n",
       "      <td>0.000000e+00</td>\n",
       "      <td>...</td>\n",
       "      <td>0.000000e+00</td>\n",
       "      <td>0.000000e+00</td>\n",
       "      <td>0.000000e+00</td>\n",
       "      <td>0.000000e+00</td>\n",
       "      <td>0.000000e+00</td>\n",
       "      <td>0.000000e+00</td>\n",
       "      <td>0.000000e+00</td>\n",
       "      <td>0.000000e+00</td>\n",
       "      <td>0.000000e+00</td>\n",
       "      <td>0.000000e+00</td>\n",
       "    </tr>\n",
       "    <tr>\n",
       "      <th>50%</th>\n",
       "      <td>0.000000e+00</td>\n",
       "      <td>0.000000e+00</td>\n",
       "      <td>1.000000e+00</td>\n",
       "      <td>1.000000e+00</td>\n",
       "      <td>2.400000e+01</td>\n",
       "      <td>2.400000e+01</td>\n",
       "      <td>0.000000e+00</td>\n",
       "      <td>0.000000e+00</td>\n",
       "      <td>0.000000e+00</td>\n",
       "      <td>0.000000e+00</td>\n",
       "      <td>...</td>\n",
       "      <td>0.000000e+00</td>\n",
       "      <td>0.000000e+00</td>\n",
       "      <td>0.000000e+00</td>\n",
       "      <td>0.000000e+00</td>\n",
       "      <td>0.000000e+00</td>\n",
       "      <td>0.000000e+00</td>\n",
       "      <td>0.000000e+00</td>\n",
       "      <td>0.000000e+00</td>\n",
       "      <td>0.000000e+00</td>\n",
       "      <td>0.000000e+00</td>\n",
       "    </tr>\n",
       "    <tr>\n",
       "      <th>75%</th>\n",
       "      <td>0.000000e+00</td>\n",
       "      <td>0.000000e+00</td>\n",
       "      <td>1.000000e+00</td>\n",
       "      <td>1.000000e+00</td>\n",
       "      <td>2.400000e+01</td>\n",
       "      <td>2.400000e+01</td>\n",
       "      <td>6.900800e+01</td>\n",
       "      <td>1.719428e+01</td>\n",
       "      <td>1.491031e+01</td>\n",
       "      <td>0.000000e+00</td>\n",
       "      <td>...</td>\n",
       "      <td>3.000000e+00</td>\n",
       "      <td>4.000000e+00</td>\n",
       "      <td>0.000000e+00</td>\n",
       "      <td>5.912000e-02</td>\n",
       "      <td>3.934994e+01</td>\n",
       "      <td>5.253483e+01</td>\n",
       "      <td>4.166667e-02</td>\n",
       "      <td>0.000000e+00</td>\n",
       "      <td>1.117674e+00</td>\n",
       "      <td>4.126628e+02</td>\n",
       "    </tr>\n",
       "    <tr>\n",
       "      <th>max</th>\n",
       "      <td>3.787300e+01</td>\n",
       "      <td>6.453188e+00</td>\n",
       "      <td>1.000000e+00</td>\n",
       "      <td>1.000000e+00</td>\n",
       "      <td>2.400000e+01</td>\n",
       "      <td>2.400000e+01</td>\n",
       "      <td>1.945075e+02</td>\n",
       "      <td>7.534869e+01</td>\n",
       "      <td>4.279697e+01</td>\n",
       "      <td>2.674261e+00</td>\n",
       "      <td>...</td>\n",
       "      <td>9.000000e+00</td>\n",
       "      <td>9.000000e+00</td>\n",
       "      <td>1.913350e+01</td>\n",
       "      <td>2.404850e+01</td>\n",
       "      <td>1.522885e+02</td>\n",
       "      <td>1.826650e+02</td>\n",
       "      <td>1.666667e-01</td>\n",
       "      <td>8.333333e-02</td>\n",
       "      <td>4.044970e+00</td>\n",
       "      <td>1.808369e+03</td>\n",
       "    </tr>\n",
       "  </tbody>\n",
       "</table>\n",
       "<p>8 rows × 22 columns</p>\n",
       "</div>"
      ],
      "text/plain": [
       "variable  value__agg_linear_trend__f_agg_\"max\"__chunk_len_6__attr_\"slope\"  \\\n",
       "count                                          1.137669e+06                 \n",
       "mean                                          -9.661236e-01                 \n",
       "std                                            6.494044e+00                 \n",
       "min                                           -4.720590e+01                 \n",
       "25%                                            0.000000e+00                 \n",
       "50%                                            0.000000e+00                 \n",
       "75%                                            0.000000e+00                 \n",
       "max                                            3.787300e+01                 \n",
       "\n",
       "variable  value__agg_linear_trend__f_agg_\"min\"__chunk_len_6__attr_\"slope\"  \\\n",
       "count                                          1.137669e+06                 \n",
       "mean                                          -2.851645e-01                 \n",
       "std                                            1.094308e+00                 \n",
       "min                                           -1.253110e+01                 \n",
       "25%                                            0.000000e+00                 \n",
       "50%                                            0.000000e+00                 \n",
       "75%                                            0.000000e+00                 \n",
       "max                                            6.453188e+00                 \n",
       "\n",
       "variable  value__last_location_of_maximum  value__last_location_of_minimum  \\\n",
       "count                        1.137669e+06                     1.137669e+06   \n",
       "mean                         7.654705e-01                     8.746603e-01   \n",
       "std                          3.185040e-01                     2.407689e-01   \n",
       "min                          4.166667e-02                     4.166667e-02   \n",
       "25%                          5.000000e-01                     8.333333e-01   \n",
       "50%                          1.000000e+00                     1.000000e+00   \n",
       "75%                          1.000000e+00                     1.000000e+00   \n",
       "max                          1.000000e+00                     1.000000e+00   \n",
       "\n",
       "variable  value__longest_strike_above_mean  value__longest_strike_below_mean  \\\n",
       "count                         1.137669e+06                      1.137669e+06   \n",
       "mean                          1.541722e+01                      1.649159e+01   \n",
       "std                           1.003047e+01                      8.810522e+00   \n",
       "min                           1.000000e+00                      2.000000e+00   \n",
       "25%                           4.000000e+00                      7.000000e+00   \n",
       "50%                           2.400000e+01                      2.400000e+01   \n",
       "75%                           2.400000e+01                      2.400000e+01   \n",
       "max                           2.400000e+01                      2.400000e+01   \n",
       "\n",
       "variable  value__maximum   value__mean  value__mean_abs_change  \\\n",
       "count       1.137669e+06  1.137669e+06            1.137669e+06   \n",
       "mean        3.531019e+01  9.136761e+00            7.780789e+00   \n",
       "std         4.682504e+01  1.279547e+01            1.024846e+01   \n",
       "min         0.000000e+00  0.000000e+00            0.000000e+00   \n",
       "25%         0.000000e+00  0.000000e+00            0.000000e+00   \n",
       "50%         0.000000e+00  0.000000e+00            0.000000e+00   \n",
       "75%         6.900800e+01  1.719428e+01            1.491031e+01   \n",
       "max         1.945075e+02  7.534869e+01            4.279697e+01   \n",
       "\n",
       "variable  value__mean_change        ...          \\\n",
       "count           1.137669e+06        ...           \n",
       "mean            1.820007e-02        ...           \n",
       "std             2.397943e-01        ...           \n",
       "min            -1.918283e+00        ...           \n",
       "25%             0.000000e+00        ...           \n",
       "50%             0.000000e+00        ...           \n",
       "75%             0.000000e+00        ...           \n",
       "max             2.674261e+00        ...           \n",
       "\n",
       "variable  value__number_cwt_peaks__n_12  value__number_cwt_peaks__n_6  \\\n",
       "count                      1.137669e+06                  1.137669e+06   \n",
       "mean                       1.364370e+00                  1.617892e+00   \n",
       "std                        1.729038e+00                  2.039654e+00   \n",
       "min                        0.000000e+00                  0.000000e+00   \n",
       "25%                        0.000000e+00                  0.000000e+00   \n",
       "50%                        0.000000e+00                  0.000000e+00   \n",
       "75%                        3.000000e+00                  4.000000e+00   \n",
       "max                        9.000000e+00                  9.000000e+00   \n",
       "\n",
       "variable  value__quantile__q_0.05  value__quantile__q_0.15  \\\n",
       "count                1.137669e+06             1.137669e+06   \n",
       "mean                 1.742146e-01             5.504904e-01   \n",
       "std                  8.426926e-01             1.842471e+00   \n",
       "min                 -1.000000e-02            -1.600000e-04   \n",
       "25%                  0.000000e+00             0.000000e+00   \n",
       "50%                  0.000000e+00             0.000000e+00   \n",
       "75%                  0.000000e+00             5.912000e-02   \n",
       "max                  1.913350e+01             2.404850e+01   \n",
       "\n",
       "variable  value__quantile__q_0.85  value__quantile__q_0.95  \\\n",
       "count                1.137669e+06             1.137669e+06   \n",
       "mean                 2.014164e+01             2.833287e+01   \n",
       "std                  2.781575e+01             3.833924e+01   \n",
       "min                  0.000000e+00             0.000000e+00   \n",
       "25%                  0.000000e+00             0.000000e+00   \n",
       "50%                  0.000000e+00             0.000000e+00   \n",
       "75%                  3.934994e+01             5.253483e+01   \n",
       "max                  1.522885e+02             1.826650e+02   \n",
       "\n",
       "variable  value__ratio_beyond_r_sigma__r_2  value__ratio_beyond_r_sigma__r_3  \\\n",
       "count                         1.137669e+06                      1.137669e+06   \n",
       "mean                          2.445519e-02                      3.580311e-03   \n",
       "std                           3.393963e-02                      1.168495e-02   \n",
       "min                           0.000000e+00                      0.000000e+00   \n",
       "25%                           0.000000e+00                      0.000000e+00   \n",
       "50%                           0.000000e+00                      0.000000e+00   \n",
       "75%                           4.166667e-02                      0.000000e+00   \n",
       "max                           1.666667e-01                      8.333333e-02   \n",
       "\n",
       "variable  value__skewness  value__sum_values  \n",
       "count        1.137669e+06       1.137669e+06  \n",
       "mean         5.517891e-01       2.192823e+02  \n",
       "std          7.316594e-01       3.070914e+02  \n",
       "min         -6.740087e-02       0.000000e+00  \n",
       "25%          0.000000e+00       0.000000e+00  \n",
       "50%          0.000000e+00       0.000000e+00  \n",
       "75%          1.117674e+00       4.126628e+02  \n",
       "max          4.044970e+00       1.808369e+03  \n",
       "\n",
       "[8 rows x 22 columns]"
      ]
     },
     "execution_count": 12,
     "metadata": {},
     "output_type": "execute_result"
    }
   ],
   "source": [
    "ts_features.describe()"
   ]
  },
  {
   "cell_type": "markdown",
   "metadata": {},
   "source": [
    "Next, convert these features to array, visualize or create a tiff"
   ]
  },
  {
   "cell_type": "code",
   "execution_count": 13,
   "metadata": {},
   "outputs": [
    {
     "name": "stdout",
     "output_type": "stream",
     "text": [
      "(1209, 941, 22)\n"
     ]
    }
   ],
   "source": [
    "# first, get the original dimension/shape of image \n",
    "og_rasters = tr.image2array(path)\n",
    "rows, cols, nums = og_rasters.shape\n",
    "\n",
    "\n",
    "# convert df to matrix array\n",
    "matrix_features = ts_features.values\n",
    "num_of_layers = matrix_features.shape[1]\n",
    "\n",
    "\n",
    "f2Array = matrix_features.reshape(rows, cols, num_of_layers)\n",
    "print(f2Array.shape)\n"
   ]
  },
  {
   "cell_type": "markdown",
   "metadata": {},
   "source": [
    "visualize features"
   ]
  },
  {
   "cell_type": "code",
   "execution_count": 34,
   "metadata": {},
   "outputs": [
    {
     "data": {
      "image/png": "[encoded data removed]",
      "text/plain": [
       "<Figure size 720x720 with 22 Axes>"
      ]
     },
     "metadata": {
      "needs_background": "light"
     },
     "output_type": "display_data"
    }
   ],
   "source": [
    "from math import ceil\n",
    "fig, ax = plt.subplots(3, 2,figsize=(10,10))\n",
    "cols = 4\n",
    "\n",
    "for i in range(0,f2Array.shape[2]):\n",
    "    img = f2Array[:,:,i]\n",
    "    i = i+1\n",
    "    plt.subplot(ceil(f2Array.shape[2]/cols),cols,i)\n",
    "    plt.imshow(img, cmap=\"Greys\")"
   ]
  },
  {
   "cell_type": "code",
   "execution_count": 26,
   "metadata": {},
   "outputs": [
    {
     "data": {
      "text/plain": [
       "7"
      ]
     },
     "execution_count": 26,
     "metadata": {},
     "output_type": "execute_result"
    }
   ],
   "source": []
  }
 ],
 "metadata": {
  "kernelspec": {
   "display_name": "Python [conda env:ts-rasterv2]",
   "language": "python",
   "name": "conda-env-ts-rasterv2-py"
  },
  "language_info": {
   "codemirror_mode": {
    "name": "ipython",
    "version": 3
   },
   "file_extension": ".py",
   "mimetype": "text/x-python",
   "name": "python",
   "nbconvert_exporter": "python",
   "pygments_lexer": "ipython3",
   "version": "3.6.7"
  }
 },
 "nbformat": 4,
 "nbformat_minor": 2
}
