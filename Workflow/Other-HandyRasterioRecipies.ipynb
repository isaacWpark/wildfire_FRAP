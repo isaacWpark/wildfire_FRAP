{
 "cells": [
  {
   "cell_type": "markdown",
   "metadata": {},
   "source": [
    "## spatial smoothing example"
   ]
  },
  {
   "cell_type": "code",
   "execution_count": null,
   "metadata": {},
   "outputs": [],
   "source": [
    "import rasterio\n",
    "from scipy.signal import medfilt\n",
    "\n",
    "path = r'C:/Users/mmann/Documents/ts-raster-example-data/fire17_1/aet-198403.tif'\n",
    "output = \"C:/Users/mmann/Documents/ts-raster-example-data/fire17_1/filtered.tif\"\n",
    "\n",
    "with rasterio.open(path) as src:\n",
    "    array = src.read()\n",
    "    profile = src.profile\n",
    "\n",
    "# apply a 5x5 median filter to each band\n",
    "filtered = medfilt(array, (1, 21, 21)).astype('float32')\n",
    "\n",
    "# Write to tif, using the same profile as the source\n",
    "with rasterio.open(output, 'w', **profile) as dst:\n",
    "    dst.write(filtered)"
   ]
  }
 ],
 "metadata": {
  "kernelspec": {
   "display_name": "Python [conda env:gdal_env_2.7v2]",
   "language": "python",
   "name": "conda-env-gdal_env_2.7v2-py"
  },
  "language_info": {
   "codemirror_mode": {
    "name": "ipython",
    "version": 2
   },
   "file_extension": ".py",
   "mimetype": "text/x-python",
   "name": "python",
   "nbconvert_exporter": "python",
   "pygments_lexer": "ipython2",
   "version": "2.7.15"
  }
 },
 "nbformat": 4,
 "nbformat_minor": 2
}
