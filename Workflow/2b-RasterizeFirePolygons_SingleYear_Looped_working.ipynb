{
 "cells": [
  {
   "cell_type": "markdown",
   "metadata": {},
   "source": [
    "## Create Example - Rasterize Single Year of Fire Data"
   ]
  },
  {
   "cell_type": "code",
   "execution_count": 1,
   "metadata": {},
   "outputs": [],
   "source": [
    "#https://gis.stackexchange.com/questions/151339/rasterize-a-shapefile-with-geopandas-or-fiona-python\n",
    "# use env:gdal_env_2.7v.2\n",
    "import geopandas as gpd\n",
    "import rasterio\n",
    "from rasterio import features\n",
    "import numpy as np\n",
    "import os\n",
    "from glob import glob\n"
   ]
  },
  {
   "cell_type": "markdown",
   "metadata": {},
   "source": [
    "Set up your filenames"
   ]
  },
  {
   "cell_type": "code",
   "execution_count": 2,
   "metadata": {},
   "outputs": [],
   "source": [
    "shp_fn = r'../Data/Actual/Fires/Inputs/fire17_1.shp'"
   ]
  },
  {
   "cell_type": "markdown",
   "metadata": {},
   "source": [
    "Open the file with GeoPANDAS read_file"
   ]
  },
  {
   "cell_type": "code",
   "execution_count": 3,
   "metadata": {},
   "outputs": [],
   "source": [
    "fires = gpd.read_file(shp_fn)   \n"
   ]
  },
  {
   "cell_type": "markdown",
   "metadata": {},
   "source": [
    "CHeck and fix datatype issues"
   ]
  },
  {
   "cell_type": "code",
   "execution_count": 4,
   "metadata": {},
   "outputs": [
    {
     "name": "stdout",
     "output_type": "stream",
     "text": [
      "Index(['OBJECTID', 'YEAR_', 'STATE', 'AGENCY', 'UNIT_ID', 'FIRE_NAME',\n",
      "       'INC_NUM', 'ALARM_DATE', 'CONT_DATE', 'CAUSE', 'COMMENTS', 'REPORT_AC',\n",
      "       'GIS_ACRES', 'C_METHOD', 'OBJECTIVE', 'FIRE_NUM', 'Shape_Leng',\n",
      "       'Shape_Area', 'geometry'],\n",
      "      dtype='object')\n",
      "0    2007\n",
      "1    2007\n",
      "2    2007\n",
      "3    2007\n",
      "4    2007\n",
      "Name: YEAR_, dtype: object\n",
      "['2007' '2005' '2004' '1944' '1915' '1917' '1960' '1921' '1923' '1970'\n",
      " '1920' '1979' '1990' '1998' '1966' '1942' '1941' '1982' '1973' '1977'\n",
      " '1953' '1946' '1955' '1931' '1949' '1964' '1948' '1958' '1972' '1916'\n",
      " '1974' '1950' '1930' '1971' '1924' '1926' '1927' '1945' '1952' '1911'\n",
      " '1929' None '1997' '2006' '1984' '1910' '1951' '1956' '1981' '1909'\n",
      " '1935' '1936' '1961' '1919' '1925' '1928' '1918' '1940' '1933' '1968'\n",
      " '1999' '1943' '1914' '1922' '1975' '1932' '1912' '1978' '1983' '1913'\n",
      " '1947' '1934' '1937' '1938' '1967' '1976' '2000' '1994' '1954' '1878'\n",
      " '1895' '1896' '1898' '1907' '1908' '1986' '1980' '1962' '1959' '1900'\n",
      " '1957' '2003' '1969' '1988' '1996' '1991' '1992' '1995' '1987' '1939'\n",
      " '2001' '1903' '1905' '1906' '1985' '1989' '2002' '1965' '1993' '1963'\n",
      " '2008' '2010' '2016' '2012' '2014' '1902' '2009' '2011' '2013' '2015'\n",
      " '2017' '2018']\n"
     ]
    }
   ],
   "source": [
    "print(fires.columns)\n",
    "print(fires['YEAR_'].head())\n",
    "print(fires.YEAR_.unique())"
   ]
  },
  {
   "cell_type": "code",
   "execution_count": 5,
   "metadata": {},
   "outputs": [
    {
     "name": "stdout",
     "output_type": "stream",
     "text": [
      "OBJECTID     int64\n",
      "YEAR_       object\n",
      "STATE       object\n",
      "AGENCY      object\n",
      "UNIT_ID     object\n",
      "dtype: object\n"
     ]
    }
   ],
   "source": [
    "print(fires.dtypes.head())"
   ]
  },
  {
   "cell_type": "markdown",
   "metadata": {},
   "source": [
    "The overall idea is to create an iterable containing tuples of (geometry, value), where the geometry is a shapely geometry and the value is what you want to burn into the raster at that geometry's location. Both Fiona and GeoPANDAS use shapely geometries so you are in luck there. In this example a generator is used to iterate through the (geometry,value) pairs which were extracted from the GeoDataFrame and joined together using zip()."
   ]
  },
  {
   "cell_type": "markdown",
   "metadata": {},
   "source": [
    "## Create Annually or Group_Year Fire Rasters\n"
   ]
  },
  {
   "cell_type": "code",
   "execution_count": 5,
   "metadata": {},
   "outputs": [],
   "source": [
    "import geopandas as gpd\n",
    "import rasterio\n",
    "from rasterio import features\n",
    "import numpy as np\n",
    "from joblib import Parallel, delayed\n",
    "import multiprocessing\n",
    "from tsraster.prep import poly_rasterizer_year_group\n"
   ]
  },
  {
   "cell_type": "code",
   "execution_count": 8,
   "metadata": {},
   "outputs": [],
   "source": [
    "# run all individual years 2000 to 2018\n",
    "shp_fn = r'../Data/Actual/Fires/Inputs/fire17_1.shp'\n",
    "\n",
    "for year in range(1950,2018):\n",
    "    poly_rasterizer_year_group(poly = shp_fn, \n",
    "                    raster_exmpl = r'../Data/Examples/3month/aet-198403.tif',\n",
    "                    raster_path_prefix = r'../Data/Actual\\Fires/Rasters/fire_' ,\n",
    "                    year_col_name='YEAR_',\n",
    "                    year_sub_list=year)\n",
    "\n"
   ]
  }
 ],
 "metadata": {
  "kernelspec": {
   "display_name": "Python 3",
   "language": "python",
   "name": "python3"
  },
  "language_info": {
   "codemirror_mode": {
    "name": "ipython",
    "version": 3
   },
   "file_extension": ".py",
   "mimetype": "text/x-python",
   "name": "python",
   "nbconvert_exporter": "python",
   "pygments_lexer": "ipython3",
   "version": "3.6.8"
  }
 },
 "nbformat": 4,
 "nbformat_minor": 2
}
